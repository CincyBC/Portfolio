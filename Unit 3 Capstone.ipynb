{
 "cells": [
  {
   "cell_type": "markdown",
   "metadata": {
    "collapsed": true
   },
   "source": [
    "# Unit 3 Capstone\n",
    "Bryan Corder\n",
    "Mentor: Hoa Tran\n",
    "\n",
    "## Introduction\n",
    "For those in sales, one of the ways data science can provide actionable insights is through isolating reasons for customer churn. IBM has a data set on customer churn in the telecoms industry prospective companies can use with their deep learning software Watson. The problem with these unsupervised learning methods is while they provide good accuracy on predicting whether a customer will leave or not, they do not provide much insight in regards to the reasons why customers stay or go. Supervised Learning methods have the ability to provide such insights with their labelled data and through feature selection. The below project aims to gather insights in the IBM churn data set through feature selection and testing these features through various supervised learning models. "
   ]
  },
  {
   "cell_type": "markdown",
   "metadata": {},
   "source": [
    "## Data Set\n",
    "The IBM data contains the following features:\n",
    "Customer ID = The key for the data.\n",
    "Gender = Male or Female (Categorical, binary)\n",
    "Senior Citizen = 0 (No) or 1 (Yes) (Categorical, binary)\n",
    "Dependents = No or Yes (Categorical, binary)\n",
    "Tenure = How long they have been a customer (Numerical, discrete)\n",
    "Phone Service = No or Yes (Categorical, binary)\n",
    "Multiple Lines = No, Yes, or 'No Phone Service' (Categorical)\n",
    "Internet Service = DSL, Fiber Optic, or No (Categorical)\n",
    "Online Security = No internet service, No, or Yes (Categorical)\n",
    "Online Backup = No internet service, No, or Yes (Categorical)\n",
    "Device Protection = No internet service, No, or Yes (Categorical) \n",
    "Tech Support = No internet service, No, or Yes (Categorical) \n",
    "Streaming TV = No internet service, No, or Yes (Categorical) \n",
    "Streaming Movies = No internet service, No, or Yes (Categorical)\n",
    "Contract = Month-to-month, One year, or Two year (Categorical)\n",
    "Paperless Billing = No or Yes (Categorical, binary)\n",
    "PaymentMethod = Electronic check, Mailed check, Bank transfer (automatic), or Credit card (automatic) (Categorical)\n",
    "Monthly Charges = How much the customer pays per month (Numerical, continuous)\n",
    "Total Charges = How much the customer pays annually (Numerical, continuous)\n",
    "Churn = Whether the customer stayed (= 0) or left (= 1) (Categorical, binary)\n"
   ]
  },
  {
   "cell_type": "markdown",
   "metadata": {},
   "source": [
    "## Data Import and Cleaning"
   ]
  },
  {
   "cell_type": "code",
   "execution_count": 109,
   "metadata": {
    "collapsed": true
   },
   "outputs": [],
   "source": [
    "import numpy as np\n",
    "import pandas as pd\n",
    "import matplotlib.pyplot as plt\n",
    "import seaborn as sns\n",
    "from sklearn.utils import resample\n",
    "from sklearn.model_selection import cross_val_score\n",
    "from sklearn.model_selection import train_test_split\n",
    "from sklearn.feature_selection import RFECV\n",
    "from sklearn.decomposition import PCA\n",
    "from sklearn.pipeline import Pipeline\n",
    "from sklearn.neighbors import KNeighborsClassifier\n",
    "from sklearn.linear_model import LogisticRegression\n",
    "from sklearn.preprocessing import StandardScaler\n",
    "from sklearn.tree import DecisionTreeClassifier\n",
    "from sklearn.ensemble import RandomForestClassifier\n",
    "from sklearn.ensemble import GradientBoostingClassifier\n",
    "from sklearn.feature_selection import SelectFromModel\n",
    "from sklearn.svm import SVC\n",
    "from sklearn.model_selection import GridSearchCV\n",
    "\n",
    "from datetime import datetime\n",
    "main_start = datetime.now()\n",
    "%matplotlib inline"
   ]
  },
  {
   "cell_type": "markdown",
   "metadata": {},
   "source": [
    "First, let's import our customer churn data set and take a look at how it imports."
   ]
  },
  {
   "cell_type": "code",
   "execution_count": 110,
   "metadata": {},
   "outputs": [
    {
     "data": {
      "text/html": [
       "<div>\n",
       "<style>\n",
       "    .dataframe thead tr:only-child th {\n",
       "        text-align: right;\n",
       "    }\n",
       "\n",
       "    .dataframe thead th {\n",
       "        text-align: left;\n",
       "    }\n",
       "\n",
       "    .dataframe tbody tr th {\n",
       "        vertical-align: top;\n",
       "    }\n",
       "</style>\n",
       "<table border=\"1\" class=\"dataframe\">\n",
       "  <thead>\n",
       "    <tr style=\"text-align: right;\">\n",
       "      <th></th>\n",
       "      <th>customerID</th>\n",
       "      <th>gender</th>\n",
       "      <th>SeniorCitizen</th>\n",
       "      <th>Partner</th>\n",
       "      <th>Dependents</th>\n",
       "      <th>tenure</th>\n",
       "      <th>PhoneService</th>\n",
       "      <th>MultipleLines</th>\n",
       "      <th>InternetService</th>\n",
       "      <th>OnlineSecurity</th>\n",
       "      <th>...</th>\n",
       "      <th>DeviceProtection</th>\n",
       "      <th>TechSupport</th>\n",
       "      <th>StreamingTV</th>\n",
       "      <th>StreamingMovies</th>\n",
       "      <th>Contract</th>\n",
       "      <th>PaperlessBilling</th>\n",
       "      <th>PaymentMethod</th>\n",
       "      <th>MonthlyCharges</th>\n",
       "      <th>TotalCharges</th>\n",
       "      <th>Churn</th>\n",
       "    </tr>\n",
       "  </thead>\n",
       "  <tbody>\n",
       "    <tr>\n",
       "      <th>0</th>\n",
       "      <td>7590-VHVEG</td>\n",
       "      <td>Female</td>\n",
       "      <td>0</td>\n",
       "      <td>Yes</td>\n",
       "      <td>No</td>\n",
       "      <td>1</td>\n",
       "      <td>No</td>\n",
       "      <td>No phone service</td>\n",
       "      <td>DSL</td>\n",
       "      <td>No</td>\n",
       "      <td>...</td>\n",
       "      <td>No</td>\n",
       "      <td>No</td>\n",
       "      <td>No</td>\n",
       "      <td>No</td>\n",
       "      <td>Month-to-month</td>\n",
       "      <td>Yes</td>\n",
       "      <td>Electronic check</td>\n",
       "      <td>29.85</td>\n",
       "      <td>29.85</td>\n",
       "      <td>No</td>\n",
       "    </tr>\n",
       "    <tr>\n",
       "      <th>1</th>\n",
       "      <td>5575-GNVDE</td>\n",
       "      <td>Male</td>\n",
       "      <td>0</td>\n",
       "      <td>No</td>\n",
       "      <td>No</td>\n",
       "      <td>34</td>\n",
       "      <td>Yes</td>\n",
       "      <td>No</td>\n",
       "      <td>DSL</td>\n",
       "      <td>Yes</td>\n",
       "      <td>...</td>\n",
       "      <td>Yes</td>\n",
       "      <td>No</td>\n",
       "      <td>No</td>\n",
       "      <td>No</td>\n",
       "      <td>One year</td>\n",
       "      <td>No</td>\n",
       "      <td>Mailed check</td>\n",
       "      <td>56.95</td>\n",
       "      <td>1889.5</td>\n",
       "      <td>No</td>\n",
       "    </tr>\n",
       "    <tr>\n",
       "      <th>2</th>\n",
       "      <td>3668-QPYBK</td>\n",
       "      <td>Male</td>\n",
       "      <td>0</td>\n",
       "      <td>No</td>\n",
       "      <td>No</td>\n",
       "      <td>2</td>\n",
       "      <td>Yes</td>\n",
       "      <td>No</td>\n",
       "      <td>DSL</td>\n",
       "      <td>Yes</td>\n",
       "      <td>...</td>\n",
       "      <td>No</td>\n",
       "      <td>No</td>\n",
       "      <td>No</td>\n",
       "      <td>No</td>\n",
       "      <td>Month-to-month</td>\n",
       "      <td>Yes</td>\n",
       "      <td>Mailed check</td>\n",
       "      <td>53.85</td>\n",
       "      <td>108.15</td>\n",
       "      <td>Yes</td>\n",
       "    </tr>\n",
       "    <tr>\n",
       "      <th>3</th>\n",
       "      <td>7795-CFOCW</td>\n",
       "      <td>Male</td>\n",
       "      <td>0</td>\n",
       "      <td>No</td>\n",
       "      <td>No</td>\n",
       "      <td>45</td>\n",
       "      <td>No</td>\n",
       "      <td>No phone service</td>\n",
       "      <td>DSL</td>\n",
       "      <td>Yes</td>\n",
       "      <td>...</td>\n",
       "      <td>Yes</td>\n",
       "      <td>Yes</td>\n",
       "      <td>No</td>\n",
       "      <td>No</td>\n",
       "      <td>One year</td>\n",
       "      <td>No</td>\n",
       "      <td>Bank transfer (automatic)</td>\n",
       "      <td>42.30</td>\n",
       "      <td>1840.75</td>\n",
       "      <td>No</td>\n",
       "    </tr>\n",
       "    <tr>\n",
       "      <th>4</th>\n",
       "      <td>9237-HQITU</td>\n",
       "      <td>Female</td>\n",
       "      <td>0</td>\n",
       "      <td>No</td>\n",
       "      <td>No</td>\n",
       "      <td>2</td>\n",
       "      <td>Yes</td>\n",
       "      <td>No</td>\n",
       "      <td>Fiber optic</td>\n",
       "      <td>No</td>\n",
       "      <td>...</td>\n",
       "      <td>No</td>\n",
       "      <td>No</td>\n",
       "      <td>No</td>\n",
       "      <td>No</td>\n",
       "      <td>Month-to-month</td>\n",
       "      <td>Yes</td>\n",
       "      <td>Electronic check</td>\n",
       "      <td>70.70</td>\n",
       "      <td>151.65</td>\n",
       "      <td>Yes</td>\n",
       "    </tr>\n",
       "    <tr>\n",
       "      <th>5</th>\n",
       "      <td>9305-CDSKC</td>\n",
       "      <td>Female</td>\n",
       "      <td>0</td>\n",
       "      <td>No</td>\n",
       "      <td>No</td>\n",
       "      <td>8</td>\n",
       "      <td>Yes</td>\n",
       "      <td>Yes</td>\n",
       "      <td>Fiber optic</td>\n",
       "      <td>No</td>\n",
       "      <td>...</td>\n",
       "      <td>Yes</td>\n",
       "      <td>No</td>\n",
       "      <td>Yes</td>\n",
       "      <td>Yes</td>\n",
       "      <td>Month-to-month</td>\n",
       "      <td>Yes</td>\n",
       "      <td>Electronic check</td>\n",
       "      <td>99.65</td>\n",
       "      <td>820.5</td>\n",
       "      <td>Yes</td>\n",
       "    </tr>\n",
       "    <tr>\n",
       "      <th>6</th>\n",
       "      <td>1452-KIOVK</td>\n",
       "      <td>Male</td>\n",
       "      <td>0</td>\n",
       "      <td>No</td>\n",
       "      <td>Yes</td>\n",
       "      <td>22</td>\n",
       "      <td>Yes</td>\n",
       "      <td>Yes</td>\n",
       "      <td>Fiber optic</td>\n",
       "      <td>No</td>\n",
       "      <td>...</td>\n",
       "      <td>No</td>\n",
       "      <td>No</td>\n",
       "      <td>Yes</td>\n",
       "      <td>No</td>\n",
       "      <td>Month-to-month</td>\n",
       "      <td>Yes</td>\n",
       "      <td>Credit card (automatic)</td>\n",
       "      <td>89.10</td>\n",
       "      <td>1949.4</td>\n",
       "      <td>No</td>\n",
       "    </tr>\n",
       "    <tr>\n",
       "      <th>7</th>\n",
       "      <td>6713-OKOMC</td>\n",
       "      <td>Female</td>\n",
       "      <td>0</td>\n",
       "      <td>No</td>\n",
       "      <td>No</td>\n",
       "      <td>10</td>\n",
       "      <td>No</td>\n",
       "      <td>No phone service</td>\n",
       "      <td>DSL</td>\n",
       "      <td>Yes</td>\n",
       "      <td>...</td>\n",
       "      <td>No</td>\n",
       "      <td>No</td>\n",
       "      <td>No</td>\n",
       "      <td>No</td>\n",
       "      <td>Month-to-month</td>\n",
       "      <td>No</td>\n",
       "      <td>Mailed check</td>\n",
       "      <td>29.75</td>\n",
       "      <td>301.9</td>\n",
       "      <td>No</td>\n",
       "    </tr>\n",
       "    <tr>\n",
       "      <th>8</th>\n",
       "      <td>7892-POOKP</td>\n",
       "      <td>Female</td>\n",
       "      <td>0</td>\n",
       "      <td>Yes</td>\n",
       "      <td>No</td>\n",
       "      <td>28</td>\n",
       "      <td>Yes</td>\n",
       "      <td>Yes</td>\n",
       "      <td>Fiber optic</td>\n",
       "      <td>No</td>\n",
       "      <td>...</td>\n",
       "      <td>Yes</td>\n",
       "      <td>Yes</td>\n",
       "      <td>Yes</td>\n",
       "      <td>Yes</td>\n",
       "      <td>Month-to-month</td>\n",
       "      <td>Yes</td>\n",
       "      <td>Electronic check</td>\n",
       "      <td>104.80</td>\n",
       "      <td>3046.05</td>\n",
       "      <td>Yes</td>\n",
       "    </tr>\n",
       "    <tr>\n",
       "      <th>9</th>\n",
       "      <td>6388-TABGU</td>\n",
       "      <td>Male</td>\n",
       "      <td>0</td>\n",
       "      <td>No</td>\n",
       "      <td>Yes</td>\n",
       "      <td>62</td>\n",
       "      <td>Yes</td>\n",
       "      <td>No</td>\n",
       "      <td>DSL</td>\n",
       "      <td>Yes</td>\n",
       "      <td>...</td>\n",
       "      <td>No</td>\n",
       "      <td>No</td>\n",
       "      <td>No</td>\n",
       "      <td>No</td>\n",
       "      <td>One year</td>\n",
       "      <td>No</td>\n",
       "      <td>Bank transfer (automatic)</td>\n",
       "      <td>56.15</td>\n",
       "      <td>3487.95</td>\n",
       "      <td>No</td>\n",
       "    </tr>\n",
       "  </tbody>\n",
       "</table>\n",
       "<p>10 rows × 21 columns</p>\n",
       "</div>"
      ],
      "text/plain": [
       "   customerID  gender  SeniorCitizen Partner Dependents  tenure PhoneService  \\\n",
       "0  7590-VHVEG  Female              0     Yes         No       1           No   \n",
       "1  5575-GNVDE    Male              0      No         No      34          Yes   \n",
       "2  3668-QPYBK    Male              0      No         No       2          Yes   \n",
       "3  7795-CFOCW    Male              0      No         No      45           No   \n",
       "4  9237-HQITU  Female              0      No         No       2          Yes   \n",
       "5  9305-CDSKC  Female              0      No         No       8          Yes   \n",
       "6  1452-KIOVK    Male              0      No        Yes      22          Yes   \n",
       "7  6713-OKOMC  Female              0      No         No      10           No   \n",
       "8  7892-POOKP  Female              0     Yes         No      28          Yes   \n",
       "9  6388-TABGU    Male              0      No        Yes      62          Yes   \n",
       "\n",
       "      MultipleLines InternetService OnlineSecurity  ...  DeviceProtection  \\\n",
       "0  No phone service             DSL             No  ...                No   \n",
       "1                No             DSL            Yes  ...               Yes   \n",
       "2                No             DSL            Yes  ...                No   \n",
       "3  No phone service             DSL            Yes  ...               Yes   \n",
       "4                No     Fiber optic             No  ...                No   \n",
       "5               Yes     Fiber optic             No  ...               Yes   \n",
       "6               Yes     Fiber optic             No  ...                No   \n",
       "7  No phone service             DSL            Yes  ...                No   \n",
       "8               Yes     Fiber optic             No  ...               Yes   \n",
       "9                No             DSL            Yes  ...                No   \n",
       "\n",
       "  TechSupport StreamingTV StreamingMovies        Contract PaperlessBilling  \\\n",
       "0          No          No              No  Month-to-month              Yes   \n",
       "1          No          No              No        One year               No   \n",
       "2          No          No              No  Month-to-month              Yes   \n",
       "3         Yes          No              No        One year               No   \n",
       "4          No          No              No  Month-to-month              Yes   \n",
       "5          No         Yes             Yes  Month-to-month              Yes   \n",
       "6          No         Yes              No  Month-to-month              Yes   \n",
       "7          No          No              No  Month-to-month               No   \n",
       "8         Yes         Yes             Yes  Month-to-month              Yes   \n",
       "9          No          No              No        One year               No   \n",
       "\n",
       "               PaymentMethod MonthlyCharges  TotalCharges Churn  \n",
       "0           Electronic check          29.85         29.85    No  \n",
       "1               Mailed check          56.95        1889.5    No  \n",
       "2               Mailed check          53.85        108.15   Yes  \n",
       "3  Bank transfer (automatic)          42.30       1840.75    No  \n",
       "4           Electronic check          70.70        151.65   Yes  \n",
       "5           Electronic check          99.65         820.5   Yes  \n",
       "6    Credit card (automatic)          89.10        1949.4    No  \n",
       "7               Mailed check          29.75         301.9    No  \n",
       "8           Electronic check         104.80       3046.05   Yes  \n",
       "9  Bank transfer (automatic)          56.15       3487.95    No  \n",
       "\n",
       "[10 rows x 21 columns]"
      ]
     },
     "execution_count": 110,
     "metadata": {},
     "output_type": "execute_result"
    }
   ],
   "source": [
    "main_start = datetime.now()\n",
    "raw_data = pd.read_csv('WA_Fn-UseC_-Telco-Customer-Churn.csv')\n",
    "\n",
    "raw_data.head(10)"
   ]
  },
  {
   "cell_type": "code",
   "execution_count": 111,
   "metadata": {},
   "outputs": [
    {
     "data": {
      "text/plain": [
       "gender               object\n",
       "SeniorCitizen         int64\n",
       "Partner              object\n",
       "Dependents           object\n",
       "tenure                int64\n",
       "PhoneService         object\n",
       "MultipleLines        object\n",
       "InternetService      object\n",
       "OnlineSecurity       object\n",
       "OnlineBackup         object\n",
       "DeviceProtection     object\n",
       "TechSupport          object\n",
       "StreamingTV          object\n",
       "StreamingMovies      object\n",
       "Contract             object\n",
       "PaperlessBilling     object\n",
       "PaymentMethod        object\n",
       "MonthlyCharges      float64\n",
       "TotalCharges         object\n",
       "Churn                object\n",
       "dtype: object"
      ]
     },
     "execution_count": 111,
     "metadata": {},
     "output_type": "execute_result"
    }
   ],
   "source": [
    "# Let's take a look at the type of data in each column\n",
    "data = raw_data.drop(['customerID'], axis=1)\n",
    "data.dtypes"
   ]
  },
  {
   "cell_type": "code",
   "execution_count": 112,
   "metadata": {},
   "outputs": [
    {
     "name": "stderr",
     "output_type": "stream",
     "text": [
      "/Users/bryancorder/anaconda3/lib/python3.6/site-packages/ipykernel_launcher.py:2: FutureWarning: convert_objects is deprecated.  Use the data-type specific converters pd.to_datetime, pd.to_timedelta and pd.to_numeric.\n",
      "  \n"
     ]
    }
   ],
   "source": [
    "#It appears that Total Charges is coming in as a string, so let's make it numeric\n",
    "data['TotalCharges'] = data['TotalCharges'].convert_objects(convert_numeric=True)"
   ]
  },
  {
   "cell_type": "code",
   "execution_count": 113,
   "metadata": {},
   "outputs": [
    {
     "data": {
      "text/plain": [
       "TotalCharges    11\n",
       "dtype: int64"
      ]
     },
     "execution_count": 113,
     "metadata": {},
     "output_type": "execute_result"
    }
   ],
   "source": [
    "# Let's check the data for nulls\n",
    "null_count = data.isnull().sum()\n",
    "null_count[null_count>0]"
   ]
  },
  {
   "cell_type": "code",
   "execution_count": 114,
   "metadata": {},
   "outputs": [],
   "source": [
    "# There appears to be 11 rows that are missing Total Charges. Since the number is insignificant, let's drop the rows.\n",
    "data = data.dropna(axis=0)\n"
   ]
  },
  {
   "cell_type": "code",
   "execution_count": 115,
   "metadata": {},
   "outputs": [
    {
     "name": "stdout",
     "output_type": "stream",
     "text": [
      "gender \n",
      " Male      3555\n",
      "Female    3488\n",
      "Name: gender, dtype: int64 \n",
      "\n",
      "Partner \n",
      " No     3641\n",
      "Yes    3402\n",
      "Name: Partner, dtype: int64 \n",
      "\n",
      "Dependents \n",
      " No     4933\n",
      "Yes    2110\n",
      "Name: Dependents, dtype: int64 \n",
      "\n",
      "PhoneService \n",
      " Yes    6361\n",
      "No      682\n",
      "Name: PhoneService, dtype: int64 \n",
      "\n",
      "MultipleLines \n",
      " No                  3390\n",
      "Yes                 2971\n",
      "No phone service     682\n",
      "Name: MultipleLines, dtype: int64 \n",
      "\n",
      "InternetService \n",
      " Fiber optic    3096\n",
      "DSL            2421\n",
      "No             1526\n",
      "Name: InternetService, dtype: int64 \n",
      "\n",
      "OnlineSecurity \n",
      " No                     3498\n",
      "Yes                    2019\n",
      "No internet service    1526\n",
      "Name: OnlineSecurity, dtype: int64 \n",
      "\n",
      "OnlineBackup \n",
      " No                     3088\n",
      "Yes                    2429\n",
      "No internet service    1526\n",
      "Name: OnlineBackup, dtype: int64 \n",
      "\n",
      "DeviceProtection \n",
      " No                     3095\n",
      "Yes                    2422\n",
      "No internet service    1526\n",
      "Name: DeviceProtection, dtype: int64 \n",
      "\n",
      "TechSupport \n",
      " No                     3473\n",
      "Yes                    2044\n",
      "No internet service    1526\n",
      "Name: TechSupport, dtype: int64 \n",
      "\n",
      "StreamingTV \n",
      " No                     2810\n",
      "Yes                    2707\n",
      "No internet service    1526\n",
      "Name: StreamingTV, dtype: int64 \n",
      "\n",
      "StreamingMovies \n",
      " No                     2785\n",
      "Yes                    2732\n",
      "No internet service    1526\n",
      "Name: StreamingMovies, dtype: int64 \n",
      "\n",
      "Contract \n",
      " Month-to-month    3875\n",
      "Two year          1695\n",
      "One year          1473\n",
      "Name: Contract, dtype: int64 \n",
      "\n",
      "PaperlessBilling \n",
      " Yes    4171\n",
      "No     2872\n",
      "Name: PaperlessBilling, dtype: int64 \n",
      "\n",
      "PaymentMethod \n",
      " Electronic check             2365\n",
      "Mailed check                 1612\n",
      "Bank transfer (automatic)    1544\n",
      "Credit card (automatic)      1522\n",
      "Name: PaymentMethod, dtype: int64 \n",
      "\n",
      "Churn \n",
      " No     5174\n",
      "Yes    1869\n",
      "Name: Churn, dtype: int64 \n",
      "\n"
     ]
    }
   ],
   "source": [
    "#Get the values from our columns that are listed as strings\n",
    "column_names = list(data.columns.values)\n",
    "\n",
    "#Remove the int/float categories\n",
    "del column_names[1]\n",
    "del column_names[3]\n",
    "del column_names[15]\n",
    "del column_names[15]\n",
    "\n",
    "for columns in column_names:\n",
    "    print(columns,'\\n', raw_data[columns].value_counts(), '\\n')"
   ]
  },
  {
   "cell_type": "code",
   "execution_count": 116,
   "metadata": {},
   "outputs": [
    {
     "data": {
      "text/html": [
       "<div>\n",
       "<style>\n",
       "    .dataframe thead tr:only-child th {\n",
       "        text-align: right;\n",
       "    }\n",
       "\n",
       "    .dataframe thead th {\n",
       "        text-align: left;\n",
       "    }\n",
       "\n",
       "    .dataframe tbody tr th {\n",
       "        vertical-align: top;\n",
       "    }\n",
       "</style>\n",
       "<table border=\"1\" class=\"dataframe\">\n",
       "  <thead>\n",
       "    <tr style=\"text-align: right;\">\n",
       "      <th></th>\n",
       "      <th>gender</th>\n",
       "      <th>SeniorCitizen</th>\n",
       "      <th>Partner</th>\n",
       "      <th>Dependents</th>\n",
       "      <th>tenure</th>\n",
       "      <th>PhoneService</th>\n",
       "      <th>MultipleLines</th>\n",
       "      <th>InternetService</th>\n",
       "      <th>OnlineSecurity</th>\n",
       "      <th>OnlineBackup</th>\n",
       "      <th>DeviceProtection</th>\n",
       "      <th>TechSupport</th>\n",
       "      <th>StreamingTV</th>\n",
       "      <th>StreamingMovies</th>\n",
       "      <th>Contract</th>\n",
       "      <th>PaperlessBilling</th>\n",
       "      <th>PaymentMethod</th>\n",
       "      <th>MonthlyCharges</th>\n",
       "      <th>TotalCharges</th>\n",
       "      <th>Churn</th>\n",
       "    </tr>\n",
       "  </thead>\n",
       "  <tbody>\n",
       "    <tr>\n",
       "      <th>0</th>\n",
       "      <td>1</td>\n",
       "      <td>0</td>\n",
       "      <td>1</td>\n",
       "      <td>0</td>\n",
       "      <td>1</td>\n",
       "      <td>0</td>\n",
       "      <td>No phone service</td>\n",
       "      <td>DSL</td>\n",
       "      <td>No</td>\n",
       "      <td>Yes</td>\n",
       "      <td>No</td>\n",
       "      <td>No</td>\n",
       "      <td>No</td>\n",
       "      <td>No</td>\n",
       "      <td>Month-to-month</td>\n",
       "      <td>1</td>\n",
       "      <td>Electronic check</td>\n",
       "      <td>29.85</td>\n",
       "      <td>29.85</td>\n",
       "      <td>0</td>\n",
       "    </tr>\n",
       "    <tr>\n",
       "      <th>1</th>\n",
       "      <td>0</td>\n",
       "      <td>0</td>\n",
       "      <td>0</td>\n",
       "      <td>0</td>\n",
       "      <td>34</td>\n",
       "      <td>1</td>\n",
       "      <td>No</td>\n",
       "      <td>DSL</td>\n",
       "      <td>Yes</td>\n",
       "      <td>No</td>\n",
       "      <td>Yes</td>\n",
       "      <td>No</td>\n",
       "      <td>No</td>\n",
       "      <td>No</td>\n",
       "      <td>One year</td>\n",
       "      <td>0</td>\n",
       "      <td>Mailed check</td>\n",
       "      <td>56.95</td>\n",
       "      <td>1889.50</td>\n",
       "      <td>0</td>\n",
       "    </tr>\n",
       "    <tr>\n",
       "      <th>2</th>\n",
       "      <td>0</td>\n",
       "      <td>0</td>\n",
       "      <td>0</td>\n",
       "      <td>0</td>\n",
       "      <td>2</td>\n",
       "      <td>1</td>\n",
       "      <td>No</td>\n",
       "      <td>DSL</td>\n",
       "      <td>Yes</td>\n",
       "      <td>Yes</td>\n",
       "      <td>No</td>\n",
       "      <td>No</td>\n",
       "      <td>No</td>\n",
       "      <td>No</td>\n",
       "      <td>Month-to-month</td>\n",
       "      <td>1</td>\n",
       "      <td>Mailed check</td>\n",
       "      <td>53.85</td>\n",
       "      <td>108.15</td>\n",
       "      <td>1</td>\n",
       "    </tr>\n",
       "    <tr>\n",
       "      <th>3</th>\n",
       "      <td>0</td>\n",
       "      <td>0</td>\n",
       "      <td>0</td>\n",
       "      <td>0</td>\n",
       "      <td>45</td>\n",
       "      <td>0</td>\n",
       "      <td>No phone service</td>\n",
       "      <td>DSL</td>\n",
       "      <td>Yes</td>\n",
       "      <td>No</td>\n",
       "      <td>Yes</td>\n",
       "      <td>Yes</td>\n",
       "      <td>No</td>\n",
       "      <td>No</td>\n",
       "      <td>One year</td>\n",
       "      <td>0</td>\n",
       "      <td>Bank transfer (automatic)</td>\n",
       "      <td>42.30</td>\n",
       "      <td>1840.75</td>\n",
       "      <td>0</td>\n",
       "    </tr>\n",
       "    <tr>\n",
       "      <th>4</th>\n",
       "      <td>1</td>\n",
       "      <td>0</td>\n",
       "      <td>0</td>\n",
       "      <td>0</td>\n",
       "      <td>2</td>\n",
       "      <td>1</td>\n",
       "      <td>No</td>\n",
       "      <td>Fiber optic</td>\n",
       "      <td>No</td>\n",
       "      <td>No</td>\n",
       "      <td>No</td>\n",
       "      <td>No</td>\n",
       "      <td>No</td>\n",
       "      <td>No</td>\n",
       "      <td>Month-to-month</td>\n",
       "      <td>1</td>\n",
       "      <td>Electronic check</td>\n",
       "      <td>70.70</td>\n",
       "      <td>151.65</td>\n",
       "      <td>1</td>\n",
       "    </tr>\n",
       "    <tr>\n",
       "      <th>5</th>\n",
       "      <td>1</td>\n",
       "      <td>0</td>\n",
       "      <td>0</td>\n",
       "      <td>0</td>\n",
       "      <td>8</td>\n",
       "      <td>1</td>\n",
       "      <td>Yes</td>\n",
       "      <td>Fiber optic</td>\n",
       "      <td>No</td>\n",
       "      <td>No</td>\n",
       "      <td>Yes</td>\n",
       "      <td>No</td>\n",
       "      <td>Yes</td>\n",
       "      <td>Yes</td>\n",
       "      <td>Month-to-month</td>\n",
       "      <td>1</td>\n",
       "      <td>Electronic check</td>\n",
       "      <td>99.65</td>\n",
       "      <td>820.50</td>\n",
       "      <td>1</td>\n",
       "    </tr>\n",
       "    <tr>\n",
       "      <th>6</th>\n",
       "      <td>0</td>\n",
       "      <td>0</td>\n",
       "      <td>0</td>\n",
       "      <td>1</td>\n",
       "      <td>22</td>\n",
       "      <td>1</td>\n",
       "      <td>Yes</td>\n",
       "      <td>Fiber optic</td>\n",
       "      <td>No</td>\n",
       "      <td>Yes</td>\n",
       "      <td>No</td>\n",
       "      <td>No</td>\n",
       "      <td>Yes</td>\n",
       "      <td>No</td>\n",
       "      <td>Month-to-month</td>\n",
       "      <td>1</td>\n",
       "      <td>Credit card (automatic)</td>\n",
       "      <td>89.10</td>\n",
       "      <td>1949.40</td>\n",
       "      <td>0</td>\n",
       "    </tr>\n",
       "    <tr>\n",
       "      <th>7</th>\n",
       "      <td>1</td>\n",
       "      <td>0</td>\n",
       "      <td>0</td>\n",
       "      <td>0</td>\n",
       "      <td>10</td>\n",
       "      <td>0</td>\n",
       "      <td>No phone service</td>\n",
       "      <td>DSL</td>\n",
       "      <td>Yes</td>\n",
       "      <td>No</td>\n",
       "      <td>No</td>\n",
       "      <td>No</td>\n",
       "      <td>No</td>\n",
       "      <td>No</td>\n",
       "      <td>Month-to-month</td>\n",
       "      <td>0</td>\n",
       "      <td>Mailed check</td>\n",
       "      <td>29.75</td>\n",
       "      <td>301.90</td>\n",
       "      <td>0</td>\n",
       "    </tr>\n",
       "    <tr>\n",
       "      <th>8</th>\n",
       "      <td>1</td>\n",
       "      <td>0</td>\n",
       "      <td>1</td>\n",
       "      <td>0</td>\n",
       "      <td>28</td>\n",
       "      <td>1</td>\n",
       "      <td>Yes</td>\n",
       "      <td>Fiber optic</td>\n",
       "      <td>No</td>\n",
       "      <td>No</td>\n",
       "      <td>Yes</td>\n",
       "      <td>Yes</td>\n",
       "      <td>Yes</td>\n",
       "      <td>Yes</td>\n",
       "      <td>Month-to-month</td>\n",
       "      <td>1</td>\n",
       "      <td>Electronic check</td>\n",
       "      <td>104.80</td>\n",
       "      <td>3046.05</td>\n",
       "      <td>1</td>\n",
       "    </tr>\n",
       "    <tr>\n",
       "      <th>9</th>\n",
       "      <td>0</td>\n",
       "      <td>0</td>\n",
       "      <td>0</td>\n",
       "      <td>1</td>\n",
       "      <td>62</td>\n",
       "      <td>1</td>\n",
       "      <td>No</td>\n",
       "      <td>DSL</td>\n",
       "      <td>Yes</td>\n",
       "      <td>Yes</td>\n",
       "      <td>No</td>\n",
       "      <td>No</td>\n",
       "      <td>No</td>\n",
       "      <td>No</td>\n",
       "      <td>One year</td>\n",
       "      <td>0</td>\n",
       "      <td>Bank transfer (automatic)</td>\n",
       "      <td>56.15</td>\n",
       "      <td>3487.95</td>\n",
       "      <td>0</td>\n",
       "    </tr>\n",
       "  </tbody>\n",
       "</table>\n",
       "</div>"
      ],
      "text/plain": [
       "   gender  SeniorCitizen  Partner  Dependents  tenure  PhoneService  \\\n",
       "0       1              0        1           0       1             0   \n",
       "1       0              0        0           0      34             1   \n",
       "2       0              0        0           0       2             1   \n",
       "3       0              0        0           0      45             0   \n",
       "4       1              0        0           0       2             1   \n",
       "5       1              0        0           0       8             1   \n",
       "6       0              0        0           1      22             1   \n",
       "7       1              0        0           0      10             0   \n",
       "8       1              0        1           0      28             1   \n",
       "9       0              0        0           1      62             1   \n",
       "\n",
       "      MultipleLines InternetService OnlineSecurity OnlineBackup  \\\n",
       "0  No phone service             DSL             No          Yes   \n",
       "1                No             DSL            Yes           No   \n",
       "2                No             DSL            Yes          Yes   \n",
       "3  No phone service             DSL            Yes           No   \n",
       "4                No     Fiber optic             No           No   \n",
       "5               Yes     Fiber optic             No           No   \n",
       "6               Yes     Fiber optic             No          Yes   \n",
       "7  No phone service             DSL            Yes           No   \n",
       "8               Yes     Fiber optic             No           No   \n",
       "9                No             DSL            Yes          Yes   \n",
       "\n",
       "  DeviceProtection TechSupport StreamingTV StreamingMovies        Contract  \\\n",
       "0               No          No          No              No  Month-to-month   \n",
       "1              Yes          No          No              No        One year   \n",
       "2               No          No          No              No  Month-to-month   \n",
       "3              Yes         Yes          No              No        One year   \n",
       "4               No          No          No              No  Month-to-month   \n",
       "5              Yes          No         Yes             Yes  Month-to-month   \n",
       "6               No          No         Yes              No  Month-to-month   \n",
       "7               No          No          No              No  Month-to-month   \n",
       "8              Yes         Yes         Yes             Yes  Month-to-month   \n",
       "9               No          No          No              No        One year   \n",
       "\n",
       "   PaperlessBilling              PaymentMethod  MonthlyCharges  TotalCharges  \\\n",
       "0                 1           Electronic check           29.85         29.85   \n",
       "1                 0               Mailed check           56.95       1889.50   \n",
       "2                 1               Mailed check           53.85        108.15   \n",
       "3                 0  Bank transfer (automatic)           42.30       1840.75   \n",
       "4                 1           Electronic check           70.70        151.65   \n",
       "5                 1           Electronic check           99.65        820.50   \n",
       "6                 1    Credit card (automatic)           89.10       1949.40   \n",
       "7                 0               Mailed check           29.75        301.90   \n",
       "8                 1           Electronic check          104.80       3046.05   \n",
       "9                 0  Bank transfer (automatic)           56.15       3487.95   \n",
       "\n",
       "   Churn  \n",
       "0      0  \n",
       "1      0  \n",
       "2      1  \n",
       "3      0  \n",
       "4      1  \n",
       "5      1  \n",
       "6      0  \n",
       "7      0  \n",
       "8      1  \n",
       "9      0  "
      ]
     },
     "execution_count": 116,
     "metadata": {},
     "output_type": "execute_result"
    }
   ],
   "source": [
    "#For the columns that only have 2 values yes or no, let's convert them to 0s and 1s\n",
    "Yes_No_Columns = ['Partner', 'Dependents', 'PhoneService', 'PaperlessBilling', 'Churn']\n",
    "\n",
    "for feature in Yes_No_Columns:\n",
    "    data[feature] = np.where(data[feature].values == 'Yes', 1, 0)\n",
    "\n",
    "#Now let's convert the Males/Females in 0 (Males) and 1 (Females)\n",
    "data['gender'] = np.where(data.gender.values == 'Female', 1, 0)\n",
    "\n",
    "#Let's see what we've created\n",
    "data.head(10)"
   ]
  },
  {
   "cell_type": "markdown",
   "metadata": {},
   "source": [
    "The Dataframe looks nice, but it's hard to gather any insights from the data. Let's use count plots to see if we can pick up insights."
   ]
  },
  {
   "cell_type": "code",
   "execution_count": 117,
   "metadata": {},
   "outputs": [
    {
     "data": {
      "image/png": "[encoded data removed]",
      "text/plain": [
       "<matplotlib.figure.Figure at 0x11b991be0>"
      ]
     },
     "metadata": {},
     "output_type": "display_data"
    },
    {
     "data": {
      "image/png": "[encoded data removed]",
      "text/plain": [
       "<matplotlib.figure.Figure at 0x11a36f780>"
      ]
     },
     "metadata": {},
     "output_type": "display_data"
    },
    {
     "data": {
      "image/png": "[encoded data removed]",
      "text/plain": [
       "<matplotlib.figure.Figure at 0x119896e80>"
      ]
     },
     "metadata": {},
     "output_type": "display_data"
    },
    {
     "data": {
      "image/png": "[encoded data removed]",
      "text/plain": [
       "<matplotlib.figure.Figure at 0x11a702320>"
      ]
     },
     "metadata": {},
     "output_type": "display_data"
    }
   ],
   "source": [
    "del Yes_No_Columns[4]\n",
    "for feature in Yes_No_Columns:\n",
    "    sns.countplot(x=feature, hue='Churn', data=data)\n",
    "    plt.show()"
   ]
  },
  {
   "cell_type": "markdown",
   "metadata": {},
   "source": [
    "From these visualizations, it appears that customers in the categories of without partners, without dependents, and who use paperless billing are more likely to leave. It'll be interesting to see if these categories end up in our final model.\n",
    "\n",
    "Let's do the same for columns with multiple answers."
   ]
  },
  {
   "cell_type": "code",
   "execution_count": 118,
   "metadata": {
    "scrolled": false
   },
   "outputs": [
    {
     "data": {
      "image/png": "[encoded data removed]",
      "text/plain": [
       "<matplotlib.figure.Figure at 0x11a335048>"
      ]
     },
     "metadata": {},
     "output_type": "display_data"
    },
    {
     "data": {
      "image/png": "[encoded data removed]",
      "text/plain": [
       "<matplotlib.figure.Figure at 0x11a96ab00>"
      ]
     },
     "metadata": {},
     "output_type": "display_data"
    },
    {
     "data": {
      "image/png": "[encoded data removed]",
      "text/plain": [
       "<matplotlib.figure.Figure at 0x11a54f278>"
      ]
     },
     "metadata": {},
     "output_type": "display_data"
    },
    {
     "data": {
      "image/png": "[encoded data removed]",
      "text/plain": [
       "<matplotlib.figure.Figure at 0x11a994e80>"
      ]
     },
     "metadata": {},
     "output_type": "display_data"
    },
    {
     "data": {
      "image/png": "[encoded data removed]",
      "text/plain": [
       "<matplotlib.figure.Figure at 0x11aaa8978>"
      ]
     },
     "metadata": {},
     "output_type": "display_data"
    },
    {
     "data": {
      "image/png": "[encoded data removed]",
      "text/plain": [
       "<matplotlib.figure.Figure at 0x11a6977f0>"
      ]
     },
     "metadata": {},
     "output_type": "display_data"
    },
    {
     "data": {
      "image/png": "[encoded data removed]",
      "text/plain": [
       "<matplotlib.figure.Figure at 0x11a42ffd0>"
      ]
     },
     "metadata": {},
     "output_type": "display_data"
    },
    {
     "data": {
      "image/png": "[encoded data removed]",
      "text/plain": [
       "<matplotlib.figure.Figure at 0x11aa97cc0>"
      ]
     },
     "metadata": {},
     "output_type": "display_data"
    },
    {
     "data": {
      "image/png": "[encoded data removed]",
      "text/plain": [
       "<matplotlib.figure.Figure at 0x11a68ce10>"
      ]
     },
     "metadata": {},
     "output_type": "display_data"
    },
    {
     "data": {
      "image/png": "[encoded data removed]",
      "text/plain": [
       "<matplotlib.figure.Figure at 0x119c868d0>"
      ]
     },
     "metadata": {},
     "output_type": "display_data"
    }
   ],
   "source": [
    "multiple_answers = ['MultipleLines','InternetService', 'OnlineSecurity', 'OnlineBackup', 'DeviceProtection',\n",
    "                    'TechSupport', 'StreamingTV', 'StreamingMovies', 'Contract','PaymentMethod']\n",
    "for feature in multiple_answers:\n",
    "    sns.countplot(x=feature, hue='Churn', data=data)\n",
    "    plt.show()"
   ]
  },
  {
   "cell_type": "markdown",
   "metadata": {},
   "source": [
    "From these visualizations, it appears that people with or without the following services are most likely to leave: Fiber Optic, No online security, No online backup, No device protection, No tech support, Month-to-month payment, and pay with Electronic Check. These categories are certainly ones to continue looking at as we go through the modeling.\n",
    "\n",
    "In order for the computer to be able to use the features with multiple answers, let's convert them to dummies."
   ]
  },
  {
   "cell_type": "code",
   "execution_count": 119,
   "metadata": {},
   "outputs": [],
   "source": [
    "#Let's get dummies for the columns with multiple answers\n",
    "data = pd.get_dummies(data, columns=multiple_answers)"
   ]
  },
  {
   "cell_type": "code",
   "execution_count": 120,
   "metadata": {},
   "outputs": [
    {
     "data": {
      "text/html": [
       "<div>\n",
       "<style>\n",
       "    .dataframe thead tr:only-child th {\n",
       "        text-align: right;\n",
       "    }\n",
       "\n",
       "    .dataframe thead th {\n",
       "        text-align: left;\n",
       "    }\n",
       "\n",
       "    .dataframe tbody tr th {\n",
       "        vertical-align: top;\n",
       "    }\n",
       "</style>\n",
       "<table border=\"1\" class=\"dataframe\">\n",
       "  <thead>\n",
       "    <tr style=\"text-align: right;\">\n",
       "      <th></th>\n",
       "      <th>gender</th>\n",
       "      <th>SeniorCitizen</th>\n",
       "      <th>Partner</th>\n",
       "      <th>Dependents</th>\n",
       "      <th>tenure</th>\n",
       "      <th>PhoneService</th>\n",
       "      <th>PaperlessBilling</th>\n",
       "      <th>MonthlyCharges</th>\n",
       "      <th>TotalCharges</th>\n",
       "      <th>Churn</th>\n",
       "      <th>...</th>\n",
       "      <th>StreamingMovies_No</th>\n",
       "      <th>StreamingMovies_No internet service</th>\n",
       "      <th>StreamingMovies_Yes</th>\n",
       "      <th>Contract_Month-to-month</th>\n",
       "      <th>Contract_One year</th>\n",
       "      <th>Contract_Two year</th>\n",
       "      <th>PaymentMethod_Bank transfer (automatic)</th>\n",
       "      <th>PaymentMethod_Credit card (automatic)</th>\n",
       "      <th>PaymentMethod_Electronic check</th>\n",
       "      <th>PaymentMethod_Mailed check</th>\n",
       "    </tr>\n",
       "  </thead>\n",
       "  <tbody>\n",
       "    <tr>\n",
       "      <th>count</th>\n",
       "      <td>7032.000000</td>\n",
       "      <td>7032.000000</td>\n",
       "      <td>7032.000000</td>\n",
       "      <td>7032.000000</td>\n",
       "      <td>7032.000000</td>\n",
       "      <td>7032.000000</td>\n",
       "      <td>7032.000000</td>\n",
       "      <td>7032.000000</td>\n",
       "      <td>7032.000000</td>\n",
       "      <td>7032.000000</td>\n",
       "      <td>...</td>\n",
       "      <td>7032.000000</td>\n",
       "      <td>7032.000000</td>\n",
       "      <td>7032.000000</td>\n",
       "      <td>7032.000000</td>\n",
       "      <td>7032.000000</td>\n",
       "      <td>7032.000000</td>\n",
       "      <td>7032.000000</td>\n",
       "      <td>7032.000000</td>\n",
       "      <td>7032.000000</td>\n",
       "      <td>7032.000000</td>\n",
       "    </tr>\n",
       "    <tr>\n",
       "      <th>mean</th>\n",
       "      <td>0.495307</td>\n",
       "      <td>0.162400</td>\n",
       "      <td>0.482509</td>\n",
       "      <td>0.298493</td>\n",
       "      <td>32.421786</td>\n",
       "      <td>0.903299</td>\n",
       "      <td>0.592719</td>\n",
       "      <td>64.798208</td>\n",
       "      <td>2283.300441</td>\n",
       "      <td>0.265785</td>\n",
       "      <td>...</td>\n",
       "      <td>0.395478</td>\n",
       "      <td>0.216155</td>\n",
       "      <td>0.388367</td>\n",
       "      <td>0.551052</td>\n",
       "      <td>0.209329</td>\n",
       "      <td>0.239619</td>\n",
       "      <td>0.219283</td>\n",
       "      <td>0.216297</td>\n",
       "      <td>0.336320</td>\n",
       "      <td>0.228100</td>\n",
       "    </tr>\n",
       "    <tr>\n",
       "      <th>std</th>\n",
       "      <td>0.500014</td>\n",
       "      <td>0.368844</td>\n",
       "      <td>0.499729</td>\n",
       "      <td>0.457629</td>\n",
       "      <td>24.545260</td>\n",
       "      <td>0.295571</td>\n",
       "      <td>0.491363</td>\n",
       "      <td>30.085974</td>\n",
       "      <td>2266.771362</td>\n",
       "      <td>0.441782</td>\n",
       "      <td>...</td>\n",
       "      <td>0.488988</td>\n",
       "      <td>0.411650</td>\n",
       "      <td>0.487414</td>\n",
       "      <td>0.497422</td>\n",
       "      <td>0.406858</td>\n",
       "      <td>0.426881</td>\n",
       "      <td>0.413790</td>\n",
       "      <td>0.411748</td>\n",
       "      <td>0.472483</td>\n",
       "      <td>0.419637</td>\n",
       "    </tr>\n",
       "    <tr>\n",
       "      <th>min</th>\n",
       "      <td>0.000000</td>\n",
       "      <td>0.000000</td>\n",
       "      <td>0.000000</td>\n",
       "      <td>0.000000</td>\n",
       "      <td>1.000000</td>\n",
       "      <td>0.000000</td>\n",
       "      <td>0.000000</td>\n",
       "      <td>18.250000</td>\n",
       "      <td>18.800000</td>\n",
       "      <td>0.000000</td>\n",
       "      <td>...</td>\n",
       "      <td>0.000000</td>\n",
       "      <td>0.000000</td>\n",
       "      <td>0.000000</td>\n",
       "      <td>0.000000</td>\n",
       "      <td>0.000000</td>\n",
       "      <td>0.000000</td>\n",
       "      <td>0.000000</td>\n",
       "      <td>0.000000</td>\n",
       "      <td>0.000000</td>\n",
       "      <td>0.000000</td>\n",
       "    </tr>\n",
       "    <tr>\n",
       "      <th>25%</th>\n",
       "      <td>0.000000</td>\n",
       "      <td>0.000000</td>\n",
       "      <td>0.000000</td>\n",
       "      <td>0.000000</td>\n",
       "      <td>9.000000</td>\n",
       "      <td>1.000000</td>\n",
       "      <td>0.000000</td>\n",
       "      <td>35.587500</td>\n",
       "      <td>401.450000</td>\n",
       "      <td>0.000000</td>\n",
       "      <td>...</td>\n",
       "      <td>0.000000</td>\n",
       "      <td>0.000000</td>\n",
       "      <td>0.000000</td>\n",
       "      <td>0.000000</td>\n",
       "      <td>0.000000</td>\n",
       "      <td>0.000000</td>\n",
       "      <td>0.000000</td>\n",
       "      <td>0.000000</td>\n",
       "      <td>0.000000</td>\n",
       "      <td>0.000000</td>\n",
       "    </tr>\n",
       "    <tr>\n",
       "      <th>50%</th>\n",
       "      <td>0.000000</td>\n",
       "      <td>0.000000</td>\n",
       "      <td>0.000000</td>\n",
       "      <td>0.000000</td>\n",
       "      <td>29.000000</td>\n",
       "      <td>1.000000</td>\n",
       "      <td>1.000000</td>\n",
       "      <td>70.350000</td>\n",
       "      <td>1397.475000</td>\n",
       "      <td>0.000000</td>\n",
       "      <td>...</td>\n",
       "      <td>0.000000</td>\n",
       "      <td>0.000000</td>\n",
       "      <td>0.000000</td>\n",
       "      <td>1.000000</td>\n",
       "      <td>0.000000</td>\n",
       "      <td>0.000000</td>\n",
       "      <td>0.000000</td>\n",
       "      <td>0.000000</td>\n",
       "      <td>0.000000</td>\n",
       "      <td>0.000000</td>\n",
       "    </tr>\n",
       "    <tr>\n",
       "      <th>75%</th>\n",
       "      <td>1.000000</td>\n",
       "      <td>0.000000</td>\n",
       "      <td>1.000000</td>\n",
       "      <td>1.000000</td>\n",
       "      <td>55.000000</td>\n",
       "      <td>1.000000</td>\n",
       "      <td>1.000000</td>\n",
       "      <td>89.862500</td>\n",
       "      <td>3794.737500</td>\n",
       "      <td>1.000000</td>\n",
       "      <td>...</td>\n",
       "      <td>1.000000</td>\n",
       "      <td>0.000000</td>\n",
       "      <td>1.000000</td>\n",
       "      <td>1.000000</td>\n",
       "      <td>0.000000</td>\n",
       "      <td>0.000000</td>\n",
       "      <td>0.000000</td>\n",
       "      <td>0.000000</td>\n",
       "      <td>1.000000</td>\n",
       "      <td>0.000000</td>\n",
       "    </tr>\n",
       "    <tr>\n",
       "      <th>max</th>\n",
       "      <td>1.000000</td>\n",
       "      <td>1.000000</td>\n",
       "      <td>1.000000</td>\n",
       "      <td>1.000000</td>\n",
       "      <td>72.000000</td>\n",
       "      <td>1.000000</td>\n",
       "      <td>1.000000</td>\n",
       "      <td>118.750000</td>\n",
       "      <td>8684.800000</td>\n",
       "      <td>1.000000</td>\n",
       "      <td>...</td>\n",
       "      <td>1.000000</td>\n",
       "      <td>1.000000</td>\n",
       "      <td>1.000000</td>\n",
       "      <td>1.000000</td>\n",
       "      <td>1.000000</td>\n",
       "      <td>1.000000</td>\n",
       "      <td>1.000000</td>\n",
       "      <td>1.000000</td>\n",
       "      <td>1.000000</td>\n",
       "      <td>1.000000</td>\n",
       "    </tr>\n",
       "  </tbody>\n",
       "</table>\n",
       "<p>8 rows × 41 columns</p>\n",
       "</div>"
      ],
      "text/plain": [
       "            gender  SeniorCitizen      Partner   Dependents       tenure  \\\n",
       "count  7032.000000    7032.000000  7032.000000  7032.000000  7032.000000   \n",
       "mean      0.495307       0.162400     0.482509     0.298493    32.421786   \n",
       "std       0.500014       0.368844     0.499729     0.457629    24.545260   \n",
       "min       0.000000       0.000000     0.000000     0.000000     1.000000   \n",
       "25%       0.000000       0.000000     0.000000     0.000000     9.000000   \n",
       "50%       0.000000       0.000000     0.000000     0.000000    29.000000   \n",
       "75%       1.000000       0.000000     1.000000     1.000000    55.000000   \n",
       "max       1.000000       1.000000     1.000000     1.000000    72.000000   \n",
       "\n",
       "       PhoneService  PaperlessBilling  MonthlyCharges  TotalCharges  \\\n",
       "count   7032.000000       7032.000000     7032.000000   7032.000000   \n",
       "mean       0.903299          0.592719       64.798208   2283.300441   \n",
       "std        0.295571          0.491363       30.085974   2266.771362   \n",
       "min        0.000000          0.000000       18.250000     18.800000   \n",
       "25%        1.000000          0.000000       35.587500    401.450000   \n",
       "50%        1.000000          1.000000       70.350000   1397.475000   \n",
       "75%        1.000000          1.000000       89.862500   3794.737500   \n",
       "max        1.000000          1.000000      118.750000   8684.800000   \n",
       "\n",
       "             Churn             ...              StreamingMovies_No  \\\n",
       "count  7032.000000             ...                     7032.000000   \n",
       "mean      0.265785             ...                        0.395478   \n",
       "std       0.441782             ...                        0.488988   \n",
       "min       0.000000             ...                        0.000000   \n",
       "25%       0.000000             ...                        0.000000   \n",
       "50%       0.000000             ...                        0.000000   \n",
       "75%       1.000000             ...                        1.000000   \n",
       "max       1.000000             ...                        1.000000   \n",
       "\n",
       "       StreamingMovies_No internet service  StreamingMovies_Yes  \\\n",
       "count                          7032.000000          7032.000000   \n",
       "mean                              0.216155             0.388367   \n",
       "std                               0.411650             0.487414   \n",
       "min                               0.000000             0.000000   \n",
       "25%                               0.000000             0.000000   \n",
       "50%                               0.000000             0.000000   \n",
       "75%                               0.000000             1.000000   \n",
       "max                               1.000000             1.000000   \n",
       "\n",
       "       Contract_Month-to-month  Contract_One year  Contract_Two year  \\\n",
       "count              7032.000000        7032.000000        7032.000000   \n",
       "mean                  0.551052           0.209329           0.239619   \n",
       "std                   0.497422           0.406858           0.426881   \n",
       "min                   0.000000           0.000000           0.000000   \n",
       "25%                   0.000000           0.000000           0.000000   \n",
       "50%                   1.000000           0.000000           0.000000   \n",
       "75%                   1.000000           0.000000           0.000000   \n",
       "max                   1.000000           1.000000           1.000000   \n",
       "\n",
       "       PaymentMethod_Bank transfer (automatic)  \\\n",
       "count                              7032.000000   \n",
       "mean                                  0.219283   \n",
       "std                                   0.413790   \n",
       "min                                   0.000000   \n",
       "25%                                   0.000000   \n",
       "50%                                   0.000000   \n",
       "75%                                   0.000000   \n",
       "max                                   1.000000   \n",
       "\n",
       "       PaymentMethod_Credit card (automatic)  PaymentMethod_Electronic check  \\\n",
       "count                            7032.000000                     7032.000000   \n",
       "mean                                0.216297                        0.336320   \n",
       "std                                 0.411748                        0.472483   \n",
       "min                                 0.000000                        0.000000   \n",
       "25%                                 0.000000                        0.000000   \n",
       "50%                                 0.000000                        0.000000   \n",
       "75%                                 0.000000                        1.000000   \n",
       "max                                 1.000000                        1.000000   \n",
       "\n",
       "       PaymentMethod_Mailed check  \n",
       "count                 7032.000000  \n",
       "mean                     0.228100  \n",
       "std                      0.419637  \n",
       "min                      0.000000  \n",
       "25%                      0.000000  \n",
       "50%                      0.000000  \n",
       "75%                      0.000000  \n",
       "max                      1.000000  \n",
       "\n",
       "[8 rows x 41 columns]"
      ]
     },
     "execution_count": 120,
     "metadata": {},
     "output_type": "execute_result"
    }
   ],
   "source": [
    "#Now we can look at our 41 features.\n",
    "data.describe()"
   ]
  },
  {
   "cell_type": "code",
   "execution_count": 121,
   "metadata": {},
   "outputs": [
    {
     "data": {
      "text/plain": [
       "<matplotlib.axes._subplots.AxesSubplot at 0x11a802400>"
      ]
     },
     "execution_count": 121,
     "metadata": {},
     "output_type": "execute_result"
    },
    {
     "data": {
      "image/png": "[encoded data removed]",
      "text/plain": [
       "<matplotlib.figure.Figure at 0x11a455ef0>"
      ]
     },
     "metadata": {},
     "output_type": "display_data"
    }
   ],
   "source": [
    "#Check their relationship with a heatmap\n",
    "sns.heatmap(data.corr())"
   ]
  },
  {
   "cell_type": "markdown",
   "metadata": {},
   "source": [
    "It appears there is little relationship between our variables outside of the inverse relationship with our dummy variables, which would make sense.\n",
    "\n",
    "Let's create some models to see which features are most important for predicting churn.\n",
    "\n",
    "## Build a Model"
   ]
  },
  {
   "cell_type": "code",
   "execution_count": 122,
   "metadata": {
    "collapsed": true
   },
   "outputs": [],
   "source": [
    "def basic_test(test):\n",
    "    #Fit the models\n",
    "    test.fit(X, y)\n",
    "    #Generate the score\n",
    "    print('Accuracy on the data with no feature selection: {}'.format(test.score(X, y)))\n",
    "    print('\\nCross Validation with 5 folds: {}'.format(cross_val_score(test, X, y, cv=5)) )\n",
    "\n",
    "X = data.drop(['Churn'], 1)\n",
    "y = data['Churn']"
   ]
  },
  {
   "cell_type": "markdown",
   "metadata": {},
   "source": [
    "### Basic Models with No Manipulation\n",
    "First let's try a number of models on the full data set without manipulation to see the accuracy of each model."
   ]
  },
  {
   "cell_type": "code",
   "execution_count": 123,
   "metadata": {},
   "outputs": [
    {
     "name": "stdout",
     "output_type": "stream",
     "text": [
      "Accuracy on the data with no feature selection: 0.8058873720136519\n",
      "\n",
      "Cross Validation with 5 folds: [ 0.80312722  0.81165601  0.78962331  0.814367    0.80427046]\n"
     ]
    }
   ],
   "source": [
    "lr = LogisticRegression(C=9e9)\n",
    "basic_test(lr)"
   ]
  },
  {
   "cell_type": "code",
   "execution_count": 124,
   "metadata": {},
   "outputs": [
    {
     "name": "stdout",
     "output_type": "stream",
     "text": [
      "Accuracy on the data with no feature selection: 0.8064562002275313\n",
      "\n",
      "Cross Validation with 5 folds: [ 0.80312722  0.81307747  0.78962331  0.80938834  0.80427046]\n"
     ]
    }
   ],
   "source": [
    "lr = LogisticRegression(C=1, penalty='l1')\n",
    "basic_test(lr)\n",
    "  "
   ]
  },
  {
   "cell_type": "code",
   "execution_count": 125,
   "metadata": {},
   "outputs": [
    {
     "name": "stdout",
     "output_type": "stream",
     "text": [
      "Accuracy on the data with no feature selection: 0.805745164960182\n",
      "\n",
      "Cross Validation with 5 folds: [ 0.80312722  0.81236674  0.78962331  0.81507824  0.80498221]\n"
     ]
    }
   ],
   "source": [
    "lr = LogisticRegression(C=1, penalty='l2')\n",
    "basic_test(lr)"
   ]
  },
  {
   "cell_type": "code",
   "execution_count": 126,
   "metadata": {},
   "outputs": [
    {
     "name": "stdout",
     "output_type": "stream",
     "text": [
      "Accuracy on the data with no feature selection: 0.8114334470989761\n",
      "\n",
      "Cross Validation with 5 folds: [ 0.77398721  0.78749112  0.77185501  0.77667141  0.78790036]\n"
     ]
    }
   ],
   "source": [
    "neighbors = KNeighborsClassifier(n_neighbors=9)\n",
    "basic_test(neighbors)"
   ]
  },
  {
   "cell_type": "code",
   "execution_count": 127,
   "metadata": {},
   "outputs": [
    {
     "name": "stdout",
     "output_type": "stream",
     "text": [
      "Accuracy on the data with no feature selection: 0.9677189988623436\n",
      "\n",
      "Cross Validation with 5 folds: [ 0.76190476  0.76972281  0.75479744  0.76386913  0.76654804]\n"
     ]
    }
   ],
   "source": [
    "svc = SVC(C=1, gamma=0.1)\n",
    "basic_test(svc)"
   ]
  },
  {
   "cell_type": "code",
   "execution_count": 128,
   "metadata": {},
   "outputs": [
    {
     "name": "stdout",
     "output_type": "stream",
     "text": [
      "Accuracy on the data with no feature selection: 0.9974402730375427\n",
      "\n",
      "Cross Validation with 5 folds: [ 0.72210377  0.74555792  0.71712864  0.71052632  0.73238434]\n"
     ]
    }
   ],
   "source": [
    "clf = DecisionTreeClassifier()\n",
    "basic_test(clf)"
   ]
  },
  {
   "cell_type": "code",
   "execution_count": 129,
   "metadata": {},
   "outputs": [
    {
     "name": "stdout",
     "output_type": "stream",
     "text": [
      "Accuracy on the data with no feature selection: 0.9799488054607508\n",
      "\n",
      "Cross Validation with 5 folds: [ 0.77967306  0.78606965  0.75621891  0.77596017  0.78362989]\n"
     ]
    }
   ],
   "source": [
    "rfc = RandomForestClassifier()\n",
    "basic_test(rfc)"
   ]
  },
  {
   "cell_type": "code",
   "execution_count": 130,
   "metadata": {},
   "outputs": [
    {
     "name": "stdout",
     "output_type": "stream",
     "text": [
      "Accuracy on the data with no feature selection: 0.8257963594994312\n",
      "\n",
      "Cross Validation with 5 folds: [ 0.8137882   0.81094527  0.78109453  0.81223329  0.80498221]\n"
     ]
    }
   ],
   "source": [
    "clf = GradientBoostingClassifier()\n",
    "basic_test(clf)"
   ]
  },
  {
   "cell_type": "markdown",
   "metadata": {},
   "source": [
    "Our best models are scoring fairly well without any manipulation at around 80% accuracy. Let's try to isolate the important features of the 41 and improve our scores.\n",
    "\n",
    "### Data Manipulation"
   ]
  },
  {
   "cell_type": "code",
   "execution_count": 131,
   "metadata": {},
   "outputs": [
    {
     "data": {
      "image/png": "[encoded data removed]",
      "text/plain": [
       "<matplotlib.figure.Figure at 0x11b4402b0>"
      ]
     },
     "metadata": {},
     "output_type": "display_data"
    }
   ],
   "source": [
    "plt.hist(data['tenure'], bins=20)\n",
    "plt.show()"
   ]
  },
  {
   "cell_type": "code",
   "execution_count": 132,
   "metadata": {},
   "outputs": [
    {
     "data": {
      "image/png": "[encoded data removed]",
      "text/plain": [
       "<matplotlib.figure.Figure at 0x11a562550>"
      ]
     },
     "metadata": {},
     "output_type": "display_data"
    }
   ],
   "source": [
    "data['tenure_reverse'] = 80 - data['tenure']\n",
    "plt.hist(data['tenure_reverse'], bins=20)\n",
    "plt.show()"
   ]
  },
  {
   "cell_type": "code",
   "execution_count": 133,
   "metadata": {},
   "outputs": [
    {
     "data": {
      "image/png": "[encoded data removed]",
      "text/plain": [
       "<matplotlib.figure.Figure at 0x11d52ac88>"
      ]
     },
     "metadata": {},
     "output_type": "display_data"
    }
   ],
   "source": [
    "data['tenure_reverse_sqrt'] = data['tenure_reverse'] ** (1/2)\n",
    "plt.hist(data['tenure_reverse_sqrt'], bins=20)\n",
    "plt.show()"
   ]
  },
  {
   "cell_type": "code",
   "execution_count": 134,
   "metadata": {},
   "outputs": [
    {
     "data": {
      "image/png": "[encoded data removed]",
      "text/plain": [
       "<matplotlib.figure.Figure at 0x11bb18860>"
      ]
     },
     "metadata": {},
     "output_type": "display_data"
    }
   ],
   "source": [
    "data['tenure_log'] = np.log(data['tenure'])\n",
    "plt.hist(data['tenure_log'], bins=20)\n",
    "plt.show()"
   ]
  },
  {
   "cell_type": "code",
   "execution_count": 135,
   "metadata": {},
   "outputs": [
    {
     "data": {
      "text/plain": [
       "0    3558\n",
       "1    3474\n",
       "Name: tenure_binary, dtype: int64"
      ]
     },
     "execution_count": 135,
     "metadata": {},
     "output_type": "execute_result"
    }
   ],
   "source": [
    "threshold = 30\n",
    "data['tenure_binary'] = np.where(data['tenure'] >= threshold, 1, 0)\n",
    "data['tenure_binary'].value_counts()"
   ]
  },
  {
   "cell_type": "code",
   "execution_count": 136,
   "metadata": {},
   "outputs": [
    {
     "data": {
      "image/png": "[encoded data removed]",
      "text/plain": [
       "<matplotlib.figure.Figure at 0x119739eb8>"
      ]
     },
     "metadata": {},
     "output_type": "display_data"
    }
   ],
   "source": [
    "plt.hist(data['MonthlyCharges'], bins=20)\n",
    "plt.show()"
   ]
  },
  {
   "cell_type": "code",
   "execution_count": 137,
   "metadata": {},
   "outputs": [
    {
     "data": {
      "text/plain": [
       "1    4744\n",
       "0    2288\n",
       "Name: expensive, dtype: int64"
      ]
     },
     "execution_count": 137,
     "metadata": {},
     "output_type": "execute_result"
    }
   ],
   "source": [
    "threshold = 50.0\n",
    "data['expensive'] = np.where(data['MonthlyCharges'] >= threshold, 1, 0)\n",
    "data['expensive'].value_counts()"
   ]
  },
  {
   "cell_type": "code",
   "execution_count": 138,
   "metadata": {},
   "outputs": [
    {
     "data": {
      "image/png": "[encoded data removed]",
      "text/plain": [
       "<matplotlib.figure.Figure at 0x119be8be0>"
      ]
     },
     "metadata": {},
     "output_type": "display_data"
    }
   ],
   "source": [
    "data['MonthlyCharges_log'] = np.log10(data['MonthlyCharges'])\n",
    "plt.hist(data['MonthlyCharges_log'], bins=20)\n",
    "plt.show()"
   ]
  },
  {
   "cell_type": "code",
   "execution_count": 139,
   "metadata": {},
   "outputs": [
    {
     "data": {
      "image/png": "[encoded data removed]",
      "text/plain": [
       "<matplotlib.figure.Figure at 0x1195b0cc0>"
      ]
     },
     "metadata": {},
     "output_type": "display_data"
    }
   ],
   "source": [
    "plt.hist(data['TotalCharges'], bins=10)\n",
    "plt.show()"
   ]
  },
  {
   "cell_type": "code",
   "execution_count": 140,
   "metadata": {},
   "outputs": [
    {
     "data": {
      "image/png": "[encoded data removed]",
      "text/plain": [
       "<matplotlib.figure.Figure at 0x11bb07cf8>"
      ]
     },
     "metadata": {},
     "output_type": "display_data"
    }
   ],
   "source": [
    "data['TotalCharges_sqrt'] = data['TotalCharges'] ** (1/2)\n",
    "plt.hist(data['TotalCharges_sqrt'], bins=20)\n",
    "plt.show()"
   ]
  },
  {
   "cell_type": "markdown",
   "metadata": {},
   "source": [
    "Now that we have some new features, let's balance our data to improve the performance of our modeling for predictions."
   ]
  },
  {
   "cell_type": "code",
   "execution_count": 141,
   "metadata": {
    "collapsed": true
   },
   "outputs": [],
   "source": [
    "# Create a separate yes and no variable\n",
    "yes_churn = data[data.Churn == 1]\n",
    "no_churn = data[data.Churn == 0]\n",
    "\n",
    "# Use resample to get an equal number of yes and nos in our data\n",
    "data = resample(no_churn, n_samples=1869)\n",
    "data = data.append(yes_churn)\n",
    "\n",
    "# Now we can create our X and Y variables\n",
    "X = data.drop(['Churn'], 1)\n",
    "y = data['Churn']\n",
    "\n",
    "#Make a training and test set.\n",
    "X_train, X_test, y_train, y_test = train_test_split(X, y, test_size=0.33, random_state=42)"
   ]
  },
  {
   "cell_type": "markdown",
   "metadata": {},
   "source": [
    "### Feature Selection\n",
    "Principle Components Analysis works in a blackbox fashion, so it won't help us in isolating features important to predicting whether a customer will stay or leave, but let's include it to see if we can improve the performance of the models in predicting by cancelling out the noise of the 41 features."
   ]
  },
  {
   "cell_type": "code",
   "execution_count": 142,
   "metadata": {},
   "outputs": [
    {
     "name": "stderr",
     "output_type": "stream",
     "text": [
      "/Users/bryancorder/anaconda3/lib/python3.6/site-packages/numpy/core/numeric.py:531: ComplexWarning: Casting complex values to real discards the imaginary part\n",
      "  return array(a, dtype, copy=False, order=order)\n"
     ]
    },
    {
     "data": {
      "image/png": "[encoded data removed]",
      "text/plain": [
       "<matplotlib.figure.Figure at 0x11a7993c8>"
      ]
     },
     "metadata": {},
     "output_type": "display_data"
    }
   ],
   "source": [
    "# Normalize the data so that all variables have a mean of 0 and standard deviation\n",
    "# of 1.\n",
    "X = StandardScaler().fit_transform(X_train)\n",
    "\n",
    "# The NumPy covariance function assumes that variables are represented by rows,\n",
    "# not columns, so we transpose X.\n",
    "Xt = X.T\n",
    "Cx = np.cov(Xt)\n",
    "# Calculating eigenvalues and eigenvectors.\n",
    "eig_val_cov, eig_vec_cov = np.linalg.eig(Cx)\n",
    "\n",
    "plt.plot(eig_val_cov)\n",
    "plt.show()"
   ]
  },
  {
   "cell_type": "code",
   "execution_count": 143,
   "metadata": {},
   "outputs": [
    {
     "data": {
      "image/png": "[encoded data removed]",
      "text/plain": [
       "<matplotlib.figure.Figure at 0x11a7a0f98>"
      ]
     },
     "metadata": {},
     "output_type": "display_data"
    }
   ],
   "source": [
    "logistic = LogisticRegression()\n",
    "\n",
    "pca = PCA()\n",
    "pipe = Pipeline(steps=[('pca', pca), ('logistic', logistic)])\n",
    "\n",
    "# Plot the PCA spectrum\n",
    "pca.fit(X_train)\n",
    "\n",
    "plt.figure(1, figsize=(4, 3))\n",
    "plt.clf()\n",
    "plt.plot(pca.explained_variance_, linewidth=2)\n",
    "plt.xlabel('n_components')\n",
    "plt.ylabel('explained_variance_')\n",
    "\n",
    "# Prediction\n",
    "n_components = [10, 20, 30, 40]\n",
    "Cs = np.logspace(1, 4, 3)\n",
    "\n",
    "# Parameters of pipelines can be set using ‘__’ separated parameter names:\n",
    "estimator = GridSearchCV(pipe,\n",
    "                         dict(pca__n_components=n_components,\n",
    "                              logistic__C=Cs))\n",
    "estimator.fit(X_train, y_train)\n",
    "\n",
    "plt.axvline(estimator.best_estimator_.named_steps['pca'].n_components,\n",
    "            linestyle=':', label='n_components chosen')\n",
    "plt.legend(prop=dict(size=12))\n",
    "plt.show()"
   ]
  },
  {
   "cell_type": "code",
   "execution_count": 144,
   "metadata": {
    "collapsed": true
   },
   "outputs": [],
   "source": [
    "#Set up our first X using PCA\n",
    "pca = PCA(n_components=4)\n",
    "X_std_pca = pca.fit_transform(X_train)\n",
    "X1 = pd.DataFrame(X_std_pca)\n",
    "\n",
    "#Now for the Test\n",
    "pca = PCA(n_components=4)\n",
    "X_std_pca = pca.fit_transform(X_test)\n",
    "X1_test = pd.DataFrame(X_std_pca)"
   ]
  },
  {
   "cell_type": "markdown",
   "metadata": {},
   "source": [
    "SK Learn has a powerful tool that allows us to use Cross Validation to isolate the features that are most important in prediction called Recursive Feature Elimination."
   ]
  },
  {
   "cell_type": "code",
   "execution_count": 145,
   "metadata": {},
   "outputs": [
    {
     "name": "stdout",
     "output_type": "stream",
     "text": [
      "                                   Features  Ranking  Support\n",
      "0                                    gender        1     True\n",
      "32                      StreamingMovies_Yes        1     True\n",
      "33                  Contract_Month-to-month        1     True\n",
      "18                          OnlineBackup_No        1     True\n",
      "35                        Contract_Two year        1     True\n",
      "36  PaymentMethod_Bank transfer (automatic)        1     True\n",
      "15                        OnlineSecurity_No        1     True\n",
      "38           PaymentMethod_Electronic check        1     True\n",
      "13              InternetService_Fiber optic        1     True\n",
      "39               PaymentMethod_Mailed check        1     True\n",
      "29                          StreamingTV_Yes        1     True\n",
      "40                           tenure_reverse        1     True\n",
      "9                          MultipleLines_No        1     True\n",
      "42                               tenure_log        1     True\n",
      "6                          PaperlessBilling        1     True\n",
      "43                            tenure_binary        1     True\n",
      "4                                    tenure        1     True\n",
      "3                                Dependents        1     True\n",
      "44                                expensive        1     True\n",
      "1                             SeniorCitizen        1     True\n",
      "41                      tenure_reverse_sqrt        1     True\n",
      "24                           TechSupport_No        1     True\n",
      "7                            MonthlyCharges        2    False\n",
      "46                        TotalCharges_sqrt        3    False\n",
      "8                              TotalCharges        4    False\n",
      "5                              PhoneService        5    False\n",
      "14                       InternetService_No        6    False\n",
      "16       OnlineSecurity_No internet service        7    False\n",
      "17                       OnlineSecurity_Yes        8    False\n",
      "45                       MonthlyCharges_log        9    False\n",
      "28          StreamingTV_No internet service       10    False\n",
      "20                         OnlineBackup_Yes       11    False\n",
      "34                        Contract_One year       12    False\n",
      "37    PaymentMethod_Credit card (automatic)       13    False\n",
      "27                           StreamingTV_No       14    False\n",
      "2                                   Partner       15    False\n",
      "19         OnlineBackup_No internet service       16    False\n",
      "21                      DeviceProtection_No       17    False\n",
      "30                       StreamingMovies_No       18    False\n",
      "31      StreamingMovies_No internet service       19    False\n",
      "26                          TechSupport_Yes       20    False\n",
      "10           MultipleLines_No phone service       21    False\n",
      "25          TechSupport_No internet service       22    False\n",
      "11                        MultipleLines_Yes       23    False\n",
      "12                      InternetService_DSL       24    False\n",
      "22     DeviceProtection_No internet service       25    False\n",
      "23                     DeviceProtection_Yes       26    False\n",
      "It took the following time to complete this task: 0:01:06.872421\n"
     ]
    }
   ],
   "source": [
    "start = datetime.now()\n",
    "#Use Lasso/RFE with Cross Validation to get the best features for our second X\n",
    "lr = LogisticRegression(C=1, penalty='l1')\n",
    "\n",
    "#Set up our X,y\n",
    "X = X_train\n",
    "y = y_train\n",
    "\n",
    "#Set up our Recursive Feature Elimination\n",
    "rfe = RFECV(lr,cv=5) \n",
    "fit = rfe.fit(X,y)\n",
    "result_RFE = pd.DataFrame(list(zip(X.head(0), rfe.ranking_, rfe.support_)),\n",
    "                          columns=['Features','Ranking','Support'] ) \n",
    "print(result_RFE.sort_values('Ranking'))\n",
    "print('It took the following time to complete this task:', datetime.now() - start)"
   ]
  },
  {
   "cell_type": "code",
   "execution_count": 146,
   "metadata": {
    "collapsed": true
   },
   "outputs": [],
   "source": [
    "true_values = result_RFE[result_RFE.Support == True]\n",
    "feature_list = []\n",
    "for g in true_values['Features']:\n",
    "    feature_list.append(g)"
   ]
  },
  {
   "cell_type": "code",
   "execution_count": 147,
   "metadata": {
    "collapsed": true
   },
   "outputs": [],
   "source": [
    "X2 = X_train[feature_list]\n",
    "X2_test = X_test[feature_list]"
   ]
  },
  {
   "cell_type": "markdown",
   "metadata": {},
   "source": [
    "Let's use Random Forest to select features"
   ]
  },
  {
   "cell_type": "code",
   "execution_count": 148,
   "metadata": {
    "scrolled": false
   },
   "outputs": [
    {
     "name": "stdout",
     "output_type": "stream",
     "text": [
      "('gender', 0.016672146432540464)\n",
      "('SeniorCitizen', 0.011824965569025136)\n",
      "('Partner', 0.013868789622807767)\n",
      "('Dependents', 0.013382114520838673)\n",
      "('tenure', 0.058896301551876695)\n",
      "('PhoneService', 0.0025282228060670331)\n",
      "('PaperlessBilling', 0.016284459003862137)\n",
      "('MonthlyCharges', 0.075437507274889598)\n",
      "('TotalCharges', 0.074803536802065251)\n",
      "('MultipleLines_No', 0.0088458008756605137)\n",
      "('MultipleLines_No phone service', 0.0024991907777462551)\n",
      "('MultipleLines_Yes', 0.0085623276683282536)\n",
      "('InternetService_DSL', 0.0080671775124398614)\n",
      "('InternetService_Fiber optic', 0.01832681502171752)\n",
      "('InternetService_No', 0.0040406447199350919)\n",
      "('OnlineSecurity_No', 0.028274702293568134)\n",
      "('OnlineSecurity_No internet service', 0.0034196884163134661)\n",
      "('OnlineSecurity_Yes', 0.0088316224436979784)\n",
      "('OnlineBackup_No', 0.013046532947159772)\n",
      "('OnlineBackup_No internet service', 0.0040828096427874948)\n",
      "('OnlineBackup_Yes', 0.008312122632899396)\n",
      "('DeviceProtection_No', 0.010394087768917641)\n",
      "('DeviceProtection_No internet service', 0.0036963576097139863)\n",
      "('DeviceProtection_Yes', 0.0077753950159153862)\n",
      "('TechSupport_No', 0.034049576212969397)\n",
      "('TechSupport_No internet service', 0.0033772577706324652)\n",
      "('TechSupport_Yes', 0.0092595226319319886)\n",
      "('StreamingTV_No', 0.0078358617640757865)\n",
      "('StreamingTV_No internet service', 0.0033127392990829566)\n",
      "('StreamingTV_Yes', 0.008415739692312154)\n",
      "('StreamingMovies_No', 0.0075578306582039911)\n",
      "('StreamingMovies_No internet service', 0.0043866663670926844)\n",
      "('StreamingMovies_Yes', 0.0077471812114137846)\n",
      "('Contract_Month-to-month', 0.061857256915335349)\n",
      "('Contract_One year', 0.011878572811426838)\n",
      "('Contract_Two year', 0.028291603438734818)\n",
      "('PaymentMethod_Bank transfer (automatic)', 0.011139806690104469)\n",
      "('PaymentMethod_Credit card (automatic)', 0.0092132186508348379)\n",
      "('PaymentMethod_Electronic check', 0.019721973903545187)\n",
      "('PaymentMethod_Mailed check', 0.0085650295308685401)\n",
      "('tenure_reverse', 0.059165478869051644)\n",
      "('tenure_reverse_sqrt', 0.059727379602247867)\n",
      "('tenure_log', 0.059275310772869454)\n",
      "('tenure_binary', 0.011232757431829967)\n",
      "('expensive', 0.003511439871396065)\n",
      "('MonthlyCharges_log', 0.074394462596453131)\n",
      "('TotalCharges_sqrt', 0.074210014376813377)\n",
      "It took the following time to complete this task: 0:00:03.270906\n"
     ]
    }
   ],
   "source": [
    "# Let's use Random Forest to select features.\n",
    "start = datetime.now()\n",
    "X = X_train\n",
    "y = y_train\n",
    "clf = RandomForestClassifier(n_estimators=1000, random_state=0, n_jobs=-1)\n",
    "df2 = X.columns.get_values()\n",
    "feat_labels = df2.tolist()\n",
    "\n",
    "# Train the classifier\n",
    "clf.fit(X, y)\n",
    "# Create a selector object that will use the random forest classifier to identify\n",
    "# features that have an importance of more than 0.15\n",
    "for feature in zip(X, clf.feature_importances_):\n",
    "    print(feature)\n",
    "\n",
    "print('It took the following time to complete this task:', datetime.now() - start)"
   ]
  },
  {
   "cell_type": "markdown",
   "metadata": {},
   "source": [
    "This is very insightful because we can use the \"feature_importances_\" to see just how important each feature is in predicting whether a customer will leave or not."
   ]
  },
  {
   "cell_type": "code",
   "execution_count": 149,
   "metadata": {},
   "outputs": [
    {
     "name": "stdout",
     "output_type": "stream",
     "text": [
      "tenure\n",
      "MonthlyCharges\n",
      "TotalCharges\n",
      "TechSupport_No\n",
      "Contract_Month-to-month\n",
      "tenure_reverse\n",
      "tenure_reverse_sqrt\n",
      "tenure_log\n",
      "MonthlyCharges_log\n",
      "TotalCharges_sqrt\n",
      "Number of features in this list: 10\n",
      "It took the following time to complete this task: 0:00:03.114029\n"
     ]
    }
   ],
   "source": [
    "start = datetime.now()\n",
    "\n",
    "# Retrieve the most important features by using SelectFromModel with a given threshold \n",
    "sfm = SelectFromModel(clf, threshold=0.03)\n",
    "rfcfeature_list =[]\n",
    "# Train the selector\n",
    "sfm.fit(X, y)\n",
    "for feature_list_index in sfm.get_support(indices=True):\n",
    "    rfcfeature_list.append(feat_labels[feature_list_index])\n",
    "    print(feat_labels[feature_list_index])\n",
    "\n",
    "X3 = X_train[rfcfeature_list]\n",
    "X3_test = X_test[rfcfeature_list]\n",
    "     \n",
    "print('Number of features in this list: {}'.format(len(rfcfeature_list)))\n",
    "print('It took the following time to complete this task:', datetime.now() - start)"
   ]
  },
  {
   "cell_type": "markdown",
   "metadata": {},
   "source": [
    "### Run Models\n",
    "First let's create a dataframe to store the results."
   ]
  },
  {
   "cell_type": "code",
   "execution_count": 150,
   "metadata": {
    "collapsed": true
   },
   "outputs": [],
   "source": [
    "#Make a list to store our results for a comparison at the end\n",
    "results = pd.DataFrame(index=range(24))\n",
    "results['Model'] = ['Logistic Regression',\n",
    "                    'Logistic Regression',\n",
    "                    'Logistic Regression',\n",
    "                    'Lasso Regression',\n",
    "                    'Lasso Regression',\n",
    "                    'Lasso Regression',\n",
    "                    'Ridge Regression',\n",
    "                    'Ridge Regression',\n",
    "                    'Ridge Regression',\n",
    "                    'KNN', 'KNN', 'KNN',\n",
    "                    'SVC', 'SVC', 'SVC',\n",
    "                    'Decision Tree', 'Decision Tree', 'Decision Tree',\n",
    "                    'Random Forest',\n",
    "                    'Random Forest',\n",
    "                    'Random Forest',\n",
    "                    'Gradient Booster',\n",
    "                    'Gradient Booster',\n",
    "                    'Gradient Booster',\n",
    "                    ]\n",
    "results['Feature Selection'] = ['PCA', 'RFECV', 'Random Forest',\n",
    "                               'PCA', 'RFECV', 'Random Forest',\n",
    "                               'PCA', 'RFECV', 'Random Forest',\n",
    "                               'PCA', 'RFECV', 'Random Forest',\n",
    "                                'PCA', 'RFECV', 'Random Forest',\n",
    "                               'PCA', 'RFECV', 'Random Forest',\n",
    "                               'PCA', 'RFECV', 'Random Forest',\n",
    "                               'PCA', 'RFECV', 'Random Forest']\n",
    "\n",
    "\n",
    "Train_Score = []\n",
    "Test_Score = []\n",
    "Cross_Validation = []\n",
    "fold1 = []\n",
    "fold2 = []\n",
    "fold3 = []\n",
    "fold4 = []\n",
    "fold5 = []"
   ]
  },
  {
   "cell_type": "markdown",
   "metadata": {},
   "source": [
    "Now let's create a testing function so that all we have to do is set the test and its parameters to run the test and store the results."
   ]
  },
  {
   "cell_type": "code",
   "execution_count": 151,
   "metadata": {
    "collapsed": true
   },
   "outputs": [],
   "source": [
    "#Create a testing function that will fit the test with PCA and our selected features from both RFECV and Random Forest\n",
    "def testing_func(test):\n",
    "    scores=[]\n",
    "    models = [[X1, y], [X1_test, y_test], [X2, y],[X2_test, y_test], [X3, y], [X3_test, y_test]]\n",
    "    for x in models:\n",
    "        test.fit(x[0], x[1])\n",
    "        scores.append(test.score(x[0], x[1]))\n",
    " \n",
    "    Train_Score.append(scores[0])\n",
    "    Train_Score.append(scores[2])\n",
    "    Train_Score.append(scores[4])\n",
    "    Test_Score.append(scores[1])\n",
    "    Test_Score.append(scores[3])\n",
    "    Test_Score.append(scores[5])\n",
    "\n",
    "    df=pd.DataFrame(scores, columns=['Accuracy'], index=['PCA Training', 'PCA Test', 'RFECV Training', 'RFECV Test', \n",
    "                                                         'Random Forest Training' , 'Random Forest Test'])\n",
    "    print(df)\n",
    "    \n",
    "    exes = [[X1, 'PCA'], [X2, 'RFECV'], [X3, 'Random Forest']]\n",
    "    for x in exes:\n",
    "        Cross_Validation0 = cross_val_score(test, x[0], y, cv=5)\n",
    "        Cross_Validation.append(Cross_Validation0)\n",
    "        fold1.append(Cross_Validation0[0])\n",
    "        fold2.append(Cross_Validation0[1])\n",
    "        fold3.append(Cross_Validation0[2])\n",
    "        fold4.append(Cross_Validation0[3])\n",
    "        fold5.append(Cross_Validation0[4])\n",
    "        print('\\nCross Validation Score with 5 folds with {}:\\n{}'.format(x[1], Cross_Validation0))\n",
    "    "
   ]
  },
  {
   "cell_type": "code",
   "execution_count": 152,
   "metadata": {},
   "outputs": [
    {
     "name": "stdout",
     "output_type": "stream",
     "text": [
      "                        Accuracy\n",
      "PCA Training            0.733626\n",
      "PCA Test                0.735818\n",
      "RFECV Training          0.785942\n",
      "RFECV Test              0.781199\n",
      "Random Forest Training  0.766374\n",
      "Random Forest Test      0.769854\n",
      "\n",
      "Cross Validation Score with 5 folds with PCA:\n",
      "[ 0.73705179  0.76693227  0.706       0.718       0.744     ]\n",
      "\n",
      "Cross Validation Score with 5 folds with RFECV:\n",
      "[ 0.75896414  0.80079681  0.752       0.766       0.814     ]\n",
      "\n",
      "Cross Validation Score with 5 folds with Random Forest:\n",
      "[ 0.73904382  0.79482072  0.744       0.774       0.774     ]\n",
      "It took the following time to complete this task: 0:00:00.290259\n"
     ]
    }
   ],
   "source": [
    "start = datetime.now()\n",
    "#Let's compare our features in various models starting with Logistic Regression\n",
    "lr = LogisticRegression(C=9e9)\n",
    "testing_func(lr)\n",
    "\n",
    "print('It took the following time to complete this task:', datetime.now() - start)"
   ]
  },
  {
   "cell_type": "code",
   "execution_count": 153,
   "metadata": {},
   "outputs": [
    {
     "data": {
      "image/png": "[encoded data removed]",
      "text/plain": [
       "<matplotlib.figure.Figure at 0x119674da0>"
      ]
     },
     "metadata": {},
     "output_type": "display_data"
    }
   ],
   "source": [
    "numb = np.arange(0.01, 1, 0.01)\n",
    "yl = []\n",
    "cl = []\n",
    "for g in numb:\n",
    "    lr = LogisticRegression(C=g, penalty='l1')\n",
    "    lr.fit(X1, y)\n",
    "    yl.append(lr.score(X1, y))\n",
    "    cl.append(np.mean(cross_val_score(lr, X1, y, cv=5)))\n",
    "\n",
    "fig = plt.figure()\n",
    "ax1 = fig.add_subplot(111)\n",
    "plt.xlabel('Lambda')\n",
    "plt.ylabel('Score')\n",
    "ax1.scatter(x=numb, y=yl, c='b', marker=\"s\", label='Score')\n",
    "ax1.scatter(x=numb, y=cl, s=10, c='r', marker=\"^\", label='Cross Validation')\n",
    "plt.legend(loc='upper left');\n",
    "plt.show()"
   ]
  },
  {
   "cell_type": "code",
   "execution_count": 154,
   "metadata": {},
   "outputs": [
    {
     "name": "stdout",
     "output_type": "stream",
     "text": [
      "                        Accuracy\n",
      "PCA Training            0.733626\n",
      "PCA Test                0.737439\n",
      "RFECV Training          0.784744\n",
      "RFECV Test              0.780389\n",
      "Random Forest Training  0.766374\n",
      "Random Forest Test      0.769044\n",
      "\n",
      "Cross Validation Score with 5 folds with PCA:\n",
      "[ 0.73505976  0.76693227  0.706       0.72        0.744     ]\n",
      "\n",
      "Cross Validation Score with 5 folds with RFECV:\n",
      "[ 0.75896414  0.80677291  0.754       0.762       0.816     ]\n",
      "\n",
      "Cross Validation Score with 5 folds with Random Forest:\n",
      "[ 0.73705179  0.79083665  0.748       0.772       0.774     ]\n",
      "It took the following time to complete this task: 0:00:05.384002\n"
     ]
    }
   ],
   "source": [
    "start = datetime.now()\n",
    "#Let's pop those into the model\n",
    "lr = LogisticRegression(C=1, penalty='l1')\n",
    "testing_func(lr)\n",
    "\n",
    "print('It took the following time to complete this task:', datetime.now() - start)"
   ]
  },
  {
   "cell_type": "code",
   "execution_count": 155,
   "metadata": {},
   "outputs": [
    {
     "data": {
      "image/png": "[encoded data removed]",
      "text/plain": [
       "<matplotlib.figure.Figure at 0x11a826c50>"
      ]
     },
     "metadata": {},
     "output_type": "display_data"
    }
   ],
   "source": [
    "numb = np.arange(1, 10000, 100)\n",
    "\n",
    "yr = []\n",
    "cr = []\n",
    "for g in numb:\n",
    "    lr = LogisticRegression(C=g, penalty='l2')\n",
    "    lr.fit(X1, y)\n",
    "    yr.append(lr.score(X1, y))\n",
    "    cr.append(np.mean(cross_val_score(lr, X1, y, cv=5)))\n",
    "\n",
    "fig = plt.figure()\n",
    "ax1 = fig.add_subplot(111)\n",
    "plt.xlabel('Lambda')\n",
    "plt.ylabel('Score')\n",
    "ax1.scatter(x=numb, y=yr, c='b', marker=\"s\", label='Score')\n",
    "ax1.scatter(x=numb, y=cr, s=10, c='r', marker=\"^\", label='Cross Validation')\n",
    "plt.legend(loc='upper left');\n",
    "plt.show()"
   ]
  },
  {
   "cell_type": "code",
   "execution_count": 156,
   "metadata": {},
   "outputs": [
    {
     "name": "stdout",
     "output_type": "stream",
     "text": [
      "                        Accuracy\n",
      "PCA Training            0.733626\n",
      "PCA Test                0.735818\n",
      "RFECV Training          0.785543\n",
      "RFECV Test              0.780389\n",
      "Random Forest Training  0.766773\n",
      "Random Forest Test      0.769044\n",
      "\n",
      "Cross Validation Score with 5 folds with PCA:\n",
      "[ 0.73705179  0.76693227  0.706       0.718       0.744     ]\n",
      "\n",
      "Cross Validation Score with 5 folds with RFECV:\n",
      "[ 0.75896414  0.80478088  0.756       0.762       0.816     ]\n",
      "\n",
      "Cross Validation Score with 5 folds with Random Forest:\n",
      "[ 0.73904382  0.79083665  0.748       0.77        0.77      ]\n",
      "It took the following time to complete this task: 0:00:00.247225\n"
     ]
    }
   ],
   "source": [
    "start = datetime.now()\n",
    "#Let's compare our features in various models starting with Logistic Regression\n",
    "lr = LogisticRegression(C=1, penalty='l2')\n",
    "testing_func(lr)\n",
    "\n",
    "print('It took the following time to complete this task:', datetime.now() - start)"
   ]
  },
  {
   "cell_type": "code",
   "execution_count": 157,
   "metadata": {},
   "outputs": [
    {
     "data": {
      "image/png": "[encoded data removed]",
      "text/plain": [
       "<matplotlib.figure.Figure at 0x11a453358>"
      ]
     },
     "metadata": {},
     "output_type": "display_data"
    },
    {
     "name": "stdout",
     "output_type": "stream",
     "text": [
      "It took the following time to complete this task: 0:00:00.549923\n"
     ]
    }
   ],
   "source": [
    "numb = np.arange(1, 10, 1)\n",
    "start = datetime.now()\n",
    "yn = []\n",
    "cv = []\n",
    "for g in numb:\n",
    "    neighbors = KNeighborsClassifier(n_neighbors=g)\n",
    "    neighbors.fit(X1, y)\n",
    "    yn.append(neighbors.score(X1, y))\n",
    "    cv.append(np.mean(cross_val_score(neighbors, X1, y, cv=5)))\n",
    "    \n",
    "fig = plt.figure()\n",
    "ax1 = fig.add_subplot(111)\n",
    "plt.xlabel('Number of Neighbors')\n",
    "plt.ylabel('Score')\n",
    "ax1.scatter(x=numb, y=yn, c='b', marker=\"s\", label='Score')\n",
    "ax1.scatter(x=numb, y=cv, s=10, c='r', marker=\"^\", label='Cross Validation')\n",
    "plt.legend(loc='upper left');\n",
    "plt.show()\n",
    "\n",
    "print('It took the following time to complete this task:', datetime.now() - start)"
   ]
  },
  {
   "cell_type": "code",
   "execution_count": 158,
   "metadata": {},
   "outputs": [
    {
     "name": "stdout",
     "output_type": "stream",
     "text": [
      "                        Accuracy\n",
      "PCA Training            0.766374\n",
      "PCA Test                0.767423\n",
      "RFECV Training          0.799920\n",
      "RFECV Test              0.802269\n",
      "Random Forest Training  0.766773\n",
      "Random Forest Test      0.767423\n",
      "\n",
      "Cross Validation Score with 5 folds with PCA:\n",
      "[ 0.69920319  0.71513944  0.698       0.694       0.722     ]\n",
      "\n",
      "Cross Validation Score with 5 folds with RFECV:\n",
      "[ 0.71912351  0.7689243   0.71        0.75        0.786     ]\n",
      "\n",
      "Cross Validation Score with 5 folds with Random Forest:\n",
      "[ 0.69721116  0.71513944  0.698       0.694       0.724     ]\n",
      "It took the following time to complete this task: 0:00:00.224544\n"
     ]
    }
   ],
   "source": [
    "start = datetime.now()\n",
    "neighbors = KNeighborsClassifier(n_neighbors=9)\n",
    "testing_func(neighbors)\n",
    "\n",
    "print('It took the following time to complete this task:', datetime.now() - start)"
   ]
  },
  {
   "cell_type": "code",
   "execution_count": 159,
   "metadata": {},
   "outputs": [
    {
     "name": "stdout",
     "output_type": "stream",
     "text": [
      "The best parameters are {'C': 1, 'gamma': 0.01} with a score of %0.7056709265175719\n"
     ]
    }
   ],
   "source": [
    "svc = SVC()\n",
    "parameters = {'C':[1,2,3,4,5], 'gamma': \n",
    "              [0.01,0.02,0.03,0.04,0.05,0.10]}\n",
    "grid = GridSearchCV(svc, parameters)\n",
    "grid.fit(X1, y)\n",
    "predicted = grid.predict(X1_test)\n",
    "print(\"The best parameters are {} with a score of %{}\".format(grid.best_params_, grid.best_score_))\n",
    "\n",
    "#Put those parameters in a dictionary to call.\n",
    "parameters = grid.best_params_"
   ]
  },
  {
   "cell_type": "code",
   "execution_count": 160,
   "metadata": {},
   "outputs": [
    {
     "name": "stdout",
     "output_type": "stream",
     "text": [
      "                        Accuracy\n",
      "PCA Training            0.912540\n",
      "PCA Test                0.935170\n",
      "RFECV Training          0.772364\n",
      "RFECV Test              0.762561\n",
      "Random Forest Training  0.912939\n",
      "Random Forest Test      0.935170\n",
      "\n",
      "Cross Validation Score with 5 folds with PCA:\n",
      "[ 0.71713147  0.75697211  0.724       0.672       0.69      ]\n",
      "\n",
      "Cross Validation Score with 5 folds with RFECV:\n",
      "[ 0.73505976  0.76693227  0.722       0.772       0.77      ]\n",
      "\n",
      "Cross Validation Score with 5 folds with Random Forest:\n",
      "[ 0.71713147  0.75697211  0.724       0.672       0.692     ]\n",
      "It took the following time to complete this task: 0:00:03.525284\n"
     ]
    }
   ],
   "source": [
    "start = datetime.now()\n",
    "#Now let's model with SVM\n",
    "svc = SVC(C=parameters['C'], gamma=parameters['gamma'])\n",
    "testing_func(svc)\n",
    "\n",
    "print('It took the following time to complete this task:', datetime.now() - start)"
   ]
  },
  {
   "cell_type": "code",
   "execution_count": 161,
   "metadata": {},
   "outputs": [
    {
     "name": "stdout",
     "output_type": "stream",
     "text": [
      "The best parameters are {'max_depth': 3} with a score of %0.7312300319488818\n",
      "It took the following time to complete this task: 0:00:00.281283\n"
     ]
    }
   ],
   "source": [
    "start = datetime.now()\n",
    "clf = DecisionTreeClassifier()\n",
    "parameters = {'max_depth':[1,2,3,4,5,6,7,8,9,10]}\n",
    "grid = GridSearchCV(clf, parameters)\n",
    "grid.fit(X1, y)\n",
    "predicted = grid.predict(X1_test)\n",
    "print(\"The best parameters are {} with a score of %{}\".format(grid.best_params_, grid.best_score_))\n",
    "\n",
    "#Put those parameters in a dictionary to call.\n",
    "parameters = grid.best_params_\n",
    "\n",
    "print('It took the following time to complete this task:', datetime.now() - start)"
   ]
  },
  {
   "cell_type": "code",
   "execution_count": 162,
   "metadata": {},
   "outputs": [
    {
     "name": "stdout",
     "output_type": "stream",
     "text": [
      "                        Accuracy\n",
      "PCA Training            0.743610\n",
      "PCA Test                0.761750\n",
      "RFECV Training          0.755192\n",
      "RFECV Test              0.767423\n",
      "Random Forest Training  0.753994\n",
      "Random Forest Test      0.767423\n",
      "\n",
      "Cross Validation Score with 5 folds with PCA:\n",
      "[ 0.73306773  0.74302789  0.706       0.724       0.752     ]\n",
      "\n",
      "Cross Validation Score with 5 folds with RFECV:\n",
      "[ 0.73505976  0.76095618  0.736       0.746       0.764     ]\n",
      "\n",
      "Cross Validation Score with 5 folds with Random Forest:\n",
      "[ 0.72908367  0.76095618  0.722       0.744       0.768     ]\n",
      "It took the following time to complete this task: 0:00:00.143474\n"
     ]
    }
   ],
   "source": [
    "start = datetime.now()\n",
    "clf = DecisionTreeClassifier(max_depth=parameters['max_depth'], \n",
    "                             random_state=42)\n",
    "testing_func(clf)\n",
    "\n",
    "print('It took the following time to complete this task:', datetime.now() - start)"
   ]
  },
  {
   "cell_type": "code",
   "execution_count": 163,
   "metadata": {},
   "outputs": [
    {
     "name": "stdout",
     "output_type": "stream",
     "text": [
      "The best parameters are {'max_depth': 8, 'n_estimators': 100} with a score of %0.7496006389776357\n",
      "It took the following time to complete this task: 0:08:04.365694\n"
     ]
    }
   ],
   "source": [
    "start = datetime.now()\n",
    "rfc = RandomForestClassifier()\n",
    "parameters = {'n_estimators':[10, 100, 1000, 10000], 'max_depth':[2,4,6,8,10]}\n",
    "grid = GridSearchCV(rfc, parameters)\n",
    "grid.fit(X1, y)\n",
    "predicted = grid.predict(X1_test)\n",
    "print(\"The best parameters are {} with a score of %{}\".format(grid.best_params_, grid.best_score_))\n",
    "\n",
    "#Put those parameters in a dictionary to call.\n",
    "parameters = grid.best_params_\n",
    "print('It took the following time to complete this task:', datetime.now() - start)"
   ]
  },
  {
   "cell_type": "code",
   "execution_count": 164,
   "metadata": {},
   "outputs": [
    {
     "name": "stdout",
     "output_type": "stream",
     "text": [
      "                        Accuracy\n",
      "PCA Training            0.730831\n",
      "PCA Test                0.706645\n",
      "RFECV Training          0.751597\n",
      "RFECV Test              0.736629\n",
      "Random Forest Training  0.734026\n",
      "Random Forest Test      0.734198\n",
      "\n",
      "Cross Validation Score with 5 folds with PCA:\n",
      "[ 0.6752988   0.69920319  0.686       0.668       0.712     ]\n",
      "\n",
      "Cross Validation Score with 5 folds with RFECV:\n",
      "[ 0.74501992  0.78286853  0.724       0.736       0.74      ]\n",
      "\n",
      "Cross Validation Score with 5 folds with Random Forest:\n",
      "[ 0.7250996   0.77290837  0.69        0.734       0.74      ]\n",
      "It took the following time to complete this task: 0:00:03.943438\n"
     ]
    }
   ],
   "source": [
    "start = datetime.now()\n",
    "#Now let's model with Random Forest\n",
    "rfc = RandomForestClassifier(n_estimators=parameters['n_estimators'], criterion='gini', \n",
    "                             max_depth=parameters['max_depth'], min_samples_split=2, \n",
    "                             min_samples_leaf=1, min_weight_fraction_leaf=0.0, max_features='auto', \n",
    "                             max_leaf_nodes=2, min_impurity_decrease=0.0, min_impurity_split=None, \n",
    "                             bootstrap=True, oob_score=False, n_jobs=1, random_state=None, verbose=0, \n",
    "                             warm_start=False, class_weight=None)\n",
    "\n",
    "testing_func(rfc)\n",
    "\n",
    "print('It took the following time to complete this task:', datetime.now() - start)"
   ]
  },
  {
   "cell_type": "code",
   "execution_count": 165,
   "metadata": {},
   "outputs": [
    {
     "name": "stdout",
     "output_type": "stream",
     "text": [
      "The best parameters are {'learning_rate': 0.75, 'max_depth': 2, 'n_estimators': 10} with a score of %0.7440095846645367\n",
      "It took the following time to complete this task: 0:00:24.125712\n"
     ]
    }
   ],
   "source": [
    "start = datetime.now()\n",
    "clf = GradientBoostingClassifier()\n",
    "parameters = {'n_estimators':[1, 10, 100], 'learning_rate': [0.1, 0.25, 0.5, 0.75, 1.0],\n",
    "              'max_depth':[2,4,6,8,10]}\n",
    "grid = GridSearchCV(clf, parameters)\n",
    "grid.fit(X1, y)\n",
    "predicted = grid.predict(X1_test)\n",
    "print(\"The best parameters are {} with a score of %{}\".format(grid.best_params_, grid.best_score_))\n",
    "\n",
    "#Put those parameters in a dictionary to call.\n",
    "parameters = grid.best_params_\n",
    "print('It took the following time to complete this task:', datetime.now() - start)"
   ]
  },
  {
   "cell_type": "code",
   "execution_count": 166,
   "metadata": {},
   "outputs": [
    {
     "name": "stdout",
     "output_type": "stream",
     "text": [
      "                        Accuracy\n",
      "PCA Training            0.755591\n",
      "PCA Test                0.764992\n",
      "RFECV Training          0.780751\n",
      "RFECV Test              0.779579\n",
      "Random Forest Training  0.773962\n",
      "Random Forest Test      0.791734\n",
      "\n",
      "Cross Validation Score with 5 folds with PCA:\n",
      "[ 0.73306773  0.76095618  0.706       0.726       0.714     ]\n",
      "\n",
      "Cross Validation Score with 5 folds with RFECV:\n",
      "[ 0.76095618  0.78884462  0.75        0.758       0.792     ]\n",
      "\n",
      "Cross Validation Score with 5 folds with Random Forest:\n",
      "[ 0.71912351  0.79482072  0.74        0.76        0.786     ]\n",
      "It took the following time to complete this task: 0:00:00.345133\n"
     ]
    }
   ],
   "source": [
    "start = datetime.now()\n",
    "#Now let's model with Gradient Boosting\n",
    "clf = GradientBoostingClassifier(loss='exponential', learning_rate=parameters['learning_rate'], \n",
    "                                 n_estimators=parameters['n_estimators'], subsample=0.75, \n",
    "                                 criterion='friedman_mse', min_samples_split=4, min_samples_leaf=1, \n",
    "                                 min_weight_fraction_leaf=0.0, max_depth=parameters['max_depth'])\n",
    "\n",
    "testing_func(clf)\n",
    "\n",
    "print('It took the following time to complete this task:', datetime.now() - start)"
   ]
  },
  {
   "cell_type": "code",
   "execution_count": 167,
   "metadata": {},
   "outputs": [
    {
     "data": {
      "text/html": [
       "<div>\n",
       "<style>\n",
       "    .dataframe thead tr:only-child th {\n",
       "        text-align: right;\n",
       "    }\n",
       "\n",
       "    .dataframe thead th {\n",
       "        text-align: left;\n",
       "    }\n",
       "\n",
       "    .dataframe tbody tr th {\n",
       "        vertical-align: top;\n",
       "    }\n",
       "</style>\n",
       "<table border=\"1\" class=\"dataframe\">\n",
       "  <thead>\n",
       "    <tr style=\"text-align: right;\">\n",
       "      <th></th>\n",
       "      <th>Model</th>\n",
       "      <th>Feature Selection</th>\n",
       "      <th>CV Fold 1</th>\n",
       "      <th>CV Fold 2</th>\n",
       "      <th>CV Fold 3</th>\n",
       "      <th>CV Fold 4</th>\n",
       "      <th>CV Fold 5</th>\n",
       "      <th>Test Score</th>\n",
       "      <th>Train Score</th>\n",
       "      <th>CV Mean</th>\n",
       "    </tr>\n",
       "  </thead>\n",
       "  <tbody>\n",
       "    <tr>\n",
       "      <th>0</th>\n",
       "      <td>Logistic Regression</td>\n",
       "      <td>PCA</td>\n",
       "      <td>0.737052</td>\n",
       "      <td>0.766932</td>\n",
       "      <td>0.706</td>\n",
       "      <td>0.718</td>\n",
       "      <td>0.744</td>\n",
       "      <td>0.735818</td>\n",
       "      <td>0.733626</td>\n",
       "      <td>0.734397</td>\n",
       "    </tr>\n",
       "    <tr>\n",
       "      <th>1</th>\n",
       "      <td>Logistic Regression</td>\n",
       "      <td>RFECV</td>\n",
       "      <td>0.758964</td>\n",
       "      <td>0.800797</td>\n",
       "      <td>0.752</td>\n",
       "      <td>0.766</td>\n",
       "      <td>0.814</td>\n",
       "      <td>0.781199</td>\n",
       "      <td>0.785942</td>\n",
       "      <td>0.778352</td>\n",
       "    </tr>\n",
       "    <tr>\n",
       "      <th>2</th>\n",
       "      <td>Logistic Regression</td>\n",
       "      <td>Random Forest</td>\n",
       "      <td>0.739044</td>\n",
       "      <td>0.794821</td>\n",
       "      <td>0.744</td>\n",
       "      <td>0.774</td>\n",
       "      <td>0.774</td>\n",
       "      <td>0.769854</td>\n",
       "      <td>0.766374</td>\n",
       "      <td>0.765173</td>\n",
       "    </tr>\n",
       "    <tr>\n",
       "      <th>3</th>\n",
       "      <td>Lasso Regression</td>\n",
       "      <td>PCA</td>\n",
       "      <td>0.735060</td>\n",
       "      <td>0.766932</td>\n",
       "      <td>0.706</td>\n",
       "      <td>0.720</td>\n",
       "      <td>0.744</td>\n",
       "      <td>0.737439</td>\n",
       "      <td>0.733626</td>\n",
       "      <td>0.734398</td>\n",
       "    </tr>\n",
       "    <tr>\n",
       "      <th>4</th>\n",
       "      <td>Lasso Regression</td>\n",
       "      <td>RFECV</td>\n",
       "      <td>0.758964</td>\n",
       "      <td>0.806773</td>\n",
       "      <td>0.754</td>\n",
       "      <td>0.762</td>\n",
       "      <td>0.816</td>\n",
       "      <td>0.780389</td>\n",
       "      <td>0.784744</td>\n",
       "      <td>0.779547</td>\n",
       "    </tr>\n",
       "    <tr>\n",
       "      <th>5</th>\n",
       "      <td>Lasso Regression</td>\n",
       "      <td>Random Forest</td>\n",
       "      <td>0.737052</td>\n",
       "      <td>0.790837</td>\n",
       "      <td>0.748</td>\n",
       "      <td>0.772</td>\n",
       "      <td>0.774</td>\n",
       "      <td>0.769044</td>\n",
       "      <td>0.766374</td>\n",
       "      <td>0.764378</td>\n",
       "    </tr>\n",
       "    <tr>\n",
       "      <th>6</th>\n",
       "      <td>Ridge Regression</td>\n",
       "      <td>PCA</td>\n",
       "      <td>0.737052</td>\n",
       "      <td>0.766932</td>\n",
       "      <td>0.706</td>\n",
       "      <td>0.718</td>\n",
       "      <td>0.744</td>\n",
       "      <td>0.735818</td>\n",
       "      <td>0.733626</td>\n",
       "      <td>0.734397</td>\n",
       "    </tr>\n",
       "    <tr>\n",
       "      <th>7</th>\n",
       "      <td>Ridge Regression</td>\n",
       "      <td>RFECV</td>\n",
       "      <td>0.758964</td>\n",
       "      <td>0.804781</td>\n",
       "      <td>0.756</td>\n",
       "      <td>0.762</td>\n",
       "      <td>0.816</td>\n",
       "      <td>0.780389</td>\n",
       "      <td>0.785543</td>\n",
       "      <td>0.779549</td>\n",
       "    </tr>\n",
       "    <tr>\n",
       "      <th>8</th>\n",
       "      <td>Ridge Regression</td>\n",
       "      <td>Random Forest</td>\n",
       "      <td>0.739044</td>\n",
       "      <td>0.790837</td>\n",
       "      <td>0.748</td>\n",
       "      <td>0.770</td>\n",
       "      <td>0.770</td>\n",
       "      <td>0.769044</td>\n",
       "      <td>0.766773</td>\n",
       "      <td>0.763576</td>\n",
       "    </tr>\n",
       "    <tr>\n",
       "      <th>9</th>\n",
       "      <td>KNN</td>\n",
       "      <td>PCA</td>\n",
       "      <td>0.699203</td>\n",
       "      <td>0.715139</td>\n",
       "      <td>0.698</td>\n",
       "      <td>0.694</td>\n",
       "      <td>0.722</td>\n",
       "      <td>0.767423</td>\n",
       "      <td>0.766374</td>\n",
       "      <td>0.705669</td>\n",
       "    </tr>\n",
       "    <tr>\n",
       "      <th>10</th>\n",
       "      <td>KNN</td>\n",
       "      <td>RFECV</td>\n",
       "      <td>0.719124</td>\n",
       "      <td>0.768924</td>\n",
       "      <td>0.710</td>\n",
       "      <td>0.750</td>\n",
       "      <td>0.786</td>\n",
       "      <td>0.802269</td>\n",
       "      <td>0.799920</td>\n",
       "      <td>0.746810</td>\n",
       "    </tr>\n",
       "    <tr>\n",
       "      <th>11</th>\n",
       "      <td>KNN</td>\n",
       "      <td>Random Forest</td>\n",
       "      <td>0.697211</td>\n",
       "      <td>0.715139</td>\n",
       "      <td>0.698</td>\n",
       "      <td>0.694</td>\n",
       "      <td>0.724</td>\n",
       "      <td>0.767423</td>\n",
       "      <td>0.766773</td>\n",
       "      <td>0.705670</td>\n",
       "    </tr>\n",
       "    <tr>\n",
       "      <th>12</th>\n",
       "      <td>SVC</td>\n",
       "      <td>PCA</td>\n",
       "      <td>0.717131</td>\n",
       "      <td>0.756972</td>\n",
       "      <td>0.724</td>\n",
       "      <td>0.672</td>\n",
       "      <td>0.690</td>\n",
       "      <td>0.935170</td>\n",
       "      <td>0.912540</td>\n",
       "      <td>0.712021</td>\n",
       "    </tr>\n",
       "    <tr>\n",
       "      <th>13</th>\n",
       "      <td>SVC</td>\n",
       "      <td>RFECV</td>\n",
       "      <td>0.735060</td>\n",
       "      <td>0.766932</td>\n",
       "      <td>0.722</td>\n",
       "      <td>0.772</td>\n",
       "      <td>0.770</td>\n",
       "      <td>0.762561</td>\n",
       "      <td>0.772364</td>\n",
       "      <td>0.753198</td>\n",
       "    </tr>\n",
       "    <tr>\n",
       "      <th>14</th>\n",
       "      <td>SVC</td>\n",
       "      <td>Random Forest</td>\n",
       "      <td>0.717131</td>\n",
       "      <td>0.756972</td>\n",
       "      <td>0.724</td>\n",
       "      <td>0.672</td>\n",
       "      <td>0.692</td>\n",
       "      <td>0.935170</td>\n",
       "      <td>0.912939</td>\n",
       "      <td>0.712421</td>\n",
       "    </tr>\n",
       "    <tr>\n",
       "      <th>15</th>\n",
       "      <td>Decision Tree</td>\n",
       "      <td>PCA</td>\n",
       "      <td>0.733068</td>\n",
       "      <td>0.743028</td>\n",
       "      <td>0.706</td>\n",
       "      <td>0.724</td>\n",
       "      <td>0.752</td>\n",
       "      <td>0.761750</td>\n",
       "      <td>0.743610</td>\n",
       "      <td>0.731619</td>\n",
       "    </tr>\n",
       "    <tr>\n",
       "      <th>16</th>\n",
       "      <td>Decision Tree</td>\n",
       "      <td>RFECV</td>\n",
       "      <td>0.735060</td>\n",
       "      <td>0.760956</td>\n",
       "      <td>0.736</td>\n",
       "      <td>0.746</td>\n",
       "      <td>0.764</td>\n",
       "      <td>0.767423</td>\n",
       "      <td>0.755192</td>\n",
       "      <td>0.748403</td>\n",
       "    </tr>\n",
       "    <tr>\n",
       "      <th>17</th>\n",
       "      <td>Decision Tree</td>\n",
       "      <td>Random Forest</td>\n",
       "      <td>0.729084</td>\n",
       "      <td>0.760956</td>\n",
       "      <td>0.722</td>\n",
       "      <td>0.744</td>\n",
       "      <td>0.768</td>\n",
       "      <td>0.767423</td>\n",
       "      <td>0.753994</td>\n",
       "      <td>0.744808</td>\n",
       "    </tr>\n",
       "    <tr>\n",
       "      <th>18</th>\n",
       "      <td>Random Forest</td>\n",
       "      <td>PCA</td>\n",
       "      <td>0.675299</td>\n",
       "      <td>0.699203</td>\n",
       "      <td>0.686</td>\n",
       "      <td>0.668</td>\n",
       "      <td>0.712</td>\n",
       "      <td>0.706645</td>\n",
       "      <td>0.730831</td>\n",
       "      <td>0.688100</td>\n",
       "    </tr>\n",
       "    <tr>\n",
       "      <th>19</th>\n",
       "      <td>Random Forest</td>\n",
       "      <td>RFECV</td>\n",
       "      <td>0.745020</td>\n",
       "      <td>0.782869</td>\n",
       "      <td>0.724</td>\n",
       "      <td>0.736</td>\n",
       "      <td>0.740</td>\n",
       "      <td>0.736629</td>\n",
       "      <td>0.751597</td>\n",
       "      <td>0.745578</td>\n",
       "    </tr>\n",
       "    <tr>\n",
       "      <th>20</th>\n",
       "      <td>Random Forest</td>\n",
       "      <td>Random Forest</td>\n",
       "      <td>0.725100</td>\n",
       "      <td>0.772908</td>\n",
       "      <td>0.690</td>\n",
       "      <td>0.734</td>\n",
       "      <td>0.740</td>\n",
       "      <td>0.734198</td>\n",
       "      <td>0.734026</td>\n",
       "      <td>0.732402</td>\n",
       "    </tr>\n",
       "    <tr>\n",
       "      <th>21</th>\n",
       "      <td>Gradient Booster</td>\n",
       "      <td>PCA</td>\n",
       "      <td>0.733068</td>\n",
       "      <td>0.760956</td>\n",
       "      <td>0.706</td>\n",
       "      <td>0.726</td>\n",
       "      <td>0.714</td>\n",
       "      <td>0.764992</td>\n",
       "      <td>0.755591</td>\n",
       "      <td>0.728005</td>\n",
       "    </tr>\n",
       "    <tr>\n",
       "      <th>22</th>\n",
       "      <td>Gradient Booster</td>\n",
       "      <td>RFECV</td>\n",
       "      <td>0.760956</td>\n",
       "      <td>0.788845</td>\n",
       "      <td>0.750</td>\n",
       "      <td>0.758</td>\n",
       "      <td>0.792</td>\n",
       "      <td>0.779579</td>\n",
       "      <td>0.780751</td>\n",
       "      <td>0.769960</td>\n",
       "    </tr>\n",
       "    <tr>\n",
       "      <th>23</th>\n",
       "      <td>Gradient Booster</td>\n",
       "      <td>Random Forest</td>\n",
       "      <td>0.719124</td>\n",
       "      <td>0.794821</td>\n",
       "      <td>0.740</td>\n",
       "      <td>0.760</td>\n",
       "      <td>0.786</td>\n",
       "      <td>0.791734</td>\n",
       "      <td>0.773962</td>\n",
       "      <td>0.759989</td>\n",
       "    </tr>\n",
       "  </tbody>\n",
       "</table>\n",
       "</div>"
      ],
      "text/plain": [
       "                  Model Feature Selection  CV Fold 1  CV Fold 2  CV Fold 3  \\\n",
       "0   Logistic Regression               PCA   0.737052   0.766932      0.706   \n",
       "1   Logistic Regression             RFECV   0.758964   0.800797      0.752   \n",
       "2   Logistic Regression     Random Forest   0.739044   0.794821      0.744   \n",
       "3      Lasso Regression               PCA   0.735060   0.766932      0.706   \n",
       "4      Lasso Regression             RFECV   0.758964   0.806773      0.754   \n",
       "5      Lasso Regression     Random Forest   0.737052   0.790837      0.748   \n",
       "6      Ridge Regression               PCA   0.737052   0.766932      0.706   \n",
       "7      Ridge Regression             RFECV   0.758964   0.804781      0.756   \n",
       "8      Ridge Regression     Random Forest   0.739044   0.790837      0.748   \n",
       "9                   KNN               PCA   0.699203   0.715139      0.698   \n",
       "10                  KNN             RFECV   0.719124   0.768924      0.710   \n",
       "11                  KNN     Random Forest   0.697211   0.715139      0.698   \n",
       "12                  SVC               PCA   0.717131   0.756972      0.724   \n",
       "13                  SVC             RFECV   0.735060   0.766932      0.722   \n",
       "14                  SVC     Random Forest   0.717131   0.756972      0.724   \n",
       "15        Decision Tree               PCA   0.733068   0.743028      0.706   \n",
       "16        Decision Tree             RFECV   0.735060   0.760956      0.736   \n",
       "17        Decision Tree     Random Forest   0.729084   0.760956      0.722   \n",
       "18        Random Forest               PCA   0.675299   0.699203      0.686   \n",
       "19        Random Forest             RFECV   0.745020   0.782869      0.724   \n",
       "20        Random Forest     Random Forest   0.725100   0.772908      0.690   \n",
       "21     Gradient Booster               PCA   0.733068   0.760956      0.706   \n",
       "22     Gradient Booster             RFECV   0.760956   0.788845      0.750   \n",
       "23     Gradient Booster     Random Forest   0.719124   0.794821      0.740   \n",
       "\n",
       "    CV Fold 4  CV Fold 5  Test Score  Train Score   CV Mean  \n",
       "0       0.718      0.744    0.735818     0.733626  0.734397  \n",
       "1       0.766      0.814    0.781199     0.785942  0.778352  \n",
       "2       0.774      0.774    0.769854     0.766374  0.765173  \n",
       "3       0.720      0.744    0.737439     0.733626  0.734398  \n",
       "4       0.762      0.816    0.780389     0.784744  0.779547  \n",
       "5       0.772      0.774    0.769044     0.766374  0.764378  \n",
       "6       0.718      0.744    0.735818     0.733626  0.734397  \n",
       "7       0.762      0.816    0.780389     0.785543  0.779549  \n",
       "8       0.770      0.770    0.769044     0.766773  0.763576  \n",
       "9       0.694      0.722    0.767423     0.766374  0.705669  \n",
       "10      0.750      0.786    0.802269     0.799920  0.746810  \n",
       "11      0.694      0.724    0.767423     0.766773  0.705670  \n",
       "12      0.672      0.690    0.935170     0.912540  0.712021  \n",
       "13      0.772      0.770    0.762561     0.772364  0.753198  \n",
       "14      0.672      0.692    0.935170     0.912939  0.712421  \n",
       "15      0.724      0.752    0.761750     0.743610  0.731619  \n",
       "16      0.746      0.764    0.767423     0.755192  0.748403  \n",
       "17      0.744      0.768    0.767423     0.753994  0.744808  \n",
       "18      0.668      0.712    0.706645     0.730831  0.688100  \n",
       "19      0.736      0.740    0.736629     0.751597  0.745578  \n",
       "20      0.734      0.740    0.734198     0.734026  0.732402  \n",
       "21      0.726      0.714    0.764992     0.755591  0.728005  \n",
       "22      0.758      0.792    0.779579     0.780751  0.769960  \n",
       "23      0.760      0.786    0.791734     0.773962  0.759989  "
      ]
     },
     "execution_count": 167,
     "metadata": {},
     "output_type": "execute_result"
    }
   ],
   "source": [
    "\n",
    "results2 = pd.DataFrame({'Train Score': Train_Score, 'Test Score': Test_Score, 'CV Fold 1': fold1,\n",
    "                            'CV Fold 2': fold2, 'CV Fold 3': fold3, 'CV Fold 4': fold4, 'CV Fold 5': fold5})\n",
    "results2['CV Mean'] = (results2['CV Fold 1'] + results2['CV Fold 2'] + results2['CV Fold 3'] + results2['CV Fold 4'] +\n",
    "                       results2['CV Fold 5']) / 5\n",
    "results = pd.concat([results, results2], axis=1)\n",
    "\n",
    "results.head(24)"
   ]
  },
  {
   "cell_type": "code",
   "execution_count": 168,
   "metadata": {},
   "outputs": [
    {
     "data": {
      "image/png": "[encoded data removed]",
      "text/plain": [
       "<matplotlib.figure.Figure at 0x11a6dfe48>"
      ]
     },
     "metadata": {},
     "output_type": "display_data"
    }
   ],
   "source": [
    "x = results['Test Score']\n",
    "y = results['CV Mean']\n",
    "plt.xlabel('Test Score')\n",
    "plt.ylabel('Mean of Cross Validation Results')\n",
    "plt.scatter(x, y)\n",
    "plt.show()"
   ]
  },
  {
   "cell_type": "code",
   "execution_count": 169,
   "metadata": {},
   "outputs": [
    {
     "data": {
      "text/html": [
       "<div>\n",
       "<style>\n",
       "    .dataframe thead tr:only-child th {\n",
       "        text-align: right;\n",
       "    }\n",
       "\n",
       "    .dataframe thead th {\n",
       "        text-align: left;\n",
       "    }\n",
       "\n",
       "    .dataframe tbody tr th {\n",
       "        vertical-align: top;\n",
       "    }\n",
       "</style>\n",
       "<table border=\"1\" class=\"dataframe\">\n",
       "  <thead>\n",
       "    <tr style=\"text-align: right;\">\n",
       "      <th></th>\n",
       "      <th>CV Fold 1</th>\n",
       "      <th>CV Fold 2</th>\n",
       "      <th>CV Fold 3</th>\n",
       "      <th>CV Fold 4</th>\n",
       "      <th>CV Fold 5</th>\n",
       "      <th>Test Score</th>\n",
       "      <th>Train Score</th>\n",
       "      <th>CV Mean</th>\n",
       "    </tr>\n",
       "  </thead>\n",
       "  <tbody>\n",
       "    <tr>\n",
       "      <th>count</th>\n",
       "      <td>24.000000</td>\n",
       "      <td>24.000000</td>\n",
       "      <td>24.000000</td>\n",
       "      <td>24.000000</td>\n",
       "      <td>24.000000</td>\n",
       "      <td>24.000000</td>\n",
       "      <td>24.000000</td>\n",
       "      <td>24.000000</td>\n",
       "    </tr>\n",
       "    <tr>\n",
       "      <th>mean</th>\n",
       "      <td>0.730910</td>\n",
       "      <td>0.768094</td>\n",
       "      <td>0.723167</td>\n",
       "      <td>0.733833</td>\n",
       "      <td>0.756167</td>\n",
       "      <td>0.776641</td>\n",
       "      <td>0.773629</td>\n",
       "      <td>0.742434</td>\n",
       "    </tr>\n",
       "    <tr>\n",
       "      <th>std</th>\n",
       "      <td>0.020534</td>\n",
       "      <td>0.028312</td>\n",
       "      <td>0.021964</td>\n",
       "      <td>0.033781</td>\n",
       "      <td>0.036236</td>\n",
       "      <td>0.053338</td>\n",
       "      <td>0.046976</td>\n",
       "      <td>0.025404</td>\n",
       "    </tr>\n",
       "    <tr>\n",
       "      <th>min</th>\n",
       "      <td>0.675299</td>\n",
       "      <td>0.699203</td>\n",
       "      <td>0.686000</td>\n",
       "      <td>0.668000</td>\n",
       "      <td>0.690000</td>\n",
       "      <td>0.706645</td>\n",
       "      <td>0.730831</td>\n",
       "      <td>0.688100</td>\n",
       "    </tr>\n",
       "    <tr>\n",
       "      <th>25%</th>\n",
       "      <td>0.719124</td>\n",
       "      <td>0.759960</td>\n",
       "      <td>0.706000</td>\n",
       "      <td>0.718000</td>\n",
       "      <td>0.736000</td>\n",
       "      <td>0.755673</td>\n",
       "      <td>0.749601</td>\n",
       "      <td>0.730716</td>\n",
       "    </tr>\n",
       "    <tr>\n",
       "      <th>50%</th>\n",
       "      <td>0.735060</td>\n",
       "      <td>0.766932</td>\n",
       "      <td>0.723000</td>\n",
       "      <td>0.740000</td>\n",
       "      <td>0.758000</td>\n",
       "      <td>0.767423</td>\n",
       "      <td>0.766374</td>\n",
       "      <td>0.745193</td>\n",
       "    </tr>\n",
       "    <tr>\n",
       "      <th>75%</th>\n",
       "      <td>0.739044</td>\n",
       "      <td>0.790837</td>\n",
       "      <td>0.745000</td>\n",
       "      <td>0.762000</td>\n",
       "      <td>0.777000</td>\n",
       "      <td>0.780389</td>\n",
       "      <td>0.781749</td>\n",
       "      <td>0.763776</td>\n",
       "    </tr>\n",
       "    <tr>\n",
       "      <th>max</th>\n",
       "      <td>0.760956</td>\n",
       "      <td>0.806773</td>\n",
       "      <td>0.756000</td>\n",
       "      <td>0.774000</td>\n",
       "      <td>0.816000</td>\n",
       "      <td>0.935170</td>\n",
       "      <td>0.912939</td>\n",
       "      <td>0.779549</td>\n",
       "    </tr>\n",
       "  </tbody>\n",
       "</table>\n",
       "</div>"
      ],
      "text/plain": [
       "       CV Fold 1  CV Fold 2  CV Fold 3  CV Fold 4  CV Fold 5  Test Score  \\\n",
       "count  24.000000  24.000000  24.000000  24.000000  24.000000   24.000000   \n",
       "mean    0.730910   0.768094   0.723167   0.733833   0.756167    0.776641   \n",
       "std     0.020534   0.028312   0.021964   0.033781   0.036236    0.053338   \n",
       "min     0.675299   0.699203   0.686000   0.668000   0.690000    0.706645   \n",
       "25%     0.719124   0.759960   0.706000   0.718000   0.736000    0.755673   \n",
       "50%     0.735060   0.766932   0.723000   0.740000   0.758000    0.767423   \n",
       "75%     0.739044   0.790837   0.745000   0.762000   0.777000    0.780389   \n",
       "max     0.760956   0.806773   0.756000   0.774000   0.816000    0.935170   \n",
       "\n",
       "       Train Score    CV Mean  \n",
       "count    24.000000  24.000000  \n",
       "mean      0.773629   0.742434  \n",
       "std       0.046976   0.025404  \n",
       "min       0.730831   0.688100  \n",
       "25%       0.749601   0.730716  \n",
       "50%       0.766374   0.745193  \n",
       "75%       0.781749   0.763776  \n",
       "max       0.912939   0.779549  "
      ]
     },
     "execution_count": 169,
     "metadata": {},
     "output_type": "execute_result"
    }
   ],
   "source": [
    "results.describe()"
   ]
  }
 ],
 "metadata": {
  "kernelspec": {
   "display_name": "Python 3",
   "language": "python",
   "name": "python3"
  },
  "language_info": {
   "codemirror_mode": {
    "name": "ipython",
    "version": 3
   },
   "file_extension": ".py",
   "mimetype": "text/x-python",
   "name": "python",
   "nbconvert_exporter": "python",
   "pygments_lexer": "ipython3",
   "version": "3.6.1"
  }
 },
 "nbformat": 4,
 "nbformat_minor": 2
}
