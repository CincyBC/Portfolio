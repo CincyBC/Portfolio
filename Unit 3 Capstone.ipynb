{
 "cells": [
  {
   "cell_type": "markdown",
   "metadata": {
    "collapsed": true
   },
   "source": [
    "# Unit 3 Capstone\n",
    "Bryan Corder<br>\n",
    "Mentor: Hoa Tran\n",
    "\n",
    "## Introduction\n",
    "\n",
    "For those in sales, one of the ways data science can provide actionable insights is through isolating reasons for customer churn. IBM has a data set on customer churn in the telecoms industry that prospective customers of IBM can use to see the power of their deep learning software Watson. The problem with these unsupervised learning methods is that while they provide good accuracy on predicting whether a customer will leave or not, they do not provide much insight in regards to the reasons why customers stay or go. Supervised Learning methods have the ability to provide such insights with their labelled data and through feature selection. The below project aims to gather insights in the IBM churn data set through feature selection and testing these features through various supervised learning models. "
   ]
  },
  {
   "cell_type": "markdown",
   "metadata": {},
   "source": [
    "## Data Set\n",
    "\n",
    "The IBM data contains the following features: <br>\n",
    "Customer ID = The key for the data. <br>\n",
    "Gender = Male or Female (Categorical, binary)<br>\n",
    "Senior Citizen = 0 (No) or 1 (Yes) (Categorical, binary)<br>\n",
    "Dependents = No or Yes (Categorical, binary)<br>\n",
    "Tenure = How long they have been a customer (Numerical, discrete)<br>\n",
    "Phone Service = No or Yes (Categorical, binary)<br>\n",
    "Multiple Lines = No, Yes, or 'No Phone Service' (Categorical)<br>\n",
    "Internet Service = DSL, Fiber Optic, or No (Categorical)<br>\n",
    "Online Security = No internet service, No, or Yes (Categorical)<br>\n",
    "Online Backup = No internet service, No, or Yes (Categorical)<br>\n",
    "Device Protection = No internet service, No, or Yes (Categorical) <br>\n",
    "Tech Support = No internet service, No, or Yes (Categorical) <br>\n",
    "Streaming TV = No internet service, No, or Yes (Categorical)<br> \n",
    "Streaming Movies = No internet service, No, or Yes (Categorical)<br>\n",
    "Contract = Month-to-month, One year, or Two year (Categorical)<br>\n",
    "Paperless Billing = No or Yes (Categorical, binary)<br>\n",
    "PaymentMethod = Electronic check, Mailed check, Bank transfer (automatic), or Credit card (automatic) (Categorical)<br>\n",
    "Monthly Charges = How much the customer pays per month (Numerical, continuous)<br>\n",
    "Total Charges = How much the customer pays annually (Numerical, continuous)<br>\n",
    "Churn = Whether the customer stayed (= 0) or left (= 1) (Categorical, binary)<br>\n"
   ]
  },
  {
   "cell_type": "markdown",
   "metadata": {},
   "source": [
    "## Data Import and Cleaning"
   ]
  },
  {
   "cell_type": "code",
   "execution_count": 163,
   "metadata": {
    "collapsed": true
   },
   "outputs": [],
   "source": [
    "import numpy as np\n",
    "import pandas as pd\n",
    "import matplotlib.pyplot as plt\n",
    "import seaborn as sns\n",
    "from sklearn.utils import resample\n",
    "from sklearn.model_selection import cross_val_score\n",
    "from sklearn.model_selection import train_test_split\n",
    "from sklearn.preprocessing import normalize\n",
    "from sklearn.feature_selection import RFECV\n",
    "from sklearn.decomposition import PCA\n",
    "from sklearn.pipeline import Pipeline\n",
    "from sklearn.neighbors import KNeighborsClassifier\n",
    "from sklearn.linear_model import LogisticRegression\n",
    "from sklearn.preprocessing import StandardScaler\n",
    "from sklearn.tree import DecisionTreeClassifier\n",
    "from sklearn.ensemble import RandomForestClassifier\n",
    "from sklearn.ensemble import GradientBoostingClassifier\n",
    "from sklearn.feature_selection import SelectFromModel\n",
    "from sklearn.svm import SVC\n",
    "from sklearn.model_selection import GridSearchCV\n",
    "\n",
    "from datetime import datetime\n",
    "%matplotlib inline"
   ]
  },
  {
   "cell_type": "markdown",
   "metadata": {},
   "source": [
    "First, let's import our customer churn data set and take a look at how it imports."
   ]
  },
  {
   "cell_type": "code",
   "execution_count": 164,
   "metadata": {},
   "outputs": [
    {
     "data": {
      "text/html": [
       "<div>\n",
       "<style>\n",
       "    .dataframe thead tr:only-child th {\n",
       "        text-align: right;\n",
       "    }\n",
       "\n",
       "    .dataframe thead th {\n",
       "        text-align: left;\n",
       "    }\n",
       "\n",
       "    .dataframe tbody tr th {\n",
       "        vertical-align: top;\n",
       "    }\n",
       "</style>\n",
       "<table border=\"1\" class=\"dataframe\">\n",
       "  <thead>\n",
       "    <tr style=\"text-align: right;\">\n",
       "      <th></th>\n",
       "      <th>customerID</th>\n",
       "      <th>gender</th>\n",
       "      <th>SeniorCitizen</th>\n",
       "      <th>Partner</th>\n",
       "      <th>Dependents</th>\n",
       "      <th>tenure</th>\n",
       "      <th>PhoneService</th>\n",
       "      <th>MultipleLines</th>\n",
       "      <th>InternetService</th>\n",
       "      <th>OnlineSecurity</th>\n",
       "      <th>...</th>\n",
       "      <th>DeviceProtection</th>\n",
       "      <th>TechSupport</th>\n",
       "      <th>StreamingTV</th>\n",
       "      <th>StreamingMovies</th>\n",
       "      <th>Contract</th>\n",
       "      <th>PaperlessBilling</th>\n",
       "      <th>PaymentMethod</th>\n",
       "      <th>MonthlyCharges</th>\n",
       "      <th>TotalCharges</th>\n",
       "      <th>Churn</th>\n",
       "    </tr>\n",
       "  </thead>\n",
       "  <tbody>\n",
       "    <tr>\n",
       "      <th>0</th>\n",
       "      <td>7590-VHVEG</td>\n",
       "      <td>Female</td>\n",
       "      <td>0</td>\n",
       "      <td>Yes</td>\n",
       "      <td>No</td>\n",
       "      <td>1</td>\n",
       "      <td>No</td>\n",
       "      <td>No phone service</td>\n",
       "      <td>DSL</td>\n",
       "      <td>No</td>\n",
       "      <td>...</td>\n",
       "      <td>No</td>\n",
       "      <td>No</td>\n",
       "      <td>No</td>\n",
       "      <td>No</td>\n",
       "      <td>Month-to-month</td>\n",
       "      <td>Yes</td>\n",
       "      <td>Electronic check</td>\n",
       "      <td>29.85</td>\n",
       "      <td>29.85</td>\n",
       "      <td>No</td>\n",
       "    </tr>\n",
       "    <tr>\n",
       "      <th>1</th>\n",
       "      <td>5575-GNVDE</td>\n",
       "      <td>Male</td>\n",
       "      <td>0</td>\n",
       "      <td>No</td>\n",
       "      <td>No</td>\n",
       "      <td>34</td>\n",
       "      <td>Yes</td>\n",
       "      <td>No</td>\n",
       "      <td>DSL</td>\n",
       "      <td>Yes</td>\n",
       "      <td>...</td>\n",
       "      <td>Yes</td>\n",
       "      <td>No</td>\n",
       "      <td>No</td>\n",
       "      <td>No</td>\n",
       "      <td>One year</td>\n",
       "      <td>No</td>\n",
       "      <td>Mailed check</td>\n",
       "      <td>56.95</td>\n",
       "      <td>1889.5</td>\n",
       "      <td>No</td>\n",
       "    </tr>\n",
       "    <tr>\n",
       "      <th>2</th>\n",
       "      <td>3668-QPYBK</td>\n",
       "      <td>Male</td>\n",
       "      <td>0</td>\n",
       "      <td>No</td>\n",
       "      <td>No</td>\n",
       "      <td>2</td>\n",
       "      <td>Yes</td>\n",
       "      <td>No</td>\n",
       "      <td>DSL</td>\n",
       "      <td>Yes</td>\n",
       "      <td>...</td>\n",
       "      <td>No</td>\n",
       "      <td>No</td>\n",
       "      <td>No</td>\n",
       "      <td>No</td>\n",
       "      <td>Month-to-month</td>\n",
       "      <td>Yes</td>\n",
       "      <td>Mailed check</td>\n",
       "      <td>53.85</td>\n",
       "      <td>108.15</td>\n",
       "      <td>Yes</td>\n",
       "    </tr>\n",
       "    <tr>\n",
       "      <th>3</th>\n",
       "      <td>7795-CFOCW</td>\n",
       "      <td>Male</td>\n",
       "      <td>0</td>\n",
       "      <td>No</td>\n",
       "      <td>No</td>\n",
       "      <td>45</td>\n",
       "      <td>No</td>\n",
       "      <td>No phone service</td>\n",
       "      <td>DSL</td>\n",
       "      <td>Yes</td>\n",
       "      <td>...</td>\n",
       "      <td>Yes</td>\n",
       "      <td>Yes</td>\n",
       "      <td>No</td>\n",
       "      <td>No</td>\n",
       "      <td>One year</td>\n",
       "      <td>No</td>\n",
       "      <td>Bank transfer (automatic)</td>\n",
       "      <td>42.30</td>\n",
       "      <td>1840.75</td>\n",
       "      <td>No</td>\n",
       "    </tr>\n",
       "    <tr>\n",
       "      <th>4</th>\n",
       "      <td>9237-HQITU</td>\n",
       "      <td>Female</td>\n",
       "      <td>0</td>\n",
       "      <td>No</td>\n",
       "      <td>No</td>\n",
       "      <td>2</td>\n",
       "      <td>Yes</td>\n",
       "      <td>No</td>\n",
       "      <td>Fiber optic</td>\n",
       "      <td>No</td>\n",
       "      <td>...</td>\n",
       "      <td>No</td>\n",
       "      <td>No</td>\n",
       "      <td>No</td>\n",
       "      <td>No</td>\n",
       "      <td>Month-to-month</td>\n",
       "      <td>Yes</td>\n",
       "      <td>Electronic check</td>\n",
       "      <td>70.70</td>\n",
       "      <td>151.65</td>\n",
       "      <td>Yes</td>\n",
       "    </tr>\n",
       "    <tr>\n",
       "      <th>5</th>\n",
       "      <td>9305-CDSKC</td>\n",
       "      <td>Female</td>\n",
       "      <td>0</td>\n",
       "      <td>No</td>\n",
       "      <td>No</td>\n",
       "      <td>8</td>\n",
       "      <td>Yes</td>\n",
       "      <td>Yes</td>\n",
       "      <td>Fiber optic</td>\n",
       "      <td>No</td>\n",
       "      <td>...</td>\n",
       "      <td>Yes</td>\n",
       "      <td>No</td>\n",
       "      <td>Yes</td>\n",
       "      <td>Yes</td>\n",
       "      <td>Month-to-month</td>\n",
       "      <td>Yes</td>\n",
       "      <td>Electronic check</td>\n",
       "      <td>99.65</td>\n",
       "      <td>820.5</td>\n",
       "      <td>Yes</td>\n",
       "    </tr>\n",
       "    <tr>\n",
       "      <th>6</th>\n",
       "      <td>1452-KIOVK</td>\n",
       "      <td>Male</td>\n",
       "      <td>0</td>\n",
       "      <td>No</td>\n",
       "      <td>Yes</td>\n",
       "      <td>22</td>\n",
       "      <td>Yes</td>\n",
       "      <td>Yes</td>\n",
       "      <td>Fiber optic</td>\n",
       "      <td>No</td>\n",
       "      <td>...</td>\n",
       "      <td>No</td>\n",
       "      <td>No</td>\n",
       "      <td>Yes</td>\n",
       "      <td>No</td>\n",
       "      <td>Month-to-month</td>\n",
       "      <td>Yes</td>\n",
       "      <td>Credit card (automatic)</td>\n",
       "      <td>89.10</td>\n",
       "      <td>1949.4</td>\n",
       "      <td>No</td>\n",
       "    </tr>\n",
       "    <tr>\n",
       "      <th>7</th>\n",
       "      <td>6713-OKOMC</td>\n",
       "      <td>Female</td>\n",
       "      <td>0</td>\n",
       "      <td>No</td>\n",
       "      <td>No</td>\n",
       "      <td>10</td>\n",
       "      <td>No</td>\n",
       "      <td>No phone service</td>\n",
       "      <td>DSL</td>\n",
       "      <td>Yes</td>\n",
       "      <td>...</td>\n",
       "      <td>No</td>\n",
       "      <td>No</td>\n",
       "      <td>No</td>\n",
       "      <td>No</td>\n",
       "      <td>Month-to-month</td>\n",
       "      <td>No</td>\n",
       "      <td>Mailed check</td>\n",
       "      <td>29.75</td>\n",
       "      <td>301.9</td>\n",
       "      <td>No</td>\n",
       "    </tr>\n",
       "    <tr>\n",
       "      <th>8</th>\n",
       "      <td>7892-POOKP</td>\n",
       "      <td>Female</td>\n",
       "      <td>0</td>\n",
       "      <td>Yes</td>\n",
       "      <td>No</td>\n",
       "      <td>28</td>\n",
       "      <td>Yes</td>\n",
       "      <td>Yes</td>\n",
       "      <td>Fiber optic</td>\n",
       "      <td>No</td>\n",
       "      <td>...</td>\n",
       "      <td>Yes</td>\n",
       "      <td>Yes</td>\n",
       "      <td>Yes</td>\n",
       "      <td>Yes</td>\n",
       "      <td>Month-to-month</td>\n",
       "      <td>Yes</td>\n",
       "      <td>Electronic check</td>\n",
       "      <td>104.80</td>\n",
       "      <td>3046.05</td>\n",
       "      <td>Yes</td>\n",
       "    </tr>\n",
       "    <tr>\n",
       "      <th>9</th>\n",
       "      <td>6388-TABGU</td>\n",
       "      <td>Male</td>\n",
       "      <td>0</td>\n",
       "      <td>No</td>\n",
       "      <td>Yes</td>\n",
       "      <td>62</td>\n",
       "      <td>Yes</td>\n",
       "      <td>No</td>\n",
       "      <td>DSL</td>\n",
       "      <td>Yes</td>\n",
       "      <td>...</td>\n",
       "      <td>No</td>\n",
       "      <td>No</td>\n",
       "      <td>No</td>\n",
       "      <td>No</td>\n",
       "      <td>One year</td>\n",
       "      <td>No</td>\n",
       "      <td>Bank transfer (automatic)</td>\n",
       "      <td>56.15</td>\n",
       "      <td>3487.95</td>\n",
       "      <td>No</td>\n",
       "    </tr>\n",
       "  </tbody>\n",
       "</table>\n",
       "<p>10 rows × 21 columns</p>\n",
       "</div>"
      ],
      "text/plain": [
       "   customerID  gender  SeniorCitizen Partner Dependents  tenure PhoneService  \\\n",
       "0  7590-VHVEG  Female              0     Yes         No       1           No   \n",
       "1  5575-GNVDE    Male              0      No         No      34          Yes   \n",
       "2  3668-QPYBK    Male              0      No         No       2          Yes   \n",
       "3  7795-CFOCW    Male              0      No         No      45           No   \n",
       "4  9237-HQITU  Female              0      No         No       2          Yes   \n",
       "5  9305-CDSKC  Female              0      No         No       8          Yes   \n",
       "6  1452-KIOVK    Male              0      No        Yes      22          Yes   \n",
       "7  6713-OKOMC  Female              0      No         No      10           No   \n",
       "8  7892-POOKP  Female              0     Yes         No      28          Yes   \n",
       "9  6388-TABGU    Male              0      No        Yes      62          Yes   \n",
       "\n",
       "      MultipleLines InternetService OnlineSecurity  ...  DeviceProtection  \\\n",
       "0  No phone service             DSL             No  ...                No   \n",
       "1                No             DSL            Yes  ...               Yes   \n",
       "2                No             DSL            Yes  ...                No   \n",
       "3  No phone service             DSL            Yes  ...               Yes   \n",
       "4                No     Fiber optic             No  ...                No   \n",
       "5               Yes     Fiber optic             No  ...               Yes   \n",
       "6               Yes     Fiber optic             No  ...                No   \n",
       "7  No phone service             DSL            Yes  ...                No   \n",
       "8               Yes     Fiber optic             No  ...               Yes   \n",
       "9                No             DSL            Yes  ...                No   \n",
       "\n",
       "  TechSupport StreamingTV StreamingMovies        Contract PaperlessBilling  \\\n",
       "0          No          No              No  Month-to-month              Yes   \n",
       "1          No          No              No        One year               No   \n",
       "2          No          No              No  Month-to-month              Yes   \n",
       "3         Yes          No              No        One year               No   \n",
       "4          No          No              No  Month-to-month              Yes   \n",
       "5          No         Yes             Yes  Month-to-month              Yes   \n",
       "6          No         Yes              No  Month-to-month              Yes   \n",
       "7          No          No              No  Month-to-month               No   \n",
       "8         Yes         Yes             Yes  Month-to-month              Yes   \n",
       "9          No          No              No        One year               No   \n",
       "\n",
       "               PaymentMethod MonthlyCharges  TotalCharges Churn  \n",
       "0           Electronic check          29.85         29.85    No  \n",
       "1               Mailed check          56.95        1889.5    No  \n",
       "2               Mailed check          53.85        108.15   Yes  \n",
       "3  Bank transfer (automatic)          42.30       1840.75    No  \n",
       "4           Electronic check          70.70        151.65   Yes  \n",
       "5           Electronic check          99.65         820.5   Yes  \n",
       "6    Credit card (automatic)          89.10        1949.4    No  \n",
       "7               Mailed check          29.75         301.9    No  \n",
       "8           Electronic check         104.80       3046.05   Yes  \n",
       "9  Bank transfer (automatic)          56.15       3487.95    No  \n",
       "\n",
       "[10 rows x 21 columns]"
      ]
     },
     "execution_count": 164,
     "metadata": {},
     "output_type": "execute_result"
    }
   ],
   "source": [
    "main_start = datetime.now()\n",
    "raw_data = pd.read_csv('WA_Fn-UseC_-Telco-Customer-Churn.csv')\n",
    "\n",
    "raw_data.head(10)"
   ]
  },
  {
   "cell_type": "code",
   "execution_count": 165,
   "metadata": {},
   "outputs": [
    {
     "data": {
      "text/plain": [
       "gender               object\n",
       "SeniorCitizen         int64\n",
       "Partner              object\n",
       "Dependents           object\n",
       "tenure                int64\n",
       "PhoneService         object\n",
       "MultipleLines        object\n",
       "InternetService      object\n",
       "OnlineSecurity       object\n",
       "OnlineBackup         object\n",
       "DeviceProtection     object\n",
       "TechSupport          object\n",
       "StreamingTV          object\n",
       "StreamingMovies      object\n",
       "Contract             object\n",
       "PaperlessBilling     object\n",
       "PaymentMethod        object\n",
       "MonthlyCharges      float64\n",
       "TotalCharges         object\n",
       "Churn                object\n",
       "dtype: object"
      ]
     },
     "execution_count": 165,
     "metadata": {},
     "output_type": "execute_result"
    }
   ],
   "source": [
    "# Let's take a look at the type of data in each column\n",
    "# Drop the CustomerID since it's a unique key that means nothing to us.\n",
    "data = raw_data.drop(['customerID'], axis=1)\n",
    "data.dtypes"
   ]
  },
  {
   "cell_type": "code",
   "execution_count": 166,
   "metadata": {},
   "outputs": [
    {
     "name": "stderr",
     "output_type": "stream",
     "text": [
      "/Users/bryancorder/anaconda3/lib/python3.6/site-packages/ipykernel_launcher.py:2: FutureWarning: convert_objects is deprecated.  Use the data-type specific converters pd.to_datetime, pd.to_timedelta and pd.to_numeric.\n",
      "  \n"
     ]
    }
   ],
   "source": [
    "#It appears that Total Charges is coming in as a string, so let's make it numeric\n",
    "data['TotalCharges'] = data['TotalCharges'].convert_objects(convert_numeric=True)"
   ]
  },
  {
   "cell_type": "code",
   "execution_count": 167,
   "metadata": {},
   "outputs": [
    {
     "data": {
      "text/plain": [
       "TotalCharges    11\n",
       "dtype: int64"
      ]
     },
     "execution_count": 167,
     "metadata": {},
     "output_type": "execute_result"
    }
   ],
   "source": [
    "# Let's check the data for nulls\n",
    "null_count = data.isnull().sum()\n",
    "null_count[null_count>0]"
   ]
  },
  {
   "cell_type": "code",
   "execution_count": 168,
   "metadata": {
    "collapsed": true
   },
   "outputs": [],
   "source": [
    "# There appears to be 11 rows that are missing Total Charges. Since the number is insignificant, let's drop the rows.\n",
    "data = data.dropna(axis=0)\n"
   ]
  },
  {
   "cell_type": "code",
   "execution_count": 169,
   "metadata": {},
   "outputs": [
    {
     "name": "stdout",
     "output_type": "stream",
     "text": [
      "gender \n",
      " Male      3555\n",
      "Female    3488\n",
      "Name: gender, dtype: int64 \n",
      "\n",
      "Partner \n",
      " No     3641\n",
      "Yes    3402\n",
      "Name: Partner, dtype: int64 \n",
      "\n",
      "Dependents \n",
      " No     4933\n",
      "Yes    2110\n",
      "Name: Dependents, dtype: int64 \n",
      "\n",
      "PhoneService \n",
      " Yes    6361\n",
      "No      682\n",
      "Name: PhoneService, dtype: int64 \n",
      "\n",
      "MultipleLines \n",
      " No                  3390\n",
      "Yes                 2971\n",
      "No phone service     682\n",
      "Name: MultipleLines, dtype: int64 \n",
      "\n",
      "InternetService \n",
      " Fiber optic    3096\n",
      "DSL            2421\n",
      "No             1526\n",
      "Name: InternetService, dtype: int64 \n",
      "\n",
      "OnlineSecurity \n",
      " No                     3498\n",
      "Yes                    2019\n",
      "No internet service    1526\n",
      "Name: OnlineSecurity, dtype: int64 \n",
      "\n",
      "OnlineBackup \n",
      " No                     3088\n",
      "Yes                    2429\n",
      "No internet service    1526\n",
      "Name: OnlineBackup, dtype: int64 \n",
      "\n",
      "DeviceProtection \n",
      " No                     3095\n",
      "Yes                    2422\n",
      "No internet service    1526\n",
      "Name: DeviceProtection, dtype: int64 \n",
      "\n",
      "TechSupport \n",
      " No                     3473\n",
      "Yes                    2044\n",
      "No internet service    1526\n",
      "Name: TechSupport, dtype: int64 \n",
      "\n",
      "StreamingTV \n",
      " No                     2810\n",
      "Yes                    2707\n",
      "No internet service    1526\n",
      "Name: StreamingTV, dtype: int64 \n",
      "\n",
      "StreamingMovies \n",
      " No                     2785\n",
      "Yes                    2732\n",
      "No internet service    1526\n",
      "Name: StreamingMovies, dtype: int64 \n",
      "\n",
      "Contract \n",
      " Month-to-month    3875\n",
      "Two year          1695\n",
      "One year          1473\n",
      "Name: Contract, dtype: int64 \n",
      "\n",
      "PaperlessBilling \n",
      " Yes    4171\n",
      "No     2872\n",
      "Name: PaperlessBilling, dtype: int64 \n",
      "\n",
      "PaymentMethod \n",
      " Electronic check             2365\n",
      "Mailed check                 1612\n",
      "Bank transfer (automatic)    1544\n",
      "Credit card (automatic)      1522\n",
      "Name: PaymentMethod, dtype: int64 \n",
      "\n",
      "Churn \n",
      " No     5174\n",
      "Yes    1869\n",
      "Name: Churn, dtype: int64 \n",
      "\n"
     ]
    }
   ],
   "source": [
    "#Get the values from our columns that are listed as strings\n",
    "column_names = list(data.columns.values)\n",
    "\n",
    "#Remove the int/float categories\n",
    "del column_names[1]\n",
    "del column_names[3]\n",
    "del column_names[15]\n",
    "del column_names[15]\n",
    "\n",
    "for columns in column_names:\n",
    "    print(columns,'\\n', raw_data[columns].value_counts(), '\\n')"
   ]
  },
  {
   "cell_type": "code",
   "execution_count": 170,
   "metadata": {},
   "outputs": [
    {
     "data": {
      "text/html": [
       "<div>\n",
       "<style>\n",
       "    .dataframe thead tr:only-child th {\n",
       "        text-align: right;\n",
       "    }\n",
       "\n",
       "    .dataframe thead th {\n",
       "        text-align: left;\n",
       "    }\n",
       "\n",
       "    .dataframe tbody tr th {\n",
       "        vertical-align: top;\n",
       "    }\n",
       "</style>\n",
       "<table border=\"1\" class=\"dataframe\">\n",
       "  <thead>\n",
       "    <tr style=\"text-align: right;\">\n",
       "      <th></th>\n",
       "      <th>gender</th>\n",
       "      <th>SeniorCitizen</th>\n",
       "      <th>Partner</th>\n",
       "      <th>Dependents</th>\n",
       "      <th>tenure</th>\n",
       "      <th>PhoneService</th>\n",
       "      <th>MultipleLines</th>\n",
       "      <th>InternetService</th>\n",
       "      <th>OnlineSecurity</th>\n",
       "      <th>OnlineBackup</th>\n",
       "      <th>DeviceProtection</th>\n",
       "      <th>TechSupport</th>\n",
       "      <th>StreamingTV</th>\n",
       "      <th>StreamingMovies</th>\n",
       "      <th>Contract</th>\n",
       "      <th>PaperlessBilling</th>\n",
       "      <th>PaymentMethod</th>\n",
       "      <th>MonthlyCharges</th>\n",
       "      <th>TotalCharges</th>\n",
       "      <th>Churn</th>\n",
       "    </tr>\n",
       "  </thead>\n",
       "  <tbody>\n",
       "    <tr>\n",
       "      <th>0</th>\n",
       "      <td>1</td>\n",
       "      <td>0</td>\n",
       "      <td>1</td>\n",
       "      <td>0</td>\n",
       "      <td>1</td>\n",
       "      <td>0</td>\n",
       "      <td>No phone service</td>\n",
       "      <td>DSL</td>\n",
       "      <td>No</td>\n",
       "      <td>Yes</td>\n",
       "      <td>No</td>\n",
       "      <td>No</td>\n",
       "      <td>No</td>\n",
       "      <td>No</td>\n",
       "      <td>Month-to-month</td>\n",
       "      <td>1</td>\n",
       "      <td>Electronic check</td>\n",
       "      <td>29.85</td>\n",
       "      <td>29.85</td>\n",
       "      <td>No</td>\n",
       "    </tr>\n",
       "    <tr>\n",
       "      <th>1</th>\n",
       "      <td>0</td>\n",
       "      <td>0</td>\n",
       "      <td>0</td>\n",
       "      <td>0</td>\n",
       "      <td>34</td>\n",
       "      <td>1</td>\n",
       "      <td>No</td>\n",
       "      <td>DSL</td>\n",
       "      <td>Yes</td>\n",
       "      <td>No</td>\n",
       "      <td>Yes</td>\n",
       "      <td>No</td>\n",
       "      <td>No</td>\n",
       "      <td>No</td>\n",
       "      <td>One year</td>\n",
       "      <td>0</td>\n",
       "      <td>Mailed check</td>\n",
       "      <td>56.95</td>\n",
       "      <td>1889.50</td>\n",
       "      <td>No</td>\n",
       "    </tr>\n",
       "    <tr>\n",
       "      <th>2</th>\n",
       "      <td>0</td>\n",
       "      <td>0</td>\n",
       "      <td>0</td>\n",
       "      <td>0</td>\n",
       "      <td>2</td>\n",
       "      <td>1</td>\n",
       "      <td>No</td>\n",
       "      <td>DSL</td>\n",
       "      <td>Yes</td>\n",
       "      <td>Yes</td>\n",
       "      <td>No</td>\n",
       "      <td>No</td>\n",
       "      <td>No</td>\n",
       "      <td>No</td>\n",
       "      <td>Month-to-month</td>\n",
       "      <td>1</td>\n",
       "      <td>Mailed check</td>\n",
       "      <td>53.85</td>\n",
       "      <td>108.15</td>\n",
       "      <td>Yes</td>\n",
       "    </tr>\n",
       "    <tr>\n",
       "      <th>3</th>\n",
       "      <td>0</td>\n",
       "      <td>0</td>\n",
       "      <td>0</td>\n",
       "      <td>0</td>\n",
       "      <td>45</td>\n",
       "      <td>0</td>\n",
       "      <td>No phone service</td>\n",
       "      <td>DSL</td>\n",
       "      <td>Yes</td>\n",
       "      <td>No</td>\n",
       "      <td>Yes</td>\n",
       "      <td>Yes</td>\n",
       "      <td>No</td>\n",
       "      <td>No</td>\n",
       "      <td>One year</td>\n",
       "      <td>0</td>\n",
       "      <td>Bank transfer (automatic)</td>\n",
       "      <td>42.30</td>\n",
       "      <td>1840.75</td>\n",
       "      <td>No</td>\n",
       "    </tr>\n",
       "    <tr>\n",
       "      <th>4</th>\n",
       "      <td>1</td>\n",
       "      <td>0</td>\n",
       "      <td>0</td>\n",
       "      <td>0</td>\n",
       "      <td>2</td>\n",
       "      <td>1</td>\n",
       "      <td>No</td>\n",
       "      <td>Fiber optic</td>\n",
       "      <td>No</td>\n",
       "      <td>No</td>\n",
       "      <td>No</td>\n",
       "      <td>No</td>\n",
       "      <td>No</td>\n",
       "      <td>No</td>\n",
       "      <td>Month-to-month</td>\n",
       "      <td>1</td>\n",
       "      <td>Electronic check</td>\n",
       "      <td>70.70</td>\n",
       "      <td>151.65</td>\n",
       "      <td>Yes</td>\n",
       "    </tr>\n",
       "    <tr>\n",
       "      <th>5</th>\n",
       "      <td>1</td>\n",
       "      <td>0</td>\n",
       "      <td>0</td>\n",
       "      <td>0</td>\n",
       "      <td>8</td>\n",
       "      <td>1</td>\n",
       "      <td>Yes</td>\n",
       "      <td>Fiber optic</td>\n",
       "      <td>No</td>\n",
       "      <td>No</td>\n",
       "      <td>Yes</td>\n",
       "      <td>No</td>\n",
       "      <td>Yes</td>\n",
       "      <td>Yes</td>\n",
       "      <td>Month-to-month</td>\n",
       "      <td>1</td>\n",
       "      <td>Electronic check</td>\n",
       "      <td>99.65</td>\n",
       "      <td>820.50</td>\n",
       "      <td>Yes</td>\n",
       "    </tr>\n",
       "    <tr>\n",
       "      <th>6</th>\n",
       "      <td>0</td>\n",
       "      <td>0</td>\n",
       "      <td>0</td>\n",
       "      <td>1</td>\n",
       "      <td>22</td>\n",
       "      <td>1</td>\n",
       "      <td>Yes</td>\n",
       "      <td>Fiber optic</td>\n",
       "      <td>No</td>\n",
       "      <td>Yes</td>\n",
       "      <td>No</td>\n",
       "      <td>No</td>\n",
       "      <td>Yes</td>\n",
       "      <td>No</td>\n",
       "      <td>Month-to-month</td>\n",
       "      <td>1</td>\n",
       "      <td>Credit card (automatic)</td>\n",
       "      <td>89.10</td>\n",
       "      <td>1949.40</td>\n",
       "      <td>No</td>\n",
       "    </tr>\n",
       "    <tr>\n",
       "      <th>7</th>\n",
       "      <td>1</td>\n",
       "      <td>0</td>\n",
       "      <td>0</td>\n",
       "      <td>0</td>\n",
       "      <td>10</td>\n",
       "      <td>0</td>\n",
       "      <td>No phone service</td>\n",
       "      <td>DSL</td>\n",
       "      <td>Yes</td>\n",
       "      <td>No</td>\n",
       "      <td>No</td>\n",
       "      <td>No</td>\n",
       "      <td>No</td>\n",
       "      <td>No</td>\n",
       "      <td>Month-to-month</td>\n",
       "      <td>0</td>\n",
       "      <td>Mailed check</td>\n",
       "      <td>29.75</td>\n",
       "      <td>301.90</td>\n",
       "      <td>No</td>\n",
       "    </tr>\n",
       "    <tr>\n",
       "      <th>8</th>\n",
       "      <td>1</td>\n",
       "      <td>0</td>\n",
       "      <td>1</td>\n",
       "      <td>0</td>\n",
       "      <td>28</td>\n",
       "      <td>1</td>\n",
       "      <td>Yes</td>\n",
       "      <td>Fiber optic</td>\n",
       "      <td>No</td>\n",
       "      <td>No</td>\n",
       "      <td>Yes</td>\n",
       "      <td>Yes</td>\n",
       "      <td>Yes</td>\n",
       "      <td>Yes</td>\n",
       "      <td>Month-to-month</td>\n",
       "      <td>1</td>\n",
       "      <td>Electronic check</td>\n",
       "      <td>104.80</td>\n",
       "      <td>3046.05</td>\n",
       "      <td>Yes</td>\n",
       "    </tr>\n",
       "    <tr>\n",
       "      <th>9</th>\n",
       "      <td>0</td>\n",
       "      <td>0</td>\n",
       "      <td>0</td>\n",
       "      <td>1</td>\n",
       "      <td>62</td>\n",
       "      <td>1</td>\n",
       "      <td>No</td>\n",
       "      <td>DSL</td>\n",
       "      <td>Yes</td>\n",
       "      <td>Yes</td>\n",
       "      <td>No</td>\n",
       "      <td>No</td>\n",
       "      <td>No</td>\n",
       "      <td>No</td>\n",
       "      <td>One year</td>\n",
       "      <td>0</td>\n",
       "      <td>Bank transfer (automatic)</td>\n",
       "      <td>56.15</td>\n",
       "      <td>3487.95</td>\n",
       "      <td>No</td>\n",
       "    </tr>\n",
       "  </tbody>\n",
       "</table>\n",
       "</div>"
      ],
      "text/plain": [
       "   gender  SeniorCitizen  Partner  Dependents  tenure  PhoneService  \\\n",
       "0       1              0        1           0       1             0   \n",
       "1       0              0        0           0      34             1   \n",
       "2       0              0        0           0       2             1   \n",
       "3       0              0        0           0      45             0   \n",
       "4       1              0        0           0       2             1   \n",
       "5       1              0        0           0       8             1   \n",
       "6       0              0        0           1      22             1   \n",
       "7       1              0        0           0      10             0   \n",
       "8       1              0        1           0      28             1   \n",
       "9       0              0        0           1      62             1   \n",
       "\n",
       "      MultipleLines InternetService OnlineSecurity OnlineBackup  \\\n",
       "0  No phone service             DSL             No          Yes   \n",
       "1                No             DSL            Yes           No   \n",
       "2                No             DSL            Yes          Yes   \n",
       "3  No phone service             DSL            Yes           No   \n",
       "4                No     Fiber optic             No           No   \n",
       "5               Yes     Fiber optic             No           No   \n",
       "6               Yes     Fiber optic             No          Yes   \n",
       "7  No phone service             DSL            Yes           No   \n",
       "8               Yes     Fiber optic             No           No   \n",
       "9                No             DSL            Yes          Yes   \n",
       "\n",
       "  DeviceProtection TechSupport StreamingTV StreamingMovies        Contract  \\\n",
       "0               No          No          No              No  Month-to-month   \n",
       "1              Yes          No          No              No        One year   \n",
       "2               No          No          No              No  Month-to-month   \n",
       "3              Yes         Yes          No              No        One year   \n",
       "4               No          No          No              No  Month-to-month   \n",
       "5              Yes          No         Yes             Yes  Month-to-month   \n",
       "6               No          No         Yes              No  Month-to-month   \n",
       "7               No          No          No              No  Month-to-month   \n",
       "8              Yes         Yes         Yes             Yes  Month-to-month   \n",
       "9               No          No          No              No        One year   \n",
       "\n",
       "   PaperlessBilling              PaymentMethod  MonthlyCharges  TotalCharges  \\\n",
       "0                 1           Electronic check           29.85         29.85   \n",
       "1                 0               Mailed check           56.95       1889.50   \n",
       "2                 1               Mailed check           53.85        108.15   \n",
       "3                 0  Bank transfer (automatic)           42.30       1840.75   \n",
       "4                 1           Electronic check           70.70        151.65   \n",
       "5                 1           Electronic check           99.65        820.50   \n",
       "6                 1    Credit card (automatic)           89.10       1949.40   \n",
       "7                 0               Mailed check           29.75        301.90   \n",
       "8                 1           Electronic check          104.80       3046.05   \n",
       "9                 0  Bank transfer (automatic)           56.15       3487.95   \n",
       "\n",
       "  Churn  \n",
       "0    No  \n",
       "1    No  \n",
       "2   Yes  \n",
       "3    No  \n",
       "4   Yes  \n",
       "5   Yes  \n",
       "6    No  \n",
       "7    No  \n",
       "8   Yes  \n",
       "9    No  "
      ]
     },
     "execution_count": 170,
     "metadata": {},
     "output_type": "execute_result"
    }
   ],
   "source": [
    "#For the columns that only have 2 values yes or no, let's convert them to 0s and 1s\n",
    "#Hold off on converting Churn to 0s and 1s for graphs below\n",
    "Yes_No_Columns = ['Partner', 'Dependents', 'PhoneService', 'PaperlessBilling']\n",
    "\n",
    "for feature in Yes_No_Columns:\n",
    "    data[feature] = np.where(data[feature].values == 'Yes', 1, 0)\n",
    "\n",
    "#Now let's convert the Males/Females in 0 (Males) and 1 (Females)\n",
    "data['gender'] = np.where(data.gender.values == 'Female', 1, 0)\n",
    "\n",
    "#Let's see what we've created\n",
    "data.head(10)"
   ]
  },
  {
   "cell_type": "markdown",
   "metadata": {},
   "source": [
    "The Dataframe looks nice, but it's hard to gather any insights from the data. Let's use count plots to see if we can pick up insights."
   ]
  },
  {
   "cell_type": "code",
   "execution_count": 171,
   "metadata": {},
   "outputs": [
    {
     "data": {
      "image/png": "[encoded data removed]",
      "text/plain": [
       "<matplotlib.figure.Figure at 0x118ca97f0>"
      ]
     },
     "metadata": {},
     "output_type": "display_data"
    },
    {
     "data": {
      "image/png": "[encoded data removed]",
      "text/plain": [
       "<matplotlib.figure.Figure at 0x1193232e8>"
      ]
     },
     "metadata": {},
     "output_type": "display_data"
    },
    {
     "data": {
      "image/png": "[encoded data removed]",
      "text/plain": [
       "<matplotlib.figure.Figure at 0x11867cb70>"
      ]
     },
     "metadata": {},
     "output_type": "display_data"
    },
    {
     "data": {
      "image/png": "[encoded data removed]",
      "text/plain": [
       "<matplotlib.figure.Figure at 0x11908ed68>"
      ]
     },
     "metadata": {},
     "output_type": "display_data"
    }
   ],
   "source": [
    "for feature in Yes_No_Columns:\n",
    "    sns.countplot(x=feature, hue='Churn', data=data)\n",
    "    plt.show()"
   ]
  },
  {
   "cell_type": "markdown",
   "metadata": {},
   "source": [
    "From these visualizations, it appears that customers in the categories of without partners, without dependents, and who use paperless billing are more likely to leave. It'll be interesting to see if these categories end up in our final model.\n",
    "\n",
    "Let's do the same for columns with multiple answers."
   ]
  },
  {
   "cell_type": "code",
   "execution_count": 172,
   "metadata": {
    "scrolled": false
   },
   "outputs": [
    {
     "data": {
      "image/png": "[encoded data removed]",
      "text/plain": [
       "<matplotlib.figure.Figure at 0x118c82908>"
      ]
     },
     "metadata": {},
     "output_type": "display_data"
    },
    {
     "data": {
      "image/png": "[encoded data removed]",
      "text/plain": [
       "<matplotlib.figure.Figure at 0x11a5e5f28>"
      ]
     },
     "metadata": {},
     "output_type": "display_data"
    },
    {
     "data": {
      "image/png": "[encoded data removed]",
      "text/plain": [
       "<matplotlib.figure.Figure at 0x11a8cec88>"
      ]
     },
     "metadata": {},
     "output_type": "display_data"
    },
    {
     "data": {
      "image/png": "[encoded data removed]",
      "text/plain": [
       "<matplotlib.figure.Figure at 0x11b6f8ba8>"
      ]
     },
     "metadata": {},
     "output_type": "display_data"
    },
    {
     "data": {
      "image/png": "[encoded data removed]",
      "text/plain": [
       "<matplotlib.figure.Figure at 0x11aa7bcc0>"
      ]
     },
     "metadata": {},
     "output_type": "display_data"
    },
    {
     "data": {
      "image/png": "[encoded data removed]",
      "text/plain": [
       "<matplotlib.figure.Figure at 0x11974cc88>"
      ]
     },
     "metadata": {},
     "output_type": "display_data"
    },
    {
     "data": {
      "image/png": "[encoded data removed]",
      "text/plain": [
       "<matplotlib.figure.Figure at 0x11ab5fb38>"
      ]
     },
     "metadata": {},
     "output_type": "display_data"
    },
    {
     "data": {
      "image/png": "[encoded data removed]",
      "text/plain": [
       "<matplotlib.figure.Figure at 0x11afbcda0>"
      ]
     },
     "metadata": {},
     "output_type": "display_data"
    },
    {
     "data": {
      "image/png": "[encoded data removed]",
      "text/plain": [
       "<matplotlib.figure.Figure at 0x1197597f0>"
      ]
     },
     "metadata": {},
     "output_type": "display_data"
    },
    {
     "data": {
      "image/png": "[encoded data removed]",
      "text/plain": [
       "<matplotlib.figure.Figure at 0x1187334a8>"
      ]
     },
     "metadata": {},
     "output_type": "display_data"
    }
   ],
   "source": [
    "multiple_answers = ['MultipleLines','InternetService', 'OnlineSecurity', 'OnlineBackup', 'DeviceProtection',\n",
    "                    'TechSupport', 'StreamingTV', 'StreamingMovies', 'Contract','PaymentMethod']\n",
    "for feature in multiple_answers:\n",
    "    sns.countplot(x=feature, hue='Churn', data=data)\n",
    "    plt.show()"
   ]
  },
  {
   "cell_type": "markdown",
   "metadata": {},
   "source": [
    "From these visualizations, it appears that people with or without the following services are most likely to leave: Fiber Optic, No online security, No online backup, No device protection, No tech support, Month-to-month payment, and pay with Electronic Check. These categories are certainly ones to continue looking at as we go through the modeling.\n",
    "\n",
    "In order for the computer to be able to use the features with multiple answers, let's convert them to dummies."
   ]
  },
  {
   "cell_type": "code",
   "execution_count": 173,
   "metadata": {
    "collapsed": true
   },
   "outputs": [],
   "source": [
    "#Now convert Churn to 0s and 1s.\n",
    "data['Churn'] = np.where(data['Churn'].values == 'Yes', 1, 0)\n",
    "#Let's get dummies for the columns with multiple answers\n",
    "data = pd.get_dummies(data, columns=multiple_answers)"
   ]
  },
  {
   "cell_type": "code",
   "execution_count": 174,
   "metadata": {},
   "outputs": [
    {
     "data": {
      "text/html": [
       "<div>\n",
       "<style>\n",
       "    .dataframe thead tr:only-child th {\n",
       "        text-align: right;\n",
       "    }\n",
       "\n",
       "    .dataframe thead th {\n",
       "        text-align: left;\n",
       "    }\n",
       "\n",
       "    .dataframe tbody tr th {\n",
       "        vertical-align: top;\n",
       "    }\n",
       "</style>\n",
       "<table border=\"1\" class=\"dataframe\">\n",
       "  <thead>\n",
       "    <tr style=\"text-align: right;\">\n",
       "      <th></th>\n",
       "      <th>gender</th>\n",
       "      <th>SeniorCitizen</th>\n",
       "      <th>Partner</th>\n",
       "      <th>Dependents</th>\n",
       "      <th>tenure</th>\n",
       "      <th>PhoneService</th>\n",
       "      <th>PaperlessBilling</th>\n",
       "      <th>MonthlyCharges</th>\n",
       "      <th>TotalCharges</th>\n",
       "      <th>Churn</th>\n",
       "      <th>...</th>\n",
       "      <th>StreamingMovies_No</th>\n",
       "      <th>StreamingMovies_No internet service</th>\n",
       "      <th>StreamingMovies_Yes</th>\n",
       "      <th>Contract_Month-to-month</th>\n",
       "      <th>Contract_One year</th>\n",
       "      <th>Contract_Two year</th>\n",
       "      <th>PaymentMethod_Bank transfer (automatic)</th>\n",
       "      <th>PaymentMethod_Credit card (automatic)</th>\n",
       "      <th>PaymentMethod_Electronic check</th>\n",
       "      <th>PaymentMethod_Mailed check</th>\n",
       "    </tr>\n",
       "  </thead>\n",
       "  <tbody>\n",
       "    <tr>\n",
       "      <th>count</th>\n",
       "      <td>7032.000000</td>\n",
       "      <td>7032.000000</td>\n",
       "      <td>7032.000000</td>\n",
       "      <td>7032.000000</td>\n",
       "      <td>7032.000000</td>\n",
       "      <td>7032.000000</td>\n",
       "      <td>7032.000000</td>\n",
       "      <td>7032.000000</td>\n",
       "      <td>7032.000000</td>\n",
       "      <td>7032.000000</td>\n",
       "      <td>...</td>\n",
       "      <td>7032.000000</td>\n",
       "      <td>7032.000000</td>\n",
       "      <td>7032.000000</td>\n",
       "      <td>7032.000000</td>\n",
       "      <td>7032.000000</td>\n",
       "      <td>7032.000000</td>\n",
       "      <td>7032.000000</td>\n",
       "      <td>7032.000000</td>\n",
       "      <td>7032.000000</td>\n",
       "      <td>7032.000000</td>\n",
       "    </tr>\n",
       "    <tr>\n",
       "      <th>mean</th>\n",
       "      <td>0.495307</td>\n",
       "      <td>0.162400</td>\n",
       "      <td>0.482509</td>\n",
       "      <td>0.298493</td>\n",
       "      <td>32.421786</td>\n",
       "      <td>0.903299</td>\n",
       "      <td>0.592719</td>\n",
       "      <td>64.798208</td>\n",
       "      <td>2283.300441</td>\n",
       "      <td>0.265785</td>\n",
       "      <td>...</td>\n",
       "      <td>0.395478</td>\n",
       "      <td>0.216155</td>\n",
       "      <td>0.388367</td>\n",
       "      <td>0.551052</td>\n",
       "      <td>0.209329</td>\n",
       "      <td>0.239619</td>\n",
       "      <td>0.219283</td>\n",
       "      <td>0.216297</td>\n",
       "      <td>0.336320</td>\n",
       "      <td>0.228100</td>\n",
       "    </tr>\n",
       "    <tr>\n",
       "      <th>std</th>\n",
       "      <td>0.500014</td>\n",
       "      <td>0.368844</td>\n",
       "      <td>0.499729</td>\n",
       "      <td>0.457629</td>\n",
       "      <td>24.545260</td>\n",
       "      <td>0.295571</td>\n",
       "      <td>0.491363</td>\n",
       "      <td>30.085974</td>\n",
       "      <td>2266.771362</td>\n",
       "      <td>0.441782</td>\n",
       "      <td>...</td>\n",
       "      <td>0.488988</td>\n",
       "      <td>0.411650</td>\n",
       "      <td>0.487414</td>\n",
       "      <td>0.497422</td>\n",
       "      <td>0.406858</td>\n",
       "      <td>0.426881</td>\n",
       "      <td>0.413790</td>\n",
       "      <td>0.411748</td>\n",
       "      <td>0.472483</td>\n",
       "      <td>0.419637</td>\n",
       "    </tr>\n",
       "    <tr>\n",
       "      <th>min</th>\n",
       "      <td>0.000000</td>\n",
       "      <td>0.000000</td>\n",
       "      <td>0.000000</td>\n",
       "      <td>0.000000</td>\n",
       "      <td>1.000000</td>\n",
       "      <td>0.000000</td>\n",
       "      <td>0.000000</td>\n",
       "      <td>18.250000</td>\n",
       "      <td>18.800000</td>\n",
       "      <td>0.000000</td>\n",
       "      <td>...</td>\n",
       "      <td>0.000000</td>\n",
       "      <td>0.000000</td>\n",
       "      <td>0.000000</td>\n",
       "      <td>0.000000</td>\n",
       "      <td>0.000000</td>\n",
       "      <td>0.000000</td>\n",
       "      <td>0.000000</td>\n",
       "      <td>0.000000</td>\n",
       "      <td>0.000000</td>\n",
       "      <td>0.000000</td>\n",
       "    </tr>\n",
       "    <tr>\n",
       "      <th>25%</th>\n",
       "      <td>0.000000</td>\n",
       "      <td>0.000000</td>\n",
       "      <td>0.000000</td>\n",
       "      <td>0.000000</td>\n",
       "      <td>9.000000</td>\n",
       "      <td>1.000000</td>\n",
       "      <td>0.000000</td>\n",
       "      <td>35.587500</td>\n",
       "      <td>401.450000</td>\n",
       "      <td>0.000000</td>\n",
       "      <td>...</td>\n",
       "      <td>0.000000</td>\n",
       "      <td>0.000000</td>\n",
       "      <td>0.000000</td>\n",
       "      <td>0.000000</td>\n",
       "      <td>0.000000</td>\n",
       "      <td>0.000000</td>\n",
       "      <td>0.000000</td>\n",
       "      <td>0.000000</td>\n",
       "      <td>0.000000</td>\n",
       "      <td>0.000000</td>\n",
       "    </tr>\n",
       "    <tr>\n",
       "      <th>50%</th>\n",
       "      <td>0.000000</td>\n",
       "      <td>0.000000</td>\n",
       "      <td>0.000000</td>\n",
       "      <td>0.000000</td>\n",
       "      <td>29.000000</td>\n",
       "      <td>1.000000</td>\n",
       "      <td>1.000000</td>\n",
       "      <td>70.350000</td>\n",
       "      <td>1397.475000</td>\n",
       "      <td>0.000000</td>\n",
       "      <td>...</td>\n",
       "      <td>0.000000</td>\n",
       "      <td>0.000000</td>\n",
       "      <td>0.000000</td>\n",
       "      <td>1.000000</td>\n",
       "      <td>0.000000</td>\n",
       "      <td>0.000000</td>\n",
       "      <td>0.000000</td>\n",
       "      <td>0.000000</td>\n",
       "      <td>0.000000</td>\n",
       "      <td>0.000000</td>\n",
       "    </tr>\n",
       "    <tr>\n",
       "      <th>75%</th>\n",
       "      <td>1.000000</td>\n",
       "      <td>0.000000</td>\n",
       "      <td>1.000000</td>\n",
       "      <td>1.000000</td>\n",
       "      <td>55.000000</td>\n",
       "      <td>1.000000</td>\n",
       "      <td>1.000000</td>\n",
       "      <td>89.862500</td>\n",
       "      <td>3794.737500</td>\n",
       "      <td>1.000000</td>\n",
       "      <td>...</td>\n",
       "      <td>1.000000</td>\n",
       "      <td>0.000000</td>\n",
       "      <td>1.000000</td>\n",
       "      <td>1.000000</td>\n",
       "      <td>0.000000</td>\n",
       "      <td>0.000000</td>\n",
       "      <td>0.000000</td>\n",
       "      <td>0.000000</td>\n",
       "      <td>1.000000</td>\n",
       "      <td>0.000000</td>\n",
       "    </tr>\n",
       "    <tr>\n",
       "      <th>max</th>\n",
       "      <td>1.000000</td>\n",
       "      <td>1.000000</td>\n",
       "      <td>1.000000</td>\n",
       "      <td>1.000000</td>\n",
       "      <td>72.000000</td>\n",
       "      <td>1.000000</td>\n",
       "      <td>1.000000</td>\n",
       "      <td>118.750000</td>\n",
       "      <td>8684.800000</td>\n",
       "      <td>1.000000</td>\n",
       "      <td>...</td>\n",
       "      <td>1.000000</td>\n",
       "      <td>1.000000</td>\n",
       "      <td>1.000000</td>\n",
       "      <td>1.000000</td>\n",
       "      <td>1.000000</td>\n",
       "      <td>1.000000</td>\n",
       "      <td>1.000000</td>\n",
       "      <td>1.000000</td>\n",
       "      <td>1.000000</td>\n",
       "      <td>1.000000</td>\n",
       "    </tr>\n",
       "  </tbody>\n",
       "</table>\n",
       "<p>8 rows × 41 columns</p>\n",
       "</div>"
      ],
      "text/plain": [
       "            gender  SeniorCitizen      Partner   Dependents       tenure  \\\n",
       "count  7032.000000    7032.000000  7032.000000  7032.000000  7032.000000   \n",
       "mean      0.495307       0.162400     0.482509     0.298493    32.421786   \n",
       "std       0.500014       0.368844     0.499729     0.457629    24.545260   \n",
       "min       0.000000       0.000000     0.000000     0.000000     1.000000   \n",
       "25%       0.000000       0.000000     0.000000     0.000000     9.000000   \n",
       "50%       0.000000       0.000000     0.000000     0.000000    29.000000   \n",
       "75%       1.000000       0.000000     1.000000     1.000000    55.000000   \n",
       "max       1.000000       1.000000     1.000000     1.000000    72.000000   \n",
       "\n",
       "       PhoneService  PaperlessBilling  MonthlyCharges  TotalCharges  \\\n",
       "count   7032.000000       7032.000000     7032.000000   7032.000000   \n",
       "mean       0.903299          0.592719       64.798208   2283.300441   \n",
       "std        0.295571          0.491363       30.085974   2266.771362   \n",
       "min        0.000000          0.000000       18.250000     18.800000   \n",
       "25%        1.000000          0.000000       35.587500    401.450000   \n",
       "50%        1.000000          1.000000       70.350000   1397.475000   \n",
       "75%        1.000000          1.000000       89.862500   3794.737500   \n",
       "max        1.000000          1.000000      118.750000   8684.800000   \n",
       "\n",
       "             Churn             ...              StreamingMovies_No  \\\n",
       "count  7032.000000             ...                     7032.000000   \n",
       "mean      0.265785             ...                        0.395478   \n",
       "std       0.441782             ...                        0.488988   \n",
       "min       0.000000             ...                        0.000000   \n",
       "25%       0.000000             ...                        0.000000   \n",
       "50%       0.000000             ...                        0.000000   \n",
       "75%       1.000000             ...                        1.000000   \n",
       "max       1.000000             ...                        1.000000   \n",
       "\n",
       "       StreamingMovies_No internet service  StreamingMovies_Yes  \\\n",
       "count                          7032.000000          7032.000000   \n",
       "mean                              0.216155             0.388367   \n",
       "std                               0.411650             0.487414   \n",
       "min                               0.000000             0.000000   \n",
       "25%                               0.000000             0.000000   \n",
       "50%                               0.000000             0.000000   \n",
       "75%                               0.000000             1.000000   \n",
       "max                               1.000000             1.000000   \n",
       "\n",
       "       Contract_Month-to-month  Contract_One year  Contract_Two year  \\\n",
       "count              7032.000000        7032.000000        7032.000000   \n",
       "mean                  0.551052           0.209329           0.239619   \n",
       "std                   0.497422           0.406858           0.426881   \n",
       "min                   0.000000           0.000000           0.000000   \n",
       "25%                   0.000000           0.000000           0.000000   \n",
       "50%                   1.000000           0.000000           0.000000   \n",
       "75%                   1.000000           0.000000           0.000000   \n",
       "max                   1.000000           1.000000           1.000000   \n",
       "\n",
       "       PaymentMethod_Bank transfer (automatic)  \\\n",
       "count                              7032.000000   \n",
       "mean                                  0.219283   \n",
       "std                                   0.413790   \n",
       "min                                   0.000000   \n",
       "25%                                   0.000000   \n",
       "50%                                   0.000000   \n",
       "75%                                   0.000000   \n",
       "max                                   1.000000   \n",
       "\n",
       "       PaymentMethod_Credit card (automatic)  PaymentMethod_Electronic check  \\\n",
       "count                            7032.000000                     7032.000000   \n",
       "mean                                0.216297                        0.336320   \n",
       "std                                 0.411748                        0.472483   \n",
       "min                                 0.000000                        0.000000   \n",
       "25%                                 0.000000                        0.000000   \n",
       "50%                                 0.000000                        0.000000   \n",
       "75%                                 0.000000                        1.000000   \n",
       "max                                 1.000000                        1.000000   \n",
       "\n",
       "       PaymentMethod_Mailed check  \n",
       "count                 7032.000000  \n",
       "mean                     0.228100  \n",
       "std                      0.419637  \n",
       "min                      0.000000  \n",
       "25%                      0.000000  \n",
       "50%                      0.000000  \n",
       "75%                      0.000000  \n",
       "max                      1.000000  \n",
       "\n",
       "[8 rows x 41 columns]"
      ]
     },
     "execution_count": 174,
     "metadata": {},
     "output_type": "execute_result"
    }
   ],
   "source": [
    "#Now we can look at our 41 features.\n",
    "data.describe()"
   ]
  },
  {
   "cell_type": "code",
   "execution_count": 175,
   "metadata": {},
   "outputs": [
    {
     "data": {
      "text/plain": [
       "<matplotlib.axes._subplots.AxesSubplot at 0x1194f7b70>"
      ]
     },
     "execution_count": 175,
     "metadata": {},
     "output_type": "execute_result"
    },
    {
     "data": {
      "image/png": "[encoded data removed]",
      "text/plain": [
       "<matplotlib.figure.Figure at 0x1185cd0b8>"
      ]
     },
     "metadata": {},
     "output_type": "display_data"
    }
   ],
   "source": [
    "#Check their relationship with a heatmap\n",
    "sns.heatmap(data.corr())"
   ]
  },
  {
   "cell_type": "markdown",
   "metadata": {},
   "source": [
    "It appears there is little relationship between our variables outside of the inverse relationship with our dummy variables, which would make sense.\n",
    "\n",
    "Let's create some models to see which features are most important for predicting churn.\n",
    "\n",
    "## Build a Model"
   ]
  },
  {
   "cell_type": "code",
   "execution_count": 176,
   "metadata": {
    "collapsed": true
   },
   "outputs": [],
   "source": [
    "def basic_test(test):\n",
    "    #Fit the models\n",
    "    test.fit(X, y)\n",
    "    #Generate the score\n",
    "    print('Accuracy on the data with no feature selection: {}'.format(test.score(X, y)))\n",
    "    print('\\nCross Validation with 5 folds: {}'.format(cross_val_score(test, X, y, cv=5)) )\n",
    "\n",
    "X = data.drop(['Churn'], 1)\n",
    "y = data['Churn']"
   ]
  },
  {
   "cell_type": "markdown",
   "metadata": {},
   "source": [
    "### Basic Models with No Manipulation\n",
    "First let's try a number of models on the full data set without manipulation to see the accuracy of each model."
   ]
  },
  {
   "cell_type": "code",
   "execution_count": 177,
   "metadata": {},
   "outputs": [
    {
     "name": "stdout",
     "output_type": "stream",
     "text": [
      "Accuracy on the data with no feature selection: 0.8058873720136519\n",
      "\n",
      "Cross Validation with 5 folds: [ 0.80312722  0.81165601  0.78962331  0.814367    0.80427046]\n"
     ]
    }
   ],
   "source": [
    "lr = LogisticRegression(C=9e9)\n",
    "basic_test(lr)"
   ]
  },
  {
   "cell_type": "code",
   "execution_count": 178,
   "metadata": {},
   "outputs": [
    {
     "name": "stdout",
     "output_type": "stream",
     "text": [
      "Accuracy on the data with no feature selection: 0.8063139931740614\n",
      "\n",
      "Cross Validation with 5 folds: [ 0.80312722  0.81165601  0.79104478  0.80938834  0.80427046]\n"
     ]
    }
   ],
   "source": [
    "lr = LogisticRegression(C=1, penalty='l1')\n",
    "basic_test(lr)\n",
    "  "
   ]
  },
  {
   "cell_type": "code",
   "execution_count": 179,
   "metadata": {},
   "outputs": [
    {
     "name": "stdout",
     "output_type": "stream",
     "text": [
      "Accuracy on the data with no feature selection: 0.805745164960182\n",
      "\n",
      "Cross Validation with 5 folds: [ 0.80312722  0.81236674  0.78962331  0.81507824  0.80498221]\n"
     ]
    }
   ],
   "source": [
    "lr = LogisticRegression(C=1, penalty='l2')\n",
    "basic_test(lr)"
   ]
  },
  {
   "cell_type": "code",
   "execution_count": 180,
   "metadata": {},
   "outputs": [
    {
     "name": "stdout",
     "output_type": "stream",
     "text": [
      "Accuracy on the data with no feature selection: 0.8114334470989761\n",
      "\n",
      "Cross Validation with 5 folds: [ 0.77398721  0.78749112  0.77185501  0.77667141  0.78790036]\n"
     ]
    }
   ],
   "source": [
    "neighbors = KNeighborsClassifier(n_neighbors=9)\n",
    "basic_test(neighbors)"
   ]
  },
  {
   "cell_type": "code",
   "execution_count": 181,
   "metadata": {},
   "outputs": [
    {
     "name": "stdout",
     "output_type": "stream",
     "text": [
      "Accuracy on the data with no feature selection: 0.9677189988623436\n",
      "\n",
      "Cross Validation with 5 folds: [ 0.76190476  0.76972281  0.75479744  0.76386913  0.76654804]\n"
     ]
    }
   ],
   "source": [
    "svc = SVC(C=1, gamma=0.1)\n",
    "basic_test(svc)"
   ]
  },
  {
   "cell_type": "code",
   "execution_count": 182,
   "metadata": {},
   "outputs": [
    {
     "name": "stdout",
     "output_type": "stream",
     "text": [
      "Accuracy on the data with no feature selection: 0.9974402730375427\n",
      "\n",
      "Cross Validation with 5 folds: [ 0.71997157  0.74413646  0.73489694  0.71337127  0.7430605 ]\n"
     ]
    }
   ],
   "source": [
    "clf = DecisionTreeClassifier(criterion='entropy')\n",
    "basic_test(clf)"
   ]
  },
  {
   "cell_type": "code",
   "execution_count": 183,
   "metadata": {},
   "outputs": [
    {
     "name": "stdout",
     "output_type": "stream",
     "text": [
      "Accuracy on the data with no feature selection: 0.9793799772468714\n",
      "\n",
      "Cross Validation with 5 folds: [ 0.76830135  0.79104478  0.76830135  0.77809388  0.78932384]\n"
     ]
    }
   ],
   "source": [
    "rfc = RandomForestClassifier()\n",
    "basic_test(rfc)"
   ]
  },
  {
   "cell_type": "code",
   "execution_count": 184,
   "metadata": {},
   "outputs": [
    {
     "name": "stdout",
     "output_type": "stream",
     "text": [
      "Accuracy on the data with no feature selection: 0.8257963594994312\n",
      "\n",
      "Cross Validation with 5 folds: [ 0.8137882   0.81094527  0.78109453  0.81223329  0.80498221]\n"
     ]
    }
   ],
   "source": [
    "clf = GradientBoostingClassifier()\n",
    "basic_test(clf)"
   ]
  },
  {
   "cell_type": "markdown",
   "metadata": {},
   "source": [
    "Our best models are scoring fairly well without any manipulation at around 80% accuracy. Let's try to isolate the important features of the 41 and improve our scores.\n",
    "\n",
    "### Data Manipulation\n",
    "\n",
    "First, let's look at he distributions of the continuous variables."
   ]
  },
  {
   "cell_type": "code",
   "execution_count": 185,
   "metadata": {},
   "outputs": [
    {
     "data": {
      "image/png": "[encoded data removed]",
      "text/plain": [
       "<matplotlib.figure.Figure at 0x11861eac8>"
      ]
     },
     "metadata": {},
     "output_type": "display_data"
    }
   ],
   "source": [
    "plt.hist(data['tenure'], bins=20)\n",
    "plt.show()"
   ]
  },
  {
   "cell_type": "code",
   "execution_count": 186,
   "metadata": {},
   "outputs": [
    {
     "data": {
      "image/png": "[encoded data removed]",
      "text/plain": [
       "<matplotlib.figure.Figure at 0x11829a358>"
      ]
     },
     "metadata": {},
     "output_type": "display_data"
    }
   ],
   "source": [
    "plt.hist(data['MonthlyCharges'], bins=20)\n",
    "plt.show()"
   ]
  },
  {
   "cell_type": "code",
   "execution_count": 187,
   "metadata": {},
   "outputs": [
    {
     "data": {
      "image/png": "[encoded data removed]",
      "text/plain": [
       "<matplotlib.figure.Figure at 0x11aab2128>"
      ]
     },
     "metadata": {},
     "output_type": "display_data"
    }
   ],
   "source": [
    "plt.hist(data['TotalCharges'], bins=10)\n",
    "plt.show()"
   ]
  },
  {
   "cell_type": "markdown",
   "metadata": {},
   "source": [
    "### Data Transformation\n",
    "After running models with various non-linear transformations of the variables, normalizing the variables worked best with the models, so let's create normalized variables and replace the original variables with them."
   ]
  },
  {
   "cell_type": "code",
   "execution_count": 188,
   "metadata": {},
   "outputs": [],
   "source": [
    "data['tenure_norm'] = (data['tenure'] - min(data['tenure']))/ (max(data['tenure']) - min(data['tenure']))\n",
    "data['MonthlyCharges_norm'] = (data['MonthlyCharges'] - min(data['MonthlyCharges']))/ (max(data['MonthlyCharges']) - min(data['MonthlyCharges']))\n",
    "data['TotalCharges_norm'] = (data['TotalCharges'] - min(data['TotalCharges']))/ (max(data['TotalCharges']) - min(data['TotalCharges']))"
   ]
  },
  {
   "cell_type": "code",
   "execution_count": 189,
   "metadata": {
    "collapsed": true
   },
   "outputs": [],
   "source": [
    "model_data = data.drop(['TotalCharges', 'MonthlyCharges', 'tenure'], axis=1)"
   ]
  },
  {
   "cell_type": "markdown",
   "metadata": {},
   "source": [
    "## Modeling\n",
    "\n",
    "Now that we have some new features, let's balance our data to improve the performance of our modeling for predictions."
   ]
  },
  {
   "cell_type": "code",
   "execution_count": 190,
   "metadata": {
    "collapsed": true
   },
   "outputs": [],
   "source": [
    "# Create a separate yes and no variable\n",
    "yes_churn = model_data[model_data.Churn == 1]\n",
    "no_churn = model_data[model_data.Churn == 0]\n",
    "\n",
    "# Use resample to get an equal number of yes and nos in our data\n",
    "model_data = resample(no_churn, n_samples=1869)\n",
    "model_data = model_data.append(yes_churn)\n",
    "\n",
    "# Now we can create our X and Y variables\n",
    "X = model_data.drop(['Churn'], 1)\n",
    "y = model_data['Churn']\n",
    "\n",
    "#Make a training and test set.\n",
    "X_train, X_test, y_train, y_test = train_test_split(X, y, test_size=0.33, random_state=42)"
   ]
  },
  {
   "cell_type": "markdown",
   "metadata": {},
   "source": [
    "### Feature Selection\n",
    "\n",
    "Principle Components Analysis works in a blackbox fashion, so it won't help us in isolating features important to predicting whether a customer will stay or leave, but let's include it to see if we can improve the performance of the models in predicting by cancelling out the noise of the 41 features."
   ]
  },
  {
   "cell_type": "code",
   "execution_count": 191,
   "metadata": {},
   "outputs": [
    {
     "data": {
      "image/png": "[encoded data removed]",
      "text/plain": [
       "<matplotlib.figure.Figure at 0x11b6fc6d8>"
      ]
     },
     "metadata": {},
     "output_type": "display_data"
    }
   ],
   "source": [
    "# Normalize the data so that all variables have a mean of 0 and standard deviation of 1.\n",
    "X = StandardScaler().fit_transform(X_train)\n",
    "\n",
    "# Transpose X to use with NumPy\n",
    "Xt = X.T\n",
    "Cx = np.cov(Xt)\n",
    "# Calculating eigenvalues and eigenvectors.\n",
    "eig_val_cov, eig_vec_cov = np.linalg.eig(Cx)\n",
    "# Plot the eigenvalues\n",
    "plt.plot(eig_val_cov)\n",
    "plt.show()"
   ]
  },
  {
   "cell_type": "markdown",
   "metadata": {},
   "source": [
    "Much of the variance is covered around the 3 or 4 mark, so let's create training data using PCA with 4 components."
   ]
  },
  {
   "cell_type": "code",
   "execution_count": 192,
   "metadata": {
    "collapsed": true
   },
   "outputs": [],
   "source": [
    "#Set up our first X using PCA\n",
    "pca = PCA(n_components=4)\n",
    "X_std_pca = pca.fit_transform(X_train)\n",
    "PCA_X = pd.DataFrame(X_std_pca)\n",
    "\n",
    "#Now for the Test\n",
    "pca = PCA(n_components=4)\n",
    "X_std_pca = pca.fit_transform(X_test)\n",
    "PCA_Xtest = pd.DataFrame(X_std_pca)"
   ]
  },
  {
   "cell_type": "markdown",
   "metadata": {},
   "source": [
    "SK Learn has a powerful tool that allows us to use Cross Validation to isolate the features that are most important in prediction called Recursive Feature Elimination. In the below model, Logistic Regression with l1 penalty -- Lasso Regression -- will be used as the base model to run iterations and eliminate the features that don't provide much of the variance. The Cross Validation feature will help ensure the model is not overfitting and will provide a recommended set of features to use in modelling below."
   ]
  },
  {
   "cell_type": "code",
   "execution_count": 193,
   "metadata": {},
   "outputs": [
    {
     "name": "stdout",
     "output_type": "stream",
     "text": [
      "                                   Features  Ranking  Support\n",
      "0                                    gender        1     True\n",
      "37                              tenure_norm        1     True\n",
      "35           PaymentMethod_Electronic check        1     True\n",
      "34    PaymentMethod_Credit card (automatic)        1     True\n",
      "33  PaymentMethod_Bank transfer (automatic)        1     True\n",
      "32                        Contract_Two year        1     True\n",
      "30                  Contract_Month-to-month        1     True\n",
      "29                      StreamingMovies_Yes        1     True\n",
      "26                          StreamingTV_Yes        1     True\n",
      "21                           TechSupport_No        1     True\n",
      "20                     DeviceProtection_Yes        1     True\n",
      "18                      DeviceProtection_No        1     True\n",
      "15                          OnlineBackup_No        1     True\n",
      "14                       OnlineSecurity_Yes        1     True\n",
      "39                        TotalCharges_norm        1     True\n",
      "12                        OnlineSecurity_No        1     True\n",
      "5                          PaperlessBilling        1     True\n",
      "6                          MultipleLines_No        1     True\n",
      "1                             SeniorCitizen        1     True\n",
      "4                              PhoneService        1     True\n",
      "9                       InternetService_DSL        1     True\n",
      "3                                Dependents        1     True\n",
      "11                       InternetService_No        1     True\n",
      "10              InternetService_Fiber optic        1     True\n",
      "2                                   Partner        2    False\n",
      "7            MultipleLines_No phone service        3    False\n",
      "31                        Contract_One year        4    False\n",
      "13       OnlineSecurity_No internet service        5    False\n",
      "23                          TechSupport_Yes        6    False\n",
      "24                           StreamingTV_No        7    False\n",
      "16         OnlineBackup_No internet service        8    False\n",
      "38                      MonthlyCharges_norm        9    False\n",
      "22          TechSupport_No internet service       10    False\n",
      "17                         OnlineBackup_Yes       11    False\n",
      "25          StreamingTV_No internet service       12    False\n",
      "27                       StreamingMovies_No       13    False\n",
      "28      StreamingMovies_No internet service       14    False\n",
      "8                         MultipleLines_Yes       15    False\n",
      "36               PaymentMethod_Mailed check       16    False\n",
      "19     DeviceProtection_No internet service       17    False\n",
      "It took the following time to complete this task: 0:00:02.622817\n"
     ]
    }
   ],
   "source": [
    "start = datetime.now()\n",
    "#Use Lasso/RFE with Cross Validation to get the best features for our second X\n",
    "lr = LogisticRegression(C=1, penalty='l1')\n",
    "\n",
    "#Set up our X,y\n",
    "X = X_train\n",
    "y = y_train\n",
    "\n",
    "#Set up our Recursive Feature Elimination\n",
    "rfe = RFECV(lr,cv=5) \n",
    "fit = rfe.fit(X,y)\n",
    "result_RFE = pd.DataFrame(list(zip(X.head(0), rfe.ranking_, rfe.support_)),\n",
    "                          columns=['Features','Ranking','Support'] ) \n",
    "print(result_RFE.sort_values('Ranking'))\n",
    "print('It took the following time to complete this task:', datetime.now() - start)"
   ]
  },
  {
   "cell_type": "code",
   "execution_count": 194,
   "metadata": {
    "collapsed": true
   },
   "outputs": [],
   "source": [
    "# Save the features to a list to use in our modeling\n",
    "true_values = result_RFE[result_RFE.Support == True]\n",
    "feature_list = []\n",
    "for g in true_values['Features']:\n",
    "    feature_list.append(g)\n",
    "\n",
    "# Create our X for the training and test sets using the recommended features.\n",
    "RFE_X = X_train[feature_list]\n",
    "RFE_Xtest = X_test[feature_list]"
   ]
  },
  {
   "cell_type": "markdown",
   "metadata": {},
   "source": [
    "Similiar to the above, it's possible to use Random Forest -- a bagging of decision trees based on subsamples of data -- to select features that best work for this model. The tool also will automatically generate each feature's importance with the higher the score, the more important the feature is in making accurate predictions."
   ]
  },
  {
   "cell_type": "code",
   "execution_count": 195,
   "metadata": {
    "scrolled": false
   },
   "outputs": [
    {
     "name": "stdout",
     "output_type": "stream",
     "text": [
      "('gender', 0.025745962062965172)\n",
      "('SeniorCitizen', 0.018265269850641648)\n",
      "('Partner', 0.020879505582464441)\n",
      "('Dependents', 0.017780429307045334)\n",
      "('PhoneService', 0.0041648192791041575)\n",
      "('PaperlessBilling', 0.024454852485974579)\n",
      "('MultipleLines_No', 0.013660408489764235)\n",
      "('MultipleLines_No phone service', 0.0040836680080775503)\n",
      "('MultipleLines_Yes', 0.012915415578988277)\n",
      "('InternetService_DSL', 0.013668119948671488)\n",
      "('InternetService_Fiber optic', 0.032935418171477347)\n",
      "('InternetService_No', 0.0044922601593260824)\n",
      "('OnlineSecurity_No', 0.031339743891889288)\n",
      "('OnlineSecurity_No internet service', 0.0043108371642981858)\n",
      "('OnlineSecurity_Yes', 0.012726420555991883)\n",
      "('OnlineBackup_No', 0.014321098926516141)\n",
      "('OnlineBackup_No internet service', 0.0045961468339232887)\n",
      "('OnlineBackup_Yes', 0.012378652255348104)\n",
      "('DeviceProtection_No', 0.01548460174880012)\n",
      "('DeviceProtection_No internet service', 0.0042593444629080192)\n",
      "('DeviceProtection_Yes', 0.011806691049207396)\n",
      "('TechSupport_No', 0.039717281934574758)\n",
      "('TechSupport_No internet service', 0.0044504715422121364)\n",
      "('TechSupport_Yes', 0.013298044971220946)\n",
      "('StreamingTV_No', 0.011099755757689379)\n",
      "('StreamingTV_No internet service', 0.0038156219413116887)\n",
      "('StreamingTV_Yes', 0.011505280070678393)\n",
      "('StreamingMovies_No', 0.011623424744253482)\n",
      "('StreamingMovies_No internet service', 0.0044280595594911052)\n",
      "('StreamingMovies_Yes', 0.011733889545652101)\n",
      "('Contract_Month-to-month', 0.077810577182536492)\n",
      "('Contract_One year', 0.014395993675687774)\n",
      "('Contract_Two year', 0.030114416038285408)\n",
      "('PaymentMethod_Bank transfer (automatic)', 0.01275275185420666)\n",
      "('PaymentMethod_Credit card (automatic)', 0.013902271492768991)\n",
      "('PaymentMethod_Electronic check', 0.027304814983778725)\n",
      "('PaymentMethod_Mailed check', 0.011630607035777851)\n",
      "('tenure_norm', 0.12711530639948701)\n",
      "('MonthlyCharges_norm', 0.12703808285794715)\n",
      "('TotalCharges_norm', 0.14199368259905745)\n",
      "It took the following time to complete this task: 0:00:02.404624\n"
     ]
    }
   ],
   "source": [
    "# Let's use Random Forest to select features.\n",
    "start = datetime.now()\n",
    "X = X_train\n",
    "y = y_train\n",
    "clf = RandomForestClassifier(n_estimators=1000, random_state=0, n_jobs=-1)\n",
    "feature_df = X.columns.get_values()\n",
    "feat_labels = feature_df.tolist()\n",
    "\n",
    "# Train the classifier\n",
    "clf.fit(X, y)\n",
    "# Create a selector object that will use the random forest classifier to identify\n",
    "# features that have an importance of more than 0.15\n",
    "for feature in zip(X, clf.feature_importances_):\n",
    "    print(feature)\n",
    "\n",
    "print('It took the following time to complete this task:', datetime.now() - start)"
   ]
  },
  {
   "cell_type": "markdown",
   "metadata": {},
   "source": [
    "This is very insightful because we can use the \"feature importances\" to see just how important each feature is in predicting whether a customer will leave or not. Select From Model will isolate all of the variables that clear a given threshold of importance. We will then have our features generated through Principle Components Analysis, Logistic Regression through Recursive Feature Elimination with Cross Validation, and a serious of Decision Trees in a Random Forest to see if we can improve upon the results of modeling the data without any manipulation or selection."
   ]
  },
  {
   "cell_type": "code",
   "execution_count": 196,
   "metadata": {},
   "outputs": [
    {
     "name": "stdout",
     "output_type": "stream",
     "text": [
      "InternetService_Fiber optic\n",
      "OnlineSecurity_No\n",
      "TechSupport_No\n",
      "Contract_Month-to-month\n",
      "Contract_Two year\n",
      "tenure_norm\n",
      "MonthlyCharges_norm\n",
      "TotalCharges_norm\n",
      "Number of features in this list: 8\n",
      "It took the following time to complete this task: 0:00:02.644722\n"
     ]
    }
   ],
   "source": [
    "start = datetime.now()\n",
    "\n",
    "# Retrieve the most important features by using SelectFromModel with a given threshold \n",
    "sfm = SelectFromModel(clf, threshold=0.03)\n",
    "rfcfeature_list =[]\n",
    "# Train the selector\n",
    "sfm.fit(X, y)\n",
    "for feature_list_index in sfm.get_support(indices=True):\n",
    "    rfcfeature_list.append(feat_labels[feature_list_index])\n",
    "    print(feat_labels[feature_list_index])\n",
    "\n",
    "RFC_X = X_train[rfcfeature_list]\n",
    "RFC_Xtest = X_test[rfcfeature_list]\n",
    "     \n",
    "print('Number of features in this list: {}'.format(len(rfcfeature_list)))\n",
    "print('It took the following time to complete this task:', datetime.now() - start)"
   ]
  },
  {
   "cell_type": "markdown",
   "metadata": {},
   "source": [
    "Of the binary categories that were of interest, Dependents and Paperless Billing were included in the RFE features while left out of the Random Forest selected features. However, Partner was left out of both of them meaning it didn't explain much of the variance.\n",
    "\n",
    "Of the features with multiple responses, whether the customer had online security, tech support and their type of contract (specifically, those on month-to-month and two year contracts) were selected through the above feature selection methods for their importance. This confirms what the count plots above were showing while telling us that things that looked pretty obvious like Electronic Check paying customers and those without online backup were not as important as they were not selected by either RFE or Random Forest to be included in the models.\n",
    "\n",
    "Let's see if these features perform as well or better than all of the features without engineering.\n",
    "\n",
    "## Run Models\n",
    "\n",
    "First let's create a dataframe to store the results."
   ]
  },
  {
   "cell_type": "code",
   "execution_count": 197,
   "metadata": {
    "collapsed": true
   },
   "outputs": [],
   "source": [
    "#Make a list to store our results for a comparison at the end\n",
    "results = pd.DataFrame(index=range(24))\n",
    "results['Model'] = ['Logistic Regression',\n",
    "                    'Logistic Regression',\n",
    "                    'Logistic Regression',\n",
    "                    'Lasso Regression',\n",
    "                    'Lasso Regression',\n",
    "                    'Lasso Regression',\n",
    "                    'Ridge Regression',\n",
    "                    'Ridge Regression',\n",
    "                    'Ridge Regression',\n",
    "                    'KNN', 'KNN', 'KNN',\n",
    "                    'SVC', 'SVC', 'SVC',\n",
    "                    'Decision Tree', 'Decision Tree', 'Decision Tree',\n",
    "                    'Random Forest',\n",
    "                    'Random Forest',\n",
    "                    'Random Forest',\n",
    "                    'Gradient Booster',\n",
    "                    'Gradient Booster',\n",
    "                    'Gradient Booster',\n",
    "                    ]\n",
    "results['Feature Selection'] = ['PCA', 'RFECV', 'Random Forest',\n",
    "                               'PCA', 'RFECV', 'Random Forest',\n",
    "                               'PCA', 'RFECV', 'Random Forest',\n",
    "                               'PCA', 'RFECV', 'Random Forest',\n",
    "                                'PCA', 'RFECV', 'Random Forest',\n",
    "                               'PCA', 'RFECV', 'Random Forest',\n",
    "                               'PCA', 'RFECV', 'Random Forest',\n",
    "                               'PCA', 'RFECV', 'Random Forest']\n",
    "\n",
    "\n",
    "Train_Score = []\n",
    "Test_Score = []\n",
    "Cross_Validation = []\n",
    "fold1 = []\n",
    "fold2 = []\n",
    "fold3 = []\n",
    "fold4 = []\n",
    "fold5 = []"
   ]
  },
  {
   "cell_type": "markdown",
   "metadata": {},
   "source": [
    "### Testing Function\n",
    "\n",
    "Now let's create a testing function so that all we have to do is set the test and its parameters to run the test and store the results."
   ]
  },
  {
   "cell_type": "code",
   "execution_count": 198,
   "metadata": {
    "collapsed": true
   },
   "outputs": [],
   "source": [
    "#Create a testing function that will fit the test with PCA and our selected features from both RFECV and Random Forest\n",
    "def testing_func(test):\n",
    "    # This is a local list used to temporarily store scores\n",
    "    scores=[]\n",
    "    # This list serves the For loop below putting the variables in\n",
    "    models = [[PCA_X, y], [PCA_Xtest, y_test], [RFE_X, y],[RFE_Xtest, y_test], [RFC_X, y], [RFC_Xtest, y_test]]\n",
    "    for x in models:\n",
    "        test.fit(x[0], x[1])\n",
    "        scores.append(test.score(x[0], x[1]))\n",
    "    \n",
    "    #Let's store the results from our local list into the main list\n",
    "    p=1\n",
    "    for s in scores:\n",
    "        p+=1\n",
    "        if p % 2 == 0:\n",
    "            Train_Score.append(s)\n",
    "        else:\n",
    "            Test_Score.append(s)\n",
    "\n",
    "    # Create a local dataframe to display our results cleanly\n",
    "    local_results_df=pd.DataFrame(scores, columns=['Accuracy'], index=['PCA Training', 'PCA Test', 'RFECV Training',\n",
    "                                                                       'RFECV Test', 'Random Forest Training' , \n",
    "                                                                       'Random Forest Test'])\n",
    "    print(local_results_df)\n",
    "    \n",
    "    #Create a list and put it through a For loop to do the Cross Validation\n",
    "    exes = [[PCA_X, 'PCA'], [RFE_X, 'RFECV'], [RFC_X, 'Random Forest']]\n",
    "    for x in exes:\n",
    "        Cross_Validation0 = cross_val_score(test, x[0], y, cv=5)\n",
    "        Cross_Validation.append(Cross_Validation0)\n",
    "        \n",
    "        #Divide up the results into 5 different folds for display\n",
    "        fold1.append(Cross_Validation0[0])\n",
    "        fold2.append(Cross_Validation0[1])\n",
    "        fold3.append(Cross_Validation0[2])\n",
    "        fold4.append(Cross_Validation0[3])\n",
    "        fold5.append(Cross_Validation0[4])\n",
    "        print('\\nCross Validation Score with 5 folds with {}:\\n{}'.format(x[1], Cross_Validation0))\n",
    "    "
   ]
  },
  {
   "cell_type": "markdown",
   "metadata": {},
   "source": [
    "From this point, we'll cycle through the models first setting the hyperparameters and then putting them through the function. There also is a timestamp on each one to gauge how much processing time is required for each model. The processing time isn't critical for this question, but could be critical in other situations. This study will be looking for accuracy over efficiency. However, with larger and larger data sets, efficiency could become an issue and it may be necessary to sacrifice accuracy to become more efficient in processing."
   ]
  },
  {
   "cell_type": "markdown",
   "metadata": {},
   "source": [
    "### Logistic Regression\n",
    "\n",
    "This model will use Logistic Regression with 3 different hyperparameters. Logistic Regression is an effective way to work with classification problems like this one by calculating the probabilities of each result and taking a log of the results creating a situation where linear regression can be used where it would otherwise not be possible."
   ]
  },
  {
   "cell_type": "code",
   "execution_count": 199,
   "metadata": {},
   "outputs": [
    {
     "name": "stdout",
     "output_type": "stream",
     "text": [
      "                        Accuracy\n",
      "PCA Training            0.750000\n",
      "PCA Test                0.737439\n",
      "RFECV Training          0.765974\n",
      "RFECV Test              0.765802\n",
      "Random Forest Training  0.753594\n",
      "Random Forest Test      0.752026\n",
      "\n",
      "Cross Validation Score with 5 folds with PCA:\n",
      "[ 0.70916335  0.75896414  0.772       0.73        0.788     ]\n",
      "\n",
      "Cross Validation Score with 5 folds with RFECV:\n",
      "[ 0.7250996   0.78884462  0.754       0.746       0.78      ]\n",
      "\n",
      "Cross Validation Score with 5 folds with Random Forest:\n",
      "[ 0.70717131  0.78486056  0.75        0.752       0.764     ]\n",
      "It took the following time to complete this task: 0:00:00.300423\n"
     ]
    }
   ],
   "source": [
    "start = datetime.now()\n",
    "#Let's compare our features in various models starting with Logistic Regression\n",
    "# Set the C to a high number to minimize the impact of the penalty\n",
    "lr = LogisticRegression(C=9e9)\n",
    "testing_func(lr)\n",
    "\n",
    "print('It took the following time to complete this task:', datetime.now() - start)"
   ]
  },
  {
   "cell_type": "markdown",
   "metadata": {},
   "source": [
    "These results are weaker than the results achieved with the full data set without feature engineering which means that PCA is not fully covering the variance from the full data set and the isolated features, while achieving a majority, are not fully performing to the same level. Even though the accuracy has dropped off, there is value in isolating the important features for business use, which will be explained later.\n",
    "\n",
    "### LASSO Regression\n",
    "\n",
    "Now to try Lasso Regression which penalizes the regression model by adding the sum of the absolute values of the coefficients. The model will use iterations to pare features with little importance to the prediction and set their coefficients to zero based on the Lambda (\"C\") set. So first, let's see how Lambda interacts with the model by running the model with a range of Lambdas."
   ]
  },
  {
   "cell_type": "code",
   "execution_count": 200,
   "metadata": {},
   "outputs": [
    {
     "data": {
      "image/png": "[encoded data removed]",
      "text/plain": [
       "<matplotlib.figure.Figure at 0x11829e0f0>"
      ]
     },
     "metadata": {},
     "output_type": "display_data"
    }
   ],
   "source": [
    "# Try to figure out the best Lambda for Lasso by running the test with the PCA X variable and mapping them out.\n",
    "# Temporary lists to store the results\n",
    "yl = []\n",
    "cl = []\n",
    "\n",
    "# For loop to run the model with different Lambdas represented as L\n",
    "numb = np.arange(0.01, 1, 0.01)\n",
    "for l in numb:\n",
    "    lr = LogisticRegression(C=l, penalty='l1')\n",
    "    lr.fit(PCA_X, y)\n",
    "    yl.append(lr.score(PCA_X, y))\n",
    "    cl.append(np.mean(cross_val_score(lr, PCA_X, y, cv=5)))\n",
    "\n",
    "# Plot the results of the accuracy and Cross Validation Score\n",
    "fig = plt.figure()\n",
    "ax1 = fig.add_subplot(111)\n",
    "plt.xlabel('Lambda')\n",
    "plt.ylabel('Score')\n",
    "ax1.scatter(x=numb, y=yl, c='b', marker=\"s\", label='Score')\n",
    "ax1.scatter(x=numb, y=cl, s=10, c='r', marker=\"^\", label='Cross Validation')\n",
    "plt.legend(loc='upper left');\n",
    "plt.show()"
   ]
  },
  {
   "cell_type": "markdown",
   "metadata": {},
   "source": [
    "The score and mean of Cross Validation scores is very tight because the Lasso is effective in fitting a model without overfitting. With the PCA-derived features, the Cross Validation mean levels between 0.4 and 0.6 and then drops slightly, so the model below will use 0.6."
   ]
  },
  {
   "cell_type": "code",
   "execution_count": 201,
   "metadata": {},
   "outputs": [
    {
     "name": "stdout",
     "output_type": "stream",
     "text": [
      "                        Accuracy\n",
      "PCA Training            0.750399\n",
      "PCA Test                0.740681\n",
      "RFECV Training          0.766374\n",
      "RFECV Test              0.757699\n",
      "Random Forest Training  0.755192\n",
      "Random Forest Test      0.748784\n",
      "\n",
      "Cross Validation Score with 5 folds with PCA:\n",
      "[ 0.71115538  0.76095618  0.772       0.73        0.788     ]\n",
      "\n",
      "Cross Validation Score with 5 folds with RFECV:\n",
      "[ 0.7250996   0.79681275  0.756       0.75        0.78      ]\n",
      "\n",
      "Cross Validation Score with 5 folds with Random Forest:\n",
      "[ 0.70717131  0.78286853  0.75        0.748       0.768     ]\n",
      "It took the following time to complete this task: 0:00:00.217029\n"
     ]
    }
   ],
   "source": [
    "# The accuracy goes up along with the CV score and levels off around 0.6.\n",
    "start = datetime.now()\n",
    "lr = LogisticRegression(C=0.6, penalty='l1')\n",
    "testing_func(lr)\n",
    "\n",
    "print('It took the following time to complete this task:', datetime.now() - start)"
   ]
  },
  {
   "cell_type": "markdown",
   "metadata": {},
   "source": [
    "The scores are not an improvement on the scores from the model above without any data manipulation or feature selection though the performance is not that far off using fewer features to achieve similar results.\n",
    "\n",
    "### Ridge Regression\n",
    "\n",
    "Ridge Regression is similar to the LASSO Regression model above except instead of penalizing using the Absolute Values, it uses a much more aggressive penalty of the sum of the square of the coefficients multiplied by the regularization parameter, Lambda. The higher the Lambda, the more aggressive the penalty."
   ]
  },
  {
   "cell_type": "code",
   "execution_count": 202,
   "metadata": {},
   "outputs": [
    {
     "data": {
      "image/png": "[encoded data removed]",
      "text/plain": [
       "<matplotlib.figure.Figure at 0x119081b38>"
      ]
     },
     "metadata": {},
     "output_type": "display_data"
    }
   ],
   "source": [
    "# Repeat the process for Ridge Regression\n",
    "# Same kind of temporary list.\n",
    "yr = []\n",
    "cr = []\n",
    "#Run the Lambdas as l through a high number like 10000 using the PCA_X\n",
    "numb = np.arange(1, 10000, 10)\n",
    "for l in numb:\n",
    "    lr = LogisticRegression(C=l, penalty='l2')\n",
    "    lr.fit(PCA_X, y)\n",
    "    yr.append(lr.score(PCA_X, y))\n",
    "    cr.append(np.mean(cross_val_score(lr, PCA_X, y, cv=5)))\n",
    "\n",
    "# Plot the results.\n",
    "fig = plt.figure()\n",
    "ax1 = fig.add_subplot(111)\n",
    "plt.xlabel('Lambda')\n",
    "plt.ylabel('Score')\n",
    "ax1.scatter(x=numb, y=yr, c='b', marker=\"s\", label='Score')\n",
    "ax1.scatter(x=numb, y=cr, s=10, c='r', marker=\"^\", label='Cross Validation')\n",
    "plt.legend(loc='upper left');\n",
    "plt.show()"
   ]
  },
  {
   "cell_type": "markdown",
   "metadata": {},
   "source": [
    "The Cross Validation score drops after 1 and flatlines, so the model below will use 1 for Lambda."
   ]
  },
  {
   "cell_type": "code",
   "execution_count": 203,
   "metadata": {},
   "outputs": [
    {
     "name": "stdout",
     "output_type": "stream",
     "text": [
      "                        Accuracy\n",
      "PCA Training            0.750000\n",
      "PCA Test                0.737439\n",
      "RFECV Training          0.765575\n",
      "RFECV Test              0.766613\n",
      "Random Forest Training  0.754792\n",
      "Random Forest Test      0.747164\n",
      "\n",
      "Cross Validation Score with 5 folds with PCA:\n",
      "[ 0.70916335  0.75896414  0.77        0.73        0.788     ]\n",
      "\n",
      "Cross Validation Score with 5 folds with RFECV:\n",
      "[ 0.7250996   0.78884462  0.756       0.744       0.778     ]\n",
      "\n",
      "Cross Validation Score with 5 folds with Random Forest:\n",
      "[ 0.70916335  0.78685259  0.75        0.75        0.766     ]\n",
      "It took the following time to complete this task: 0:00:00.170394\n"
     ]
    }
   ],
   "source": [
    "#It's a flat line across the board, so we'll use 1.\n",
    "start = datetime.now()\n",
    "lr = LogisticRegression(C=1, penalty='l2')\n",
    "testing_func(lr)\n",
    "\n",
    "print('It took the following time to complete this task:', datetime.now() - start)"
   ]
  },
  {
   "cell_type": "markdown",
   "metadata": {},
   "source": [
    "Again, these results are not as high as the results generated using the data set without any feature engineering, but it performs nearly as well with fewer features making it potentially the model to use in a production package.\n",
    "\n",
    "### K-Nearest Neighbor\n",
    "\n",
    "This is a very simple model that makes predictions based on the closest observation(s). Lower numbers for K tend to overfit because the prediction line is following each occurence in a data set closely. First, let's look for the optimal number of Ks similar to how we examined Ridge and LASSO for Lambda above."
   ]
  },
  {
   "cell_type": "code",
   "execution_count": 204,
   "metadata": {},
   "outputs": [
    {
     "data": {
      "image/png": "[encoded data removed]",
      "text/plain": [
       "<matplotlib.figure.Figure at 0x11a55d6d8>"
      ]
     },
     "metadata": {},
     "output_type": "display_data"
    },
    {
     "name": "stdout",
     "output_type": "stream",
     "text": [
      "It took the following time to complete this task: 0:00:01.049205\n"
     ]
    }
   ],
   "source": [
    "# This runs the same kind of optimization analysis on KNN.\n",
    "start = datetime.now()\n",
    "# Temporary lists to store the results\n",
    "yn = []\n",
    "cv = []\n",
    "\n",
    "# Run the model with number of neighbors as n again using the PCA_X.\n",
    "numb = np.arange(1, 20, 1)\n",
    "for n in numb:\n",
    "    neighbors = KNeighborsClassifier(n_neighbors=n)\n",
    "    neighbors.fit(PCA_X, y)\n",
    "    yn.append(neighbors.score(PCA_X, y))\n",
    "    cv.append(np.mean(cross_val_score(neighbors, PCA_X, y, cv=5)))\n",
    "\n",
    "# Create a variable equal to the number of neighbors that created the highest CV\n",
    "neighbor_number = cv.index(max(cv)) + 1\n",
    "\n",
    "# Plot the results\n",
    "fig = plt.figure()\n",
    "ax1 = fig.add_subplot(111)\n",
    "plt.xlabel('Number of Neighbors')\n",
    "plt.ylabel('Score')\n",
    "ax1.scatter(x=numb, y=yn, c='b', marker=\"s\", label='Score')\n",
    "ax1.scatter(x=numb, y=cv, s=10, c='r', marker=\"^\", label='Cross Validation')\n",
    "plt.legend(loc='upper left');\n",
    "plt.show()\n",
    "\n",
    "print('It took the following time to complete this task:', datetime.now() - start)"
   ]
  },
  {
   "cell_type": "code",
   "execution_count": 205,
   "metadata": {},
   "outputs": [
    {
     "name": "stdout",
     "output_type": "stream",
     "text": [
      "                        Accuracy\n",
      "PCA Training            0.776757\n",
      "PCA Test                0.769854\n",
      "RFECV Training          0.775160\n",
      "RFECV Test              0.756078\n",
      "Random Forest Training  0.778355\n",
      "Random Forest Test      0.779579\n",
      "\n",
      "Cross Validation Score with 5 folds with PCA:\n",
      "[ 0.73306773  0.75298805  0.742       0.73        0.75      ]\n",
      "\n",
      "Cross Validation Score with 5 folds with RFECV:\n",
      "[ 0.70916335  0.75498008  0.74        0.724       0.764     ]\n",
      "\n",
      "Cross Validation Score with 5 folds with Random Forest:\n",
      "[ 0.7310757   0.75697211  0.758       0.744       0.762     ]\n",
      "It took the following time to complete this task: 0:00:00.899345\n"
     ]
    }
   ],
   "source": [
    "# The accuracy steadily declines, but it is becoming less overfitted while the CV score remains steady. \n",
    "start = datetime.now()\n",
    "neighbors = KNeighborsClassifier(n_neighbors=neighbor_number)\n",
    "testing_func(neighbors)\n",
    "\n",
    "print('It took the following time to complete this task:', datetime.now() - start)"
   ]
  },
  {
   "cell_type": "markdown",
   "metadata": {},
   "source": [
    "### Support Vector Machines\n",
    "\n",
    "SVM uses a multi-dimensional hyperplane to classify based on the regularization parameter (\"C\") and Gamma. A lower C will look for a larger marigin hyperplane even if it misclassifies points leading to less overfitting, but potentially lower overall accuracy. Gamma looks at each individual training set point and which ones are considered. A higher gamma means that only close points will be considered while a low gamma means points far away will be considered when determining the hyperplane.\n",
    "\n",
    "Luckily, Grid Search CV exists to assist in the optimization of \"C\" and gamma."
   ]
  },
  {
   "cell_type": "code",
   "execution_count": 206,
   "metadata": {},
   "outputs": [
    {
     "name": "stdout",
     "output_type": "stream",
     "text": [
      "The best parameters are {'C': 5, 'gamma': 0.1} with a score of %0.7671725239616614\n",
      "It took the following time to complete this task: 0:00:17.504406\n"
     ]
    }
   ],
   "source": [
    "# SKlearn has a tool that will optimize SVC\n",
    "start = datetime.now()\n",
    "svc = SVC()\n",
    "# Set the hyperparameters\n",
    "parameters = {'C':[1,2,3,4,5], 'gamma': \n",
    "              [0.01,0.02,0.03,0.04,0.05,0.10]}\n",
    "# Run it through the tool.\n",
    "grid = GridSearchCV(svc, parameters).fit(RFE_X, y)\n",
    "predicted = grid.predict(RFE_Xtest)\n",
    "print(\"The best parameters are {} with a score of %{}\".format(grid.best_params_, grid.best_score_))\n",
    "\n",
    "#Put those parameters in a dictionary to call.\n",
    "parameters = grid.best_params_\n",
    "\n",
    "print('It took the following time to complete this task:', datetime.now() - start)"
   ]
  },
  {
   "cell_type": "code",
   "execution_count": 207,
   "metadata": {},
   "outputs": [
    {
     "name": "stdout",
     "output_type": "stream",
     "text": [
      "                        Accuracy\n",
      "PCA Training            0.748403\n",
      "PCA Test                0.746353\n",
      "RFECV Training          0.817891\n",
      "RFECV Test              0.837925\n",
      "Random Forest Training  0.755192\n",
      "Random Forest Test      0.752026\n",
      "\n",
      "Cross Validation Score with 5 folds with PCA:\n",
      "[ 0.71115538  0.75896414  0.752       0.728       0.784     ]\n",
      "\n",
      "Cross Validation Score with 5 folds with RFECV:\n",
      "[ 0.73306773  0.76095618  0.772       0.748       0.778     ]\n",
      "\n",
      "Cross Validation Score with 5 folds with Random Forest:\n",
      "[ 0.72111554  0.79083665  0.754       0.736       0.772     ]\n",
      "It took the following time to complete this task: 0:00:02.871638\n"
     ]
    }
   ],
   "source": [
    "# Utilizing the results from above, we can run SVC aimed at the highest CV score.\n",
    "start = datetime.now()\n",
    "svc = SVC(C=parameters['C'], gamma=parameters['gamma'])\n",
    "testing_func(svc)\n",
    "\n",
    "print('It took the following time to complete this task:', datetime.now() - start)"
   ]
  },
  {
   "cell_type": "markdown",
   "metadata": {},
   "source": [
    "The optimized hyperparameters do a good job of preventing overfitting, but overall, the model underperforms. Perhaps, if the data set and training set were larger, it would perform better."
   ]
  },
  {
   "cell_type": "markdown",
   "metadata": {},
   "source": [
    "### Decision Trees\n",
    "\n",
    "Decision Trees divide the data set into smaller data sets based on features until the data set is small enough to fall under one label (i.e.Churn: yes or no). The features become nodes with the outcome as leaves. The decision of how to split is made by the amount of information gained or entropy reduced. A tree with too much depth can create overfitting, so it is important to optimize the depth of the tree."
   ]
  },
  {
   "cell_type": "code",
   "execution_count": 208,
   "metadata": {},
   "outputs": [
    {
     "name": "stdout",
     "output_type": "stream",
     "text": [
      "The best parameters are {'max_depth': 4} with a score of %0.740814696485623\n",
      "It took the following time to complete this task: 0:00:00.263278\n"
     ]
    }
   ],
   "source": [
    "# Run the same optimization tool on Decision Tree.\n",
    "\n",
    "start = datetime.now()\n",
    "clf = DecisionTreeClassifier(criterion='entropy')\n",
    "parameters = {'max_depth':[1,2,3,4,5,6,7,8,9,10]}\n",
    "grid = GridSearchCV(clf, parameters).fit(PCA_X, y)\n",
    "predicted = grid.predict(PCA_Xtest)\n",
    "print(\"The best parameters are {} with a score of %{}\".format(grid.best_params_, grid.best_score_))\n",
    "\n",
    "#Put those parameters in a dictionary to call.\n",
    "parameters = grid.best_params_\n",
    "\n",
    "print('It took the following time to complete this task:', datetime.now() - start)"
   ]
  },
  {
   "cell_type": "code",
   "execution_count": 209,
   "metadata": {},
   "outputs": [
    {
     "name": "stdout",
     "output_type": "stream",
     "text": [
      "                        Accuracy\n",
      "PCA Training            0.757987\n",
      "PCA Test                0.752026\n",
      "RFECV Training          0.761981\n",
      "RFECV Test              0.758509\n",
      "Random Forest Training  0.761981\n",
      "Random Forest Test      0.754457\n",
      "\n",
      "Cross Validation Score with 5 folds with PCA:\n",
      "[ 0.69521912  0.72709163  0.754       0.718       0.77      ]\n",
      "\n",
      "Cross Validation Score with 5 folds with RFECV:\n",
      "[ 0.73505976  0.75498008  0.738       0.756       0.764     ]\n",
      "\n",
      "Cross Validation Score with 5 folds with Random Forest:\n",
      "[ 0.72310757  0.75298805  0.738       0.744       0.764     ]\n",
      "It took the following time to complete this task: 0:00:00.160049\n"
     ]
    }
   ],
   "source": [
    "# Run the selected hyperparameters from above.\n",
    "start = datetime.now()\n",
    "clf = DecisionTreeClassifier(criterion='entropy', max_depth=parameters['max_depth'])\n",
    "testing_func(clf)\n",
    "\n",
    "print('It took the following time to complete this task:', datetime.now() - start)"
   ]
  },
  {
   "cell_type": "markdown",
   "metadata": {},
   "source": [
    "The optimization took care of the issue of overfitting, but the overall model performs not as well as the model without feature engineering. The next two models will utilize a series of Decision Trees to see if a stronger model can be made through the combination of weaker models.\n",
    "\n",
    "### Random Forest\n",
    "\n",
    "As explained above, Random Forest takes multiple subsamples (ensembles) of the data set that are equally likely to appear in the sample and run independent decision trees on them. It then bags them together and uses some sort of weighting method to combine them.\n",
    "\n",
    "Let's utilize Grid Search CV to tune the hyperparameters. Since we have already used Random Forest to generate feature importance, let's use them below to tune the model."
   ]
  },
  {
   "cell_type": "code",
   "execution_count": 210,
   "metadata": {},
   "outputs": [
    {
     "name": "stdout",
     "output_type": "stream",
     "text": [
      "The best parameters are {'max_depth': 8, 'n_estimators': 100} with a score of %0.777555910543131\n",
      "It took the following time to complete this task: 0:03:01.316303\n"
     ]
    }
   ],
   "source": [
    "#Run the same optimization tool for Random Forest.\n",
    "\n",
    "start = datetime.now()\n",
    "rfc = RandomForestClassifier()\n",
    "parameters = {'n_estimators':[10, 100, 1000, 5000], 'max_depth':[2,4,6,8,10]}\n",
    "grid = GridSearchCV(rfc, parameters).fit(RFE_X, y)\n",
    "predicted = grid.predict(RFE_Xtest)\n",
    "print(\"The best parameters are {} with a score of %{}\".format(grid.best_params_, grid.best_score_))\n",
    "\n",
    "#Put those parameters in a dictionary to call.\n",
    "parameters = grid.best_params_\n",
    "print('It took the following time to complete this task:', datetime.now() - start)"
   ]
  },
  {
   "cell_type": "code",
   "execution_count": 211,
   "metadata": {},
   "outputs": [
    {
     "name": "stdout",
     "output_type": "stream",
     "text": [
      "                        Accuracy\n",
      "PCA Training            0.750799\n",
      "PCA Test                0.741491\n",
      "RFECV Training          0.758387\n",
      "RFECV Test              0.759319\n",
      "Random Forest Training  0.756789\n",
      "Random Forest Test      0.757699\n",
      "\n",
      "Cross Validation Score with 5 folds with PCA:\n",
      "[ 0.687251    0.74302789  0.756       0.728       0.76      ]\n",
      "\n",
      "Cross Validation Score with 5 folds with RFECV:\n",
      "[ 0.72111554  0.79083665  0.752       0.75        0.786     ]\n",
      "\n",
      "Cross Validation Score with 5 folds with Random Forest:\n",
      "[ 0.72310757  0.79282869  0.748       0.748       0.772     ]\n",
      "It took the following time to complete this task: 0:00:03.747945\n"
     ]
    }
   ],
   "source": [
    "# Run Random Forest using the parameters selected above.\n",
    "start = datetime.now()\n",
    "rfc = RandomForestClassifier(n_estimators=parameters['n_estimators'], \n",
    "                             max_depth=parameters['max_depth'], \n",
    "                             min_samples_leaf=1, \n",
    "                             max_leaf_nodes=4)\n",
    "\n",
    "testing_func(rfc)\n",
    "\n",
    "print('It took the following time to complete this task:', datetime.now() - start)"
   ]
  },
  {
   "cell_type": "markdown",
   "metadata": {},
   "source": [
    "### Gradient Boosting\n",
    "\n",
    "This last method is similar to Random Forest in that it uses an ensemble of sub-samples to find the best prediction model. However, instead of taking an assortment of independent sub-samples and combining the predictors to come up with a stronger model, Gradient Boosting creates predictors sequentially learning from the predictor before it. Since it learns from mistakes made before it, it typically takes fewer iterations to come up with a stronger model. If the process is allowed to iterate too much, it will overfit the model and not perform well on the test data set."
   ]
  },
  {
   "cell_type": "code",
   "execution_count": 212,
   "metadata": {},
   "outputs": [
    {
     "name": "stdout",
     "output_type": "stream",
     "text": [
      "The best parameters are {'learning_rate': 0.25, 'max_depth': 2, 'n_estimators': 20} with a score of %0.7667731629392971\n",
      "It took the following time to complete this task: 0:00:45.029435\n"
     ]
    }
   ],
   "source": [
    "# Run the same optimization tool for gradient boosting\n",
    "start = datetime.now()\n",
    "clf = GradientBoostingClassifier()\n",
    "parameters = {'n_estimators':[1, 10, 20, 50], 'learning_rate': [0.1, 0.25, 0.5, 0.75, 1.0],\n",
    "              'max_depth':[2,4,6,8,10]}\n",
    "grid = GridSearchCV(clf, parameters).fit(RFE_X, y)\n",
    "predicted = grid.predict(RFE_Xtest)\n",
    "print(\"The best parameters are {} with a score of %{}\".format(grid.best_params_, grid.best_score_))\n",
    "\n",
    "#Put those parameters in a dictionary to call.\n",
    "parameters = grid.best_params_\n",
    "print('It took the following time to complete this task:', datetime.now() - start)"
   ]
  },
  {
   "cell_type": "markdown",
   "metadata": {},
   "source": [
    "Only 10 estimators compared to the 1000 than Grid Search found was optimal for Random Forest."
   ]
  },
  {
   "cell_type": "code",
   "execution_count": 213,
   "metadata": {},
   "outputs": [
    {
     "name": "stdout",
     "output_type": "stream",
     "text": [
      "                        Accuracy\n",
      "PCA Training            0.762380\n",
      "PCA Test                0.764992\n",
      "RFECV Training          0.773163\n",
      "RFECV Test              0.774716\n",
      "Random Forest Training  0.771965\n",
      "Random Forest Test      0.782820\n",
      "\n",
      "Cross Validation Score with 5 folds with PCA:\n",
      "[ 0.71713147  0.74302789  0.752       0.722       0.77      ]\n",
      "\n",
      "Cross Validation Score with 5 folds with RFECV:\n",
      "[ 0.74103586  0.79681275  0.762       0.76        0.776     ]\n",
      "\n",
      "Cross Validation Score with 5 folds with Random Forest:\n",
      "[ 0.73505976  0.76693227  0.762       0.758       0.758     ]\n",
      "It took the following time to complete this task: 0:00:00.573277\n"
     ]
    }
   ],
   "source": [
    "# Run Gradient Boosting using the above.\n",
    "start = datetime.now()\n",
    "clf = GradientBoostingClassifier(loss='exponential', learning_rate=parameters['learning_rate'], \n",
    "                                 n_estimators=parameters['n_estimators'], subsample=0.75, \n",
    "                                 max_depth=parameters['max_depth'])\n",
    "\n",
    "testing_func(clf)\n",
    "\n",
    "print('It took the following time to complete this task:', datetime.now() - start)"
   ]
  },
  {
   "cell_type": "markdown",
   "metadata": {},
   "source": [
    "This model performed the best and took vastly less time to find the strongest model than Random Forest."
   ]
  },
  {
   "cell_type": "markdown",
   "metadata": {},
   "source": [
    "## Results"
   ]
  },
  {
   "cell_type": "code",
   "execution_count": 214,
   "metadata": {},
   "outputs": [
    {
     "data": {
      "text/html": [
       "<div>\n",
       "<style>\n",
       "    .dataframe thead tr:only-child th {\n",
       "        text-align: right;\n",
       "    }\n",
       "\n",
       "    .dataframe thead th {\n",
       "        text-align: left;\n",
       "    }\n",
       "\n",
       "    .dataframe tbody tr th {\n",
       "        vertical-align: top;\n",
       "    }\n",
       "</style>\n",
       "<table border=\"1\" class=\"dataframe\">\n",
       "  <thead>\n",
       "    <tr style=\"text-align: right;\">\n",
       "      <th></th>\n",
       "      <th>Model</th>\n",
       "      <th>Feature Selection</th>\n",
       "      <th>CV Fold 1</th>\n",
       "      <th>CV Fold 2</th>\n",
       "      <th>CV Fold 3</th>\n",
       "      <th>CV Fold 4</th>\n",
       "      <th>CV Fold 5</th>\n",
       "      <th>Test Score</th>\n",
       "      <th>Train Score</th>\n",
       "      <th>CV Mean</th>\n",
       "    </tr>\n",
       "  </thead>\n",
       "  <tbody>\n",
       "    <tr>\n",
       "      <th>0</th>\n",
       "      <td>Logistic Regression</td>\n",
       "      <td>PCA</td>\n",
       "      <td>0.709163</td>\n",
       "      <td>0.758964</td>\n",
       "      <td>0.772</td>\n",
       "      <td>0.730</td>\n",
       "      <td>0.788</td>\n",
       "      <td>0.737439</td>\n",
       "      <td>0.750000</td>\n",
       "      <td>0.751625</td>\n",
       "    </tr>\n",
       "    <tr>\n",
       "      <th>1</th>\n",
       "      <td>Logistic Regression</td>\n",
       "      <td>RFECV</td>\n",
       "      <td>0.725100</td>\n",
       "      <td>0.788845</td>\n",
       "      <td>0.754</td>\n",
       "      <td>0.746</td>\n",
       "      <td>0.780</td>\n",
       "      <td>0.765802</td>\n",
       "      <td>0.765974</td>\n",
       "      <td>0.758789</td>\n",
       "    </tr>\n",
       "    <tr>\n",
       "      <th>2</th>\n",
       "      <td>Logistic Regression</td>\n",
       "      <td>Random Forest</td>\n",
       "      <td>0.707171</td>\n",
       "      <td>0.784861</td>\n",
       "      <td>0.750</td>\n",
       "      <td>0.752</td>\n",
       "      <td>0.764</td>\n",
       "      <td>0.752026</td>\n",
       "      <td>0.753594</td>\n",
       "      <td>0.751606</td>\n",
       "    </tr>\n",
       "    <tr>\n",
       "      <th>3</th>\n",
       "      <td>Lasso Regression</td>\n",
       "      <td>PCA</td>\n",
       "      <td>0.711155</td>\n",
       "      <td>0.760956</td>\n",
       "      <td>0.772</td>\n",
       "      <td>0.730</td>\n",
       "      <td>0.788</td>\n",
       "      <td>0.740681</td>\n",
       "      <td>0.750399</td>\n",
       "      <td>0.752422</td>\n",
       "    </tr>\n",
       "    <tr>\n",
       "      <th>4</th>\n",
       "      <td>Lasso Regression</td>\n",
       "      <td>RFECV</td>\n",
       "      <td>0.725100</td>\n",
       "      <td>0.796813</td>\n",
       "      <td>0.756</td>\n",
       "      <td>0.750</td>\n",
       "      <td>0.780</td>\n",
       "      <td>0.757699</td>\n",
       "      <td>0.766374</td>\n",
       "      <td>0.761582</td>\n",
       "    </tr>\n",
       "    <tr>\n",
       "      <th>5</th>\n",
       "      <td>Lasso Regression</td>\n",
       "      <td>Random Forest</td>\n",
       "      <td>0.707171</td>\n",
       "      <td>0.782869</td>\n",
       "      <td>0.750</td>\n",
       "      <td>0.748</td>\n",
       "      <td>0.768</td>\n",
       "      <td>0.748784</td>\n",
       "      <td>0.755192</td>\n",
       "      <td>0.751208</td>\n",
       "    </tr>\n",
       "    <tr>\n",
       "      <th>6</th>\n",
       "      <td>Ridge Regression</td>\n",
       "      <td>PCA</td>\n",
       "      <td>0.709163</td>\n",
       "      <td>0.758964</td>\n",
       "      <td>0.770</td>\n",
       "      <td>0.730</td>\n",
       "      <td>0.788</td>\n",
       "      <td>0.737439</td>\n",
       "      <td>0.750000</td>\n",
       "      <td>0.751225</td>\n",
       "    </tr>\n",
       "    <tr>\n",
       "      <th>7</th>\n",
       "      <td>Ridge Regression</td>\n",
       "      <td>RFECV</td>\n",
       "      <td>0.725100</td>\n",
       "      <td>0.788845</td>\n",
       "      <td>0.756</td>\n",
       "      <td>0.744</td>\n",
       "      <td>0.778</td>\n",
       "      <td>0.766613</td>\n",
       "      <td>0.765575</td>\n",
       "      <td>0.758389</td>\n",
       "    </tr>\n",
       "    <tr>\n",
       "      <th>8</th>\n",
       "      <td>Ridge Regression</td>\n",
       "      <td>Random Forest</td>\n",
       "      <td>0.709163</td>\n",
       "      <td>0.786853</td>\n",
       "      <td>0.750</td>\n",
       "      <td>0.750</td>\n",
       "      <td>0.766</td>\n",
       "      <td>0.747164</td>\n",
       "      <td>0.754792</td>\n",
       "      <td>0.752403</td>\n",
       "    </tr>\n",
       "    <tr>\n",
       "      <th>9</th>\n",
       "      <td>KNN</td>\n",
       "      <td>PCA</td>\n",
       "      <td>0.733068</td>\n",
       "      <td>0.752988</td>\n",
       "      <td>0.742</td>\n",
       "      <td>0.730</td>\n",
       "      <td>0.750</td>\n",
       "      <td>0.769854</td>\n",
       "      <td>0.776757</td>\n",
       "      <td>0.741611</td>\n",
       "    </tr>\n",
       "    <tr>\n",
       "      <th>10</th>\n",
       "      <td>KNN</td>\n",
       "      <td>RFECV</td>\n",
       "      <td>0.709163</td>\n",
       "      <td>0.754980</td>\n",
       "      <td>0.740</td>\n",
       "      <td>0.724</td>\n",
       "      <td>0.764</td>\n",
       "      <td>0.756078</td>\n",
       "      <td>0.775160</td>\n",
       "      <td>0.738429</td>\n",
       "    </tr>\n",
       "    <tr>\n",
       "      <th>11</th>\n",
       "      <td>KNN</td>\n",
       "      <td>Random Forest</td>\n",
       "      <td>0.731076</td>\n",
       "      <td>0.756972</td>\n",
       "      <td>0.758</td>\n",
       "      <td>0.744</td>\n",
       "      <td>0.762</td>\n",
       "      <td>0.779579</td>\n",
       "      <td>0.778355</td>\n",
       "      <td>0.750410</td>\n",
       "    </tr>\n",
       "    <tr>\n",
       "      <th>12</th>\n",
       "      <td>SVC</td>\n",
       "      <td>PCA</td>\n",
       "      <td>0.711155</td>\n",
       "      <td>0.758964</td>\n",
       "      <td>0.752</td>\n",
       "      <td>0.728</td>\n",
       "      <td>0.784</td>\n",
       "      <td>0.746353</td>\n",
       "      <td>0.748403</td>\n",
       "      <td>0.746824</td>\n",
       "    </tr>\n",
       "    <tr>\n",
       "      <th>13</th>\n",
       "      <td>SVC</td>\n",
       "      <td>RFECV</td>\n",
       "      <td>0.733068</td>\n",
       "      <td>0.760956</td>\n",
       "      <td>0.772</td>\n",
       "      <td>0.748</td>\n",
       "      <td>0.778</td>\n",
       "      <td>0.837925</td>\n",
       "      <td>0.817891</td>\n",
       "      <td>0.758405</td>\n",
       "    </tr>\n",
       "    <tr>\n",
       "      <th>14</th>\n",
       "      <td>SVC</td>\n",
       "      <td>Random Forest</td>\n",
       "      <td>0.721116</td>\n",
       "      <td>0.790837</td>\n",
       "      <td>0.754</td>\n",
       "      <td>0.736</td>\n",
       "      <td>0.772</td>\n",
       "      <td>0.752026</td>\n",
       "      <td>0.755192</td>\n",
       "      <td>0.754790</td>\n",
       "    </tr>\n",
       "    <tr>\n",
       "      <th>15</th>\n",
       "      <td>Decision Tree</td>\n",
       "      <td>PCA</td>\n",
       "      <td>0.695219</td>\n",
       "      <td>0.727092</td>\n",
       "      <td>0.754</td>\n",
       "      <td>0.718</td>\n",
       "      <td>0.770</td>\n",
       "      <td>0.752026</td>\n",
       "      <td>0.757987</td>\n",
       "      <td>0.732862</td>\n",
       "    </tr>\n",
       "    <tr>\n",
       "      <th>16</th>\n",
       "      <td>Decision Tree</td>\n",
       "      <td>RFECV</td>\n",
       "      <td>0.735060</td>\n",
       "      <td>0.754980</td>\n",
       "      <td>0.738</td>\n",
       "      <td>0.756</td>\n",
       "      <td>0.764</td>\n",
       "      <td>0.758509</td>\n",
       "      <td>0.761981</td>\n",
       "      <td>0.749608</td>\n",
       "    </tr>\n",
       "    <tr>\n",
       "      <th>17</th>\n",
       "      <td>Decision Tree</td>\n",
       "      <td>Random Forest</td>\n",
       "      <td>0.723108</td>\n",
       "      <td>0.752988</td>\n",
       "      <td>0.738</td>\n",
       "      <td>0.744</td>\n",
       "      <td>0.764</td>\n",
       "      <td>0.754457</td>\n",
       "      <td>0.761981</td>\n",
       "      <td>0.744419</td>\n",
       "    </tr>\n",
       "    <tr>\n",
       "      <th>18</th>\n",
       "      <td>Random Forest</td>\n",
       "      <td>PCA</td>\n",
       "      <td>0.687251</td>\n",
       "      <td>0.743028</td>\n",
       "      <td>0.756</td>\n",
       "      <td>0.728</td>\n",
       "      <td>0.760</td>\n",
       "      <td>0.741491</td>\n",
       "      <td>0.750799</td>\n",
       "      <td>0.734856</td>\n",
       "    </tr>\n",
       "    <tr>\n",
       "      <th>19</th>\n",
       "      <td>Random Forest</td>\n",
       "      <td>RFECV</td>\n",
       "      <td>0.721116</td>\n",
       "      <td>0.790837</td>\n",
       "      <td>0.752</td>\n",
       "      <td>0.750</td>\n",
       "      <td>0.786</td>\n",
       "      <td>0.759319</td>\n",
       "      <td>0.758387</td>\n",
       "      <td>0.759990</td>\n",
       "    </tr>\n",
       "    <tr>\n",
       "      <th>20</th>\n",
       "      <td>Random Forest</td>\n",
       "      <td>Random Forest</td>\n",
       "      <td>0.723108</td>\n",
       "      <td>0.792829</td>\n",
       "      <td>0.748</td>\n",
       "      <td>0.748</td>\n",
       "      <td>0.772</td>\n",
       "      <td>0.757699</td>\n",
       "      <td>0.756789</td>\n",
       "      <td>0.756787</td>\n",
       "    </tr>\n",
       "    <tr>\n",
       "      <th>21</th>\n",
       "      <td>Gradient Booster</td>\n",
       "      <td>PCA</td>\n",
       "      <td>0.717131</td>\n",
       "      <td>0.743028</td>\n",
       "      <td>0.752</td>\n",
       "      <td>0.722</td>\n",
       "      <td>0.770</td>\n",
       "      <td>0.764992</td>\n",
       "      <td>0.762380</td>\n",
       "      <td>0.740832</td>\n",
       "    </tr>\n",
       "    <tr>\n",
       "      <th>22</th>\n",
       "      <td>Gradient Booster</td>\n",
       "      <td>RFECV</td>\n",
       "      <td>0.741036</td>\n",
       "      <td>0.796813</td>\n",
       "      <td>0.762</td>\n",
       "      <td>0.760</td>\n",
       "      <td>0.776</td>\n",
       "      <td>0.774716</td>\n",
       "      <td>0.773163</td>\n",
       "      <td>0.767170</td>\n",
       "    </tr>\n",
       "    <tr>\n",
       "      <th>23</th>\n",
       "      <td>Gradient Booster</td>\n",
       "      <td>Random Forest</td>\n",
       "      <td>0.735060</td>\n",
       "      <td>0.766932</td>\n",
       "      <td>0.762</td>\n",
       "      <td>0.758</td>\n",
       "      <td>0.758</td>\n",
       "      <td>0.782820</td>\n",
       "      <td>0.771965</td>\n",
       "      <td>0.755998</td>\n",
       "    </tr>\n",
       "  </tbody>\n",
       "</table>\n",
       "</div>"
      ],
      "text/plain": [
       "                  Model Feature Selection  CV Fold 1  CV Fold 2  CV Fold 3  \\\n",
       "0   Logistic Regression               PCA   0.709163   0.758964      0.772   \n",
       "1   Logistic Regression             RFECV   0.725100   0.788845      0.754   \n",
       "2   Logistic Regression     Random Forest   0.707171   0.784861      0.750   \n",
       "3      Lasso Regression               PCA   0.711155   0.760956      0.772   \n",
       "4      Lasso Regression             RFECV   0.725100   0.796813      0.756   \n",
       "5      Lasso Regression     Random Forest   0.707171   0.782869      0.750   \n",
       "6      Ridge Regression               PCA   0.709163   0.758964      0.770   \n",
       "7      Ridge Regression             RFECV   0.725100   0.788845      0.756   \n",
       "8      Ridge Regression     Random Forest   0.709163   0.786853      0.750   \n",
       "9                   KNN               PCA   0.733068   0.752988      0.742   \n",
       "10                  KNN             RFECV   0.709163   0.754980      0.740   \n",
       "11                  KNN     Random Forest   0.731076   0.756972      0.758   \n",
       "12                  SVC               PCA   0.711155   0.758964      0.752   \n",
       "13                  SVC             RFECV   0.733068   0.760956      0.772   \n",
       "14                  SVC     Random Forest   0.721116   0.790837      0.754   \n",
       "15        Decision Tree               PCA   0.695219   0.727092      0.754   \n",
       "16        Decision Tree             RFECV   0.735060   0.754980      0.738   \n",
       "17        Decision Tree     Random Forest   0.723108   0.752988      0.738   \n",
       "18        Random Forest               PCA   0.687251   0.743028      0.756   \n",
       "19        Random Forest             RFECV   0.721116   0.790837      0.752   \n",
       "20        Random Forest     Random Forest   0.723108   0.792829      0.748   \n",
       "21     Gradient Booster               PCA   0.717131   0.743028      0.752   \n",
       "22     Gradient Booster             RFECV   0.741036   0.796813      0.762   \n",
       "23     Gradient Booster     Random Forest   0.735060   0.766932      0.762   \n",
       "\n",
       "    CV Fold 4  CV Fold 5  Test Score  Train Score   CV Mean  \n",
       "0       0.730      0.788    0.737439     0.750000  0.751625  \n",
       "1       0.746      0.780    0.765802     0.765974  0.758789  \n",
       "2       0.752      0.764    0.752026     0.753594  0.751606  \n",
       "3       0.730      0.788    0.740681     0.750399  0.752422  \n",
       "4       0.750      0.780    0.757699     0.766374  0.761582  \n",
       "5       0.748      0.768    0.748784     0.755192  0.751208  \n",
       "6       0.730      0.788    0.737439     0.750000  0.751225  \n",
       "7       0.744      0.778    0.766613     0.765575  0.758389  \n",
       "8       0.750      0.766    0.747164     0.754792  0.752403  \n",
       "9       0.730      0.750    0.769854     0.776757  0.741611  \n",
       "10      0.724      0.764    0.756078     0.775160  0.738429  \n",
       "11      0.744      0.762    0.779579     0.778355  0.750410  \n",
       "12      0.728      0.784    0.746353     0.748403  0.746824  \n",
       "13      0.748      0.778    0.837925     0.817891  0.758405  \n",
       "14      0.736      0.772    0.752026     0.755192  0.754790  \n",
       "15      0.718      0.770    0.752026     0.757987  0.732862  \n",
       "16      0.756      0.764    0.758509     0.761981  0.749608  \n",
       "17      0.744      0.764    0.754457     0.761981  0.744419  \n",
       "18      0.728      0.760    0.741491     0.750799  0.734856  \n",
       "19      0.750      0.786    0.759319     0.758387  0.759990  \n",
       "20      0.748      0.772    0.757699     0.756789  0.756787  \n",
       "21      0.722      0.770    0.764992     0.762380  0.740832  \n",
       "22      0.760      0.776    0.774716     0.773163  0.767170  \n",
       "23      0.758      0.758    0.782820     0.771965  0.755998  "
      ]
     },
     "execution_count": 214,
     "metadata": {},
     "output_type": "execute_result"
    }
   ],
   "source": [
    "# Display our results cleanly\n",
    "results2 = pd.DataFrame({'Train Score': Train_Score, 'Test Score': Test_Score, 'CV Fold 1': fold1,\n",
    "                            'CV Fold 2': fold2, 'CV Fold 3': fold3, 'CV Fold 4': fold4, 'CV Fold 5': fold5})\n",
    "results2['CV Mean'] = (results2['CV Fold 1'] + results2['CV Fold 2'] + results2['CV Fold 3'] + \n",
    "                       results2['CV Fold 4'] + results2['CV Fold 5']) / 5\n",
    "results = pd.concat([results, results2], axis=1)\n",
    "\n",
    "results.head(24)"
   ]
  },
  {
   "cell_type": "code",
   "execution_count": 215,
   "metadata": {},
   "outputs": [
    {
     "data": {
      "image/png": "[encoded data removed]",
      "text/plain": [
       "<matplotlib.figure.Figure at 0x1190725f8>"
      ]
     },
     "metadata": {},
     "output_type": "display_data"
    }
   ],
   "source": [
    "# Plot them. Our goal is the get as many points in the upper right hand corner as possible.\n",
    "x = results['Test Score']\n",
    "y = results['CV Mean']\n",
    "plt.xlabel('Test Score')\n",
    "plt.ylabel('Mean of Cross Validation Results')\n",
    "plt.scatter(x, y)\n",
    "plt.show()"
   ]
  },
  {
   "cell_type": "markdown",
   "metadata": {},
   "source": [
    "The best performer of the models was the Gradient Boosting Classifier using features generated by Recursive Feature Elimination, which scored roughly the same as running the model with no feature engineering. Gradient Boosting with features generated by Random Forest (feature importance) scored very close to the features selected by RFECV. This is important to the goal of isolating important factors in determining whether a customer stays or goes because unlike PCA and many of the unsupervised learning methods, we can see inside the box and know why the computer is making its prediction. This means that action items can be drawn from the results. While an accuracy of 80% is not the strongest predictors, it is still accurate enough to give a company some confidence in choosing where to put its marketing dollars since marketing budgets don't need the accuracy of brain surgeons performing life-saving procedures.\n",
    "\n",
    "For this data set, since the amount of data is not that large, it would be fine to use Gradient Boosting since both the optimization process and running the model with the optimal hyperparameters did not take too much time. However, should the data set in production be much larger, it would be better to use something like Ridge Regression which produced fairly similar results taking only a fraction of the time. "
   ]
  },
  {
   "cell_type": "markdown",
   "metadata": {},
   "source": [
    "## Recommendations\n",
    "From the above results, one could recommend putting an extra effort in getting customers without features such as online or tech support to sign up for these features. Those who are subscribed to those features, it appears, tend to stay with the company longer than those who don't. Also, it would be adviseable to the company to try to get those who pay with electronic check (not an automatic payment) to switch to an automatic payment type such as auto-withdrawal or a credit card on file. It is pretty logical that a person who signs up for autopayment and forgets about the payment each month until he or she sees it on a bank statement will be less likely to quit the service than someone who has to remember to send an electronic check every month to make the payment. The above model corroborates this hypothesis."
   ]
  },
  {
   "cell_type": "markdown",
   "metadata": {},
   "source": [
    "## Considerations for Improvement\n",
    "First and foremost, this is only 6,000 lines of data and it's not quite clear how this data was derived from the larger population. Having the whole data set would provide more instances for the training/testing set and give the model more confidence with the larger sample size.\n",
    "\n",
    "Second, it would be helpful to have even partial data regarding the reasons given for canceling the service. When someone cancels their telecom service, that person needs to speak to a customer rep to do so. When the customer rep takes such a call, the customer rep asks why the person is quitting (this also gives the company a chance to negotiate with the customer to retain the customer through lower rates or other incentives). It could be that people who are on month-to-month contracts are temporarily living in an apartment on a work or assignment or after separating from a spouse and so the person quitting the service could not be retained no matter what advertisements or marketing campaign the company invested in. Adding this field would give color to the data and make more insightful recommendations."
   ]
  },
  {
   "cell_type": "markdown",
   "metadata": {},
   "source": [
    "## From Here\n",
    "This data set is just one example of how data science can be used to guide business decisions based on consumer behavior. While this data set was in telecoms, the same methodology could be used in other sectors to gain insights on which customers were most likely to leave in order to provide some guidance to those sales representatives. Much is said about how machine learning will replace people, and while that may be the case in the future, at the moment it can provide powerful insights to improve the performance of people and studies like these should be done using data sets from different industries to achieve that performance boost."
   ]
  },
  {
   "cell_type": "code",
   "execution_count": 216,
   "metadata": {},
   "outputs": [
    {
     "name": "stdout",
     "output_type": "stream",
     "text": [
      "It took the following time to complete this notebook: 0:05:15.210209\n"
     ]
    }
   ],
   "source": [
    "print('It took the following time to complete this notebook:', datetime.now() - main_start)"
   ]
  }
 ],
 "metadata": {
  "kernelspec": {
   "display_name": "Python 3",
   "language": "python",
   "name": "python3"
  },
  "language_info": {
   "codemirror_mode": {
    "name": "ipython",
    "version": 3
   },
   "file_extension": ".py",
   "mimetype": "text/x-python",
   "name": "python",
   "nbconvert_exporter": "python",
   "pygments_lexer": "ipython3",
   "version": "3.6.1"
  }
 },
 "nbformat": 4,
 "nbformat_minor": 2
}
