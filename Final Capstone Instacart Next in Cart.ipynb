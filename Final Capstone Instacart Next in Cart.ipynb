{
 "cells": [
  {
   "cell_type": "code",
   "execution_count": 127,
   "metadata": {
    "collapsed": true
   },
   "outputs": [],
   "source": [
    "import numpy as np\n",
    "import pandas as pd\n",
    "import matplotlib.pyplot as plt\n",
    "import seaborn as sns\n",
    "from sklearn.utils import resample\n",
    "from sklearn.metrics import brier_score_loss\n",
    "from sklearn.calibration import CalibratedClassifierCV\n",
    "from sklearn.model_selection import cross_val_score\n",
    "from sklearn.model_selection import train_test_split\n",
    "from sklearn.feature_selection import RFECV\n",
    "from sklearn.decomposition import PCA\n",
    "from sklearn.neighbors import KNeighborsClassifier\n",
    "from sklearn.linear_model import LogisticRegression\n",
    "from sklearn.svm import LinearSVC\n",
    "from sklearn.preprocessing import StandardScaler\n",
    "from sklearn.tree import DecisionTreeClassifier\n",
    "from sklearn.ensemble import RandomForestClassifier\n",
    "from sklearn.ensemble import GradientBoostingClassifier\n",
    "from sklearn.feature_selection import SelectFromModel\n",
    "from sklearn.svm import SVC\n",
    "from sklearn.model_selection import GridSearchCV\n",
    "\n",
    "from sklearn.cluster import KMeans\n",
    "from sklearn.preprocessing import normalize\n",
    "from sklearn.decomposition import PCA\n",
    "from sklearn.cluster import MiniBatchKMeans\n",
    "from sklearn.cluster import MeanShift, estimate_bandwidth\n",
    "from sklearn.cluster import SpectralClustering\n",
    "from sklearn.cluster import AffinityPropagation\n",
    "from sklearn import metrics\n",
    "from sklearn.metrics import pairwise_distances\n",
    "\n",
    "import itertools\n",
    "from itertools import cycle\n",
    "\n",
    "from datetime import datetime\n",
    "%matplotlib inline"
   ]
  },
  {
   "cell_type": "code",
   "execution_count": 128,
   "metadata": {},
   "outputs": [
    {
     "name": "stdout",
     "output_type": "stream",
     "text": [
      "(3421083, 7)\n"
     ]
    },
    {
     "data": {
      "text/html": [
       "<div>\n",
       "<style>\n",
       "    .dataframe thead tr:only-child th {\n",
       "        text-align: right;\n",
       "    }\n",
       "\n",
       "    .dataframe thead th {\n",
       "        text-align: left;\n",
       "    }\n",
       "\n",
       "    .dataframe tbody tr th {\n",
       "        vertical-align: top;\n",
       "    }\n",
       "</style>\n",
       "<table border=\"1\" class=\"dataframe\">\n",
       "  <thead>\n",
       "    <tr style=\"text-align: right;\">\n",
       "      <th></th>\n",
       "      <th>order_id</th>\n",
       "      <th>user_id</th>\n",
       "      <th>eval_set</th>\n",
       "      <th>order_number</th>\n",
       "      <th>order_dow</th>\n",
       "      <th>order_hour_of_day</th>\n",
       "      <th>days_since_prior_order</th>\n",
       "    </tr>\n",
       "  </thead>\n",
       "  <tbody>\n",
       "    <tr>\n",
       "      <th>0</th>\n",
       "      <td>2539329</td>\n",
       "      <td>1</td>\n",
       "      <td>prior</td>\n",
       "      <td>1</td>\n",
       "      <td>2</td>\n",
       "      <td>8</td>\n",
       "      <td>NaN</td>\n",
       "    </tr>\n",
       "    <tr>\n",
       "      <th>1</th>\n",
       "      <td>2398795</td>\n",
       "      <td>1</td>\n",
       "      <td>prior</td>\n",
       "      <td>2</td>\n",
       "      <td>3</td>\n",
       "      <td>7</td>\n",
       "      <td>15.0</td>\n",
       "    </tr>\n",
       "    <tr>\n",
       "      <th>2</th>\n",
       "      <td>473747</td>\n",
       "      <td>1</td>\n",
       "      <td>prior</td>\n",
       "      <td>3</td>\n",
       "      <td>3</td>\n",
       "      <td>12</td>\n",
       "      <td>21.0</td>\n",
       "    </tr>\n",
       "    <tr>\n",
       "      <th>3</th>\n",
       "      <td>2254736</td>\n",
       "      <td>1</td>\n",
       "      <td>prior</td>\n",
       "      <td>4</td>\n",
       "      <td>4</td>\n",
       "      <td>7</td>\n",
       "      <td>29.0</td>\n",
       "    </tr>\n",
       "    <tr>\n",
       "      <th>4</th>\n",
       "      <td>431534</td>\n",
       "      <td>1</td>\n",
       "      <td>prior</td>\n",
       "      <td>5</td>\n",
       "      <td>4</td>\n",
       "      <td>15</td>\n",
       "      <td>28.0</td>\n",
       "    </tr>\n",
       "    <tr>\n",
       "      <th>5</th>\n",
       "      <td>3367565</td>\n",
       "      <td>1</td>\n",
       "      <td>prior</td>\n",
       "      <td>6</td>\n",
       "      <td>2</td>\n",
       "      <td>7</td>\n",
       "      <td>19.0</td>\n",
       "    </tr>\n",
       "    <tr>\n",
       "      <th>6</th>\n",
       "      <td>550135</td>\n",
       "      <td>1</td>\n",
       "      <td>prior</td>\n",
       "      <td>7</td>\n",
       "      <td>1</td>\n",
       "      <td>9</td>\n",
       "      <td>20.0</td>\n",
       "    </tr>\n",
       "    <tr>\n",
       "      <th>7</th>\n",
       "      <td>3108588</td>\n",
       "      <td>1</td>\n",
       "      <td>prior</td>\n",
       "      <td>8</td>\n",
       "      <td>1</td>\n",
       "      <td>14</td>\n",
       "      <td>14.0</td>\n",
       "    </tr>\n",
       "    <tr>\n",
       "      <th>8</th>\n",
       "      <td>2295261</td>\n",
       "      <td>1</td>\n",
       "      <td>prior</td>\n",
       "      <td>9</td>\n",
       "      <td>1</td>\n",
       "      <td>16</td>\n",
       "      <td>0.0</td>\n",
       "    </tr>\n",
       "    <tr>\n",
       "      <th>9</th>\n",
       "      <td>2550362</td>\n",
       "      <td>1</td>\n",
       "      <td>prior</td>\n",
       "      <td>10</td>\n",
       "      <td>4</td>\n",
       "      <td>8</td>\n",
       "      <td>30.0</td>\n",
       "    </tr>\n",
       "  </tbody>\n",
       "</table>\n",
       "</div>"
      ],
      "text/plain": [
       "   order_id  user_id eval_set  order_number  order_dow  order_hour_of_day  \\\n",
       "0   2539329        1    prior             1          2                  8   \n",
       "1   2398795        1    prior             2          3                  7   \n",
       "2    473747        1    prior             3          3                 12   \n",
       "3   2254736        1    prior             4          4                  7   \n",
       "4    431534        1    prior             5          4                 15   \n",
       "5   3367565        1    prior             6          2                  7   \n",
       "6    550135        1    prior             7          1                  9   \n",
       "7   3108588        1    prior             8          1                 14   \n",
       "8   2295261        1    prior             9          1                 16   \n",
       "9   2550362        1    prior            10          4                  8   \n",
       "\n",
       "   days_since_prior_order  \n",
       "0                     NaN  \n",
       "1                    15.0  \n",
       "2                    21.0  \n",
       "3                    29.0  \n",
       "4                    28.0  \n",
       "5                    19.0  \n",
       "6                    20.0  \n",
       "7                    14.0  \n",
       "8                     0.0  \n",
       "9                    30.0  "
      ]
     },
     "execution_count": 128,
     "metadata": {},
     "output_type": "execute_result"
    }
   ],
   "source": [
    "orders = pd.read_csv('orders.csv')\n",
    "print(orders.shape)\n",
    "orders.head(10)\n"
   ]
  },
  {
   "cell_type": "code",
   "execution_count": 129,
   "metadata": {},
   "outputs": [
    {
     "data": {
      "text/html": [
       "<div>\n",
       "<style>\n",
       "    .dataframe thead tr:only-child th {\n",
       "        text-align: right;\n",
       "    }\n",
       "\n",
       "    .dataframe thead th {\n",
       "        text-align: left;\n",
       "    }\n",
       "\n",
       "    .dataframe tbody tr th {\n",
       "        vertical-align: top;\n",
       "    }\n",
       "</style>\n",
       "<table border=\"1\" class=\"dataframe\">\n",
       "  <thead>\n",
       "    <tr style=\"text-align: right;\">\n",
       "      <th></th>\n",
       "      <th>order_id</th>\n",
       "      <th>user_id</th>\n",
       "      <th>eval_set</th>\n",
       "      <th>order_number</th>\n",
       "      <th>order_dow</th>\n",
       "      <th>order_hour_of_day</th>\n",
       "      <th>days_since_prior_order</th>\n",
       "    </tr>\n",
       "  </thead>\n",
       "  <tbody>\n",
       "    <tr>\n",
       "      <th>0</th>\n",
       "      <td>2539329</td>\n",
       "      <td>1</td>\n",
       "      <td>prior</td>\n",
       "      <td>1</td>\n",
       "      <td>2</td>\n",
       "      <td>8</td>\n",
       "      <td>NaN</td>\n",
       "    </tr>\n",
       "    <tr>\n",
       "      <th>1</th>\n",
       "      <td>2398795</td>\n",
       "      <td>1</td>\n",
       "      <td>prior</td>\n",
       "      <td>2</td>\n",
       "      <td>3</td>\n",
       "      <td>7</td>\n",
       "      <td>15.0</td>\n",
       "    </tr>\n",
       "    <tr>\n",
       "      <th>2</th>\n",
       "      <td>473747</td>\n",
       "      <td>1</td>\n",
       "      <td>prior</td>\n",
       "      <td>3</td>\n",
       "      <td>3</td>\n",
       "      <td>12</td>\n",
       "      <td>21.0</td>\n",
       "    </tr>\n",
       "    <tr>\n",
       "      <th>3</th>\n",
       "      <td>2254736</td>\n",
       "      <td>1</td>\n",
       "      <td>prior</td>\n",
       "      <td>4</td>\n",
       "      <td>4</td>\n",
       "      <td>7</td>\n",
       "      <td>29.0</td>\n",
       "    </tr>\n",
       "    <tr>\n",
       "      <th>4</th>\n",
       "      <td>431534</td>\n",
       "      <td>1</td>\n",
       "      <td>prior</td>\n",
       "      <td>5</td>\n",
       "      <td>4</td>\n",
       "      <td>15</td>\n",
       "      <td>28.0</td>\n",
       "    </tr>\n",
       "    <tr>\n",
       "      <th>5</th>\n",
       "      <td>3367565</td>\n",
       "      <td>1</td>\n",
       "      <td>prior</td>\n",
       "      <td>6</td>\n",
       "      <td>2</td>\n",
       "      <td>7</td>\n",
       "      <td>19.0</td>\n",
       "    </tr>\n",
       "    <tr>\n",
       "      <th>6</th>\n",
       "      <td>550135</td>\n",
       "      <td>1</td>\n",
       "      <td>prior</td>\n",
       "      <td>7</td>\n",
       "      <td>1</td>\n",
       "      <td>9</td>\n",
       "      <td>20.0</td>\n",
       "    </tr>\n",
       "    <tr>\n",
       "      <th>7</th>\n",
       "      <td>3108588</td>\n",
       "      <td>1</td>\n",
       "      <td>prior</td>\n",
       "      <td>8</td>\n",
       "      <td>1</td>\n",
       "      <td>14</td>\n",
       "      <td>14.0</td>\n",
       "    </tr>\n",
       "    <tr>\n",
       "      <th>8</th>\n",
       "      <td>2295261</td>\n",
       "      <td>1</td>\n",
       "      <td>prior</td>\n",
       "      <td>9</td>\n",
       "      <td>1</td>\n",
       "      <td>16</td>\n",
       "      <td>0.0</td>\n",
       "    </tr>\n",
       "    <tr>\n",
       "      <th>9</th>\n",
       "      <td>2550362</td>\n",
       "      <td>1</td>\n",
       "      <td>prior</td>\n",
       "      <td>10</td>\n",
       "      <td>4</td>\n",
       "      <td>8</td>\n",
       "      <td>30.0</td>\n",
       "    </tr>\n",
       "  </tbody>\n",
       "</table>\n",
       "</div>"
      ],
      "text/plain": [
       "   order_id  user_id eval_set  order_number  order_dow  order_hour_of_day  \\\n",
       "0   2539329        1    prior             1          2                  8   \n",
       "1   2398795        1    prior             2          3                  7   \n",
       "2    473747        1    prior             3          3                 12   \n",
       "3   2254736        1    prior             4          4                  7   \n",
       "4    431534        1    prior             5          4                 15   \n",
       "5   3367565        1    prior             6          2                  7   \n",
       "6    550135        1    prior             7          1                  9   \n",
       "7   3108588        1    prior             8          1                 14   \n",
       "8   2295261        1    prior             9          1                 16   \n",
       "9   2550362        1    prior            10          4                  8   \n",
       "\n",
       "   days_since_prior_order  \n",
       "0                     NaN  \n",
       "1                    15.0  \n",
       "2                    21.0  \n",
       "3                    29.0  \n",
       "4                    28.0  \n",
       "5                    19.0  \n",
       "6                    20.0  \n",
       "7                    14.0  \n",
       "8                     0.0  \n",
       "9                    30.0  "
      ]
     },
     "execution_count": 129,
     "metadata": {},
     "output_type": "execute_result"
    }
   ],
   "source": [
    "prev = orders[orders.eval_set == 'prior']\n",
    "prev.head(10)"
   ]
  },
  {
   "cell_type": "code",
   "execution_count": 130,
   "metadata": {},
   "outputs": [
    {
     "name": "stdout",
     "output_type": "stream",
     "text": [
      "(49688, 2)\n"
     ]
    },
    {
     "data": {
      "text/html": [
       "<div>\n",
       "<style>\n",
       "    .dataframe thead tr:only-child th {\n",
       "        text-align: right;\n",
       "    }\n",
       "\n",
       "    .dataframe thead th {\n",
       "        text-align: left;\n",
       "    }\n",
       "\n",
       "    .dataframe tbody tr th {\n",
       "        vertical-align: top;\n",
       "    }\n",
       "</style>\n",
       "<table border=\"1\" class=\"dataframe\">\n",
       "  <thead>\n",
       "    <tr style=\"text-align: right;\">\n",
       "      <th></th>\n",
       "      <th>product_id</th>\n",
       "      <th>product_name</th>\n",
       "    </tr>\n",
       "  </thead>\n",
       "  <tbody>\n",
       "    <tr>\n",
       "      <th>0</th>\n",
       "      <td>1</td>\n",
       "      <td>Chocolate Sandwich Cookies</td>\n",
       "    </tr>\n",
       "    <tr>\n",
       "      <th>1</th>\n",
       "      <td>2</td>\n",
       "      <td>All-Seasons Salt</td>\n",
       "    </tr>\n",
       "    <tr>\n",
       "      <th>2</th>\n",
       "      <td>3</td>\n",
       "      <td>Robust Golden Unsweetened Oolong Tea</td>\n",
       "    </tr>\n",
       "    <tr>\n",
       "      <th>3</th>\n",
       "      <td>4</td>\n",
       "      <td>Smart Ones Classic Favorites Mini Rigatoni Wit...</td>\n",
       "    </tr>\n",
       "    <tr>\n",
       "      <th>4</th>\n",
       "      <td>5</td>\n",
       "      <td>Green Chile Anytime Sauce</td>\n",
       "    </tr>\n",
       "    <tr>\n",
       "      <th>5</th>\n",
       "      <td>6</td>\n",
       "      <td>Dry Nose Oil</td>\n",
       "    </tr>\n",
       "    <tr>\n",
       "      <th>6</th>\n",
       "      <td>7</td>\n",
       "      <td>Pure Coconut Water With Orange</td>\n",
       "    </tr>\n",
       "    <tr>\n",
       "      <th>7</th>\n",
       "      <td>8</td>\n",
       "      <td>Cut Russet Potatoes Steam N' Mash</td>\n",
       "    </tr>\n",
       "    <tr>\n",
       "      <th>8</th>\n",
       "      <td>9</td>\n",
       "      <td>Light Strawberry Blueberry Yogurt</td>\n",
       "    </tr>\n",
       "    <tr>\n",
       "      <th>9</th>\n",
       "      <td>10</td>\n",
       "      <td>Sparkling Orange Juice &amp; Prickly Pear Beverage</td>\n",
       "    </tr>\n",
       "  </tbody>\n",
       "</table>\n",
       "</div>"
      ],
      "text/plain": [
       "   product_id                                       product_name\n",
       "0           1                         Chocolate Sandwich Cookies\n",
       "1           2                                   All-Seasons Salt\n",
       "2           3               Robust Golden Unsweetened Oolong Tea\n",
       "3           4  Smart Ones Classic Favorites Mini Rigatoni Wit...\n",
       "4           5                          Green Chile Anytime Sauce\n",
       "5           6                                       Dry Nose Oil\n",
       "6           7                     Pure Coconut Water With Orange\n",
       "7           8                  Cut Russet Potatoes Steam N' Mash\n",
       "8           9                  Light Strawberry Blueberry Yogurt\n",
       "9          10     Sparkling Orange Juice & Prickly Pear Beverage"
      ]
     },
     "execution_count": 130,
     "metadata": {},
     "output_type": "execute_result"
    }
   ],
   "source": [
    "products = pd.read_csv('products.csv')\n",
    "products = products.drop(['aisle_id', 'department_id'], axis=1)\n",
    "print(products.shape)\n",
    "products.head(10)"
   ]
  },
  {
   "cell_type": "code",
   "execution_count": 131,
   "metadata": {},
   "outputs": [
    {
     "name": "stdout",
     "output_type": "stream",
     "text": [
      "(32434489, 4)\n"
     ]
    },
    {
     "data": {
      "text/html": [
       "<div>\n",
       "<style>\n",
       "    .dataframe thead tr:only-child th {\n",
       "        text-align: right;\n",
       "    }\n",
       "\n",
       "    .dataframe thead th {\n",
       "        text-align: left;\n",
       "    }\n",
       "\n",
       "    .dataframe tbody tr th {\n",
       "        vertical-align: top;\n",
       "    }\n",
       "</style>\n",
       "<table border=\"1\" class=\"dataframe\">\n",
       "  <thead>\n",
       "    <tr style=\"text-align: right;\">\n",
       "      <th></th>\n",
       "      <th>order_id</th>\n",
       "      <th>product_id</th>\n",
       "      <th>add_to_cart_order</th>\n",
       "      <th>reordered</th>\n",
       "    </tr>\n",
       "  </thead>\n",
       "  <tbody>\n",
       "    <tr>\n",
       "      <th>0</th>\n",
       "      <td>2</td>\n",
       "      <td>33120</td>\n",
       "      <td>1</td>\n",
       "      <td>1</td>\n",
       "    </tr>\n",
       "    <tr>\n",
       "      <th>1</th>\n",
       "      <td>2</td>\n",
       "      <td>28985</td>\n",
       "      <td>2</td>\n",
       "      <td>1</td>\n",
       "    </tr>\n",
       "    <tr>\n",
       "      <th>2</th>\n",
       "      <td>2</td>\n",
       "      <td>9327</td>\n",
       "      <td>3</td>\n",
       "      <td>0</td>\n",
       "    </tr>\n",
       "    <tr>\n",
       "      <th>3</th>\n",
       "      <td>2</td>\n",
       "      <td>45918</td>\n",
       "      <td>4</td>\n",
       "      <td>1</td>\n",
       "    </tr>\n",
       "    <tr>\n",
       "      <th>4</th>\n",
       "      <td>2</td>\n",
       "      <td>30035</td>\n",
       "      <td>5</td>\n",
       "      <td>0</td>\n",
       "    </tr>\n",
       "    <tr>\n",
       "      <th>5</th>\n",
       "      <td>2</td>\n",
       "      <td>17794</td>\n",
       "      <td>6</td>\n",
       "      <td>1</td>\n",
       "    </tr>\n",
       "    <tr>\n",
       "      <th>6</th>\n",
       "      <td>2</td>\n",
       "      <td>40141</td>\n",
       "      <td>7</td>\n",
       "      <td>1</td>\n",
       "    </tr>\n",
       "    <tr>\n",
       "      <th>7</th>\n",
       "      <td>2</td>\n",
       "      <td>1819</td>\n",
       "      <td>8</td>\n",
       "      <td>1</td>\n",
       "    </tr>\n",
       "    <tr>\n",
       "      <th>8</th>\n",
       "      <td>2</td>\n",
       "      <td>43668</td>\n",
       "      <td>9</td>\n",
       "      <td>0</td>\n",
       "    </tr>\n",
       "    <tr>\n",
       "      <th>9</th>\n",
       "      <td>3</td>\n",
       "      <td>33754</td>\n",
       "      <td>1</td>\n",
       "      <td>1</td>\n",
       "    </tr>\n",
       "  </tbody>\n",
       "</table>\n",
       "</div>"
      ],
      "text/plain": [
       "   order_id  product_id  add_to_cart_order  reordered\n",
       "0         2       33120                  1          1\n",
       "1         2       28985                  2          1\n",
       "2         2        9327                  3          0\n",
       "3         2       45918                  4          1\n",
       "4         2       30035                  5          0\n",
       "5         2       17794                  6          1\n",
       "6         2       40141                  7          1\n",
       "7         2        1819                  8          1\n",
       "8         2       43668                  9          0\n",
       "9         3       33754                  1          1"
      ]
     },
     "execution_count": 131,
     "metadata": {},
     "output_type": "execute_result"
    }
   ],
   "source": [
    "order_products_prior = pd.read_csv('order_products__prior.csv')\n",
    "print(order_products_prior.shape)\n",
    "order_products_prior.head(10)"
   ]
  },
  {
   "cell_type": "code",
   "execution_count": 132,
   "metadata": {},
   "outputs": [
    {
     "data": {
      "text/plain": [
       "\"order_products_train = pd.read_csv('order_products__train.csv')\\nprint(order_products_train.shape)\\norder_products_train.head(10)\""
      ]
     },
     "execution_count": 132,
     "metadata": {},
     "output_type": "execute_result"
    }
   ],
   "source": [
    "\"\"\"order_products_train = pd.read_csv('order_products__train.csv')\n",
    "print(order_products_train.shape)\n",
    "order_products_train.head(10)\"\"\""
   ]
  },
  {
   "cell_type": "code",
   "execution_count": 133,
   "metadata": {},
   "outputs": [
    {
     "data": {
      "text/html": [
       "<div>\n",
       "<style>\n",
       "    .dataframe thead tr:only-child th {\n",
       "        text-align: right;\n",
       "    }\n",
       "\n",
       "    .dataframe thead th {\n",
       "        text-align: left;\n",
       "    }\n",
       "\n",
       "    .dataframe tbody tr th {\n",
       "        vertical-align: top;\n",
       "    }\n",
       "</style>\n",
       "<table border=\"1\" class=\"dataframe\">\n",
       "  <thead>\n",
       "    <tr style=\"text-align: right;\">\n",
       "      <th></th>\n",
       "      <th>order_id</th>\n",
       "      <th>product_id</th>\n",
       "      <th>add_to_cart_order</th>\n",
       "      <th>reordered</th>\n",
       "      <th>product_name</th>\n",
       "    </tr>\n",
       "  </thead>\n",
       "  <tbody>\n",
       "    <tr>\n",
       "      <th>0</th>\n",
       "      <td>2</td>\n",
       "      <td>33120</td>\n",
       "      <td>1</td>\n",
       "      <td>1</td>\n",
       "      <td>Organic Egg Whites</td>\n",
       "    </tr>\n",
       "    <tr>\n",
       "      <th>1</th>\n",
       "      <td>2</td>\n",
       "      <td>28985</td>\n",
       "      <td>2</td>\n",
       "      <td>1</td>\n",
       "      <td>Michigan Organic Kale</td>\n",
       "    </tr>\n",
       "    <tr>\n",
       "      <th>2</th>\n",
       "      <td>2</td>\n",
       "      <td>9327</td>\n",
       "      <td>3</td>\n",
       "      <td>0</td>\n",
       "      <td>Garlic Powder</td>\n",
       "    </tr>\n",
       "    <tr>\n",
       "      <th>3</th>\n",
       "      <td>2</td>\n",
       "      <td>45918</td>\n",
       "      <td>4</td>\n",
       "      <td>1</td>\n",
       "      <td>Coconut Butter</td>\n",
       "    </tr>\n",
       "    <tr>\n",
       "      <th>4</th>\n",
       "      <td>2</td>\n",
       "      <td>30035</td>\n",
       "      <td>5</td>\n",
       "      <td>0</td>\n",
       "      <td>Natural Sweetener</td>\n",
       "    </tr>\n",
       "    <tr>\n",
       "      <th>5</th>\n",
       "      <td>2</td>\n",
       "      <td>17794</td>\n",
       "      <td>6</td>\n",
       "      <td>1</td>\n",
       "      <td>Carrots</td>\n",
       "    </tr>\n",
       "    <tr>\n",
       "      <th>6</th>\n",
       "      <td>2</td>\n",
       "      <td>40141</td>\n",
       "      <td>7</td>\n",
       "      <td>1</td>\n",
       "      <td>Original Unflavored Gelatine Mix</td>\n",
       "    </tr>\n",
       "    <tr>\n",
       "      <th>7</th>\n",
       "      <td>2</td>\n",
       "      <td>1819</td>\n",
       "      <td>8</td>\n",
       "      <td>1</td>\n",
       "      <td>All Natural No Stir Creamy Almond Butter</td>\n",
       "    </tr>\n",
       "    <tr>\n",
       "      <th>8</th>\n",
       "      <td>2</td>\n",
       "      <td>43668</td>\n",
       "      <td>9</td>\n",
       "      <td>0</td>\n",
       "      <td>Classic Blend Cole Slaw</td>\n",
       "    </tr>\n",
       "    <tr>\n",
       "      <th>9</th>\n",
       "      <td>3</td>\n",
       "      <td>33754</td>\n",
       "      <td>1</td>\n",
       "      <td>1</td>\n",
       "      <td>Total 2% with Strawberry Lowfat Greek Strained...</td>\n",
       "    </tr>\n",
       "  </tbody>\n",
       "</table>\n",
       "</div>"
      ],
      "text/plain": [
       "   order_id  product_id  add_to_cart_order  reordered  \\\n",
       "0         2       33120                  1          1   \n",
       "1         2       28985                  2          1   \n",
       "2         2        9327                  3          0   \n",
       "3         2       45918                  4          1   \n",
       "4         2       30035                  5          0   \n",
       "5         2       17794                  6          1   \n",
       "6         2       40141                  7          1   \n",
       "7         2        1819                  8          1   \n",
       "8         2       43668                  9          0   \n",
       "9         3       33754                  1          1   \n",
       "\n",
       "                                        product_name  \n",
       "0                                 Organic Egg Whites  \n",
       "1                              Michigan Organic Kale  \n",
       "2                                      Garlic Powder  \n",
       "3                                     Coconut Butter  \n",
       "4                                  Natural Sweetener  \n",
       "5                                            Carrots  \n",
       "6                   Original Unflavored Gelatine Mix  \n",
       "7           All Natural No Stir Creamy Almond Butter  \n",
       "8                            Classic Blend Cole Slaw  \n",
       "9  Total 2% with Strawberry Lowfat Greek Strained...  "
      ]
     },
     "execution_count": 133,
     "metadata": {},
     "output_type": "execute_result"
    }
   ],
   "source": [
    "merged_left = pd.merge(left=order_products_prior,right=products, how='left', left_on='product_id', right_on='product_id')\n",
    "merged_left.head(10)"
   ]
  },
  {
   "cell_type": "code",
   "execution_count": 134,
   "metadata": {},
   "outputs": [
    {
     "name": "stdout",
     "output_type": "stream",
     "text": [
      "          order_id  product_id  add_to_cart_order  reordered   product_name\n",
      "2                2        9327                  3          0  Garlic Powder\n",
      "527             63        9327                  3          0  Garlic Powder\n",
      "3979           420        9327                  8          1  Garlic Powder\n",
      "20356         2160        9327                 15          0  Garlic Powder\n",
      "34960         3653        9327                 10          0  Garlic Powder\n",
      "35441         3705        9327                 14          1  Garlic Powder\n",
      "54877         5810        9327                  3          0  Garlic Powder\n",
      "59396         6311        9327                  8          0  Garlic Powder\n",
      "63018         6719        9327                  8          0  Garlic Powder\n",
      "69215         7357        9327                 12          1  Garlic Powder\n",
      "70061         7456        9327                 10          0  Garlic Powder\n",
      "76277         8113        9327                 13          0  Garlic Powder\n",
      "78481         8353        9327                  8          0  Garlic Powder\n",
      "79617         8478        9327                 10          1  Garlic Powder\n",
      "79848         8503        9327                  5          0  Garlic Powder\n",
      "81719         8716        9327                  9          0  Garlic Powder\n",
      "103541       10947        9327                 13          0  Garlic Powder\n",
      "107487       11357        9327                 12          0  Garlic Powder\n",
      "111176       11772        9327                  7          1  Garlic Powder\n",
      "131186       13841        9327                  1          0  Garlic Powder\n",
      "135711       14315        9327                 15          0  Garlic Powder\n",
      "157256       16551        9327                  4          1  Garlic Powder\n",
      "184044       19374        9327                 37          0  Garlic Powder\n",
      "196752       20748        9327                  1          1  Garlic Powder\n",
      "214954       22696        9327                  3          0  Garlic Powder\n",
      "223589       23578        9327                  6          0  Garlic Powder\n",
      "228227       24057        9327                  7          0  Garlic Powder\n",
      "231212       24373        9327                 16          0  Garlic Powder\n",
      "242731       25581        9327                  6          1  Garlic Powder\n",
      "243364       25655        9327                 25          0  Garlic Powder\n",
      "...            ...         ...                ...        ...            ...\n",
      "32274698   3404239        9327                  6          1  Garlic Powder\n",
      "32279978   3404772        9327                  7          0  Garlic Powder\n",
      "32282699   3405049        9327                  4          0  Garlic Powder\n",
      "32284824   3405272        9327                 11          0  Garlic Powder\n",
      "32286622   3405446        9327                 11          0  Garlic Powder\n",
      "32291018   3405912        9327                 17          0  Garlic Powder\n",
      "32304745   3407409        9327                  4          0  Garlic Powder\n",
      "32307980   3407746        9327                  5          0  Garlic Powder\n",
      "32308574   3407818        9327                  5          0  Garlic Powder\n",
      "32311281   3408090        9327                 19          0  Garlic Powder\n",
      "32321942   3409232        9327                  5          0  Garlic Powder\n",
      "32322935   3409331        9327                  8          0  Garlic Powder\n",
      "32331439   3410209        9327                  4          0  Garlic Powder\n",
      "32343646   3411527        9327                 16          0  Garlic Powder\n",
      "32350913   3412313        9327                 16          1  Garlic Powder\n",
      "32357133   3412977        9327                  6          0  Garlic Powder\n",
      "32358349   3413107        9327                 26          0  Garlic Powder\n",
      "32359063   3413186        9327                 18          1  Garlic Powder\n",
      "32359443   3413221        9327                  5          0  Garlic Powder\n",
      "32369003   3414246        9327                  4          0  Garlic Powder\n",
      "32371781   3414526        9327                 14          0  Garlic Powder\n",
      "32375056   3414862        9327                  9          1  Garlic Powder\n",
      "32398937   3417375        9327                 17          0  Garlic Powder\n",
      "32403691   3417853        9327                  6          0  Garlic Powder\n",
      "32403918   3417879        9327                 16          0  Garlic Powder\n",
      "32414307   3418993        9327                  3          0  Garlic Powder\n",
      "32419210   3419503        9327                 24          1  Garlic Powder\n",
      "32430445   3420663        9327                  8          0  Garlic Powder\n",
      "32431000   3420715        9327                 23          0  Garlic Powder\n",
      "32433226   3420944        9327                  8          1  Garlic Powder\n",
      "\n",
      "[6299 rows x 5 columns]\n"
     ]
    }
   ],
   "source": [
    "print(merged_left[merged_left.product_id == 9327])"
   ]
  },
  {
   "cell_type": "code",
   "execution_count": 135,
   "metadata": {},
   "outputs": [
    {
     "data": {
      "text/html": [
       "<div>\n",
       "<style>\n",
       "    .dataframe thead tr:only-child th {\n",
       "        text-align: right;\n",
       "    }\n",
       "\n",
       "    .dataframe thead th {\n",
       "        text-align: left;\n",
       "    }\n",
       "\n",
       "    .dataframe tbody tr th {\n",
       "        vertical-align: top;\n",
       "    }\n",
       "</style>\n",
       "<table border=\"1\" class=\"dataframe\">\n",
       "  <thead>\n",
       "    <tr style=\"text-align: right;\">\n",
       "      <th></th>\n",
       "      <th>order_id</th>\n",
       "      <th>product_id</th>\n",
       "      <th>add_to_cart_order</th>\n",
       "      <th>reordered</th>\n",
       "      <th>product_name</th>\n",
       "      <th>user_id</th>\n",
       "      <th>eval_set</th>\n",
       "      <th>order_number</th>\n",
       "      <th>order_dow</th>\n",
       "      <th>order_hour_of_day</th>\n",
       "      <th>days_since_prior_order</th>\n",
       "    </tr>\n",
       "  </thead>\n",
       "  <tbody>\n",
       "    <tr>\n",
       "      <th>0</th>\n",
       "      <td>2</td>\n",
       "      <td>33120</td>\n",
       "      <td>1</td>\n",
       "      <td>1</td>\n",
       "      <td>Organic Egg Whites</td>\n",
       "      <td>202279</td>\n",
       "      <td>prior</td>\n",
       "      <td>3</td>\n",
       "      <td>5</td>\n",
       "      <td>9</td>\n",
       "      <td>8.0</td>\n",
       "    </tr>\n",
       "    <tr>\n",
       "      <th>1</th>\n",
       "      <td>2</td>\n",
       "      <td>28985</td>\n",
       "      <td>2</td>\n",
       "      <td>1</td>\n",
       "      <td>Michigan Organic Kale</td>\n",
       "      <td>202279</td>\n",
       "      <td>prior</td>\n",
       "      <td>3</td>\n",
       "      <td>5</td>\n",
       "      <td>9</td>\n",
       "      <td>8.0</td>\n",
       "    </tr>\n",
       "    <tr>\n",
       "      <th>2</th>\n",
       "      <td>2</td>\n",
       "      <td>9327</td>\n",
       "      <td>3</td>\n",
       "      <td>0</td>\n",
       "      <td>Garlic Powder</td>\n",
       "      <td>202279</td>\n",
       "      <td>prior</td>\n",
       "      <td>3</td>\n",
       "      <td>5</td>\n",
       "      <td>9</td>\n",
       "      <td>8.0</td>\n",
       "    </tr>\n",
       "    <tr>\n",
       "      <th>3</th>\n",
       "      <td>2</td>\n",
       "      <td>45918</td>\n",
       "      <td>4</td>\n",
       "      <td>1</td>\n",
       "      <td>Coconut Butter</td>\n",
       "      <td>202279</td>\n",
       "      <td>prior</td>\n",
       "      <td>3</td>\n",
       "      <td>5</td>\n",
       "      <td>9</td>\n",
       "      <td>8.0</td>\n",
       "    </tr>\n",
       "    <tr>\n",
       "      <th>4</th>\n",
       "      <td>2</td>\n",
       "      <td>30035</td>\n",
       "      <td>5</td>\n",
       "      <td>0</td>\n",
       "      <td>Natural Sweetener</td>\n",
       "      <td>202279</td>\n",
       "      <td>prior</td>\n",
       "      <td>3</td>\n",
       "      <td>5</td>\n",
       "      <td>9</td>\n",
       "      <td>8.0</td>\n",
       "    </tr>\n",
       "    <tr>\n",
       "      <th>5</th>\n",
       "      <td>2</td>\n",
       "      <td>17794</td>\n",
       "      <td>6</td>\n",
       "      <td>1</td>\n",
       "      <td>Carrots</td>\n",
       "      <td>202279</td>\n",
       "      <td>prior</td>\n",
       "      <td>3</td>\n",
       "      <td>5</td>\n",
       "      <td>9</td>\n",
       "      <td>8.0</td>\n",
       "    </tr>\n",
       "    <tr>\n",
       "      <th>6</th>\n",
       "      <td>2</td>\n",
       "      <td>40141</td>\n",
       "      <td>7</td>\n",
       "      <td>1</td>\n",
       "      <td>Original Unflavored Gelatine Mix</td>\n",
       "      <td>202279</td>\n",
       "      <td>prior</td>\n",
       "      <td>3</td>\n",
       "      <td>5</td>\n",
       "      <td>9</td>\n",
       "      <td>8.0</td>\n",
       "    </tr>\n",
       "    <tr>\n",
       "      <th>7</th>\n",
       "      <td>2</td>\n",
       "      <td>1819</td>\n",
       "      <td>8</td>\n",
       "      <td>1</td>\n",
       "      <td>All Natural No Stir Creamy Almond Butter</td>\n",
       "      <td>202279</td>\n",
       "      <td>prior</td>\n",
       "      <td>3</td>\n",
       "      <td>5</td>\n",
       "      <td>9</td>\n",
       "      <td>8.0</td>\n",
       "    </tr>\n",
       "    <tr>\n",
       "      <th>8</th>\n",
       "      <td>2</td>\n",
       "      <td>43668</td>\n",
       "      <td>9</td>\n",
       "      <td>0</td>\n",
       "      <td>Classic Blend Cole Slaw</td>\n",
       "      <td>202279</td>\n",
       "      <td>prior</td>\n",
       "      <td>3</td>\n",
       "      <td>5</td>\n",
       "      <td>9</td>\n",
       "      <td>8.0</td>\n",
       "    </tr>\n",
       "    <tr>\n",
       "      <th>9</th>\n",
       "      <td>3</td>\n",
       "      <td>33754</td>\n",
       "      <td>1</td>\n",
       "      <td>1</td>\n",
       "      <td>Total 2% with Strawberry Lowfat Greek Strained...</td>\n",
       "      <td>205970</td>\n",
       "      <td>prior</td>\n",
       "      <td>16</td>\n",
       "      <td>5</td>\n",
       "      <td>17</td>\n",
       "      <td>12.0</td>\n",
       "    </tr>\n",
       "  </tbody>\n",
       "</table>\n",
       "</div>"
      ],
      "text/plain": [
       "   order_id  product_id  add_to_cart_order  reordered  \\\n",
       "0         2       33120                  1          1   \n",
       "1         2       28985                  2          1   \n",
       "2         2        9327                  3          0   \n",
       "3         2       45918                  4          1   \n",
       "4         2       30035                  5          0   \n",
       "5         2       17794                  6          1   \n",
       "6         2       40141                  7          1   \n",
       "7         2        1819                  8          1   \n",
       "8         2       43668                  9          0   \n",
       "9         3       33754                  1          1   \n",
       "\n",
       "                                        product_name  user_id eval_set  \\\n",
       "0                                 Organic Egg Whites   202279    prior   \n",
       "1                              Michigan Organic Kale   202279    prior   \n",
       "2                                      Garlic Powder   202279    prior   \n",
       "3                                     Coconut Butter   202279    prior   \n",
       "4                                  Natural Sweetener   202279    prior   \n",
       "5                                            Carrots   202279    prior   \n",
       "6                   Original Unflavored Gelatine Mix   202279    prior   \n",
       "7           All Natural No Stir Creamy Almond Butter   202279    prior   \n",
       "8                            Classic Blend Cole Slaw   202279    prior   \n",
       "9  Total 2% with Strawberry Lowfat Greek Strained...   205970    prior   \n",
       "\n",
       "   order_number  order_dow  order_hour_of_day  days_since_prior_order  \n",
       "0             3          5                  9                     8.0  \n",
       "1             3          5                  9                     8.0  \n",
       "2             3          5                  9                     8.0  \n",
       "3             3          5                  9                     8.0  \n",
       "4             3          5                  9                     8.0  \n",
       "5             3          5                  9                     8.0  \n",
       "6             3          5                  9                     8.0  \n",
       "7             3          5                  9                     8.0  \n",
       "8             3          5                  9                     8.0  \n",
       "9            16          5                 17                    12.0  "
      ]
     },
     "execution_count": 135,
     "metadata": {},
     "output_type": "execute_result"
    }
   ],
   "source": [
    "merged_data = pd.merge(left=merged_left,right=prev, how='left', left_on='order_id', right_on='order_id')\n",
    "merged_data.head(10)"
   ]
  },
  {
   "cell_type": "code",
   "execution_count": 136,
   "metadata": {},
   "outputs": [
    {
     "data": {
      "text/plain": [
       "days_since_prior_order    2078068\n",
       "dtype: int64"
      ]
     },
     "execution_count": 136,
     "metadata": {},
     "output_type": "execute_result"
    }
   ],
   "source": [
    "# Let's check the data for nulls\n",
    "null_count = merged_data.isnull().sum()\n",
    "null_count[null_count>0]"
   ]
  },
  {
   "cell_type": "code",
   "execution_count": 137,
   "metadata": {
    "collapsed": true
   },
   "outputs": [],
   "source": [
    "merged_data = merged_data.fillna(0)"
   ]
  },
  {
   "cell_type": "code",
   "execution_count": 138,
   "metadata": {},
   "outputs": [
    {
     "data": {
      "image/png": "[encoded data removed]",
      "text/plain": [
       "<Figure size 432x288 with 1 Axes>"
      ]
     },
     "metadata": {},
     "output_type": "display_data"
    },
    {
     "data": {
      "image/png": "[encoded data removed]",
      "text/plain": [
       "<Figure size 432x288 with 1 Axes>"
      ]
     },
     "metadata": {},
     "output_type": "display_data"
    },
    {
     "data": {
      "image/png": "[encoded data removed]",
      "text/plain": [
       "<Figure size 432x288 with 1 Axes>"
      ]
     },
     "metadata": {},
     "output_type": "display_data"
    },
    {
     "data": {
      "image/png": "[encoded data removed]",
      "text/plain": [
       "<Figure size 432x288 with 1 Axes>"
      ]
     },
     "metadata": {},
     "output_type": "display_data"
    }
   ],
   "source": [
    "value_count_columns = ['order_number', 'order_dow', 'order_hour_of_day', 'days_since_prior_order']\n",
    "for feature in value_count_columns:\n",
    "    sns.countplot(x=feature, data=merged_data)\n",
    "    plt.show()"
   ]
  },
  {
   "cell_type": "code",
   "execution_count": 139,
   "metadata": {
    "collapsed": true
   },
   "outputs": [],
   "source": [
    "merged_data['timeframe'] = pd.qcut(merged_data['order_hour_of_day'], 4, labels=False)"
   ]
  },
  {
   "cell_type": "code",
   "execution_count": 140,
   "metadata": {},
   "outputs": [
    {
     "data": {
      "text/plain": [
       "\"latenight_snacks = merged_data[merged_data.timeframe == 0]\\nsns.countplot(x='product_name', data=latenight_snacks)\\nplt.show()\""
      ]
     },
     "execution_count": 140,
     "metadata": {},
     "output_type": "execute_result"
    }
   ],
   "source": [
    "\"\"\"latenight_snacks = merged_data[merged_data.timeframe == 0]\n",
    "sns.countplot(x='product_name', data=latenight_snacks)\n",
    "plt.show()\"\"\""
   ]
  },
  {
   "cell_type": "code",
   "execution_count": 141,
   "metadata": {},
   "outputs": [
    {
     "data": {
      "text/html": [
       "<div>\n",
       "<style>\n",
       "    .dataframe thead tr:only-child th {\n",
       "        text-align: right;\n",
       "    }\n",
       "\n",
       "    .dataframe thead th {\n",
       "        text-align: left;\n",
       "    }\n",
       "\n",
       "    .dataframe tbody tr th {\n",
       "        vertical-align: top;\n",
       "    }\n",
       "</style>\n",
       "<table border=\"1\" class=\"dataframe\">\n",
       "  <thead>\n",
       "    <tr style=\"text-align: right;\">\n",
       "      <th></th>\n",
       "      <th>order_id</th>\n",
       "      <th>product_id</th>\n",
       "      <th>add_to_cart_order</th>\n",
       "      <th>reordered</th>\n",
       "      <th>product_name</th>\n",
       "      <th>user_id</th>\n",
       "      <th>eval_set</th>\n",
       "      <th>order_number</th>\n",
       "      <th>order_dow</th>\n",
       "      <th>order_hour_of_day</th>\n",
       "      <th>days_since_prior_order</th>\n",
       "      <th>timeframe</th>\n",
       "      <th>prev_order</th>\n",
       "    </tr>\n",
       "  </thead>\n",
       "  <tbody>\n",
       "    <tr>\n",
       "      <th>1</th>\n",
       "      <td>2</td>\n",
       "      <td>28985</td>\n",
       "      <td>2</td>\n",
       "      <td>1</td>\n",
       "      <td>Michigan Organic Kale</td>\n",
       "      <td>202279</td>\n",
       "      <td>prior</td>\n",
       "      <td>3</td>\n",
       "      <td>5</td>\n",
       "      <td>9</td>\n",
       "      <td>8.0</td>\n",
       "      <td>0</td>\n",
       "      <td>33120.0</td>\n",
       "    </tr>\n",
       "    <tr>\n",
       "      <th>2</th>\n",
       "      <td>2</td>\n",
       "      <td>9327</td>\n",
       "      <td>3</td>\n",
       "      <td>0</td>\n",
       "      <td>Garlic Powder</td>\n",
       "      <td>202279</td>\n",
       "      <td>prior</td>\n",
       "      <td>3</td>\n",
       "      <td>5</td>\n",
       "      <td>9</td>\n",
       "      <td>8.0</td>\n",
       "      <td>0</td>\n",
       "      <td>28985.0</td>\n",
       "    </tr>\n",
       "    <tr>\n",
       "      <th>3</th>\n",
       "      <td>2</td>\n",
       "      <td>45918</td>\n",
       "      <td>4</td>\n",
       "      <td>1</td>\n",
       "      <td>Coconut Butter</td>\n",
       "      <td>202279</td>\n",
       "      <td>prior</td>\n",
       "      <td>3</td>\n",
       "      <td>5</td>\n",
       "      <td>9</td>\n",
       "      <td>8.0</td>\n",
       "      <td>0</td>\n",
       "      <td>9327.0</td>\n",
       "    </tr>\n",
       "    <tr>\n",
       "      <th>4</th>\n",
       "      <td>2</td>\n",
       "      <td>30035</td>\n",
       "      <td>5</td>\n",
       "      <td>0</td>\n",
       "      <td>Natural Sweetener</td>\n",
       "      <td>202279</td>\n",
       "      <td>prior</td>\n",
       "      <td>3</td>\n",
       "      <td>5</td>\n",
       "      <td>9</td>\n",
       "      <td>8.0</td>\n",
       "      <td>0</td>\n",
       "      <td>45918.0</td>\n",
       "    </tr>\n",
       "    <tr>\n",
       "      <th>5</th>\n",
       "      <td>2</td>\n",
       "      <td>17794</td>\n",
       "      <td>6</td>\n",
       "      <td>1</td>\n",
       "      <td>Carrots</td>\n",
       "      <td>202279</td>\n",
       "      <td>prior</td>\n",
       "      <td>3</td>\n",
       "      <td>5</td>\n",
       "      <td>9</td>\n",
       "      <td>8.0</td>\n",
       "      <td>0</td>\n",
       "      <td>30035.0</td>\n",
       "    </tr>\n",
       "    <tr>\n",
       "      <th>6</th>\n",
       "      <td>2</td>\n",
       "      <td>40141</td>\n",
       "      <td>7</td>\n",
       "      <td>1</td>\n",
       "      <td>Original Unflavored Gelatine Mix</td>\n",
       "      <td>202279</td>\n",
       "      <td>prior</td>\n",
       "      <td>3</td>\n",
       "      <td>5</td>\n",
       "      <td>9</td>\n",
       "      <td>8.0</td>\n",
       "      <td>0</td>\n",
       "      <td>17794.0</td>\n",
       "    </tr>\n",
       "    <tr>\n",
       "      <th>7</th>\n",
       "      <td>2</td>\n",
       "      <td>1819</td>\n",
       "      <td>8</td>\n",
       "      <td>1</td>\n",
       "      <td>All Natural No Stir Creamy Almond Butter</td>\n",
       "      <td>202279</td>\n",
       "      <td>prior</td>\n",
       "      <td>3</td>\n",
       "      <td>5</td>\n",
       "      <td>9</td>\n",
       "      <td>8.0</td>\n",
       "      <td>0</td>\n",
       "      <td>40141.0</td>\n",
       "    </tr>\n",
       "    <tr>\n",
       "      <th>8</th>\n",
       "      <td>2</td>\n",
       "      <td>43668</td>\n",
       "      <td>9</td>\n",
       "      <td>0</td>\n",
       "      <td>Classic Blend Cole Slaw</td>\n",
       "      <td>202279</td>\n",
       "      <td>prior</td>\n",
       "      <td>3</td>\n",
       "      <td>5</td>\n",
       "      <td>9</td>\n",
       "      <td>8.0</td>\n",
       "      <td>0</td>\n",
       "      <td>1819.0</td>\n",
       "    </tr>\n",
       "    <tr>\n",
       "      <th>10</th>\n",
       "      <td>3</td>\n",
       "      <td>24838</td>\n",
       "      <td>2</td>\n",
       "      <td>1</td>\n",
       "      <td>Unsweetened Almondmilk</td>\n",
       "      <td>205970</td>\n",
       "      <td>prior</td>\n",
       "      <td>16</td>\n",
       "      <td>5</td>\n",
       "      <td>17</td>\n",
       "      <td>12.0</td>\n",
       "      <td>3</td>\n",
       "      <td>33754.0</td>\n",
       "    </tr>\n",
       "    <tr>\n",
       "      <th>11</th>\n",
       "      <td>3</td>\n",
       "      <td>17704</td>\n",
       "      <td>3</td>\n",
       "      <td>1</td>\n",
       "      <td>Lemons</td>\n",
       "      <td>205970</td>\n",
       "      <td>prior</td>\n",
       "      <td>16</td>\n",
       "      <td>5</td>\n",
       "      <td>17</td>\n",
       "      <td>12.0</td>\n",
       "      <td>3</td>\n",
       "      <td>24838.0</td>\n",
       "    </tr>\n",
       "  </tbody>\n",
       "</table>\n",
       "</div>"
      ],
      "text/plain": [
       "    order_id  product_id  add_to_cart_order  reordered  \\\n",
       "1          2       28985                  2          1   \n",
       "2          2        9327                  3          0   \n",
       "3          2       45918                  4          1   \n",
       "4          2       30035                  5          0   \n",
       "5          2       17794                  6          1   \n",
       "6          2       40141                  7          1   \n",
       "7          2        1819                  8          1   \n",
       "8          2       43668                  9          0   \n",
       "10         3       24838                  2          1   \n",
       "11         3       17704                  3          1   \n",
       "\n",
       "                                product_name  user_id eval_set  order_number  \\\n",
       "1                      Michigan Organic Kale   202279    prior             3   \n",
       "2                              Garlic Powder   202279    prior             3   \n",
       "3                             Coconut Butter   202279    prior             3   \n",
       "4                          Natural Sweetener   202279    prior             3   \n",
       "5                                    Carrots   202279    prior             3   \n",
       "6           Original Unflavored Gelatine Mix   202279    prior             3   \n",
       "7   All Natural No Stir Creamy Almond Butter   202279    prior             3   \n",
       "8                    Classic Blend Cole Slaw   202279    prior             3   \n",
       "10                    Unsweetened Almondmilk   205970    prior            16   \n",
       "11                                    Lemons   205970    prior            16   \n",
       "\n",
       "    order_dow  order_hour_of_day  days_since_prior_order  timeframe  \\\n",
       "1           5                  9                     8.0          0   \n",
       "2           5                  9                     8.0          0   \n",
       "3           5                  9                     8.0          0   \n",
       "4           5                  9                     8.0          0   \n",
       "5           5                  9                     8.0          0   \n",
       "6           5                  9                     8.0          0   \n",
       "7           5                  9                     8.0          0   \n",
       "8           5                  9                     8.0          0   \n",
       "10          5                 17                    12.0          3   \n",
       "11          5                 17                    12.0          3   \n",
       "\n",
       "    prev_order  \n",
       "1      33120.0  \n",
       "2      28985.0  \n",
       "3       9327.0  \n",
       "4      45918.0  \n",
       "5      30035.0  \n",
       "6      17794.0  \n",
       "7      40141.0  \n",
       "8       1819.0  \n",
       "10     33754.0  \n",
       "11     24838.0  "
      ]
     },
     "execution_count": 141,
     "metadata": {},
     "output_type": "execute_result"
    }
   ],
   "source": [
    "merged_data['prev_order'] = merged_data['product_id'].shift(1)\n",
    "merged_data = merged_data[merged_data.add_to_cart_order != 1]\n",
    "merged_data.head(10)"
   ]
  },
  {
   "cell_type": "code",
   "execution_count": 142,
   "metadata": {},
   "outputs": [],
   "source": [
    "merged_data = resample(merged_data, n_samples=100000)\n",
    "X = merged_data.drop(['order_id', 'product_name', 'eval_set'], 1)"
   ]
  },
  {
   "cell_type": "code",
   "execution_count": 143,
   "metadata": {},
   "outputs": [
    {
     "data": {
      "text/plain": [
       "\"kclust = np.arange(2, 7, 1)\\nfor k in kclust:\\n    # Calculate predicted values.\\n    kmeans = KMeans(n_clusters=k, random_state=42)\\n    kmeans.fit(X)\\n\\n    # Check the solution against the data.\\n    labelskm = kmeans.labels_\\n    print(k, metrics.silhouette_score(X, labelskm, metric='euclidean'))\""
      ]
     },
     "execution_count": 143,
     "metadata": {},
     "output_type": "execute_result"
    }
   ],
   "source": [
    "\"\"\"kclust = np.arange(2, 7, 1)\n",
    "for k in kclust:\n",
    "    # Calculate predicted values.\n",
    "    kmeans = KMeans(n_clusters=k, random_state=42)\n",
    "    kmeans.fit(X)\n",
    "\n",
    "    # Check the solution against the data.\n",
    "    labelskm = kmeans.labels_\n",
    "    print(k, metrics.silhouette_score(X, labelskm, metric='euclidean'))\"\"\""
   ]
  },
  {
   "cell_type": "code",
   "execution_count": 144,
   "metadata": {},
   "outputs": [
    {
     "data": {
      "text/plain": [
       "'bandwidth = estimate_bandwidth(X, quantile=0.2, n_samples=500)\\n    \\n# Declare and fit the model.\\nms = MeanShift(bandwidth=bandwidth, bin_seeding=True).fit(X) \\n\\n# Extract cluster assignments for each data point.\\nlabelsms = ms.labels_\\n\\n# Coordinates of the cluster centers.\\ncluster_centers = ms.cluster_centers_\\n\\n# Count our clusters.\\nn_clusters_ = len(np.unique(labelsms))\\n\\nprint(\"Number of estimated clusters: {}\".format(n_clusters_))\\nprint(\\'Comparing the assigned categories to the ones in the data:\\')\\nprint(metrics.silhouette_score(X, labelsms, metric=\\'euclidean\\'))'"
      ]
     },
     "execution_count": 144,
     "metadata": {},
     "output_type": "execute_result"
    }
   ],
   "source": [
    "\"\"\"bandwidth = estimate_bandwidth(X, quantile=0.2, n_samples=500)\n",
    "    \n",
    "# Declare and fit the model.\n",
    "ms = MeanShift(bandwidth=bandwidth, bin_seeding=True).fit(X) \n",
    "\n",
    "# Extract cluster assignments for each data point.\n",
    "labelsms = ms.labels_\n",
    "\n",
    "# Coordinates of the cluster centers.\n",
    "cluster_centers = ms.cluster_centers_\n",
    "\n",
    "# Count our clusters.\n",
    "n_clusters_ = len(np.unique(labelsms))\n",
    "\n",
    "print(\"Number of estimated clusters: {}\".format(n_clusters_))\n",
    "print('Comparing the assigned categories to the ones in the data:')\n",
    "print(metrics.silhouette_score(X, labelsms, metric='euclidean'))\"\"\""
   ]
  },
  {
   "cell_type": "code",
   "execution_count": 145,
   "metadata": {},
   "outputs": [],
   "source": [
    "kmeans = KMeans(n_clusters=5, random_state=42)\n",
    "merged_data_fitted = kmeans.fit(X)\n",
    "labels = kmeans.labels_\n",
    "X['clusters'] = labels"
   ]
  },
  {
   "cell_type": "code",
   "execution_count": 146,
   "metadata": {
    "scrolled": false
   },
   "outputs": [
    {
     "data": {
      "image/png": "[encoded data removed]",
      "text/plain": [
       "<Figure size 842.4x595.44 with 1 Axes>"
      ]
     },
     "metadata": {},
     "output_type": "display_data"
    },
    {
     "data": {
      "image/png": "[encoded data removed]",
      "text/plain": [
       "<Figure size 842.4x595.44 with 1 Axes>"
      ]
     },
     "metadata": {},
     "output_type": "display_data"
    },
    {
     "data": {
      "image/png": "[encoded data removed]",
      "text/plain": [
       "<Figure size 842.4x595.44 with 1 Axes>"
      ]
     },
     "metadata": {},
     "output_type": "display_data"
    },
    {
     "data": {
      "image/png": "[encoded data removed]",
      "text/plain": [
       "<Figure size 842.4x595.44 with 1 Axes>"
      ]
     },
     "metadata": {},
     "output_type": "display_data"
    }
   ],
   "source": [
    "\n",
    "for feature in value_count_columns:\n",
    "    fig, ax = plt.subplots()\n",
    "    # the size of A4 paper\n",
    "    fig.set_size_inches(11.7, 8.27)\n",
    "    sns.countplot(x=feature, hue=X.clusters, data=X, ax=ax)\n",
    "    plt.show()"
   ]
  },
  {
   "cell_type": "code",
   "execution_count": 147,
   "metadata": {
    "collapsed": true
   },
   "outputs": [],
   "source": [
    "kmeans = KMeans(n_clusters=2, random_state=42)\n",
    "merged_data_fitted = kmeans.fit(X)\n",
    "labels = kmeans.labels_\n",
    "X['clusters'] = labels"
   ]
  },
  {
   "cell_type": "code",
   "execution_count": 148,
   "metadata": {
    "scrolled": false
   },
   "outputs": [
    {
     "data": {
      "image/png": "[encoded data removed]",
      "text/plain": [
       "<Figure size 842.4x595.44 with 1 Axes>"
      ]
     },
     "metadata": {},
     "output_type": "display_data"
    },
    {
     "data": {
      "image/png": "[encoded data removed]",
      "text/plain": [
       "<Figure size 842.4x595.44 with 1 Axes>"
      ]
     },
     "metadata": {},
     "output_type": "display_data"
    },
    {
     "data": {
      "image/png": "[encoded data removed]",
      "text/plain": [
       "<Figure size 842.4x595.44 with 1 Axes>"
      ]
     },
     "metadata": {},
     "output_type": "display_data"
    },
    {
     "data": {
      "image/png": "[encoded data removed]",
      "text/plain": [
       "<Figure size 842.4x595.44 with 1 Axes>"
      ]
     },
     "metadata": {},
     "output_type": "display_data"
    }
   ],
   "source": [
    "for feature in value_count_columns:\n",
    "    fig, ax = plt.subplots()\n",
    "    # the size of A4 paper\n",
    "    fig.set_size_inches(11.7, 8.27)\n",
    "    sns.countplot(x=feature, hue=X.clusters, data=X, ax=ax)\n",
    "    plt.show()"
   ]
  },
  {
   "cell_type": "code",
   "execution_count": 149,
   "metadata": {
    "collapsed": true
   },
   "outputs": [],
   "source": [
    "kmeans = KMeans(n_clusters=3, random_state=42)\n",
    "merged_data_fitted = kmeans.fit(X)\n",
    "labels = kmeans.labels_\n",
    "X['clusters'] = labels"
   ]
  },
  {
   "cell_type": "code",
   "execution_count": 150,
   "metadata": {
    "scrolled": false
   },
   "outputs": [
    {
     "data": {
      "image/png": "[encoded data removed]",
      "text/plain": [
       "<Figure size 842.4x595.44 with 1 Axes>"
      ]
     },
     "metadata": {},
     "output_type": "display_data"
    },
    {
     "data": {
      "image/png": "[encoded data removed]",
      "text/plain": [
       "<Figure size 842.4x595.44 with 1 Axes>"
      ]
     },
     "metadata": {},
     "output_type": "display_data"
    },
    {
     "data": {
      "image/png": "[encoded data removed]",
      "text/plain": [
       "<Figure size 842.4x595.44 with 1 Axes>"
      ]
     },
     "metadata": {},
     "output_type": "display_data"
    },
    {
     "data": {
      "image/png": "[encoded data removed]",
      "text/plain": [
       "<Figure size 842.4x595.44 with 1 Axes>"
      ]
     },
     "metadata": {},
     "output_type": "display_data"
    }
   ],
   "source": [
    "for feature in value_count_columns:\n",
    "    fig, ax = plt.subplots()\n",
    "    # the size of A4 paper\n",
    "    fig.set_size_inches(11.7, 8.27)\n",
    "    sns.countplot(x=feature, hue=X.clusters, data=X, ax=ax)\n",
    "    plt.show()"
   ]
  },
  {
   "cell_type": "code",
   "execution_count": 151,
   "metadata": {
    "collapsed": true
   },
   "outputs": [],
   "source": [
    "kmeans = KMeans(n_clusters=4, random_state=42)\n",
    "merged_data_fitted = kmeans.fit(X)\n",
    "labels = kmeans.labels_\n",
    "X['clusters'] = labels"
   ]
  },
  {
   "cell_type": "code",
   "execution_count": 152,
   "metadata": {
    "scrolled": false
   },
   "outputs": [
    {
     "data": {
      "image/png": "[encoded data removed]",
      "text/plain": [
       "<Figure size 842.4x595.44 with 1 Axes>"
      ]
     },
     "metadata": {},
     "output_type": "display_data"
    },
    {
     "data": {
      "image/png": "[encoded data removed]",
      "text/plain": [
       "<Figure size 842.4x595.44 with 1 Axes>"
      ]
     },
     "metadata": {},
     "output_type": "display_data"
    },
    {
     "data": {
      "image/png": "[encoded data removed]",
      "text/plain": [
       "<Figure size 842.4x595.44 with 1 Axes>"
      ]
     },
     "metadata": {},
     "output_type": "display_data"
    },
    {
     "data": {
      "image/png": "[encoded data removed]",
      "text/plain": [
       "<Figure size 842.4x595.44 with 1 Axes>"
      ]
     },
     "metadata": {},
     "output_type": "display_data"
    }
   ],
   "source": [
    "for feature in value_count_columns:\n",
    "    fig, ax = plt.subplots()\n",
    "    # the size of A4 paper\n",
    "    fig.set_size_inches(11.7, 8.27)\n",
    "    sns.countplot(x=feature, hue=X.clusters, data=X, ax=ax)\n",
    "    plt.show()"
   ]
  },
  {
   "cell_type": "code",
   "execution_count": 153,
   "metadata": {
    "collapsed": true
   },
   "outputs": [],
   "source": [
    "kmeans = KMeans(n_clusters=6, random_state=42)\n",
    "merged_data_fitted = kmeans.fit(X)\n",
    "labels = kmeans.labels_\n",
    "X['clusters'] = labels"
   ]
  },
  {
   "cell_type": "code",
   "execution_count": 154,
   "metadata": {
    "scrolled": false
   },
   "outputs": [
    {
     "data": {
      "image/png": "[encoded data removed]",
      "text/plain": [
       "<Figure size 842.4x595.44 with 1 Axes>"
      ]
     },
     "metadata": {},
     "output_type": "display_data"
    },
    {
     "data": {
      "image/png": "[encoded data removed]",
      "text/plain": [
       "<Figure size 842.4x595.44 with 1 Axes>"
      ]
     },
     "metadata": {},
     "output_type": "display_data"
    },
    {
     "data": {
      "image/png": "[encoded data removed]",
      "text/plain": [
       "<Figure size 842.4x595.44 with 1 Axes>"
      ]
     },
     "metadata": {},
     "output_type": "display_data"
    },
    {
     "data": {
      "image/png": "[encoded data removed]",
      "text/plain": [
       "<Figure size 842.4x595.44 with 1 Axes>"
      ]
     },
     "metadata": {},
     "output_type": "display_data"
    }
   ],
   "source": [
    "for feature in value_count_columns:\n",
    "    fig, ax = plt.subplots()\n",
    "    # the size of A4 paper\n",
    "    fig.set_size_inches(11.7, 8.27)\n",
    "    sns.countplot(x=feature, hue=X.clusters, data=X, ax=ax)\n",
    "    plt.show()"
   ]
  },
  {
   "cell_type": "code",
   "execution_count": 155,
   "metadata": {
    "scrolled": false
   },
   "outputs": [
    {
     "name": "stdout",
     "output_type": "stream",
     "text": [
      "clusters  product_id  product_id\n",
      "0         24852       24852         224\n",
      "3         24852       24852         214\n",
      "4         24852       24852         212\n",
      "1         24852       24852         210\n",
      "5         24852       24852         207\n",
      "4         13176       13176         204\n",
      "2         13176       13176         194\n",
      "          24852       24852         194\n",
      "1         13176       13176         184\n",
      "0         13176       13176         174\n",
      "5         13176       13176         164\n",
      "3         13176       13176         156\n",
      "2         21903       21903         147\n",
      "1         21137       21137         145\n",
      "4         21137       21137         145\n",
      "0         21137       21137         144\n",
      "          21903       21903         135\n",
      "2         21137       21137         132\n",
      "3         21137       21137         131\n",
      "5         21137       21137         131\n",
      "4         21903       21903         129\n",
      "5         21903       21903         124\n",
      "3         21903       21903         119\n",
      "1         47209       47209         117\n",
      "          21903       21903         116\n",
      "5         47209       47209         112\n",
      "3         47209       47209         107\n",
      "5         47766       47766         104\n",
      "0         47209       47209         101\n",
      "4         47209       47209         100\n",
      "                                   ... \n",
      "5         27966       27966          61\n",
      "1         42265       42265          59\n",
      "2         8277        8277           59\n",
      "0         22935       22935          58\n",
      "          24964       24964          58\n",
      "1         16797       16797          58\n",
      "2         24964       24964          58\n",
      "4         47626       47626          58\n",
      "5         27845       27845          58\n",
      "1         24964       24964          57\n",
      "3         27845       27845          56\n",
      "2         27845       27845          55\n",
      "4         8277        8277           55\n",
      "0         49683       49683          54\n",
      "1         5876        5876           54\n",
      "          40706       40706          54\n",
      "2         49683       49683          54\n",
      "0         28204       28204          53\n",
      "          31717       31717          53\n",
      "          5876        5876           52\n",
      "          45007       45007          52\n",
      "2         45007       45007          52\n",
      "1         45007       45007          51\n",
      "3         45007       45007          51\n",
      "4         4920        4920           51\n",
      "          24964       24964          51\n",
      "0         8518        8518           50\n",
      "2         37646       37646          50\n",
      "          39275       39275          50\n",
      "5         40706       40706          50\n",
      "Name: product_id, Length: 100, dtype: int64\n"
     ]
    },
    {
     "data": {
      "text/plain": [
       "\"grouped = pd.merge(left=grouped,right=products, how='left', left_on='product_id', right_on='product_id')\\ngrouped.head(10)\""
      ]
     },
     "execution_count": 155,
     "metadata": {},
     "output_type": "execute_result"
    }
   ],
   "source": [
    "grouped = X.groupby(['clusters', 'product_id']).product_id.value_counts().nlargest(100)\n",
    "print(grouped)\n",
    "\"\"\"grouped = pd.merge(left=grouped,right=products, how='left', left_on='product_id', right_on='product_id')\n",
    "grouped.head(10)\"\"\""
   ]
  },
  {
   "cell_type": "code",
   "execution_count": 156,
   "metadata": {},
   "outputs": [],
   "source": [
    "X = X.drop(['product_id'], axis=1)\n",
    "y = merged_data['product_id']\n",
    "sample_weight = np.random.RandomState(42).rand(y.shape[0])\n",
    "X_train, X_test, y_train, y_test, sw_train, sw_test= train_test_split(X, y, sample_weight, test_size=0.4, random_state=0)\n"
   ]
  },
  {
   "cell_type": "code",
   "execution_count": 157,
   "metadata": {},
   "outputs": [
    {
     "data": {
      "text/plain": [
       "\"def testing_func(test):\\n    # This is a local list used to temporarily store scores\\n    scores=[]\\n    # This list serves the For loop below putting the variables in   \\n    for x in models:\\n        #Fitting to Training Data\\n        test.fit(X_train, y_train)\\n        #Training Data Score\\n        y_pred = model.predict_proba(X_test)\\n        conf_mat = confusion_matrix(y_test, y_pred)\\n        ytest_labels = list(set(y_test))\\n        ypred_labels = list(set(y_pred))\\n        combined_list = list(set(y_test + y_pred))\\n        fig, ax = plt.subplots(figsize=(10,10))\\n        sns.heatmap(conf_mat, annot=True, fmt='d', xticklabels=combined_list, yticklabels=combined_list)\\n        plt.ylabel('Actual')\\n        plt.xlabel('Predicted')\\n        plt.show()\\n        scores.append(test.score(x[0], x[1]))\\n        #Test Data Score\\n        scores.append(test.score(x[2], x[3]))\\n        #CV Score\\n        scores.append(np.mean(cross_val_score(test, x[0], x[1], cv=5)))\\n    \\n    # Create a local dataframe to display our results cleanly\\n    local_results_df=pd.DataFrame(scores, columns=['Accuracy'], index=[method])\\n    print(local_results_df)\\n    model = LogisticRegression(C=1, multi_class='multinomial', solver='lbfgs')\""
      ]
     },
     "execution_count": 157,
     "metadata": {},
     "output_type": "execute_result"
    }
   ],
   "source": [
    "#Create a testing function that will fit the test the data.\n",
    "\"\"\"def testing_func(test):\n",
    "    # This is a local list used to temporarily store scores\n",
    "    scores=[]\n",
    "    # This list serves the For loop below putting the variables in   \n",
    "    for x in models:\n",
    "        #Fitting to Training Data\n",
    "        test.fit(X_train, y_train)\n",
    "        #Training Data Score\n",
    "        y_pred = model.predict_proba(X_test)\n",
    "        conf_mat = confusion_matrix(y_test, y_pred)\n",
    "        ytest_labels = list(set(y_test))\n",
    "        ypred_labels = list(set(y_pred))\n",
    "        combined_list = list(set(y_test + y_pred))\n",
    "        fig, ax = plt.subplots(figsize=(10,10))\n",
    "        sns.heatmap(conf_mat, annot=True, fmt='d', xticklabels=combined_list, yticklabels=combined_list)\n",
    "        plt.ylabel('Actual')\n",
    "        plt.xlabel('Predicted')\n",
    "        plt.show()\n",
    "        scores.append(test.score(x[0], x[1]))\n",
    "        #Test Data Score\n",
    "        scores.append(test.score(x[2], x[3]))\n",
    "        #CV Score\n",
    "        scores.append(np.mean(cross_val_score(test, x[0], x[1], cv=5)))\n",
    "    \n",
    "    # Create a local dataframe to display our results cleanly\n",
    "    local_results_df=pd.DataFrame(scores, columns=['Accuracy'], index=[method])\n",
    "    print(local_results_df)\n",
    "    model = LogisticRegression(C=1, multi_class='multinomial', solver='lbfgs')\"\"\"\n"
   ]
  },
  {
   "cell_type": "code",
   "execution_count": 158,
   "metadata": {
    "collapsed": true
   },
   "outputs": [],
   "source": [
    "def testing_func(test):\n",
    "\n",
    "    test.fit(X_train, y_train) \n",
    "    prob_pos_clf = test.predict_proba(X_test)[:, 1]\n",
    "\n",
    "    \"\"\"# Gaussian Naive-Bayes with isotonic calibration\n",
    "    clf_isotonic = CalibratedClassifierCV(test, cv=2, method='isotonic')\n",
    "    clf_isotonic.fit(X_train, y_train, sw_train)\n",
    "    prob_pos_isotonic = clf_isotonic.predict_proba(X_test)[:, 1]\n",
    "\n",
    "    # Gaussian Naive-Bayes with sigmoid calibration\n",
    "    clf_sigmoid = CalibratedClassifierCV(test, cv=2, method='sigmoid')\n",
    "    clf_sigmoid.fit(X_train, y_train, sw_train)\n",
    "    prob_pos_sigmoid = clf_sigmoid.predict_proba(X_test)[:, 1]\"\"\"\n",
    "\n",
    "    print(\"Brier scores: (the smaller the better)\")\n",
    "\n",
    "    clf_score = brier_score_loss(y_test, prob_pos_clf, sw_test)\n",
    "    print(\"No calibration: {}\".format(clf_score))\n",
    "\n",
    "    \"\"\"clf_isotonic_score = brier_score_loss(y_test, prob_pos_isotonic, sw_test)\n",
    "    print(\"With isotonic calibration: {}\".format(clf_isotonic_score))\n",
    "\n",
    "    clf_sigmoid_score = brier_score_loss(y_test, prob_pos_sigmoid, sw_test)\n",
    "    print(\"With sigmoid calibration: {}\".format(clf_sigmoid_score))\"\"\""
   ]
  },
  {
   "cell_type": "code",
   "execution_count": 159,
   "metadata": {},
   "outputs": [
    {
     "name": "stdout",
     "output_type": "stream",
     "text": [
      "Brier scores: (the smaller the better)\n",
      "No calibration: 0.0027819473611796187\n",
      "\n",
      "It took the following time to complete this task: 5:56:58.372706\n"
     ]
    }
   ],
   "source": [
    "start = datetime.now()\n",
    "lr = LogisticRegression(C=1, multi_class='multinomial', solver='lbfgs')\n",
    "testing_func(lr)\n",
    "print('\\nIt took the following time to complete this task:', datetime.now() - start)"
   ]
  },
  {
   "cell_type": "code",
   "execution_count": 160,
   "metadata": {},
   "outputs": [
    {
     "ename": "NameError",
     "evalue": "name 'LinearSVC' is not defined",
     "output_type": "error",
     "traceback": [
      "\u001b[0;31m---------------------------------------------------------------------------\u001b[0m",
      "\u001b[0;31mNameError\u001b[0m                                 Traceback (most recent call last)",
      "\u001b[0;32m<ipython-input-160-e5a639205acb>\u001b[0m in \u001b[0;36m<module>\u001b[0;34m()\u001b[0m\n\u001b[1;32m      1\u001b[0m \u001b[0mstart\u001b[0m \u001b[0;34m=\u001b[0m \u001b[0mdatetime\u001b[0m\u001b[0;34m.\u001b[0m\u001b[0mnow\u001b[0m\u001b[0;34m(\u001b[0m\u001b[0;34m)\u001b[0m\u001b[0;34m\u001b[0m\u001b[0m\n\u001b[0;32m----> 2\u001b[0;31m \u001b[0msvc\u001b[0m \u001b[0;34m=\u001b[0m \u001b[0mLinearSVC\u001b[0m\u001b[0;34m(\u001b[0m\u001b[0mC\u001b[0m\u001b[0;34m=\u001b[0m\u001b[0;36m1\u001b[0m\u001b[0;34m,\u001b[0m \u001b[0mmulti_class\u001b[0m\u001b[0;34m=\u001b[0m\u001b[0;34m'ovr'\u001b[0m\u001b[0;34m)\u001b[0m\u001b[0;34m\u001b[0m\u001b[0m\n\u001b[0m\u001b[1;32m      3\u001b[0m \u001b[0mtesting_func\u001b[0m\u001b[0;34m(\u001b[0m\u001b[0msvc\u001b[0m\u001b[0;34m)\u001b[0m\u001b[0;34m\u001b[0m\u001b[0m\n\u001b[1;32m      4\u001b[0m \u001b[0mprint\u001b[0m\u001b[0;34m(\u001b[0m\u001b[0;34m'\\nIt took the following time to complete this task:'\u001b[0m\u001b[0;34m,\u001b[0m \u001b[0mdatetime\u001b[0m\u001b[0;34m.\u001b[0m\u001b[0mnow\u001b[0m\u001b[0;34m(\u001b[0m\u001b[0;34m)\u001b[0m \u001b[0;34m-\u001b[0m \u001b[0mstart\u001b[0m\u001b[0;34m)\u001b[0m\u001b[0;34m\u001b[0m\u001b[0m\n",
      "\u001b[0;31mNameError\u001b[0m: name 'LinearSVC' is not defined"
     ]
    }
   ],
   "source": [
    "start = datetime.now()\n",
    "svc = LinearSVC(C=1, multi_class='ovr')\n",
    "testing_func(svc)\n",
    "print('\\nIt took the following time to complete this task:', datetime.now() - start)"
   ]
  },
  {
   "cell_type": "code",
   "execution_count": null,
   "metadata": {
    "collapsed": true
   },
   "outputs": [],
   "source": [
    "start = datetime.now()\n",
    "rfc = RandomForestClassifier(n_estimators=100, n_jobs=4)\n",
    "testing_func(rfc)\n",
    "print('\\n It took the following time to complete this task:', datetime.now() - start)"
   ]
  }
 ],
 "metadata": {
  "kernelspec": {
   "display_name": "Python 3",
   "language": "python",
   "name": "python3"
  }
 },
 "nbformat": 4,
 "nbformat_minor": 2
}
