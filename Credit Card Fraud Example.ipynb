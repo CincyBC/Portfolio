{
 "cells": [
  {
   "cell_type": "markdown",
   "metadata": {
    "collapsed": true
   },
   "source": [
    "# Overview\n",
    "\n",
    "This data of credit card transactions has been anonymized through Principle Components Analysis (PCA) with \"Class\" as the label for fraudulent (labelled as \"1\") or legitimate (labelled as \"0\") transactions. This analysis will run the data through a series of models to determine which one performs the best with an emphasis on minimizing the number of false negatives or Type II Errors."
   ]
  },
  {
   "cell_type": "code",
   "execution_count": 392,
   "metadata": {
    "collapsed": true
   },
   "outputs": [],
   "source": [
    "import numpy as np\n",
    "import pandas as pd\n",
    "import scipy\n",
    "import sklearn\n",
    "import matplotlib.pyplot as plt\n",
    "import seaborn as sns\n",
    "from sklearn.decomposition import PCA\n",
    "from sklearn.naive_bayes import BernoulliNB\n",
    "from sklearn.neighbors import KNeighborsClassifier\n",
    "from sklearn.linear_model import LogisticRegression\n",
    "from sklearn.model_selection import train_test_split\n",
    "from sklearn.tree import DecisionTreeClassifier\n",
    "from sklearn.ensemble import RandomForestClassifier\n",
    "from sklearn.ensemble import GradientBoostingClassifier\n",
    "from sklearn.svm import SVC\n",
    "from sklearn.model_selection import GridSearchCV\n",
    "from sklearn.utils import resample\n",
    "from sklearn.metrics import confusion_matrix\n",
    "from sklearn import metrics\n",
    "\n",
    "from sklearn.model_selection import cross_val_score\n",
    "\n",
    "%matplotlib inline"
   ]
  },
  {
   "cell_type": "code",
   "execution_count": 393,
   "metadata": {},
   "outputs": [
    {
     "data": {
      "text/html": [
       "<div>\n",
       "<style>\n",
       "    .dataframe thead tr:only-child th {\n",
       "        text-align: right;\n",
       "    }\n",
       "\n",
       "    .dataframe thead th {\n",
       "        text-align: left;\n",
       "    }\n",
       "\n",
       "    .dataframe tbody tr th {\n",
       "        vertical-align: top;\n",
       "    }\n",
       "</style>\n",
       "<table border=\"1\" class=\"dataframe\">\n",
       "  <thead>\n",
       "    <tr style=\"text-align: right;\">\n",
       "      <th></th>\n",
       "      <th>Time</th>\n",
       "      <th>V1</th>\n",
       "      <th>V2</th>\n",
       "      <th>V3</th>\n",
       "      <th>V4</th>\n",
       "      <th>V5</th>\n",
       "      <th>V6</th>\n",
       "      <th>V7</th>\n",
       "      <th>V8</th>\n",
       "      <th>V9</th>\n",
       "      <th>...</th>\n",
       "      <th>V21</th>\n",
       "      <th>V22</th>\n",
       "      <th>V23</th>\n",
       "      <th>V24</th>\n",
       "      <th>V25</th>\n",
       "      <th>V26</th>\n",
       "      <th>V27</th>\n",
       "      <th>V28</th>\n",
       "      <th>Amount</th>\n",
       "      <th>Class</th>\n",
       "    </tr>\n",
       "  </thead>\n",
       "  <tbody>\n",
       "    <tr>\n",
       "      <th>0</th>\n",
       "      <td>0.0</td>\n",
       "      <td>-1.359807</td>\n",
       "      <td>-0.072781</td>\n",
       "      <td>2.536347</td>\n",
       "      <td>1.378155</td>\n",
       "      <td>-0.338321</td>\n",
       "      <td>0.462388</td>\n",
       "      <td>0.239599</td>\n",
       "      <td>0.098698</td>\n",
       "      <td>0.363787</td>\n",
       "      <td>...</td>\n",
       "      <td>-0.018307</td>\n",
       "      <td>0.277838</td>\n",
       "      <td>-0.110474</td>\n",
       "      <td>0.066928</td>\n",
       "      <td>0.128539</td>\n",
       "      <td>-0.189115</td>\n",
       "      <td>0.133558</td>\n",
       "      <td>-0.021053</td>\n",
       "      <td>149.62</td>\n",
       "      <td>0</td>\n",
       "    </tr>\n",
       "    <tr>\n",
       "      <th>1</th>\n",
       "      <td>0.0</td>\n",
       "      <td>1.191857</td>\n",
       "      <td>0.266151</td>\n",
       "      <td>0.166480</td>\n",
       "      <td>0.448154</td>\n",
       "      <td>0.060018</td>\n",
       "      <td>-0.082361</td>\n",
       "      <td>-0.078803</td>\n",
       "      <td>0.085102</td>\n",
       "      <td>-0.255425</td>\n",
       "      <td>...</td>\n",
       "      <td>-0.225775</td>\n",
       "      <td>-0.638672</td>\n",
       "      <td>0.101288</td>\n",
       "      <td>-0.339846</td>\n",
       "      <td>0.167170</td>\n",
       "      <td>0.125895</td>\n",
       "      <td>-0.008983</td>\n",
       "      <td>0.014724</td>\n",
       "      <td>2.69</td>\n",
       "      <td>0</td>\n",
       "    </tr>\n",
       "    <tr>\n",
       "      <th>2</th>\n",
       "      <td>1.0</td>\n",
       "      <td>-1.358354</td>\n",
       "      <td>-1.340163</td>\n",
       "      <td>1.773209</td>\n",
       "      <td>0.379780</td>\n",
       "      <td>-0.503198</td>\n",
       "      <td>1.800499</td>\n",
       "      <td>0.791461</td>\n",
       "      <td>0.247676</td>\n",
       "      <td>-1.514654</td>\n",
       "      <td>...</td>\n",
       "      <td>0.247998</td>\n",
       "      <td>0.771679</td>\n",
       "      <td>0.909412</td>\n",
       "      <td>-0.689281</td>\n",
       "      <td>-0.327642</td>\n",
       "      <td>-0.139097</td>\n",
       "      <td>-0.055353</td>\n",
       "      <td>-0.059752</td>\n",
       "      <td>378.66</td>\n",
       "      <td>0</td>\n",
       "    </tr>\n",
       "    <tr>\n",
       "      <th>3</th>\n",
       "      <td>1.0</td>\n",
       "      <td>-0.966272</td>\n",
       "      <td>-0.185226</td>\n",
       "      <td>1.792993</td>\n",
       "      <td>-0.863291</td>\n",
       "      <td>-0.010309</td>\n",
       "      <td>1.247203</td>\n",
       "      <td>0.237609</td>\n",
       "      <td>0.377436</td>\n",
       "      <td>-1.387024</td>\n",
       "      <td>...</td>\n",
       "      <td>-0.108300</td>\n",
       "      <td>0.005274</td>\n",
       "      <td>-0.190321</td>\n",
       "      <td>-1.175575</td>\n",
       "      <td>0.647376</td>\n",
       "      <td>-0.221929</td>\n",
       "      <td>0.062723</td>\n",
       "      <td>0.061458</td>\n",
       "      <td>123.50</td>\n",
       "      <td>0</td>\n",
       "    </tr>\n",
       "    <tr>\n",
       "      <th>4</th>\n",
       "      <td>2.0</td>\n",
       "      <td>-1.158233</td>\n",
       "      <td>0.877737</td>\n",
       "      <td>1.548718</td>\n",
       "      <td>0.403034</td>\n",
       "      <td>-0.407193</td>\n",
       "      <td>0.095921</td>\n",
       "      <td>0.592941</td>\n",
       "      <td>-0.270533</td>\n",
       "      <td>0.817739</td>\n",
       "      <td>...</td>\n",
       "      <td>-0.009431</td>\n",
       "      <td>0.798278</td>\n",
       "      <td>-0.137458</td>\n",
       "      <td>0.141267</td>\n",
       "      <td>-0.206010</td>\n",
       "      <td>0.502292</td>\n",
       "      <td>0.219422</td>\n",
       "      <td>0.215153</td>\n",
       "      <td>69.99</td>\n",
       "      <td>0</td>\n",
       "    </tr>\n",
       "    <tr>\n",
       "      <th>5</th>\n",
       "      <td>2.0</td>\n",
       "      <td>-0.425966</td>\n",
       "      <td>0.960523</td>\n",
       "      <td>1.141109</td>\n",
       "      <td>-0.168252</td>\n",
       "      <td>0.420987</td>\n",
       "      <td>-0.029728</td>\n",
       "      <td>0.476201</td>\n",
       "      <td>0.260314</td>\n",
       "      <td>-0.568671</td>\n",
       "      <td>...</td>\n",
       "      <td>-0.208254</td>\n",
       "      <td>-0.559825</td>\n",
       "      <td>-0.026398</td>\n",
       "      <td>-0.371427</td>\n",
       "      <td>-0.232794</td>\n",
       "      <td>0.105915</td>\n",
       "      <td>0.253844</td>\n",
       "      <td>0.081080</td>\n",
       "      <td>3.67</td>\n",
       "      <td>0</td>\n",
       "    </tr>\n",
       "    <tr>\n",
       "      <th>6</th>\n",
       "      <td>4.0</td>\n",
       "      <td>1.229658</td>\n",
       "      <td>0.141004</td>\n",
       "      <td>0.045371</td>\n",
       "      <td>1.202613</td>\n",
       "      <td>0.191881</td>\n",
       "      <td>0.272708</td>\n",
       "      <td>-0.005159</td>\n",
       "      <td>0.081213</td>\n",
       "      <td>0.464960</td>\n",
       "      <td>...</td>\n",
       "      <td>-0.167716</td>\n",
       "      <td>-0.270710</td>\n",
       "      <td>-0.154104</td>\n",
       "      <td>-0.780055</td>\n",
       "      <td>0.750137</td>\n",
       "      <td>-0.257237</td>\n",
       "      <td>0.034507</td>\n",
       "      <td>0.005168</td>\n",
       "      <td>4.99</td>\n",
       "      <td>0</td>\n",
       "    </tr>\n",
       "    <tr>\n",
       "      <th>7</th>\n",
       "      <td>7.0</td>\n",
       "      <td>-0.644269</td>\n",
       "      <td>1.417964</td>\n",
       "      <td>1.074380</td>\n",
       "      <td>-0.492199</td>\n",
       "      <td>0.948934</td>\n",
       "      <td>0.428118</td>\n",
       "      <td>1.120631</td>\n",
       "      <td>-3.807864</td>\n",
       "      <td>0.615375</td>\n",
       "      <td>...</td>\n",
       "      <td>1.943465</td>\n",
       "      <td>-1.015455</td>\n",
       "      <td>0.057504</td>\n",
       "      <td>-0.649709</td>\n",
       "      <td>-0.415267</td>\n",
       "      <td>-0.051634</td>\n",
       "      <td>-1.206921</td>\n",
       "      <td>-1.085339</td>\n",
       "      <td>40.80</td>\n",
       "      <td>0</td>\n",
       "    </tr>\n",
       "    <tr>\n",
       "      <th>8</th>\n",
       "      <td>7.0</td>\n",
       "      <td>-0.894286</td>\n",
       "      <td>0.286157</td>\n",
       "      <td>-0.113192</td>\n",
       "      <td>-0.271526</td>\n",
       "      <td>2.669599</td>\n",
       "      <td>3.721818</td>\n",
       "      <td>0.370145</td>\n",
       "      <td>0.851084</td>\n",
       "      <td>-0.392048</td>\n",
       "      <td>...</td>\n",
       "      <td>-0.073425</td>\n",
       "      <td>-0.268092</td>\n",
       "      <td>-0.204233</td>\n",
       "      <td>1.011592</td>\n",
       "      <td>0.373205</td>\n",
       "      <td>-0.384157</td>\n",
       "      <td>0.011747</td>\n",
       "      <td>0.142404</td>\n",
       "      <td>93.20</td>\n",
       "      <td>0</td>\n",
       "    </tr>\n",
       "    <tr>\n",
       "      <th>9</th>\n",
       "      <td>9.0</td>\n",
       "      <td>-0.338262</td>\n",
       "      <td>1.119593</td>\n",
       "      <td>1.044367</td>\n",
       "      <td>-0.222187</td>\n",
       "      <td>0.499361</td>\n",
       "      <td>-0.246761</td>\n",
       "      <td>0.651583</td>\n",
       "      <td>0.069539</td>\n",
       "      <td>-0.736727</td>\n",
       "      <td>...</td>\n",
       "      <td>-0.246914</td>\n",
       "      <td>-0.633753</td>\n",
       "      <td>-0.120794</td>\n",
       "      <td>-0.385050</td>\n",
       "      <td>-0.069733</td>\n",
       "      <td>0.094199</td>\n",
       "      <td>0.246219</td>\n",
       "      <td>0.083076</td>\n",
       "      <td>3.68</td>\n",
       "      <td>0</td>\n",
       "    </tr>\n",
       "  </tbody>\n",
       "</table>\n",
       "<p>10 rows × 31 columns</p>\n",
       "</div>"
      ],
      "text/plain": [
       "   Time        V1        V2        V3        V4        V5        V6        V7  \\\n",
       "0   0.0 -1.359807 -0.072781  2.536347  1.378155 -0.338321  0.462388  0.239599   \n",
       "1   0.0  1.191857  0.266151  0.166480  0.448154  0.060018 -0.082361 -0.078803   \n",
       "2   1.0 -1.358354 -1.340163  1.773209  0.379780 -0.503198  1.800499  0.791461   \n",
       "3   1.0 -0.966272 -0.185226  1.792993 -0.863291 -0.010309  1.247203  0.237609   \n",
       "4   2.0 -1.158233  0.877737  1.548718  0.403034 -0.407193  0.095921  0.592941   \n",
       "5   2.0 -0.425966  0.960523  1.141109 -0.168252  0.420987 -0.029728  0.476201   \n",
       "6   4.0  1.229658  0.141004  0.045371  1.202613  0.191881  0.272708 -0.005159   \n",
       "7   7.0 -0.644269  1.417964  1.074380 -0.492199  0.948934  0.428118  1.120631   \n",
       "8   7.0 -0.894286  0.286157 -0.113192 -0.271526  2.669599  3.721818  0.370145   \n",
       "9   9.0 -0.338262  1.119593  1.044367 -0.222187  0.499361 -0.246761  0.651583   \n",
       "\n",
       "         V8        V9  ...         V21       V22       V23       V24  \\\n",
       "0  0.098698  0.363787  ...   -0.018307  0.277838 -0.110474  0.066928   \n",
       "1  0.085102 -0.255425  ...   -0.225775 -0.638672  0.101288 -0.339846   \n",
       "2  0.247676 -1.514654  ...    0.247998  0.771679  0.909412 -0.689281   \n",
       "3  0.377436 -1.387024  ...   -0.108300  0.005274 -0.190321 -1.175575   \n",
       "4 -0.270533  0.817739  ...   -0.009431  0.798278 -0.137458  0.141267   \n",
       "5  0.260314 -0.568671  ...   -0.208254 -0.559825 -0.026398 -0.371427   \n",
       "6  0.081213  0.464960  ...   -0.167716 -0.270710 -0.154104 -0.780055   \n",
       "7 -3.807864  0.615375  ...    1.943465 -1.015455  0.057504 -0.649709   \n",
       "8  0.851084 -0.392048  ...   -0.073425 -0.268092 -0.204233  1.011592   \n",
       "9  0.069539 -0.736727  ...   -0.246914 -0.633753 -0.120794 -0.385050   \n",
       "\n",
       "        V25       V26       V27       V28  Amount  Class  \n",
       "0  0.128539 -0.189115  0.133558 -0.021053  149.62      0  \n",
       "1  0.167170  0.125895 -0.008983  0.014724    2.69      0  \n",
       "2 -0.327642 -0.139097 -0.055353 -0.059752  378.66      0  \n",
       "3  0.647376 -0.221929  0.062723  0.061458  123.50      0  \n",
       "4 -0.206010  0.502292  0.219422  0.215153   69.99      0  \n",
       "5 -0.232794  0.105915  0.253844  0.081080    3.67      0  \n",
       "6  0.750137 -0.257237  0.034507  0.005168    4.99      0  \n",
       "7 -0.415267 -0.051634 -1.206921 -1.085339   40.80      0  \n",
       "8  0.373205 -0.384157  0.011747  0.142404   93.20      0  \n",
       "9 -0.069733  0.094199  0.246219  0.083076    3.68      0  \n",
       "\n",
       "[10 rows x 31 columns]"
      ]
     },
     "execution_count": 393,
     "metadata": {},
     "output_type": "execute_result"
    }
   ],
   "source": [
    "sms_raw = pd.read_csv('creditcard.csv')\n",
    "sms_raw.head(10)"
   ]
  },
  {
   "cell_type": "code",
   "execution_count": 394,
   "metadata": {},
   "outputs": [
    {
     "data": {
      "text/plain": [
       "Series([], dtype: int64)"
      ]
     },
     "execution_count": 394,
     "metadata": {},
     "output_type": "execute_result"
    }
   ],
   "source": [
    "# Count nulls \n",
    "null_count = sms_raw.isnull().sum()\n",
    "null_count[null_count>0]"
   ]
  },
  {
   "cell_type": "code",
   "execution_count": 395,
   "metadata": {},
   "outputs": [
    {
     "name": "stdout",
     "output_type": "stream",
     "text": [
      "0    284315\n",
      "1       492\n",
      "Name: Class, dtype: int64\n"
     ]
    }
   ],
   "source": [
    "print(sms_raw['Class'].value_counts())"
   ]
  },
  {
   "cell_type": "code",
   "execution_count": 396,
   "metadata": {},
   "outputs": [
    {
     "name": "stdout",
     "output_type": "stream",
     "text": [
      "1    492\n",
      "0    492\n",
      "Name: Class, dtype: int64\n"
     ]
    }
   ],
   "source": [
    "# Create a separate yes and no variable\n",
    "fraud = df2[df2.Class == 1]\n",
    "legit = df2[df2.Class == 0]\n",
    "\n",
    "# Use resample to get an equal number of yes and nos in our data\n",
    "model_df = resample(legit, n_samples=492)\n",
    "model_df = model_df.append(fraud)\n",
    "\n",
    "print(model_df['Class'].value_counts())"
   ]
  },
  {
   "cell_type": "code",
   "execution_count": 397,
   "metadata": {},
   "outputs": [
    {
     "data": {
      "text/plain": [
       "<matplotlib.axes._subplots.AxesSubplot at 0x117865160>"
      ]
     },
     "execution_count": 397,
     "metadata": {},
     "output_type": "execute_result"
    },
    {
     "data": {
      "image/png": "[encoded data removed]",
      "text/plain": [
       "<Figure size 432x288 with 2 Axes>"
      ]
     },
     "metadata": {},
     "output_type": "display_data"
    }
   ],
   "source": [
    "#See how the features relate to each other through a heatmap\n",
    "sns.heatmap(model_df.corr())"
   ]
  },
  {
   "cell_type": "code",
   "execution_count": 398,
   "metadata": {
    "collapsed": true
   },
   "outputs": [],
   "source": [
    "#Set up our training/testing data\n",
    "#Make a training and test set.\n",
    "X = model_df.drop(['Class'], 1)\n",
    "y = model_df['Class']\n",
    "X_train, X_test, y_train, y_test = train_test_split(X, y, test_size=0.33, random_state=42)"
   ]
  },
  {
   "cell_type": "code",
   "execution_count": 399,
   "metadata": {
    "collapsed": true
   },
   "outputs": [],
   "source": [
    "def testing_func(test):\n",
    "    test.fit(X_train, y_train)\n",
    "    print('The accuracy score of this model is: {}'.format(test.score(X_train, y_train)))\n",
    "    \n",
    "    predict_train = test.predict(X_train)\n",
    "    predict_test = test.predict(X_test)\n",
    "\n",
    "    # Accuracy tables.\n",
    "    table_train = pd.crosstab(y_train, predict_train, margins=True)\n",
    "    table_test = pd.crosstab(y_test, predict_test, margins=True)\n",
    "\n",
    "    train_tI_errors = table_train.loc[0.0,1.0] / table_train.loc['All','All']\n",
    "    train_tII_errors = table_train.loc[1.0,0.0] / table_train.loc['All','All']\n",
    "\n",
    "    test_tI_errors = table_test.loc[0.0,1.0]/table_test.loc['All','All']\n",
    "    test_tII_errors = table_test.loc[1.0,0.0]/table_test.loc['All','All']\n",
    "\n",
    "    print((\n",
    "        'Training set accuracy:\\n'\n",
    "        'Percent Type I errors: {}\\n'\n",
    "        'Percent Type II errors: {}\\n\\n'\n",
    "        'Test set accuracy:\\n'\n",
    "        'Percent Type I errors: {}\\n'\n",
    "        'Percent Type II errors: {}'\n",
    "    ).format(train_tI_errors, train_tII_errors, test_tI_errors, test_tII_errors))\n",
    "    print('Mean of 10-fold cross validation: {}'.format(np.mean(cross_val_score(test, X_train, y_train, cv=10))))\n",
    "    \n",
    "    conf_mat = confusion_matrix(y_test, predict_test)\n",
    "    mat_labels = ['Legitimate', 'Fraud']\n",
    "    fig, ax = plt.subplots(figsize=(10,10))\n",
    "    sns.heatmap(conf_mat, annot=True, fmt='d', xticklabels=mat_labels, yticklabels=mat_labels)\n",
    "    plt.ylabel('Actual')\n",
    "    plt.xlabel('Predicted')\n",
    "    plt.show()\n",
    "                                                           \n",
    "    "
   ]
  },
  {
   "cell_type": "markdown",
   "metadata": {},
   "source": [
    "For each of the models, we'll get the overall accuracy score and then break down their score for type I and type II errors. Since we are focusing on catching fraudulent charges, it's helpful to break it down to false positives and false negatives. We then take their cross validation score to make sure it's not overly fitted to a pocket of our data.\n",
    "\n",
    "## Bernoulli Bayes"
   ]
  },
  {
   "cell_type": "code",
   "execution_count": 400,
   "metadata": {},
   "outputs": [
    {
     "name": "stdout",
     "output_type": "stream",
     "text": [
      "The accuracy score of this model is: 0.9013657056145675\n",
      "Training set accuracy:\n",
      "Percent Type I errors: 0.006069802731411229\n",
      "Percent Type II errors: 0.09256449165402124\n",
      "\n",
      "Test set accuracy:\n",
      "Percent Type I errors: 0.006153846153846154\n",
      "Percent Type II errors: 0.07692307692307693\n",
      "Mean of 10-fold cross validation: 0.8998093448839718\n"
     ]
    },
    {
     "data": {
      "image/png": "[encoded data removed]",
      "text/plain": [
       "<Figure size 720x720 with 2 Axes>"
      ]
     },
     "metadata": {},
     "output_type": "display_data"
    }
   ],
   "source": [
    "#Let's put our variables through Naive Bayes.\n",
    "bnb = BernoulliNB()\n",
    "testing_func(bnb)"
   ]
  },
  {
   "cell_type": "markdown",
   "metadata": {},
   "source": [
    "## Lasso Regression"
   ]
  },
  {
   "cell_type": "code",
   "execution_count": 401,
   "metadata": {},
   "outputs": [
    {
     "data": {
      "image/png": "[encoded data removed]",
      "text/plain": [
       "<Figure size 432x288 with 1 Axes>"
      ]
     },
     "metadata": {},
     "output_type": "display_data"
    }
   ],
   "source": [
    "# Temporary lists to store the results\n",
    "yl = []\n",
    "cvl = []\n",
    "\n",
    "# Run the model with number of neighbors as n again using the PCA_X.\n",
    "numb = np.arange(0.1, 1, 0.1)\n",
    "for n in numb:\n",
    "    lr = LogisticRegression(C=n, penalty='l1')\n",
    "    lr.fit(X_train, y_train)\n",
    "    yl.append(lr.score(X_train, y_train))\n",
    "    cvl.append(np.mean(cross_val_score(lr, X_train, y_train, cv=10)))\n",
    "\n",
    "# Create a variable equal to the number of neighbors that created the highest CV\n",
    "lr_number = cvl.index(max(cvl)) + 1\n",
    "C_var = numb[lr_number]\n",
    "\n",
    "# Plot the results\n",
    "fig = plt.figure()\n",
    "ax1 = fig.add_subplot(111)\n",
    "plt.xlabel('Lambda')\n",
    "plt.ylabel('Score')\n",
    "ax1.scatter(x=numb, y=yr, c='b', marker=\"s\", label='Score')\n",
    "ax1.scatter(x=numb, y=cvr, s=10, c='r', marker=\"^\", label='Cross Validation')\n",
    "plt.legend(loc='upper left');\n",
    "plt.show()\n"
   ]
  },
  {
   "cell_type": "code",
   "execution_count": 402,
   "metadata": {},
   "outputs": [
    {
     "name": "stdout",
     "output_type": "stream",
     "text": [
      "The accuracy score of this model is: 0.960546282245827\n",
      "Training set accuracy:\n",
      "Percent Type I errors: 0.007587253414264037\n",
      "Percent Type II errors: 0.03186646433990895\n",
      "\n",
      "Test set accuracy:\n",
      "Percent Type I errors: 0.024615384615384615\n",
      "Percent Type II errors: 0.046153846153846156\n",
      "Mean of 10-fold cross validation: 0.9484587551751732\n"
     ]
    },
    {
     "data": {
      "image/png": "[encoded data removed]",
      "text/plain": [
       "<Figure size 720x720 with 2 Axes>"
      ]
     },
     "metadata": {},
     "output_type": "display_data"
    }
   ],
   "source": [
    "#Let's put our variables through Lasso.\n",
    "lr = LogisticRegression(C=C_var, penalty='l1')\n",
    "testing_func(lr)"
   ]
  },
  {
   "cell_type": "markdown",
   "metadata": {},
   "source": [
    "## Ridge Regression"
   ]
  },
  {
   "cell_type": "code",
   "execution_count": 403,
   "metadata": {},
   "outputs": [
    {
     "data": {
      "image/png": "[encoded data removed]",
      "text/plain": [
       "<Figure size 432x288 with 1 Axes>"
      ]
     },
     "metadata": {},
     "output_type": "display_data"
    }
   ],
   "source": [
    "# Temporary lists to store the results\n",
    "yr = []\n",
    "cvr = []\n",
    "\n",
    "# Run the model with number of neighbors as n.\n",
    "numb = np.arange(0.1, 1, 0.1)\n",
    "for n in numb:\n",
    "    lr = LogisticRegression(C=n, penalty='l2')\n",
    "    lr.fit(X_train, y_train)\n",
    "    yr.append(lr.score(X_train, y_train))\n",
    "    cvr.append(np.mean(cross_val_score(lr, X_train, y_train, cv=10)))\n",
    "\n",
    "# Create a variable equal to the number of neighbors that created the highest CV\n",
    "lr_number = cvr.index(max(cvr)) + 1\n",
    "C_var = numb[lr_number]\n",
    "\n",
    "# Plot the results\n",
    "fig = plt.figure()\n",
    "ax1 = fig.add_subplot(111)\n",
    "plt.xlabel('Lambda')\n",
    "plt.ylabel('Score')\n",
    "ax1.scatter(x=numb, y=yr, c='b', marker=\"s\", label='Score')\n",
    "ax1.scatter(x=numb, y=cvr, s=10, c='r', marker=\"^\", label='Cross Validation')\n",
    "plt.legend(loc='upper left');\n",
    "plt.show()\n"
   ]
  },
  {
   "cell_type": "code",
   "execution_count": 404,
   "metadata": {},
   "outputs": [
    {
     "name": "stdout",
     "output_type": "stream",
     "text": [
      "The accuracy score of this model is: 0.9453717754172989\n",
      "Training set accuracy:\n",
      "Percent Type I errors: 0.009104704097116844\n",
      "Percent Type II errors: 0.04552352048558422\n",
      "\n",
      "Test set accuracy:\n",
      "Percent Type I errors: 0.009230769230769232\n",
      "Percent Type II errors: 0.046153846153846156\n",
      "Mean of 10-fold cross validation: 0.9424433775180046\n"
     ]
    },
    {
     "data": {
      "image/png": "[encoded data removed]",
      "text/plain": [
       "<Figure size 720x720 with 2 Axes>"
      ]
     },
     "metadata": {},
     "output_type": "display_data"
    }
   ],
   "source": [
    "#Let's put our variables through Ridge Regression.\n",
    "\n",
    "lr = LogisticRegression(C=1, penalty='l2')\n",
    "testing_func(lr)"
   ]
  },
  {
   "cell_type": "markdown",
   "metadata": {},
   "source": [
    "# K Nearest Neighbor"
   ]
  },
  {
   "cell_type": "code",
   "execution_count": 405,
   "metadata": {},
   "outputs": [
    {
     "data": {
      "image/png": "[encoded data removed]",
      "text/plain": [
       "<Figure size 432x288 with 1 Axes>"
      ]
     },
     "metadata": {},
     "output_type": "display_data"
    }
   ],
   "source": [
    "# This runs the same kind of optimization analysis on KNN.\n",
    "# Temporary lists to store the results\n",
    "yn = []\n",
    "cv = []\n",
    "\n",
    "# Run the model with number of neighbors as n again using the PCA_X.\n",
    "numb = np.arange(1, 20, 1)\n",
    "for n in numb:\n",
    "    neighbors = KNeighborsClassifier(n_neighbors=n)\n",
    "    neighbors.fit(X_train, y_train)\n",
    "    yn.append(neighbors.score(X_train, y_train))\n",
    "    cv.append(np.mean(cross_val_score(neighbors, X_train, y_train, cv=10)))\n",
    "\n",
    "# Create a variable equal to the number of neighbors that created the highest CV\n",
    "neighbor_number = cv.index(max(cv)) + 1\n",
    "\n",
    "# Plot the results\n",
    "fig = plt.figure()\n",
    "ax1 = fig.add_subplot(111)\n",
    "plt.xlabel('Number of Neighbors')\n",
    "plt.ylabel('Score')\n",
    "ax1.scatter(x=numb, y=yn, c='b', marker=\"s\", label='Score')\n",
    "ax1.scatter(x=numb, y=cv, s=10, c='r', marker=\"^\", label='Cross Validation')\n",
    "plt.legend(loc='upper left');\n",
    "plt.show()\n"
   ]
  },
  {
   "cell_type": "code",
   "execution_count": 406,
   "metadata": {},
   "outputs": [
    {
     "name": "stdout",
     "output_type": "stream",
     "text": [
      "The accuracy score of this model is: 1.0\n",
      "Training set accuracy:\n",
      "Percent Type I errors: 0.0\n",
      "Percent Type II errors: 0.0\n",
      "\n",
      "Test set accuracy:\n",
      "Percent Type I errors: 0.11692307692307692\n",
      "Percent Type II errors: 0.1476923076923077\n",
      "Mean of 10-fold cross validation: 0.711713112757889\n"
     ]
    },
    {
     "data": {
      "image/png": "[encoded data removed]",
      "text/plain": [
       "<Figure size 720x720 with 2 Axes>"
      ]
     },
     "metadata": {},
     "output_type": "display_data"
    }
   ],
   "source": [
    "#Let's put our variables through a KNN Classifier.\n",
    "\n",
    "neighbors = KNeighborsClassifier(n_neighbors=neighbor_number)\n",
    "testing_func(neighbors)"
   ]
  },
  {
   "cell_type": "markdown",
   "metadata": {},
   "source": [
    "## Support Vector Machines"
   ]
  },
  {
   "cell_type": "code",
   "execution_count": 407,
   "metadata": {},
   "outputs": [
    {
     "name": "stdout",
     "output_type": "stream",
     "text": [
      "The best parameters are {'C': 1, 'gamma': 0.01} with a score of %0.6494688922610015\n"
     ]
    }
   ],
   "source": [
    "# SKlearn has a tool that will optimize SVC\n",
    "svc = SVC()\n",
    "# Set the hyperparameters\n",
    "parameters = {'C':[1,2,3,4,5], 'gamma': \n",
    "              [0.01,0.02,0.03,0.04,0.05,0.10]}\n",
    "# Run it through the tool.\n",
    "grid = GridSearchCV(svc, parameters).fit(X_train, y_train)\n",
    "predicted = grid.predict(X_test)\n",
    "print(\"The best parameters are {} with a score of %{}\".format(grid.best_params_, grid.best_score_))\n",
    "\n",
    "#Put those parameters in a dictionary to call.\n",
    "parameters = grid.best_params_\n"
   ]
  },
  {
   "cell_type": "code",
   "execution_count": 408,
   "metadata": {
    "scrolled": true
   },
   "outputs": [
    {
     "name": "stdout",
     "output_type": "stream",
     "text": [
      "The accuracy score of this model is: 1.0\n",
      "Training set accuracy:\n",
      "Percent Type I errors: 0.0\n",
      "Percent Type II errors: 0.0\n",
      "\n",
      "Test set accuracy:\n",
      "Percent Type I errors: 0.25846153846153846\n",
      "Percent Type II errors: 0.0\n",
      "Mean of 10-fold cross validation: 0.6919427338830324\n"
     ]
    },
    {
     "data": {
      "image/png": "[encoded data removed]",
      "text/plain": [
       "<Figure size 720x720 with 2 Axes>"
      ]
     },
     "metadata": {},
     "output_type": "display_data"
    }
   ],
   "source": [
    "# Utilizing the results from above, we can run SVC aimed at the highest CV score.\n",
    "\n",
    "svc = SVC(C=parameters['C'], gamma=parameters['gamma'])\n",
    "testing_func(svc)\n"
   ]
  },
  {
   "cell_type": "markdown",
   "metadata": {},
   "source": [
    "## Decision Tree"
   ]
  },
  {
   "cell_type": "code",
   "execution_count": 409,
   "metadata": {},
   "outputs": [
    {
     "name": "stdout",
     "output_type": "stream",
     "text": [
      "The best parameters are {'max_depth': 1} with a score of %0.921092564491654\n"
     ]
    }
   ],
   "source": [
    "clf = DecisionTreeClassifier(criterion='entropy')\n",
    "parameters = {'max_depth':[1,2,3,4,5,6,7,8,9,10]}\n",
    "grid = GridSearchCV(clf, parameters).fit(X_train, y_train)\n",
    "predicted = grid.predict(X_train)\n",
    "print(\"The best parameters are {} with a score of %{}\".format(grid.best_params_, grid.best_score_))\n",
    "\n",
    "#Put those parameters in a dictionary to call.\n",
    "parameters = grid.best_params_\n"
   ]
  },
  {
   "cell_type": "code",
   "execution_count": 410,
   "metadata": {},
   "outputs": [
    {
     "name": "stdout",
     "output_type": "stream",
     "text": [
      "The accuracy score of this model is: 0.9301972685887708\n",
      "Training set accuracy:\n",
      "Percent Type I errors: 0.010622154779969651\n",
      "Percent Type II errors: 0.05918057663125948\n",
      "\n",
      "Test set accuracy:\n",
      "Percent Type I errors: 0.027692307692307693\n",
      "Percent Type II errors: 0.06461538461538462\n",
      "Mean of 10-fold cross validation: 0.9181084090039315\n"
     ]
    },
    {
     "data": {
      "image/png": "[encoded data removed]",
      "text/plain": [
       "<Figure size 720x720 with 2 Axes>"
      ]
     },
     "metadata": {},
     "output_type": "display_data"
    }
   ],
   "source": [
    "clf = DecisionTreeClassifier(criterion='entropy', max_depth=parameters['max_depth'])\n",
    "testing_func(clf)\n"
   ]
  },
  {
   "cell_type": "markdown",
   "metadata": {},
   "source": [
    "## Random Forest"
   ]
  },
  {
   "cell_type": "code",
   "execution_count": 411,
   "metadata": {},
   "outputs": [
    {
     "name": "stdout",
     "output_type": "stream",
     "text": [
      "The best parameters are {'max_depth': 6, 'n_estimators': 100} with a score of %0.9347496206373292\n"
     ]
    }
   ],
   "source": [
    "rfc = RandomForestClassifier()\n",
    "parameters = {'n_estimators':[10, 100, 500], 'max_depth':[2,4,6,8]}\n",
    "grid = GridSearchCV(rfc, parameters).fit(X_train, y_train)\n",
    "predicted = grid.predict(X_test)\n",
    "print(\"The best parameters are {} with a score of %{}\".format(grid.best_params_, grid.best_score_))\n",
    "\n",
    "#Put those parameters in a dictionary to call.\n",
    "parameters = grid.best_params_"
   ]
  },
  {
   "cell_type": "code",
   "execution_count": 412,
   "metadata": {},
   "outputs": [
    {
     "name": "stdout",
     "output_type": "stream",
     "text": [
      "The accuracy score of this model is: 0.936267071320182\n",
      "Training set accuracy:\n",
      "Percent Type I errors: 0.004552352048558422\n",
      "Percent Type II errors: 0.05918057663125948\n",
      "\n",
      "Test set accuracy:\n",
      "Percent Type I errors: 0.012307692307692308\n",
      "Percent Type II errors: 0.06461538461538462\n",
      "Mean of 10-fold cross validation: 0.9363135372090596\n"
     ]
    },
    {
     "data": {
      "image/png": "[encoded data removed]",
      "text/plain": [
       "<Figure size 720x720 with 2 Axes>"
      ]
     },
     "metadata": {},
     "output_type": "display_data"
    }
   ],
   "source": [
    "#Let's put our variables through a random forest classifer.\n",
    "\n",
    "rfc = RandomForestClassifier(n_estimators=parameters['n_estimators'],\n",
    "                             max_depth=parameters['max_depth'], \n",
    "                             min_samples_leaf=1, \n",
    "                             max_leaf_nodes=4)\n",
    "\n",
    "testing_func(rfc)"
   ]
  },
  {
   "cell_type": "markdown",
   "metadata": {},
   "source": [
    "## Gradient Boosting"
   ]
  },
  {
   "cell_type": "code",
   "execution_count": 413,
   "metadata": {},
   "outputs": [
    {
     "name": "stdout",
     "output_type": "stream",
     "text": [
      "The best parameters are {'learning_rate': 0.1, 'max_depth': 2, 'n_estimators': 50} with a score of %0.9317147192716236\n"
     ]
    }
   ],
   "source": [
    "clf = GradientBoostingClassifier()\n",
    "parameters = {'n_estimators':[20, 50, 75, 100], 'learning_rate': [0.1, 0.25, 0.5, 0.75, 1.0],\n",
    "              'max_depth':[2,4]}\n",
    "grid = GridSearchCV(clf, parameters).fit(X_train, y_train)\n",
    "predicted = grid.predict(X_test)\n",
    "print(\"The best parameters are {} with a score of %{}\".format(grid.best_params_, grid.best_score_))\n",
    "\n",
    "#Put those parameters in a dictionary to call.\n",
    "parameters = grid.best_params_"
   ]
  },
  {
   "cell_type": "code",
   "execution_count": 414,
   "metadata": {},
   "outputs": [
    {
     "name": "stdout",
     "output_type": "stream",
     "text": [
      "The accuracy score of this model is: 0.9544764795144158\n",
      "Training set accuracy:\n",
      "Percent Type I errors: 0.009104704097116844\n",
      "Percent Type II errors: 0.036418816388467376\n",
      "\n",
      "Test set accuracy:\n",
      "Percent Type I errors: 0.018461538461538463\n",
      "Percent Type II errors: 0.046153846153846156\n",
      "Mean of 10-fold cross validation: 0.936290923007341\n"
     ]
    },
    {
     "data": {
      "image/png": "[encoded data removed]",
      "text/plain": [
       "<Figure size 720x720 with 2 Axes>"
      ]
     },
     "metadata": {},
     "output_type": "display_data"
    }
   ],
   "source": [
    "#Let's put our variables through a gradient booster.\n",
    "clf = GradientBoostingClassifier(loss='exponential', learning_rate=parameters['learning_rate'], \n",
    "                                 n_estimators=parameters['n_estimators'], subsample=0.75, \n",
    "                                 max_depth=parameters['max_depth'])\n",
    "\n",
    "testing_func(clf)"
   ]
  },
  {
   "cell_type": "markdown",
   "metadata": {},
   "source": [
    "# Conclusion\n",
    "Type 2 Errors are critical in fraud detection, where it is better to be safe than sorry and one would rather call a legitimate transaction fraud than to call a fraudulent transaction legitimate. Therefore, the lower lefthand box is the most critical to look at when assessing the performance of a model. Of all of the above models, Logistic Regression and Gradient Boosting (Decision Tree based algorithm) performed the best. In addition to minimizing the number of false negatives, speed is critical since most of these analyses will be done at Point of Sale and the longer the customer has to wait to complete a purchase, the unhappier the customer and business. \n",
    "\n",
    "Therefore, even though the optimized Gradient Boosting performs relatively the same as the Logistic Regression models with slightly fewer Type 1 Errors, it would be best to sacrifice a few false positives for speed."
   ]
  }
 ],
 "metadata": {
  "kernelspec": {
   "display_name": "Python 3",
   "language": "python",
   "name": "python3"
  },
  "language_info": {
   "codemirror_mode": {
    "name": "ipython",
    "version": 3
   },
   "file_extension": ".py",
   "mimetype": "text/x-python",
   "name": "python",
   "nbconvert_exporter": "python",
   "pygments_lexer": "ipython3",
   "version": "3.6.1"
  }
 },
 "nbformat": 4,
 "nbformat_minor": 2
}
