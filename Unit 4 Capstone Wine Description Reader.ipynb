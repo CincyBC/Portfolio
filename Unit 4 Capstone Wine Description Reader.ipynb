{
 "cells": [
  {
   "cell_type": "markdown",
   "metadata": {},
   "source": [
    "# Unit 4 Capstone \n",
    "Author: Bryan Corder <br>\n",
    "Mentor: Hoa Tran <br>\n",
    "\n",
    "People who study wine, know there are certain aromas associated with varieties such as black currants with Cabernet Sauvignon. The average consumer is right to be skeptical about wine descriptions when they range from \"freshly cut garden hose\" to \"petrol\" when it would be a health violation if any of those were actually put into wine.\n",
    "\n",
    "However, there is science behind these terms. Pyrazines, which are found in bell peppers and give peppers their aroma, are found in both Cabernet Franc and its offspring (together with Sauvignon Blanc) variety, Cabernet Sauvignon giving both a touch of a \"bell pepper\" like vegetal quality. Similarly, the same kind of compounds are responsible for aromas of red fruits like strawberries or cherries or stone fruits like peaches or nectarines. Some come from the grape varieties like the above mentioned pyrazines and some aromas come from the wine making process, such as cedar or vanilla from the oak aging process.\n",
    "\n",
    "Wine descriptions offer information to the consumer about the grape used and the process taken to turn the grapes into the beverage the consumer is imbibing.\n",
    "\n",
    "This project looks into whether it is possible to create a model to discern through wine descriptions what kind of grape is used to produce the wine. This may seem like a trivial task, but it was not until the mid 1990s until wine consumers found out that the unique expression of Merlot they were drinking from Chile was in fact another Bordeaux variety named Carmenere. Mexicans in Baja California claim all of their grapes are Nebbiollo even though when wine grapes from Piedmont, Italy were brought to Mexico, the tags became illegible with the moisture and it was only assumed that those vines were Nebbiollo. In all likelihood, what we call a Mexican Nebbiollo is actually a blend of Piedmont grapes such as Nebbiollo, Barbera, and Dolcetto. (Source: Karen MacNeil, __Wine Bible__) \n",
    "\n",
    "After a model is created, this project will use the data to see if any other insights can be gained about grape varieties through unsupervised learning techniques."
   ]
  },
  {
   "cell_type": "code",
   "execution_count": 1,
   "metadata": {
    "collapsed": true
   },
   "outputs": [],
   "source": [
    "# Import libraries \n",
    "import numpy as np\n",
    "import pandas as pd\n",
    "import scipy\n",
    "import matplotlib.pyplot as plt\n",
    "import seaborn as sns\n",
    "import spacy\n",
    "import unicodedata\n",
    "from datetime import datetime\n",
    "\n",
    "from sklearn.decomposition import TruncatedSVD\n",
    "from sklearn.pipeline import make_pipeline\n",
    "from sklearn.preprocessing import Normalizer\n",
    "\n",
    "\n",
    "from sklearn.decomposition import PCA\n",
    "from sklearn.feature_extraction.text import TfidfVectorizer\n",
    "from sklearn.utils import resample\n",
    "from sklearn.model_selection import cross_val_score\n",
    "from sklearn.model_selection import train_test_split\n",
    "from sklearn.feature_selection import RFECV\n",
    "from sklearn.linear_model import LogisticRegression\n",
    "from sklearn.linear_model import SGDClassifier\n",
    "from sklearn.svm import LinearSVC\n",
    "from sklearn.preprocessing import StandardScaler\n",
    "from sklearn.tree import DecisionTreeClassifier\n",
    "from sklearn.ensemble import RandomForestClassifier\n",
    "from sklearn.ensemble import GradientBoostingClassifier\n",
    "from sklearn.metrics import confusion_matrix\n",
    "from sklearn.feature_selection import SelectFromModel\n",
    "from sklearn.model_selection import GridSearchCV\n",
    "from sklearn.cluster import KMeans\n",
    "from sklearn.cluster import MeanShift, estimate_bandwidth\n",
    "from sklearn.cluster import SpectralClustering\n",
    "from sklearn.cluster import AffinityPropagation\n",
    "from sklearn import metrics\n",
    "from sklearn.metrics import pairwise_distances\n",
    "from sklearn.preprocessing import normalize\n",
    "import re\n",
    "\n",
    "\n",
    "from collections import Counter\n",
    "%matplotlib inline"
   ]
  },
  {
   "cell_type": "markdown",
   "metadata": {},
   "source": [
    "## Data\n",
    "The data comes from Kaggle: https://www.kaggle.com/sierram/cosine-similarity-wine-descriptions/data\n",
    "The data includes the wine name, source, decription, price, wine producer, and author of the description. Since this study is trying to use the data to name grape varieties, only the description and variety are used.\n",
    "\n",
    "Due to limited processing power, this project will only look at the three most common varietals in the data set."
   ]
  },
  {
   "cell_type": "code",
   "execution_count": 2,
   "metadata": {},
   "outputs": [
    {
     "data": {
      "text/html": [
       "<div>\n",
       "<style>\n",
       "    .dataframe thead tr:only-child th {\n",
       "        text-align: right;\n",
       "    }\n",
       "\n",
       "    .dataframe thead th {\n",
       "        text-align: left;\n",
       "    }\n",
       "\n",
       "    .dataframe tbody tr th {\n",
       "        vertical-align: top;\n",
       "    }\n",
       "</style>\n",
       "<table border=\"1\" class=\"dataframe\">\n",
       "  <thead>\n",
       "    <tr style=\"text-align: right;\">\n",
       "      <th></th>\n",
       "      <th>Unnamed: 0</th>\n",
       "      <th>country</th>\n",
       "      <th>description</th>\n",
       "      <th>designation</th>\n",
       "      <th>points</th>\n",
       "      <th>price</th>\n",
       "      <th>province</th>\n",
       "      <th>region_1</th>\n",
       "      <th>region_2</th>\n",
       "      <th>taster_name</th>\n",
       "      <th>taster_twitter_handle</th>\n",
       "      <th>title</th>\n",
       "      <th>variety</th>\n",
       "      <th>winery</th>\n",
       "    </tr>\n",
       "  </thead>\n",
       "  <tbody>\n",
       "    <tr>\n",
       "      <th>0</th>\n",
       "      <td>0</td>\n",
       "      <td>Italy</td>\n",
       "      <td>Aromas include tropical fruit, broom, brimston...</td>\n",
       "      <td>Vulkà Bianco</td>\n",
       "      <td>87</td>\n",
       "      <td>NaN</td>\n",
       "      <td>Sicily &amp; Sardinia</td>\n",
       "      <td>Etna</td>\n",
       "      <td>NaN</td>\n",
       "      <td>Kerin O’Keefe</td>\n",
       "      <td>@kerinokeefe</td>\n",
       "      <td>Nicosia 2013 Vulkà Bianco  (Etna)</td>\n",
       "      <td>White Blend</td>\n",
       "      <td>Nicosia</td>\n",
       "    </tr>\n",
       "    <tr>\n",
       "      <th>1</th>\n",
       "      <td>1</td>\n",
       "      <td>Portugal</td>\n",
       "      <td>This is ripe and fruity, a wine that is smooth...</td>\n",
       "      <td>Avidagos</td>\n",
       "      <td>87</td>\n",
       "      <td>15.0</td>\n",
       "      <td>Douro</td>\n",
       "      <td>NaN</td>\n",
       "      <td>NaN</td>\n",
       "      <td>Roger Voss</td>\n",
       "      <td>@vossroger</td>\n",
       "      <td>Quinta dos Avidagos 2011 Avidagos Red (Douro)</td>\n",
       "      <td>Portuguese Red</td>\n",
       "      <td>Quinta dos Avidagos</td>\n",
       "    </tr>\n",
       "    <tr>\n",
       "      <th>2</th>\n",
       "      <td>2</td>\n",
       "      <td>US</td>\n",
       "      <td>Tart and snappy, the flavors of lime flesh and...</td>\n",
       "      <td>NaN</td>\n",
       "      <td>87</td>\n",
       "      <td>14.0</td>\n",
       "      <td>Oregon</td>\n",
       "      <td>Willamette Valley</td>\n",
       "      <td>Willamette Valley</td>\n",
       "      <td>Paul Gregutt</td>\n",
       "      <td>@paulgwine</td>\n",
       "      <td>Rainstorm 2013 Pinot Gris (Willamette Valley)</td>\n",
       "      <td>Pinot Gris</td>\n",
       "      <td>Rainstorm</td>\n",
       "    </tr>\n",
       "    <tr>\n",
       "      <th>3</th>\n",
       "      <td>3</td>\n",
       "      <td>US</td>\n",
       "      <td>Pineapple rind, lemon pith and orange blossom ...</td>\n",
       "      <td>Reserve Late Harvest</td>\n",
       "      <td>87</td>\n",
       "      <td>13.0</td>\n",
       "      <td>Michigan</td>\n",
       "      <td>Lake Michigan Shore</td>\n",
       "      <td>NaN</td>\n",
       "      <td>Alexander Peartree</td>\n",
       "      <td>NaN</td>\n",
       "      <td>St. Julian 2013 Reserve Late Harvest Riesling ...</td>\n",
       "      <td>Riesling</td>\n",
       "      <td>St. Julian</td>\n",
       "    </tr>\n",
       "    <tr>\n",
       "      <th>4</th>\n",
       "      <td>4</td>\n",
       "      <td>US</td>\n",
       "      <td>Much like the regular bottling from 2012, this...</td>\n",
       "      <td>Vintner's Reserve Wild Child Block</td>\n",
       "      <td>87</td>\n",
       "      <td>65.0</td>\n",
       "      <td>Oregon</td>\n",
       "      <td>Willamette Valley</td>\n",
       "      <td>Willamette Valley</td>\n",
       "      <td>Paul Gregutt</td>\n",
       "      <td>@paulgwine</td>\n",
       "      <td>Sweet Cheeks 2012 Vintner's Reserve Wild Child...</td>\n",
       "      <td>Pinot Noir</td>\n",
       "      <td>Sweet Cheeks</td>\n",
       "    </tr>\n",
       "    <tr>\n",
       "      <th>5</th>\n",
       "      <td>5</td>\n",
       "      <td>Spain</td>\n",
       "      <td>Blackberry and raspberry aromas show a typical...</td>\n",
       "      <td>Ars In Vitro</td>\n",
       "      <td>87</td>\n",
       "      <td>15.0</td>\n",
       "      <td>Northern Spain</td>\n",
       "      <td>Navarra</td>\n",
       "      <td>NaN</td>\n",
       "      <td>Michael Schachner</td>\n",
       "      <td>@wineschach</td>\n",
       "      <td>Tandem 2011 Ars In Vitro Tempranillo-Merlot (N...</td>\n",
       "      <td>Tempranillo-Merlot</td>\n",
       "      <td>Tandem</td>\n",
       "    </tr>\n",
       "    <tr>\n",
       "      <th>6</th>\n",
       "      <td>6</td>\n",
       "      <td>Italy</td>\n",
       "      <td>Here's a bright, informal red that opens with ...</td>\n",
       "      <td>Belsito</td>\n",
       "      <td>87</td>\n",
       "      <td>16.0</td>\n",
       "      <td>Sicily &amp; Sardinia</td>\n",
       "      <td>Vittoria</td>\n",
       "      <td>NaN</td>\n",
       "      <td>Kerin O’Keefe</td>\n",
       "      <td>@kerinokeefe</td>\n",
       "      <td>Terre di Giurfo 2013 Belsito Frappato (Vittoria)</td>\n",
       "      <td>Frappato</td>\n",
       "      <td>Terre di Giurfo</td>\n",
       "    </tr>\n",
       "    <tr>\n",
       "      <th>7</th>\n",
       "      <td>7</td>\n",
       "      <td>France</td>\n",
       "      <td>This dry and restrained wine offers spice in p...</td>\n",
       "      <td>NaN</td>\n",
       "      <td>87</td>\n",
       "      <td>24.0</td>\n",
       "      <td>Alsace</td>\n",
       "      <td>Alsace</td>\n",
       "      <td>NaN</td>\n",
       "      <td>Roger Voss</td>\n",
       "      <td>@vossroger</td>\n",
       "      <td>Trimbach 2012 Gewurztraminer (Alsace)</td>\n",
       "      <td>Gewürztraminer</td>\n",
       "      <td>Trimbach</td>\n",
       "    </tr>\n",
       "    <tr>\n",
       "      <th>8</th>\n",
       "      <td>8</td>\n",
       "      <td>Germany</td>\n",
       "      <td>Savory dried thyme notes accent sunnier flavor...</td>\n",
       "      <td>Shine</td>\n",
       "      <td>87</td>\n",
       "      <td>12.0</td>\n",
       "      <td>Rheinhessen</td>\n",
       "      <td>NaN</td>\n",
       "      <td>NaN</td>\n",
       "      <td>Anna Lee C. Iijima</td>\n",
       "      <td>NaN</td>\n",
       "      <td>Heinz Eifel 2013 Shine Gewürztraminer (Rheinhe...</td>\n",
       "      <td>Gewürztraminer</td>\n",
       "      <td>Heinz Eifel</td>\n",
       "    </tr>\n",
       "    <tr>\n",
       "      <th>9</th>\n",
       "      <td>9</td>\n",
       "      <td>France</td>\n",
       "      <td>This has great depth of flavor with its fresh ...</td>\n",
       "      <td>Les Natures</td>\n",
       "      <td>87</td>\n",
       "      <td>27.0</td>\n",
       "      <td>Alsace</td>\n",
       "      <td>Alsace</td>\n",
       "      <td>NaN</td>\n",
       "      <td>Roger Voss</td>\n",
       "      <td>@vossroger</td>\n",
       "      <td>Jean-Baptiste Adam 2012 Les Natures Pinot Gris...</td>\n",
       "      <td>Pinot Gris</td>\n",
       "      <td>Jean-Baptiste Adam</td>\n",
       "    </tr>\n",
       "  </tbody>\n",
       "</table>\n",
       "</div>"
      ],
      "text/plain": [
       "   Unnamed: 0   country                                        description  \\\n",
       "0           0     Italy  Aromas include tropical fruit, broom, brimston...   \n",
       "1           1  Portugal  This is ripe and fruity, a wine that is smooth...   \n",
       "2           2        US  Tart and snappy, the flavors of lime flesh and...   \n",
       "3           3        US  Pineapple rind, lemon pith and orange blossom ...   \n",
       "4           4        US  Much like the regular bottling from 2012, this...   \n",
       "5           5     Spain  Blackberry and raspberry aromas show a typical...   \n",
       "6           6     Italy  Here's a bright, informal red that opens with ...   \n",
       "7           7    France  This dry and restrained wine offers spice in p...   \n",
       "8           8   Germany  Savory dried thyme notes accent sunnier flavor...   \n",
       "9           9    France  This has great depth of flavor with its fresh ...   \n",
       "\n",
       "                          designation  points  price           province  \\\n",
       "0                        Vulkà Bianco      87    NaN  Sicily & Sardinia   \n",
       "1                            Avidagos      87   15.0              Douro   \n",
       "2                                 NaN      87   14.0             Oregon   \n",
       "3                Reserve Late Harvest      87   13.0           Michigan   \n",
       "4  Vintner's Reserve Wild Child Block      87   65.0             Oregon   \n",
       "5                        Ars In Vitro      87   15.0     Northern Spain   \n",
       "6                             Belsito      87   16.0  Sicily & Sardinia   \n",
       "7                                 NaN      87   24.0             Alsace   \n",
       "8                               Shine      87   12.0        Rheinhessen   \n",
       "9                         Les Natures      87   27.0             Alsace   \n",
       "\n",
       "              region_1           region_2         taster_name  \\\n",
       "0                 Etna                NaN       Kerin O’Keefe   \n",
       "1                  NaN                NaN          Roger Voss   \n",
       "2    Willamette Valley  Willamette Valley        Paul Gregutt   \n",
       "3  Lake Michigan Shore                NaN  Alexander Peartree   \n",
       "4    Willamette Valley  Willamette Valley        Paul Gregutt   \n",
       "5              Navarra                NaN   Michael Schachner   \n",
       "6             Vittoria                NaN       Kerin O’Keefe   \n",
       "7               Alsace                NaN          Roger Voss   \n",
       "8                  NaN                NaN  Anna Lee C. Iijima   \n",
       "9               Alsace                NaN          Roger Voss   \n",
       "\n",
       "  taster_twitter_handle                                              title  \\\n",
       "0          @kerinokeefe                  Nicosia 2013 Vulkà Bianco  (Etna)   \n",
       "1            @vossroger      Quinta dos Avidagos 2011 Avidagos Red (Douro)   \n",
       "2           @paulgwine       Rainstorm 2013 Pinot Gris (Willamette Valley)   \n",
       "3                   NaN  St. Julian 2013 Reserve Late Harvest Riesling ...   \n",
       "4           @paulgwine   Sweet Cheeks 2012 Vintner's Reserve Wild Child...   \n",
       "5           @wineschach  Tandem 2011 Ars In Vitro Tempranillo-Merlot (N...   \n",
       "6          @kerinokeefe   Terre di Giurfo 2013 Belsito Frappato (Vittoria)   \n",
       "7            @vossroger              Trimbach 2012 Gewurztraminer (Alsace)   \n",
       "8                   NaN  Heinz Eifel 2013 Shine Gewürztraminer (Rheinhe...   \n",
       "9            @vossroger  Jean-Baptiste Adam 2012 Les Natures Pinot Gris...   \n",
       "\n",
       "              variety               winery  \n",
       "0         White Blend              Nicosia  \n",
       "1      Portuguese Red  Quinta dos Avidagos  \n",
       "2          Pinot Gris            Rainstorm  \n",
       "3            Riesling           St. Julian  \n",
       "4          Pinot Noir         Sweet Cheeks  \n",
       "5  Tempranillo-Merlot               Tandem  \n",
       "6            Frappato      Terre di Giurfo  \n",
       "7      Gewürztraminer             Trimbach  \n",
       "8      Gewürztraminer          Heinz Eifel  \n",
       "9          Pinot Gris   Jean-Baptiste Adam  "
      ]
     },
     "execution_count": 2,
     "metadata": {},
     "output_type": "execute_result"
    }
   ],
   "source": [
    "raw_data = pd.read_csv('winemag-data-130k-v2.csv')\n",
    "raw_data.head(10)"
   ]
  },
  {
   "cell_type": "code",
   "execution_count": 3,
   "metadata": {},
   "outputs": [
    {
     "data": {
      "text/html": [
       "<div>\n",
       "<style>\n",
       "    .dataframe thead tr:only-child th {\n",
       "        text-align: right;\n",
       "    }\n",
       "\n",
       "    .dataframe thead th {\n",
       "        text-align: left;\n",
       "    }\n",
       "\n",
       "    .dataframe tbody tr th {\n",
       "        vertical-align: top;\n",
       "    }\n",
       "</style>\n",
       "<table border=\"1\" class=\"dataframe\">\n",
       "  <thead>\n",
       "    <tr style=\"text-align: right;\">\n",
       "      <th></th>\n",
       "      <th>country</th>\n",
       "      <th>description_text</th>\n",
       "      <th>variety</th>\n",
       "    </tr>\n",
       "  </thead>\n",
       "  <tbody>\n",
       "    <tr>\n",
       "      <th>0</th>\n",
       "      <td>italy</td>\n",
       "      <td>Aromas include tropical fruit, broom, brimston...</td>\n",
       "      <td>white blend</td>\n",
       "    </tr>\n",
       "    <tr>\n",
       "      <th>1</th>\n",
       "      <td>portugal</td>\n",
       "      <td>This is ripe and fruity, a wine that is smooth...</td>\n",
       "      <td>portuguese red</td>\n",
       "    </tr>\n",
       "    <tr>\n",
       "      <th>2</th>\n",
       "      <td>us</td>\n",
       "      <td>Tart and snappy, the flavors of lime flesh and...</td>\n",
       "      <td>pinot gris</td>\n",
       "    </tr>\n",
       "    <tr>\n",
       "      <th>3</th>\n",
       "      <td>us</td>\n",
       "      <td>Pineapple rind, lemon pith and orange blossom ...</td>\n",
       "      <td>riesling</td>\n",
       "    </tr>\n",
       "    <tr>\n",
       "      <th>4</th>\n",
       "      <td>us</td>\n",
       "      <td>Much like the regular bottling from 2012, this...</td>\n",
       "      <td>pinot noir</td>\n",
       "    </tr>\n",
       "    <tr>\n",
       "      <th>5</th>\n",
       "      <td>spain</td>\n",
       "      <td>Blackberry and raspberry aromas show a typical...</td>\n",
       "      <td>tempranillo-merlot</td>\n",
       "    </tr>\n",
       "    <tr>\n",
       "      <th>6</th>\n",
       "      <td>italy</td>\n",
       "      <td>Here's a bright, informal red that opens with ...</td>\n",
       "      <td>frappato</td>\n",
       "    </tr>\n",
       "    <tr>\n",
       "      <th>7</th>\n",
       "      <td>france</td>\n",
       "      <td>This dry and restrained wine offers spice in p...</td>\n",
       "      <td>gewürztraminer</td>\n",
       "    </tr>\n",
       "    <tr>\n",
       "      <th>8</th>\n",
       "      <td>germany</td>\n",
       "      <td>Savory dried thyme notes accent sunnier flavor...</td>\n",
       "      <td>gewürztraminer</td>\n",
       "    </tr>\n",
       "    <tr>\n",
       "      <th>9</th>\n",
       "      <td>france</td>\n",
       "      <td>This has great depth of flavor with its fresh ...</td>\n",
       "      <td>pinot gris</td>\n",
       "    </tr>\n",
       "  </tbody>\n",
       "</table>\n",
       "</div>"
      ],
      "text/plain": [
       "    country                                   description_text  \\\n",
       "0     italy  Aromas include tropical fruit, broom, brimston...   \n",
       "1  portugal  This is ripe and fruity, a wine that is smooth...   \n",
       "2        us  Tart and snappy, the flavors of lime flesh and...   \n",
       "3        us  Pineapple rind, lemon pith and orange blossom ...   \n",
       "4        us  Much like the regular bottling from 2012, this...   \n",
       "5     spain  Blackberry and raspberry aromas show a typical...   \n",
       "6     italy  Here's a bright, informal red that opens with ...   \n",
       "7    france  This dry and restrained wine offers spice in p...   \n",
       "8   germany  Savory dried thyme notes accent sunnier flavor...   \n",
       "9    france  This has great depth of flavor with its fresh ...   \n",
       "\n",
       "              variety  \n",
       "0         white blend  \n",
       "1      portuguese red  \n",
       "2          pinot gris  \n",
       "3            riesling  \n",
       "4          pinot noir  \n",
       "5  tempranillo-merlot  \n",
       "6            frappato  \n",
       "7      gewürztraminer  \n",
       "8      gewürztraminer  \n",
       "9          pinot gris  "
      ]
     },
     "execution_count": 3,
     "metadata": {},
     "output_type": "execute_result"
    }
   ],
   "source": [
    "# All we'll need are the country, description and variety. There is one data point without a variety, so let's drop it.\n",
    "wine_data = raw_data[['country', 'description', 'variety']].dropna()\n",
    "\n",
    "# The word description will come up in our data, so we need to change the name of the column for clarity.\n",
    "wine_data = wine_data.rename(columns = {'description': 'description_text'})\n",
    "\n",
    "# Make all of the varieties lower case so that Pinot Noir and pinot noir are recognized as the same\n",
    "wine_data['variety'] = wine_data['variety'].str.lower()\n",
    "wine_data['country'] = wine_data['country'].str.lower()\n",
    "\n",
    "wine_data.head(10)"
   ]
  },
  {
   "cell_type": "markdown",
   "metadata": {},
   "source": [
    "There are umlauts and accents, so let's clean that up so the computer recognizes them as the same terms."
   ]
  },
  {
   "cell_type": "code",
   "execution_count": 4,
   "metadata": {},
   "outputs": [
    {
     "data": {
      "text/html": [
       "<div>\n",
       "<style>\n",
       "    .dataframe thead tr:only-child th {\n",
       "        text-align: right;\n",
       "    }\n",
       "\n",
       "    .dataframe thead th {\n",
       "        text-align: left;\n",
       "    }\n",
       "\n",
       "    .dataframe tbody tr th {\n",
       "        vertical-align: top;\n",
       "    }\n",
       "</style>\n",
       "<table border=\"1\" class=\"dataframe\">\n",
       "  <thead>\n",
       "    <tr style=\"text-align: right;\">\n",
       "      <th></th>\n",
       "      <th>country</th>\n",
       "      <th>description_text</th>\n",
       "      <th>variety</th>\n",
       "    </tr>\n",
       "  </thead>\n",
       "  <tbody>\n",
       "    <tr>\n",
       "      <th>0</th>\n",
       "      <td>italy</td>\n",
       "      <td>Aromas include tropical fruit, broom, brimston...</td>\n",
       "      <td>white blend</td>\n",
       "    </tr>\n",
       "    <tr>\n",
       "      <th>1</th>\n",
       "      <td>portugal</td>\n",
       "      <td>This is ripe and fruity, a wine that is smooth...</td>\n",
       "      <td>portuguese red</td>\n",
       "    </tr>\n",
       "    <tr>\n",
       "      <th>2</th>\n",
       "      <td>us</td>\n",
       "      <td>Tart and snappy, the flavors of lime flesh and...</td>\n",
       "      <td>pinot gris</td>\n",
       "    </tr>\n",
       "    <tr>\n",
       "      <th>3</th>\n",
       "      <td>us</td>\n",
       "      <td>Pineapple rind, lemon pith and orange blossom ...</td>\n",
       "      <td>riesling</td>\n",
       "    </tr>\n",
       "    <tr>\n",
       "      <th>4</th>\n",
       "      <td>us</td>\n",
       "      <td>Much like the regular bottling from 2012, this...</td>\n",
       "      <td>pinot noir</td>\n",
       "    </tr>\n",
       "    <tr>\n",
       "      <th>5</th>\n",
       "      <td>spain</td>\n",
       "      <td>Blackberry and raspberry aromas show a typical...</td>\n",
       "      <td>tempranillo-merlot</td>\n",
       "    </tr>\n",
       "    <tr>\n",
       "      <th>6</th>\n",
       "      <td>italy</td>\n",
       "      <td>Here's a bright, informal red that opens with ...</td>\n",
       "      <td>frappato</td>\n",
       "    </tr>\n",
       "    <tr>\n",
       "      <th>7</th>\n",
       "      <td>france</td>\n",
       "      <td>This dry and restrained wine offers spice in p...</td>\n",
       "      <td>gewurztraminer</td>\n",
       "    </tr>\n",
       "    <tr>\n",
       "      <th>8</th>\n",
       "      <td>germany</td>\n",
       "      <td>Savory dried thyme notes accent sunnier flavor...</td>\n",
       "      <td>gewurztraminer</td>\n",
       "    </tr>\n",
       "    <tr>\n",
       "      <th>9</th>\n",
       "      <td>france</td>\n",
       "      <td>This has great depth of flavor with its fresh ...</td>\n",
       "      <td>pinot gris</td>\n",
       "    </tr>\n",
       "  </tbody>\n",
       "</table>\n",
       "</div>"
      ],
      "text/plain": [
       "    country                                   description_text  \\\n",
       "0     italy  Aromas include tropical fruit, broom, brimston...   \n",
       "1  portugal  This is ripe and fruity, a wine that is smooth...   \n",
       "2        us  Tart and snappy, the flavors of lime flesh and...   \n",
       "3        us  Pineapple rind, lemon pith and orange blossom ...   \n",
       "4        us  Much like the regular bottling from 2012, this...   \n",
       "5     spain  Blackberry and raspberry aromas show a typical...   \n",
       "6     italy  Here's a bright, informal red that opens with ...   \n",
       "7    france  This dry and restrained wine offers spice in p...   \n",
       "8   germany  Savory dried thyme notes accent sunnier flavor...   \n",
       "9    france  This has great depth of flavor with its fresh ...   \n",
       "\n",
       "              variety  \n",
       "0         white blend  \n",
       "1      portuguese red  \n",
       "2          pinot gris  \n",
       "3            riesling  \n",
       "4          pinot noir  \n",
       "5  tempranillo-merlot  \n",
       "6            frappato  \n",
       "7      gewurztraminer  \n",
       "8      gewurztraminer  \n",
       "9          pinot gris  "
      ]
     },
     "execution_count": 4,
     "metadata": {},
     "output_type": "execute_result"
    }
   ],
   "source": [
    "# Get rid of the special characters like the umlaut on the u in gewurztraminer\n",
    "def remove_accents(input_str):\n",
    "    nfkd_form = unicodedata.normalize('NFKD', input_str)\n",
    "    return u\"\".join([c for c in nfkd_form if not unicodedata.combining(c)])\n",
    "\n",
    "wine_data['variety'] = wine_data['variety'].apply(remove_accents)\n",
    "wine_data['description_text'] = wine_data['description_text'].apply(remove_accents)\n",
    "   \n",
    "wine_data.head(10)"
   ]
  },
  {
   "cell_type": "code",
   "execution_count": 5,
   "metadata": {},
   "outputs": [
    {
     "data": {
      "text/plain": [
       "Series([], dtype: int64)"
      ]
     },
     "execution_count": 5,
     "metadata": {},
     "output_type": "execute_result"
    }
   ],
   "source": [
    "# Make sure it is not containing Null values\n",
    "null_count = wine_data.isnull().sum()\n",
    "null_count[null_count>0]"
   ]
  },
  {
   "cell_type": "markdown",
   "metadata": {},
   "source": [
    "Now, let's look at the counts of varieties in the data set."
   ]
  },
  {
   "cell_type": "code",
   "execution_count": 6,
   "metadata": {},
   "outputs": [
    {
     "data": {
      "image/png": "[encoded data removed]",
      "text/plain": [
       "<matplotlib.figure.Figure at 0x1198450b8>"
      ]
     },
     "metadata": {},
     "output_type": "display_data"
    }
   ],
   "source": [
    "sns.countplot(x='variety', data=wine_data)\n",
    "plt.show()"
   ]
  },
  {
   "cell_type": "markdown",
   "metadata": {},
   "source": [
    "There are a lot of varieties, and several that do not even really register on the graph because they have so few reviews. For this study, due to my limited processing power, I am only going to focus on the three most common varieties: Cabernet Sauvignon (red), Pinot Noir (red), and Chardonnay (white). If processing power were not an issue, I would have consolidated the number of varieties with just a few descriptions because the computer would not be able to accurately classify them. There are also varieties in there that are \"blends\" which would be difficult to classify because the chemical compounds from several varieties would be in there and the computer would not be able to distinguish which ones were in there by the description.\n",
    "\n",
    "So, let's focus on the top three varieties bringing down the number of samples to an even 7000 apiece to balance the sample."
   ]
  },
  {
   "cell_type": "code",
   "execution_count": 7,
   "metadata": {},
   "outputs": [
    {
     "name": "stdout",
     "output_type": "stream",
     "text": [
      "There are this many varieties that contain the word blend or \"red\"\n",
      "45623\n"
     ]
    }
   ],
   "source": [
    "# Let's get rid of generic blends\n",
    "print('There are this many varieties that contain the word blend or \"red\"')\n",
    "print(len(wine_data[wine_data.variety.str.contains('blend') == True]) + \n",
    "      len(wine_data[wine_data.variety.str.contains('red') == True]))\n",
    "wine_data = wine_data[wine_data.variety.str.contains('blend') == False]\n",
    "wine_data = wine_data[wine_data.variety.str.contains('red') == False]\n",
    "\n",
    "# First we need to find out what varieties are the popular ones by putting on variety counts\n",
    "variety_counts = wine_data['variety'].value_counts().rename('variety_counts')\n",
    "\n",
    "# Attach the counts to the dataframe\n",
    "wine_data = wine_data.merge(variety_counts.to_frame(),\n",
    "                                left_on='variety', right_index=True)\n",
    "\n",
    "# Define what a popular variety is and then get rid of the variety counts\n",
    "popular_varieties = wine_data[wine_data['variety_counts'] > 7000]\n",
    "wine_data = wine_data.drop(['variety_counts'], axis=1)\n",
    "\n",
    "# Set those varieties as a list\n",
    "popular_varieties = set(popular_varieties['variety'])"
   ]
  },
  {
   "cell_type": "code",
   "execution_count": 8,
   "metadata": {
    "scrolled": true
   },
   "outputs": [
    {
     "name": "stdout",
     "output_type": "stream",
     "text": [
      "  country                                   description_text  \\\n",
      "0      us  This is a sound Cabernet Sauvignon. It's very ...   \n",
      "1   chile  Rubber and earth aromas lead to a mix of berry...   \n",
      "2      us  The deep black color of this wine suggests tha...   \n",
      "3      us  This shows classic Cabernet Sauvignon characte...   \n",
      "4   chile  Direct, woody aromas of cherry, raspberry and ...   \n",
      "5      us  Here's a rustic Cabernet. With the right foods...   \n",
      "6   italy  Here's an inky black and densely concentrated ...   \n",
      "7      us  A lovely Cabernet for drinking now. It's soft ...   \n",
      "8      us  Rough, earthy and tannic, with simple, high-to...   \n",
      "9      us  Made from 79% Cabernet Sauvignon, 13% Merlot a...   \n",
      "\n",
      "              variety  \n",
      "0  cabernet sauvignon  \n",
      "1  cabernet sauvignon  \n",
      "2  cabernet sauvignon  \n",
      "3  cabernet sauvignon  \n",
      "4  cabernet sauvignon  \n",
      "5  cabernet sauvignon  \n",
      "6  cabernet sauvignon  \n",
      "7  cabernet sauvignon  \n",
      "8  cabernet sauvignon  \n",
      "9  cabernet sauvignon  \n"
     ]
    }
   ],
   "source": [
    "# Balance the samples by under sampling\n",
    "columns_list = list(wine_data.columns.values)\n",
    "test_df = pd.DataFrame(columns=columns_list)\n",
    "\n",
    "for x in popular_varieties:\n",
    "    # Create a local df for the resampling\n",
    "    temp_df = pd.DataFrame(columns=columns_list)\n",
    "    \n",
    "    # Break up the data between the big ones and rest\n",
    "    temp_df = wine_data[wine_data['variety'] == x]\n",
    "    \n",
    "    temp_df = resample(temp_df, n_samples=6000)\n",
    "    test_df = test_df.append(temp_df, ignore_index=True)\n",
    "\n",
    "# This will be the dataframe used for testing\n",
    "print(test_df.head(10))"
   ]
  },
  {
   "cell_type": "code",
   "execution_count": 9,
   "metadata": {},
   "outputs": [
    {
     "data": {
      "text/plain": [
       "Series([], dtype: int64)"
      ]
     },
     "execution_count": 9,
     "metadata": {},
     "output_type": "execute_result"
    }
   ],
   "source": [
    "# Make sure it is not containing Null values\n",
    "null_count = test_df.isnull().sum()\n",
    "null_count[null_count>0]"
   ]
  },
  {
   "cell_type": "code",
   "execution_count": 10,
   "metadata": {
    "scrolled": true
   },
   "outputs": [
    {
     "data": {
      "image/png": "[encoded data removed]",
      "text/plain": [
       "<matplotlib.figure.Figure at 0x11e0557f0>"
      ]
     },
     "metadata": {},
     "output_type": "display_data"
    }
   ],
   "source": [
    "# Now let's take a another look at the data\n",
    "sns.countplot(x='variety', data=test_df)\n",
    "plt.show()"
   ]
  },
  {
   "cell_type": "markdown",
   "metadata": {},
   "source": [
    "In order for the computer to understand what a \"Pinot Noir\" is, we need to translate it to numbers."
   ]
  },
  {
   "cell_type": "code",
   "execution_count": 11,
   "metadata": {},
   "outputs": [
    {
     "name": "stdout",
     "output_type": "stream",
     "text": [
      "3\n",
      "{'cabernet sauvignon': 0, 'chardonnay': 1, 'pinot noir': 2}\n"
     ]
    }
   ],
   "source": [
    "# Create a list of possible answers\n",
    "varieties_list = list(test_df.variety.unique())\n",
    "print(len(varieties_list))\n",
    "# Create the key for the list\n",
    "varieties_key = list(range(len(varieties_list)))\n",
    "\n",
    "# Create the dictionary and insert the dictionary into our dataframe\n",
    "variety_dict = dict(list(zip(varieties_list, varieties_key)))\n",
    "inv_variety_dict = dict(list(zip(varieties_key, varieties_list)))\n",
    "test_df['variety'] = test_df['variety'].replace(variety_dict)\n",
    "\n",
    "# Print out the dictionary so we can understand what the computer is thinking\n",
    "print(variety_dict)"
   ]
  },
  {
   "cell_type": "markdown",
   "metadata": {},
   "source": [
    "## Prepare for Testing\n"
   ]
  },
  {
   "cell_type": "markdown",
   "metadata": {},
   "source": [
    "Now, let's prep the descriptions for analysis first by cleaning out some of the punctuation."
   ]
  },
  {
   "cell_type": "code",
   "execution_count": 12,
   "metadata": {},
   "outputs": [
    {
     "data": {
      "text/html": [
       "<div>\n",
       "<style>\n",
       "    .dataframe thead tr:only-child th {\n",
       "        text-align: right;\n",
       "    }\n",
       "\n",
       "    .dataframe thead th {\n",
       "        text-align: left;\n",
       "    }\n",
       "\n",
       "    .dataframe tbody tr th {\n",
       "        vertical-align: top;\n",
       "    }\n",
       "</style>\n",
       "<table border=\"1\" class=\"dataframe\">\n",
       "  <thead>\n",
       "    <tr style=\"text-align: right;\">\n",
       "      <th></th>\n",
       "      <th>country</th>\n",
       "      <th>description_text</th>\n",
       "      <th>variety</th>\n",
       "    </tr>\n",
       "  </thead>\n",
       "  <tbody>\n",
       "    <tr>\n",
       "      <th>0</th>\n",
       "      <td>us</td>\n",
       "      <td>This is a sound Cabernet Sauvignon. It's very ...</td>\n",
       "      <td>0</td>\n",
       "    </tr>\n",
       "    <tr>\n",
       "      <th>1</th>\n",
       "      <td>chile</td>\n",
       "      <td>Rubber and earth aromas lead to a mix of berry...</td>\n",
       "      <td>0</td>\n",
       "    </tr>\n",
       "    <tr>\n",
       "      <th>2</th>\n",
       "      <td>us</td>\n",
       "      <td>The deep black color of this wine suggests tha...</td>\n",
       "      <td>0</td>\n",
       "    </tr>\n",
       "    <tr>\n",
       "      <th>3</th>\n",
       "      <td>us</td>\n",
       "      <td>This shows classic Cabernet Sauvignon characte...</td>\n",
       "      <td>0</td>\n",
       "    </tr>\n",
       "    <tr>\n",
       "      <th>4</th>\n",
       "      <td>chile</td>\n",
       "      <td>Direct, woody aromas of cherry, raspberry and ...</td>\n",
       "      <td>0</td>\n",
       "    </tr>\n",
       "    <tr>\n",
       "      <th>5</th>\n",
       "      <td>us</td>\n",
       "      <td>Here's a rustic Cabernet. With the right foods...</td>\n",
       "      <td>0</td>\n",
       "    </tr>\n",
       "    <tr>\n",
       "      <th>6</th>\n",
       "      <td>italy</td>\n",
       "      <td>Here's an inky black and densely concentrated ...</td>\n",
       "      <td>0</td>\n",
       "    </tr>\n",
       "    <tr>\n",
       "      <th>7</th>\n",
       "      <td>us</td>\n",
       "      <td>A lovely Cabernet for drinking now. It's soft ...</td>\n",
       "      <td>0</td>\n",
       "    </tr>\n",
       "    <tr>\n",
       "      <th>8</th>\n",
       "      <td>us</td>\n",
       "      <td>Rough, earthy and tannic, with simple, high-to...</td>\n",
       "      <td>0</td>\n",
       "    </tr>\n",
       "    <tr>\n",
       "      <th>9</th>\n",
       "      <td>us</td>\n",
       "      <td>Made from 79% Cabernet Sauvignon, 13% Merlot a...</td>\n",
       "      <td>0</td>\n",
       "    </tr>\n",
       "  </tbody>\n",
       "</table>\n",
       "</div>"
      ],
      "text/plain": [
       "  country                                   description_text  variety\n",
       "0      us  This is a sound Cabernet Sauvignon. It's very ...        0\n",
       "1   chile  Rubber and earth aromas lead to a mix of berry...        0\n",
       "2      us  The deep black color of this wine suggests tha...        0\n",
       "3      us  This shows classic Cabernet Sauvignon characte...        0\n",
       "4   chile  Direct, woody aromas of cherry, raspberry and ...        0\n",
       "5      us  Here's a rustic Cabernet. With the right foods...        0\n",
       "6   italy  Here's an inky black and densely concentrated ...        0\n",
       "7      us  A lovely Cabernet for drinking now. It's soft ...        0\n",
       "8      us  Rough, earthy and tannic, with simple, high-to...        0\n",
       "9      us  Made from 79% Cabernet Sauvignon, 13% Merlot a...        0"
      ]
     },
     "execution_count": 12,
     "metadata": {},
     "output_type": "execute_result"
    }
   ],
   "source": [
    "# Utility function for standard text cleaning.\n",
    "def text_cleaner(text):\n",
    "    # Visual inspection identifies a form of punctuation spaCy does not\n",
    "    # recognize: the double dash '--'.  Better get rid of it now!\n",
    "    text = re.sub(r'--',' ',text)\n",
    "    text = re.sub(\"[\\[].*?[\\]]\", \"\", text)\n",
    "    text = ' '.join(text.split())\n",
    "    return text\n",
    "\n",
    "test_df['description_text'] = test_df['description_text'].apply(text_cleaner)\n",
    "test_df.head(10)"
   ]
  },
  {
   "cell_type": "markdown",
   "metadata": {},
   "source": [
    "Let's create a function that will run all of the tests we need with the inputs of test, inputs (X,Y), and method."
   ]
  },
  {
   "cell_type": "code",
   "execution_count": 13,
   "metadata": {
    "collapsed": true
   },
   "outputs": [],
   "source": [
    "#Create a testing function that will fit the test the data.\n",
    "def testing_func(test, models, method):\n",
    "    # This is a local list used to temporarily store scores\n",
    "    scores=[]\n",
    "    # This list serves the For loop below putting the variables in   \n",
    "    for x in models:\n",
    "        #Fitting to Training Data\n",
    "        test.fit(x[0], x[1])\n",
    "        #Training Data Score\n",
    "        scores.append(test.score(x[0], x[1]))\n",
    "        #Test Data Score\n",
    "        scores.append(test.score(x[2], x[3]))\n",
    "        #CV Score\n",
    "        scores.append(np.mean(cross_val_score(test, x[0], x[1], cv=5)))\n",
    "    \n",
    "    # Create a local dataframe to display our results cleanly\n",
    "    local_results_df=pd.DataFrame(scores, columns=['Accuracy'], index=[method])\n",
    "    print(local_results_df)\n",
    " "
   ]
  },
  {
   "cell_type": "markdown",
   "metadata": {},
   "source": [
    "## TF_IDF\n",
    "First, let's use Term Frequency - Inverse Document Frequency (TF-IDF) to break the sentences down into vectors. What this will do is take the number of times a word appears in the description and penalize it if it appears in too many descriptions by multiplying it by the log (base 2) of the number of documents divided by the frequency of the word in all of the documents. This will result in words that appear in every description to be less important (through a lower weighting) when trying to decipher if the word is important for classification. Logically speaking, if a word appears in every sentence, it cannot be that helpful in distinguishing one sentence from another and this is what the machine will need to do to classify the descriptions to the varieties."
   ]
  },
  {
   "cell_type": "code",
   "execution_count": 14,
   "metadata": {
    "collapsed": true
   },
   "outputs": [],
   "source": [
    "X = test_df['description_text']\n",
    "y = test_df['variety']\n",
    "#Applying the vectorizer\n",
    "vect2 = TfidfVectorizer(min_df=20, analyzer = 'word', stop_words = 'english', ngram_range = (1,2))\n",
    "X = vect2.fit_transform(X)\n",
    "#splitting into training and test sets\n",
    "X_train_tfidf, X_test_tfidf, y_train2, y_test2= train_test_split(X, y, test_size=0.4, random_state=0)\n",
    "\n",
    "y_train2 = y_train2.astype(int)\n",
    "y_test2 = y_test2.astype(int)\n"
   ]
  },
  {
   "cell_type": "markdown",
   "metadata": {},
   "source": [
    "## LSA\n",
    "Now let's use Latent Semantic Analysis (LSA) to improve the model through dimension reduction. This applies Principle Components Analysis (PCA) to the vector matrix."
   ]
  },
  {
   "cell_type": "code",
   "execution_count": 15,
   "metadata": {
    "collapsed": true
   },
   "outputs": [],
   "source": [
    "# Apply Singular Value Decomposition to reduce dimensions without doing mean-center nromalizing. \n",
    "svd= TruncatedSVD(100)\n",
    "lsa = make_pipeline(svd, Normalizer(copy=False))\n",
    "# Run SVD on the training data, then project the training data.\n",
    "X_train_lsa = lsa.fit_transform(X_train_tfidf)\n",
    "X_test_lsa = lsa.fit_transform(X_test_tfidf)"
   ]
  },
  {
   "cell_type": "code",
   "execution_count": 16,
   "metadata": {},
   "outputs": [],
   "source": [
    "# Go ahead and create our X variable for unsupervised learning\n",
    "tfidf_X = test_df['description_text']\n",
    "\n",
    "#Applying the vectorizer\n",
    "vect2 = TfidfVectorizer(min_df=20, analyzer = 'word', stop_words = 'english', ngram_range = (1,2))\n",
    "tfidf_X = vect2.fit_transform(tfidf_X)\n",
    "#Apply SVD for LSA which tends to work better for unsupervised learning techniques like clustering.\n",
    "svd= TruncatedSVD(60)\n",
    "lsa = make_pipeline(svd, Normalizer(copy=False))\n",
    "# Run SVD on the training data, then project the training data.\n",
    "lsa_X = lsa.fit_transform(tfidf_X)\n",
    "variance_explained=svd.explained_variance_ratio_\n",
    "total_variance = variance_explained.sum()"
   ]
  },
  {
   "cell_type": "code",
   "execution_count": 17,
   "metadata": {
    "collapsed": true
   },
   "outputs": [],
   "source": [
    "# Our X,Y for the models\n",
    "models = [[X_train_tfidf, y_train2, X_test_tfidf, y_test2], [X_train_lsa, y_train2, X_test_lsa, y_test2]] \n",
    "\n",
    "# TF_IDF is the method\n",
    "tf_idf_method = ['TF-IDF Training', 'TF-IDF Test', 'TF-IDF Cross Validation', \n",
    "                 'TF-IDF with LSA Training', 'TF-IDF with LSA Test', 'TF-IDF with LSA Cross Validation']\n",
    "\n"
   ]
  },
  {
   "cell_type": "markdown",
   "metadata": {},
   "source": [
    "This is a multinomial classification, so not all statistical methods can handle classifications that are not binary. Of the ones that can, this project will use the following taking into consideration processing power: <br>\n",
    "Logistic Regression <br>\n",
    "SVC <br>\n",
    "Random Forest"
   ]
  },
  {
   "cell_type": "markdown",
   "metadata": {},
   "source": [
    "### Logistic Regression\n",
    "\n",
    "Logistic Regression is an effective way to work with classification problems like this one by calculating the probabilities of each result and taking a log of the results creating a situation where linear regression can be used where it would otherwise not be possible."
   ]
  },
  {
   "cell_type": "code",
   "execution_count": 18,
   "metadata": {},
   "outputs": [
    {
     "data": {
      "image/png": "[encoded data removed]",
      "text/plain": [
       "<matplotlib.figure.Figure at 0x11ee76a58>"
      ]
     },
     "metadata": {},
     "output_type": "display_data"
    },
    {
     "name": "stdout",
     "output_type": "stream",
     "text": [
      "\n",
      "It took the following time to complete this task: 0:00:16.284419\n"
     ]
    }
   ],
   "source": [
    "start = datetime.now()\n",
    "# Try to figure out the best Lambda for Logistic Regression by running the test with the PCA X variable and mapping them out.\n",
    "# Temporary lists to store the results\n",
    "yl = []\n",
    "cl = []\n",
    "\n",
    "# For loop to run the model with different Lambdas represented as L\n",
    "numb = np.arange(0.1, 2.0, 0.3)\n",
    "for l in numb:\n",
    "    lr = LogisticRegression(C=l, multi_class='multinomial', solver='lbfgs')\n",
    "    lr.fit(X_train_tfidf, y_train2)\n",
    "    yl.append(lr.score(X_train_tfidf, y_train2))\n",
    "    cl.append(np.mean(cross_val_score(lr, X_train_tfidf, y_train2, cv=5)))\n",
    "\n",
    "# Plot the results of the accuracy and Cross Validation Score\n",
    "fig = plt.figure()\n",
    "ax1 = fig.add_subplot(111)\n",
    "plt.xlabel('Lambda')\n",
    "plt.ylabel('Score')\n",
    "ax1.scatter(x=numb, y=yl, c='b', marker=\"s\", label='Score')\n",
    "ax1.scatter(x=numb, y=cl, s=10, c='r', marker=\"^\", label='Cross Validation')\n",
    "plt.legend(loc='upper left');\n",
    "plt.show()\n",
    "print('\\nIt took the following time to complete this task:', datetime.now() - start)"
   ]
  },
  {
   "cell_type": "code",
   "execution_count": 19,
   "metadata": {},
   "outputs": [
    {
     "name": "stdout",
     "output_type": "stream",
     "text": [
      "                                  Accuracy\n",
      "TF-IDF Training                   0.977037\n",
      "TF-IDF Test                       0.945972\n",
      "TF-IDF Cross Validation           0.943612\n",
      "TF-IDF with LSA Training          0.935463\n",
      "TF-IDF with LSA Test              0.291111\n",
      "TF-IDF with LSA Cross Validation  0.929076\n",
      "\n",
      "It took the following time to complete this task: 0:00:04.419434\n"
     ]
    }
   ],
   "source": [
    "start = datetime.now()\n",
    "lr = LogisticRegression(C=1, multi_class='multinomial', solver='lbfgs')\n",
    "testing_func(lr, models, tf_idf_method)\n",
    "print('\\nIt took the following time to complete this task:', datetime.now() - start)"
   ]
  },
  {
   "cell_type": "markdown",
   "metadata": {},
   "source": [
    "### Support Vector Machines\n",
    "\n",
    "SVM uses a multi-dimensional hyperplane to classify based on the regularization parameter (\"C\") and Gamma. A lower C will look for a larger marigin hyperplane even if it misclassifies points leading to less overfitting, but potentially lower overall accuracy. Gamma looks at each individual training set point and which ones are considered. A higher gamma means that only close points will be considered while a low gamma means points far away will be considered when determining the hyperplane.\n",
    "\n",
    "Luckily, Grid Search CV exists to assist in the optimization of \"C\" and gamma."
   ]
  },
  {
   "cell_type": "code",
   "execution_count": 20,
   "metadata": {},
   "outputs": [
    {
     "name": "stdout",
     "output_type": "stream",
     "text": [
      "The best parameters are {'C': 1} with a score of %0.9419444444444445\n",
      "\n",
      "It took the following time to complete this task: 0:00:01.120353\n"
     ]
    }
   ],
   "source": [
    "# SKlearn has a tool that will optimize SVC\n",
    "start = datetime.now()\n",
    "svc = LinearSVC(multi_class='ovr')\n",
    "# Set the hyperparameters\n",
    "svcparameters = {'C':[1,5,8]}\n",
    "# Run it through the tool.\n",
    "grid = GridSearchCV(svc, svcparameters).fit(X_train_tfidf, y_train2)\n",
    "predicted = grid.predict(X_test_tfidf)\n",
    "print(\"The best parameters are {} with a score of %{}\".format(grid.best_params_, grid.best_score_))\n",
    "\n",
    "#Put those parameters in a dictionary to call.\n",
    "svcparameters = grid.best_params_\n",
    "\n",
    "print('\\nIt took the following time to complete this task:', datetime.now() - start)"
   ]
  },
  {
   "cell_type": "code",
   "execution_count": 21,
   "metadata": {},
   "outputs": [
    {
     "name": "stdout",
     "output_type": "stream",
     "text": [
      "                                  Accuracy\n",
      "TF-IDF Training                   0.993889\n",
      "TF-IDF Test                       0.945972\n",
      "TF-IDF Cross Validation           0.944722\n",
      "TF-IDF with LSA Training          0.934444\n",
      "TF-IDF with LSA Test              0.303333\n",
      "TF-IDF with LSA Cross Validation  0.927872\n",
      "\n",
      "It took the following time to complete this task: 0:00:01.660050\n"
     ]
    }
   ],
   "source": [
    "start = datetime.now()\n",
    "svc = LinearSVC(C=svcparameters['C'], multi_class='ovr')\n",
    "testing_func(svc, models, tf_idf_method)\n",
    "print('\\nIt took the following time to complete this task:', datetime.now() - start)"
   ]
  },
  {
   "cell_type": "markdown",
   "metadata": {},
   "source": [
    "### Random Forest\n",
    "\n",
    "Random Forest employs a bootstrapping method of taking random subsamples of data and creating a decision tree for the classifier. The number of estimators below is how many trees it is employing to make the decision. Max Depth is the layers of nodes in the trees. The deeper the tree, the more likely it is to overfit the classifier by going into variables that aren't important in making the ultimate decision. Due to the number of features and how they work in this model, it is working better with a deeper tree of 16 than models run with lower depths. <br>\n",
    "<br>\n",
    "n_jobs is set to 4 to account for parallel processing. With a quadcore CPU, each core is able to create decision trees cutting down the overall time it takes to create the forest of decision trees used to classify the wine variety."
   ]
  },
  {
   "cell_type": "code",
   "execution_count": 22,
   "metadata": {},
   "outputs": [
    {
     "name": "stdout",
     "output_type": "stream",
     "text": [
      "                                  Accuracy\n",
      "TF-IDF Training                   0.960370\n",
      "TF-IDF Test                       0.933056\n",
      "TF-IDF Cross Validation           0.927594\n",
      "TF-IDF with LSA Training          0.999444\n",
      "TF-IDF with LSA Test              0.276944\n",
      "TF-IDF with LSA Cross Validation  0.929815\n",
      "\n",
      " It took the following time to complete this task: 0:03:35.589704\n"
     ]
    }
   ],
   "source": [
    "start = datetime.now()\n",
    "rfc = RandomForestClassifier(n_estimators=1000, \n",
    "                                 max_depth=16, n_jobs=4)\n",
    "testing_func(rfc, models, tf_idf_method)\n",
    "print('\\n It took the following time to complete this task:', datetime.now() - start)"
   ]
  },
  {
   "cell_type": "markdown",
   "metadata": {},
   "source": [
    "### Results\n",
    "\n",
    "Both Logistic Regression and SVC are able to achieve accuracies around 94.3% with SVC taking half of the processing time as Logistic Regression. This is not bad. <br>\n",
    "<br>\n",
    "LSA on the other hand is creating overfitted models with poorer accuracy."
   ]
  },
  {
   "cell_type": "markdown",
   "metadata": {},
   "source": [
    "## Spacy\n",
    "Now, let's prep the data for analysis using the natural language processor, Spacy. First, we need to create our functions for creating word counts and features based on those counts."
   ]
  },
  {
   "cell_type": "code",
   "execution_count": 23,
   "metadata": {
    "collapsed": true
   },
   "outputs": [],
   "source": [
    "def bag_of_words(text):\n",
    "    \n",
    "    # Filter out punctuation and stop words.\n",
    "    allwords = [token.lemma_\n",
    "                for token in text\n",
    "                if not token.is_punct\n",
    "                and not token.is_stop]\n",
    "    \n",
    "    # Return the most common words.\n",
    "    return [item[0] for item in Counter(allwords).most_common(2000)]\n",
    "\n",
    "def bow_features(sentences, common_words):\n",
    "\n",
    "    # Scaffold the data frame and initialize counts to zero.\n",
    "    s_index = len(sentences)\n",
    "    df = pd.DataFrame(columns=common_words, index=range(s_index))\n",
    "    \n",
    "    df['description_text'] = sentences['description_text']\n",
    "    df['variety'] = sentences['variety']\n",
    "    df = df.fillna(0)\n",
    "    \n",
    "\n",
    "    # Process each row, counting the occurrence of words in each sentence.\n",
    "    for i, sentence in enumerate(df['description_text']):\n",
    "        \n",
    "        # Convert the sentence to lemmas, then filter out punctuation,\n",
    "        # stop words, and uncommon words.\n",
    "        \n",
    "        words = [token.lemma_\n",
    "                 for token in sentence\n",
    "                 if (\n",
    "                     not token.is_punct\n",
    "                     and not token.is_stop\n",
    "                     and token.lemma_ in common_words\n",
    "                 )]\n",
    "       \n",
    "        # Populate the row with word counts.\n",
    "        for word in words:\n",
    "            df.loc[i, word] += 1\n",
    "\n",
    "        # This counter is just to make sure the kernel didn't hang.\n",
    "        if i % 5000 == 0:\n",
    "            print(\"Processing row {}\".format(i))\n",
    "            \n",
    "    return df\n"
   ]
  },
  {
   "cell_type": "code",
   "execution_count": 24,
   "metadata": {
    "scrolled": false
   },
   "outputs": [
    {
     "name": "stdout",
     "output_type": "stream",
     "text": [
      "Processing row 0\n",
      "Processing row 5000\n",
      "Processing row 10000\n",
      "Processing row 15000\n",
      "   bouquet  2021  2017–2022  brittan  strawberri  brew  unnecessarily  wink  \\\n",
      "0        0     0          0        0           0     0              0     0   \n",
      "1        0     0          0        0           0     0              0     0   \n",
      "2        0     0          0        0           0     0              0     0   \n",
      "3        0     0          0        0           0     0              0     0   \n",
      "4        0     0          0        0           0     0              0     0   \n",
      "5        0     0          0        0           0     0              0     0   \n",
      "6        0     0          0        0           0     0              0     0   \n",
      "7        0     0          0        0           0     0              0     0   \n",
      "8        0     0          0        0           0     0              0     0   \n",
      "9        0     0          0        0           0     0              0     0   \n",
      "\n",
      "   stint  rhythm                        ...                          les  \\\n",
      "0      0       0                        ...                            0   \n",
      "1      0       0                        ...                            0   \n",
      "2      0       0                        ...                            0   \n",
      "3      0       0                        ...                            0   \n",
      "4      0       0                        ...                            0   \n",
      "5      0       0                        ...                            0   \n",
      "6      0       0                        ...                            0   \n",
      "7      0       0                        ...                            0   \n",
      "8      0       0                        ...                            0   \n",
      "9      0       0                        ...                            0   \n",
      "\n",
      "   stiegelmar  zinginess  shocking  stringy  expertise  stately  piecrust  \\\n",
      "0           0          0         0        0          0        0         0   \n",
      "1           0          0         0        0          0        0         0   \n",
      "2           0          0         0        0          0        0         0   \n",
      "3           0          0         0        0          0        0         0   \n",
      "4           0          0         0        0          0        0         0   \n",
      "5           0          0         0        0          0        0         0   \n",
      "6           0          0         0        0          0        0         0   \n",
      "7           0          0         0        0          0        0         0   \n",
      "8           0          0         0        0          0        0         0   \n",
      "9           0          0         0        0          0        0         0   \n",
      "\n",
      "   2019–2030                                   description_text  \n",
      "0          0  (This, is, a, sound, Cabernet, Sauvignon, ., I...  \n",
      "1          0  (Rubber, and, earth, aromas, lead, to, a, mix,...  \n",
      "2          0  (The, deep, black, color, of, this, wine, sugg...  \n",
      "3          0  (This, shows, classic, Cabernet, Sauvignon, ch...  \n",
      "4          0  (Direct, ,, woody, aromas, of, cherry, ,, rasp...  \n",
      "5          0  (Here, 's, a, rustic, Cabernet, ., With, the, ...  \n",
      "6          0  (Here, 's, an, inky, black, and, densely, conc...  \n",
      "7          0  (A, lovely, Cabernet, for, drinking, now, ., I...  \n",
      "8          0  (Rough, ,, earthy, and, tannic, ,, with, simpl...  \n",
      "9          0  (Made, from, 79, %, Cabernet, Sauvignon, ,, 13...  \n",
      "\n",
      "[10 rows x 10534 columns]\n",
      "\n",
      "It took the following time to complete this task: 0:07:58.984897\n"
     ]
    }
   ],
   "source": [
    "start = datetime.now()\n",
    "# Set up Spacy\n",
    "nlp = spacy.load('en')\n",
    "# Create a dataframe for our parsed descriptions and parse them.\n",
    "parsed_wine = test_df\n",
    "parsed_wine['description_text'] = parsed_wine['description_text'].apply(lambda x: nlp(x))\n",
    "\n",
    "# Figure out the most common words\n",
    "description_words = parsed_wine['description_text'].apply(bag_of_words)\n",
    "flat_list = [item for sublist in description_words for item in sublist]\n",
    "common_words = set(flat_list)\n",
    "\n",
    "# Use the second function to count the appearance of the common words in each description\n",
    "word_counts = bow_features(parsed_wine, common_words)\n",
    "print(word_counts.head(10))\n",
    "print('\\nIt took the following time to complete this task:', datetime.now() - start)"
   ]
  },
  {
   "cell_type": "markdown",
   "metadata": {},
   "source": [
    "Now that there are word counts for each description, let's use that to see if the computer can figure out what the  variety is by the descriptions. Since we are using word counts in a dataframe and not creating a vectorized dataset as above in TF_IDF, it is easy to add other features like country of origin for the wine, which may give an additional clue."
   ]
  },
  {
   "cell_type": "code",
   "execution_count": 25,
   "metadata": {},
   "outputs": [
    {
     "name": "stdout",
     "output_type": "stream",
     "text": [
      "{0, 1, 2} ['cabernet sauvignon', 'chardonnay', 'pinot noir']\n"
     ]
    }
   ],
   "source": [
    "# Create the features of the countries in a binary format with 1 equalling where the country is from through dummies.\n",
    "countries = pd.get_dummies(test_df, columns=['country'])\n",
    "# Merge that into our word counts file.\n",
    "word_counts = pd.merge(word_counts, countries)\n",
    "\n",
    "# Set the X,Y and create a training/test set.\n",
    "X = word_counts.drop(['variety', 'description_text'], 1)\n",
    "y = word_counts['variety']\n",
    "\n",
    "# Splitting into training and test sets\n",
    "Spacy_X_train, Spacy_X_test, Spacy_y_train, Spacy_y_test= train_test_split(X, y, test_size=0.4, random_state=0)\n",
    "print(set(Spacy_y_test), varieties_list)\n",
    "# These will be the models for SpaCy\n",
    "models = [[Spacy_X_train, Spacy_y_train, Spacy_X_test, Spacy_y_test]] \n",
    "\n",
    "# Let's tell it that it is SpaCy\n",
    "Spacy_method = ['SpaCy Training', 'SpaCy Test', 'SpaCy CV']"
   ]
  },
  {
   "cell_type": "markdown",
   "metadata": {},
   "source": [
    "Now, let's apply the same three models as above to get an apples to apples comparison.\n",
    "\n",
    "### Logistic Regression"
   ]
  },
  {
   "cell_type": "code",
   "execution_count": 26,
   "metadata": {},
   "outputs": [
    {
     "name": "stdout",
     "output_type": "stream",
     "text": [
      "                Accuracy\n",
      "SpaCy Training  0.997841\n",
      "SpaCy Test      0.952837\n",
      "SpaCy CV        0.949879\n",
      "It took the following time to complete this task: 0:02:11.782807\n"
     ]
    }
   ],
   "source": [
    "start = datetime.now()\n",
    "\n",
    "# Putting it in multi-class and changing the solver allows it to handle multinomial classification\n",
    "lr = LogisticRegression(C=1, multi_class='multinomial', solver='lbfgs')\n",
    "testing_func(lr, models, Spacy_method)\n",
    "print('It took the following time to complete this task:', datetime.now() - start)"
   ]
  },
  {
   "cell_type": "markdown",
   "metadata": {},
   "source": [
    "### SVC"
   ]
  },
  {
   "cell_type": "code",
   "execution_count": 27,
   "metadata": {},
   "outputs": [
    {
     "name": "stdout",
     "output_type": "stream",
     "text": [
      "                Accuracy\n",
      "SpaCy Training  1.000000\n",
      "SpaCy Test      0.946361\n",
      "SpaCy CV        0.938145\n",
      "It took the following time to complete this task: 0:00:22.959259\n"
     ]
    }
   ],
   "source": [
    "start = datetime.now()\n",
    "# The \"ovr\" method allows SVC to do multinomial classification\n",
    "svc = LinearSVC(C=svcparameters['C'], multi_class='ovr')\n",
    "testing_func(svc, models, Spacy_method)\n",
    "print('It took the following time to complete this task:', datetime.now() - start)"
   ]
  },
  {
   "cell_type": "markdown",
   "metadata": {},
   "source": [
    "### Random Forest"
   ]
  },
  {
   "cell_type": "code",
   "execution_count": 28,
   "metadata": {},
   "outputs": [
    {
     "name": "stdout",
     "output_type": "stream",
     "text": [
      "                Accuracy\n",
      "SpaCy Training  0.966585\n",
      "SpaCy Test      0.940729\n",
      "SpaCy CV        0.937489\n",
      "It took the following time to complete this task: 0:02:44.324325\n"
     ]
    }
   ],
   "source": [
    "start = datetime.now()\n",
    "rfc = RandomForestClassifier(n_estimators=1000, \n",
    "                                 max_depth=16, n_jobs=4)\n",
    "testing_func(rfc, models, Spacy_method)\n",
    "print('\\nIt took the following time to complete this task:', datetime.now() - start)"
   ]
  },
  {
   "cell_type": "markdown",
   "metadata": {},
   "source": [
    "## Results\n",
    "\n",
    "Spacy with Logistic Regression edged out the others performing the most accurately with over 94.6% accuracy. That's a pretty sharp model, but let's take a deeper dive into where it was making mistakes through a confusion matrix showing which ones it got wrong and which it got right (on the diagonal)."
   ]
  },
  {
   "cell_type": "code",
   "execution_count": 29,
   "metadata": {},
   "outputs": [
    {
     "name": "stdout",
     "output_type": "stream",
     "text": [
      "3 3\n"
     ]
    },
    {
     "data": {
      "image/png": "[encoded data removed]",
      "text/plain": [
       "<matplotlib.figure.Figure at 0x14263a860>"
      ]
     },
     "metadata": {},
     "output_type": "display_data"
    }
   ],
   "source": [
    "model = LogisticRegression(C=1, multi_class='multinomial', solver='lbfgs')\n",
    "model.fit(Spacy_X_train, Spacy_y_train)\n",
    "y_pred = model.predict(Spacy_X_test)\n",
    "print(len(set(Spacy_y_test)), len(varieties_list))\n",
    "conf_mat = confusion_matrix(Spacy_y_test, y_pred)\n",
    "fig, ax = plt.subplots(figsize=(10,10))\n",
    "sns.heatmap(conf_mat, annot=True, fmt='d', xticklabels=varieties_list, yticklabels=varieties_list)\n",
    "plt.ylabel('Actual')\n",
    "plt.xlabel('Predicted')\n",
    "plt.show()"
   ]
  },
  {
   "cell_type": "markdown",
   "metadata": {},
   "source": [
    "It looks like the mistakes were in the two red varieties. Part of the issue here is that some of the flavors of wines don't just come from the variety itself, but from how the wine is produced; such as the introduction of flavors of vanilla and cedar from oak ageing. While these notes can happen in any wine regardless of whether it is red or white, if the description is not too descriptive to begin with or focuses too much on the common flavors associated with oaking, it would be difficult for a human to distinguish what wine variety the author is speaking about, let alone a computer.\n",
    "\n",
    "94% accuracy is a very sharp model."
   ]
  },
  {
   "cell_type": "markdown",
   "metadata": {},
   "source": [
    "## Unsupervised Learning\n",
    "\n",
    "First, let's use the LSA generated X to see similarities in the wine descriptions to see the different aspects the machine sees in the data."
   ]
  },
  {
   "cell_type": "code",
   "execution_count": 30,
   "metadata": {},
   "outputs": [
    {
     "name": "stdout",
     "output_type": "stream",
     "text": [
      "Percent variance captured by all components: 13.9527230338\n",
      "Component 0:\n",
      "description_text\n",
      "(The, 2006, flagship, Cabernet, from, Quilceda, Creek, is, a, massive, wine, that, has, just, begun, to, emerge, from, its, slumber, ., When, first, released, the, wine, seemed, to, have, entered, a, dumb, phase, ,, but, six, months, later, it, responds, to, decanting, and, shows, its, muscle, ., Fruit, flavors, of, black, ,, brandied, cherries, ,, cassis, and, bourbon, -, soaked, plums, are, wrapped, in, generous, ,, layered, oak, ., The, wine, is, dusty, ,, smoky, ,, laced, with, streaks, of, licorice, and, brightened, with, sharp, acids, ., It, continues, to, expand, further, in, the, glass, ,, adding, flesh, and, spice, ...)    0.650468\n",
      "(True, to, the, Clos, du, Val, paradigm, ,, this, wine, offers, ripe, California, fruit, rendered, traditionally, -, in, this, case, in, a, Burgundian, manner, ., The, fruit, rides, high, on, the, bright, acidity, ;, full, ,, meaty, black, cherry, and, earth, aromas, and, flavors, sport, attractive, licorice, accents, ., Big, on, the, palate, but, not, heavy, ,, the, wine, finishes, dry, with, dark, cherry, and, mineral, notes, ,, fairly, full, tannins, ., This, very, good, California, Pinot, Noir, should, improve, over, the, next, two, or, three, years, ., A, fine, candidate, for, the, short, to, mid, -, term, cellar, .)           0.642724\n",
      "(This, wine, has, gorgeous, ripe, fruit, aromas, ,, mouth, -, filling, flavors, and, a, plush, ,, generous, texture, ., A, hint, of, smoke, shades, the, ripe, black, -, cherry, aromas, ., Layered, flavors, of, clove, ,, cedar, ,, pomegranate, and, rosemary, intermingle, on, the, palate, ., Despite, the, ripeness, and, full, body, ,, a, fine, coat, of, tannins, and, supportive, acidity, keep, the, mouthfeel, fresh, and, appetizing, .)                                                                                                                                                                                                           0.622671\n",
      "(Winemaker, :, Etienne, le, Riche, ., There, are, layers, of, aromas, and, flavors, in, this, complex, wine, ,, starting, with, attractive, scents, of, pressed, purple, flowers, ,, wild, strawberries, ,, blackberries, and, woodspice, ., The, palate, is, seriously, spicy, ,, but, grounded, by, dense, —, yet, not, overdone, —, black, fruit, flavors, ., Medium, acidity, and, structured, tannins, ,, followed, by, a, long, ,, evolving, finish, ,, complete, the, package, ., Harmonious, ,, well, integrated, and, balanced, ,, drink, 2020–2024, .)                                                                                                0.618666\n",
      "(A, touch, of, new, oak, adds, complexity, and, a, good, ,, gripping, sensation, to, this, medium, -, bodied, and, nicely, structured, wine, ., Adding, to, the, light, toast, and, smoke, aromas, ,, the, fruit, flavors, bring, tart, cherry, and, raspberry, plus, some, bass, notes, of, clove, and, black, tea, ., The, wine, has, an, appetizing, balance, and, persistent, flavors, ., It, will, be, best, after, 2018, .)                                                                                                                                                                                                                               0.618337\n",
      "Name: 0, dtype: float64\n",
      "Component 1:\n",
      "description_text\n",
      "(Named, after, the, church, which, is, next, to, the, Brocard, winery, ,, this, crisp, fruity, wine, is, lively, with, acidity, ,, lemon, and, apple, fruits, and, a, light, tangy, texture, ., The, wine, becomes, more, ripe, as, it, opens, up, showing, peach, and, apricot, flavors, at, the, end, ., Drink, now, .)    0.532438\n",
      "(Jadot, 's, take, on, Burgundy, Chardonnay, is, fruity, and, creamy, ., Juicy, ,, intense, acidity, comes, from, the, crisp, apple, and, white, peach, fruits, ., A, touch, of, wood, aging, softens, the, fruit, and, broadens, the, character, of, the, wine, ., Drink, now, .)                                            0.521856\n",
      "(This, is, a, full, and, creamy, wine, ., The, richness, is, happily, cut, with, citrus, and, apple, acidity, to, give, a, crisp, edge, and, tang, to, the, ripe, yellow, fruit, ., It, finishes, with, a, lively, ,, bright, aftertaste, .)                                                                                 0.518655\n",
      "(A, firm, touch, of, toast, and, vanilla, gives, this, rich, wine, a, rounded, character, ., Honey, and, creamed, apple, flavors, give, further, generosity, ., Yellow, fruits, at, the, end, are, balanced, with, a, more, zingy, lemon, and, pink, grapefruit, acidity, ., Drink, this, ripe, wine, from, 2017, .)         0.514462\n",
      "(Whiffs, of, sea, breeze, and, oyster, shells, waft, throughout, this, brisk, unoaked, Chardonnay, ., Crisp, apple, and, lemon, flavors, are, delicate, in, concentration, but, pristine, and, refreshing, ., Drink, now, through, 2019, .)                                                                                  0.513267\n",
      "Name: 1, dtype: float64\n",
      "Component 2:\n",
      "description_text\n",
      "(This, smoky, wine, is, ripe, with, a, fine, balance, between, tannins, and, rich, red, fruits, ., It, is, warm, ,, rounded, and, attractively, spicy, ., The, structure, and, dry, core, will, allow, the, wine, to, age, ., Drink, from, 2022, .)                                                                                                         0.515836\n",
      "(Rich, in, character, ,, this, is, a, dense, wine, ,, with, smoky, tannins, and, juicy, red, fruits, that, are, deliciously, ripe, ., The, tannins, and, the, fruit, concentration, result, in, a, weighty, yet, brightly, acidic, wine, ., It, will, develop, quickly, ,, and, then, remain, at, a, peak, for, many, years, ., Drink, from, 2018, .)       0.512478\n",
      "(From, a, selection, of, old, vines, in, four, parcels, ,, the, wine, has, rich, fruits, ,, concentrated, blackberry, flavors, and, fully, integrated, tannins, ., It, is, ripe, ,, juicy, with, fine, acidity, and, a, good, potential, ., Drink, this, fine, and, fruity, wine, from, 2018, .)                                                            0.512441\n",
      "(From, a, selection, of, old, vines, in, four, parcels, ,, the, wine, has, rich, fruits, ,, concentrated, blackberry, flavors, and, fully, integrated, tannins, ., It, is, ripe, ,, juicy, with, fine, acidity, and, a, good, potential, ., Drink, this, fine, and, fruity, wine, from, 2018, .)                                                            0.512441\n",
      "(This, rich, ,, deliciously, fruity, wine, combines, structure, and, ripe, layers, of, yellow, fruits, ., Full, in, the, mouth, ,, it, has, a, textured, ,, spicy, edge, over, the, juicy, acidity, and, fruitiness, ., It, is, ready, to, drink, ,, but, with, its, tight, texture, is, likely, to, age, well, ,, so, better, to, wait, until, 2017, .)    0.506501\n",
      "Name: 2, dtype: float64\n"
     ]
    }
   ],
   "source": [
    "articles_by_component=pd.DataFrame(lsa_X,index=test_df['description_text']) \n",
    "articles_by_component.shape\n",
    "\n",
    "print(\"Percent variance captured by all components:\",total_variance*100)\n",
    "\n",
    "\n",
    "for i in range(3): \n",
    "    print('Component {}:'.format(i)) \n",
    "    print(articles_by_component.loc[:,i].sort_values(ascending=False)[0:5])\n",
    "\n"
   ]
  },
  {
   "cell_type": "markdown",
   "metadata": {},
   "source": [
    "LSA analysis pulls up similarities in the different components. Component 0 seems to really home in on red fruits such as cherries and raspberries in the descriptions. Component 1 has different wine descriptions that go into the wine's acidity, meaning it was of mention. Component 2 goes into the \"rich\" wines that are creamy, fruity, or complex in character.\n",
    "\n",
    "Now, let's look at sentence similarity."
   ]
  },
  {
   "cell_type": "code",
   "execution_count": 31,
   "metadata": {},
   "outputs": [
    {
     "data": {
      "image/png": "[encoded data removed]",
      "text/plain": [
       "<matplotlib.figure.Figure at 0x11ea800b8>"
      ]
     },
     "metadata": {},
     "output_type": "display_data"
    },
    {
     "name": "stdout",
     "output_type": "stream",
     "text": [
      "Key:\n",
      "0 This is a sound Cabernet Sauvignon. It's very dry and quite tannic, with pure blackberry, black currant and blueberry flavors, and it finishes with a soft gentleness. At its best now, and the price is good for the quality.\n",
      "1 Rubber and earth aromas lead to a mix of berry fruit scents and a pinch of vinegar. It's firm in the mouth, with cranberry and herbal raspberry flavors. Gives about as much as it can but at the same time it shows a tart, basic, mildly herbal DNA.\n",
      "2 The deep black color of this wine suggests that it spent a lot of time on the skins, and 20 months in American oak added further grip and grit to the tannins. Cherry tobacco, espresso and plenty of oak flavors lead into a chewy finish with some residual bitterness.\n",
      "3 This shows classic Cabernet Sauvignon character, and there's even a Bordeaux-like earthiness that grounds the cherry, currant and cedar flavors. Made from fruit grown in the winery's Alexander Valley vineyard, this is ideal for drinking now.\n",
      "4 Direct, woody aromas of cherry, raspberry and minerally crispness set up a medium-bodied palate housing round tannins. Ripe, loamy flavors of mixed berries exhibit a touch of raisin, which carries over to a peppery, blackened finish.\n",
      "5 Here's a rustic Cabernet. With the right foods, at the right time, it's fine. By itself it's awkward, with some elements out of balance, but the cherry-berry notes will play well against a great burger.\n",
      "6 Here's an inky black and densely concentrated Cabernet Sauvignon that would pair with grilled sausage or barbecued steak. The wine is soft, round and slightly sweet on the finish.\n",
      "7 A lovely Cabernet for drinking now. It's soft and harmonious, with ripe, sweet flavors of blackberries, cherries and anise liqueur. An elaborate coating of oak brings a sweet, smoky deliciousness.\n",
      "8 Rough, earthy and tannic, with simple, high-toned, black cherry fruit, and substantial tannins that seem to have been somehow smoothed over, leaving the wine a bit dull.\n",
      "9 Made from 79% Cabernet Sauvignon, 13% Merlot and 8% Cabernet Franc, this wine shows a rich, full-bodied and juicy core of soft, baked plum, cherry and vanilla flavors, with a lingering streak of cinnamon. Not a vineyard designate, this is rather a selection of complementary wine lots and barrels.\n"
     ]
    }
   ],
   "source": [
    "# Compute document similarity using LSA components\n",
    "similarity = np.asarray(np.asmatrix(lsa_X) * np.asmatrix(lsa_X).T)\n",
    "#Only taking the first 10 sentences\n",
    "sim_matrix=pd.DataFrame(similarity,index=test_df['description_text']).iloc[0:10,0:10]\n",
    "#Making a plot\n",
    "ax = sns.heatmap(sim_matrix,yticklabels=range(10))\n",
    "plt.show()\n",
    "\n",
    "#Generating a key for the plot.\n",
    "print('Key:')\n",
    "for i in range(10):\n",
    "    print(i,sim_matrix.index[i])\n"
   ]
  },
  {
   "cell_type": "markdown",
   "metadata": {},
   "source": [
    "The strongest similarities are between the second and third sentences, which both discuss a wine with \"plum\" and \"herbal\" aromas. Sentences 1 and 5 also show similarities in their mentions of black fruits. Other sentences just show light to moderate similarity.\n",
    "\n",
    "Now, let's try to use clusters to see if we can draw any other insights from the data. Using the PCA generated features (PCA with Spacy and LSA with the vectorized data) will help get better clusters."
   ]
  },
  {
   "cell_type": "code",
   "execution_count": 32,
   "metadata": {
    "collapsed": true
   },
   "outputs": [],
   "source": [
    "Spacy_X = word_counts.drop(['description_text'], 1)\n",
    "pca = PCA(n_components=20)\n",
    "Spacy_X_pca = pca.fit_transform(Spacy_X)\n",
    "Spacy_X_pca = pd.DataFrame(Spacy_X_pca)"
   ]
  },
  {
   "cell_type": "code",
   "execution_count": 33,
   "metadata": {},
   "outputs": [
    {
     "name": "stdout",
     "output_type": "stream",
     "text": [
      "2 0.122801510417\n",
      "2 0.0449405697063\n",
      "4 0.105793284837\n",
      "4 0.0479692776685\n",
      "6 0.108251100015\n",
      "6 0.0543264068389\n",
      "8 0.0875289677606\n",
      "8 0.0589799056353\n",
      "10 0.0856320355925\n",
      "10 0.0620427737275\n"
     ]
    }
   ],
   "source": [
    "start = datetime.now()\n",
    "models = [Spacy_X_pca, lsa_X]\n",
    "kclust = np.arange(2, 11, 2)\n",
    "for k in kclust:\n",
    "    # Calculate predicted values.\n",
    "    kmeans = KMeans(n_clusters=k, random_state=0)\n",
    "    for m in models:\n",
    "        kmeans.fit(m)\n",
    "        # Check the solution against the data.\n",
    "        labelskm = kmeans.labels_\n",
    "        print(k, metrics.silhouette_score(m, labelskm, metric='euclidean'))\n",
    "print('\\nIt took the following time to complete this task:', datetime.now() - start)"
   ]
  },
  {
   "cell_type": "code",
   "execution_count": 34,
   "metadata": {},
   "outputs": [
    {
     "name": "stdout",
     "output_type": "stream",
     "text": [
      "Done\n",
      "0.0945563165842\n"
     ]
    }
   ],
   "source": [
    "start = datetime.now()\n",
    "# Declare the model and fit it in one statement.\n",
    "# Note that you can provide arguments to the model, but we didn't.\n",
    "af = AffinityPropagation().fit(lsa_X)\n",
    "print('Done')\n",
    "\n",
    "# Pull the number of clusters and cluster assignments for each data point.\n",
    "cluster_centers_indices = af.cluster_centers_indices_\n",
    "n_clusters_ = len(cluster_centers_indices)\n",
    "labelsaf = af.labels_\n",
    "print(metrics.silhouette_score(lsa_X, labelsaf, metric='euclidean'))\n",
    "print('\\nIt took the following time to complete this task:', datetime.now() - start)"
   ]
  },
  {
   "cell_type": "markdown",
   "metadata": {},
   "source": [
    "Unfortunately, the algorithms were not able to produce good clusters from the data set with the highest rating coming from features generated by Principle Components Analysis with a silhouette score of 0.129. The closer the score is to zero, the more random the clusters are, so these are not very good clusters.\n",
    "\n",
    "While the data is not binary per se, most wine descriptions do not have multiple occurrences of words other than colors making the data have binary qualities to it. PCA/LSA both help to solve that through creating features that are not binary in nature, but these new features still underperform. Increasing the rows of data used in the analysis might help, but the processing power of the MacBook Pro with an i5 processor cannot handle the calculations necessary and it crashes the kernel."
   ]
  },
  {
   "cell_type": "markdown",
   "metadata": {},
   "source": [
    "## Next Steps\n",
    "\n",
    "This is a good start to using wine descriptions and natural language processing to discern grape varieties. There are a couple things to improve performance and increase the range of this analysis.\n",
    "\n",
    "1) Better Data\n",
    "While some of the wine descriptions are fine, some of the descriptions are one liners that say very little about the wine other than the author's impressions without precision (e.g. \"Sharp Acidity\"). A better dataset would have better quality descriptions. Students of WSET learn to \"scientifically\" assess wines using their Systematic Approach to Tasting (SAT) using descriptors that are common (and commonly understood). There are hundreds of students globally being taught the SAT at the highest levels and 9000 students who have passed the Diploma (highest) level. They taste hundreds of wines and write up their notes in preparation for the exam. If all passing students were to turn in their wine descriptions, it would be a pretty good dataset. \n",
    "\n",
    "2) Better Machine\n",
    "Processing natural language takes a lot of processing power because the computer needs to break down thousands of words into their individual units and create features based on them. This MacBook Pro with an i5 processor cannot handle the amount of data desired.\n",
    "\n",
    "While this project lays down the groundwork for applying supervised/unsupervised learning techniques on wine descriptions, making the above improvements could provide even better performance and insights across a wider spectrum of wine varieties that could improve our understanding of wine."
   ]
  }
 ],
 "metadata": {
  "kernelspec": {
   "display_name": "Python 3",
   "language": "python",
   "name": "python3"
  },
  "language_info": {
   "codemirror_mode": {
    "name": "ipython",
    "version": 3
   },
   "file_extension": ".py",
   "mimetype": "text/x-python",
   "name": "python",
   "nbconvert_exporter": "python",
   "pygments_lexer": "ipython3",
   "version": "3.6.1"
  }
 },
 "nbformat": 4,
 "nbformat_minor": 2
}
