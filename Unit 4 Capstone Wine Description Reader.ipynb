{
 "cells": [
  {
   "cell_type": "markdown",
   "metadata": {},
   "source": [
    "# Unit 4 Capstone \n",
    "Author: Bryan Corder <br>\n",
    "Mentor: Hoa Tran <br>\n",
    "\n",
    "People who study wine, know there are certain aromas associated with varieties such as black currants with Cabernet Sauvignon. The average consumer is right to be skeptical about wine descriptions when they range from \"freshly cut garden hose\" to \"petrol\" when it would be a health violation if any of those were actually put into wine.\n",
    "\n",
    "However, there is science behind these terms. Pyrazines, which are found in bell peppers and give peppers their aroma, are found in both Cabernet Franc and its offspring (together with Sauvignon Blanc) variety, Cabernet Sauvignon giving both a touch of a \"bell pepper\" like vegetal quality. Similarly, the same kind of compounds are responsible for aromas of red fruits like strawberries or cherries or stone fruits like peaches or nectarines. Some come from the grape varieties like the above mentioned pyrazines and some aromas come from the wine making process, such as cedar or vanilla from the oak aging process.\n",
    "\n",
    "Wine descriptions offer information to the consumer about the grape used and the process taken to turn the grapes into the beverage the consumer is imbibing.\n",
    "\n",
    "This project looks into whether it is possible to create a model to discern through wine descriptions what kind of grape is used to produce the wine. This may seem like a trivial task, but it was not until the mid 1990s until wine consumers found out that the unique expression of Merlot they were drinking from Chile was in fact another Bordeaux variety named Carmenere. Mexicans in Baja California claim all of their grapes are Nebbiollo even though when wine grapes from Piedmont, Italy were brought to Mexico, the tags became illegible with the moisture and it was only assumed that those vines were Nebbiollo. In all likelihood, what we call a Mexican Nebbiollo is actually a blend of Piedmont grapes such as Nebbiollo, Barbera, and Dolcetto. (Source: Karen MacNeil, __Wine Bible__)\n",
    "\n",
    "After a model is created, this project will use the data to see if any other insights can be gained about grape varieties through clustering."
   ]
  },
  {
   "cell_type": "code",
   "execution_count": 95,
   "metadata": {
    "collapsed": true
   },
   "outputs": [],
   "source": [
    "# Import libraries \n",
    "import numpy as np\n",
    "import pandas as pd\n",
    "import scipy\n",
    "import matplotlib.pyplot as plt\n",
    "import seaborn as sns\n",
    "import spacy\n",
    "import unicodedata\n",
    "from datetime import datetime\n",
    "\n",
    "from sklearn.decomposition import TruncatedSVD\n",
    "from sklearn.pipeline import make_pipeline\n",
    "from sklearn.preprocessing import Normalizer\n",
    "\n",
    "\n",
    "from sklearn.decomposition import PCA\n",
    "from sklearn.feature_extraction.text import TfidfVectorizer\n",
    "from sklearn.utils import resample\n",
    "from sklearn.model_selection import cross_val_score\n",
    "from sklearn.model_selection import train_test_split\n",
    "from sklearn.feature_selection import RFECV\n",
    "from sklearn.linear_model import LogisticRegression\n",
    "from sklearn.linear_model import SGDClassifier\n",
    "from sklearn.svm import LinearSVC\n",
    "from sklearn.preprocessing import StandardScaler\n",
    "from sklearn.tree import DecisionTreeClassifier\n",
    "from sklearn.ensemble import RandomForestClassifier\n",
    "from sklearn.ensemble import GradientBoostingClassifier\n",
    "from sklearn.metrics import confusion_matrix\n",
    "from sklearn.feature_selection import SelectFromModel\n",
    "from sklearn.model_selection import GridSearchCV\n",
    "from sklearn.cluster import KMeans\n",
    "from sklearn.cluster import MeanShift, estimate_bandwidth\n",
    "from sklearn.cluster import SpectralClustering\n",
    "from sklearn.cluster import AffinityPropagation\n",
    "from sklearn import metrics\n",
    "from sklearn.metrics import pairwise_distances\n",
    "from sklearn.preprocessing import normalize\n",
    "import re\n",
    "\n",
    "\n",
    "from collections import Counter\n",
    "%matplotlib inline"
   ]
  },
  {
   "cell_type": "markdown",
   "metadata": {},
   "source": [
    "## Data\n",
    "The data comes from Kaggle: https://www.kaggle.com/sierram/cosine-similarity-wine-descriptions/data\n",
    "The data includes the wine name, source, decription, price, wine producer, and author of the description. Since this study is trying to use the data to name grape varieties, only the description and variety are used."
   ]
  },
  {
   "cell_type": "code",
   "execution_count": 96,
   "metadata": {},
   "outputs": [
    {
     "data": {
      "text/html": [
       "<div>\n",
       "<style>\n",
       "    .dataframe thead tr:only-child th {\n",
       "        text-align: right;\n",
       "    }\n",
       "\n",
       "    .dataframe thead th {\n",
       "        text-align: left;\n",
       "    }\n",
       "\n",
       "    .dataframe tbody tr th {\n",
       "        vertical-align: top;\n",
       "    }\n",
       "</style>\n",
       "<table border=\"1\" class=\"dataframe\">\n",
       "  <thead>\n",
       "    <tr style=\"text-align: right;\">\n",
       "      <th></th>\n",
       "      <th>Unnamed: 0</th>\n",
       "      <th>country</th>\n",
       "      <th>description</th>\n",
       "      <th>designation</th>\n",
       "      <th>points</th>\n",
       "      <th>price</th>\n",
       "      <th>province</th>\n",
       "      <th>region_1</th>\n",
       "      <th>region_2</th>\n",
       "      <th>taster_name</th>\n",
       "      <th>taster_twitter_handle</th>\n",
       "      <th>title</th>\n",
       "      <th>variety</th>\n",
       "      <th>winery</th>\n",
       "    </tr>\n",
       "  </thead>\n",
       "  <tbody>\n",
       "    <tr>\n",
       "      <th>0</th>\n",
       "      <td>0</td>\n",
       "      <td>Italy</td>\n",
       "      <td>Aromas include tropical fruit, broom, brimston...</td>\n",
       "      <td>Vulkà Bianco</td>\n",
       "      <td>87</td>\n",
       "      <td>NaN</td>\n",
       "      <td>Sicily &amp; Sardinia</td>\n",
       "      <td>Etna</td>\n",
       "      <td>NaN</td>\n",
       "      <td>Kerin O’Keefe</td>\n",
       "      <td>@kerinokeefe</td>\n",
       "      <td>Nicosia 2013 Vulkà Bianco  (Etna)</td>\n",
       "      <td>White Blend</td>\n",
       "      <td>Nicosia</td>\n",
       "    </tr>\n",
       "    <tr>\n",
       "      <th>1</th>\n",
       "      <td>1</td>\n",
       "      <td>Portugal</td>\n",
       "      <td>This is ripe and fruity, a wine that is smooth...</td>\n",
       "      <td>Avidagos</td>\n",
       "      <td>87</td>\n",
       "      <td>15.0</td>\n",
       "      <td>Douro</td>\n",
       "      <td>NaN</td>\n",
       "      <td>NaN</td>\n",
       "      <td>Roger Voss</td>\n",
       "      <td>@vossroger</td>\n",
       "      <td>Quinta dos Avidagos 2011 Avidagos Red (Douro)</td>\n",
       "      <td>Portuguese Red</td>\n",
       "      <td>Quinta dos Avidagos</td>\n",
       "    </tr>\n",
       "    <tr>\n",
       "      <th>2</th>\n",
       "      <td>2</td>\n",
       "      <td>US</td>\n",
       "      <td>Tart and snappy, the flavors of lime flesh and...</td>\n",
       "      <td>NaN</td>\n",
       "      <td>87</td>\n",
       "      <td>14.0</td>\n",
       "      <td>Oregon</td>\n",
       "      <td>Willamette Valley</td>\n",
       "      <td>Willamette Valley</td>\n",
       "      <td>Paul Gregutt</td>\n",
       "      <td>@paulgwine</td>\n",
       "      <td>Rainstorm 2013 Pinot Gris (Willamette Valley)</td>\n",
       "      <td>Pinot Gris</td>\n",
       "      <td>Rainstorm</td>\n",
       "    </tr>\n",
       "    <tr>\n",
       "      <th>3</th>\n",
       "      <td>3</td>\n",
       "      <td>US</td>\n",
       "      <td>Pineapple rind, lemon pith and orange blossom ...</td>\n",
       "      <td>Reserve Late Harvest</td>\n",
       "      <td>87</td>\n",
       "      <td>13.0</td>\n",
       "      <td>Michigan</td>\n",
       "      <td>Lake Michigan Shore</td>\n",
       "      <td>NaN</td>\n",
       "      <td>Alexander Peartree</td>\n",
       "      <td>NaN</td>\n",
       "      <td>St. Julian 2013 Reserve Late Harvest Riesling ...</td>\n",
       "      <td>Riesling</td>\n",
       "      <td>St. Julian</td>\n",
       "    </tr>\n",
       "    <tr>\n",
       "      <th>4</th>\n",
       "      <td>4</td>\n",
       "      <td>US</td>\n",
       "      <td>Much like the regular bottling from 2012, this...</td>\n",
       "      <td>Vintner's Reserve Wild Child Block</td>\n",
       "      <td>87</td>\n",
       "      <td>65.0</td>\n",
       "      <td>Oregon</td>\n",
       "      <td>Willamette Valley</td>\n",
       "      <td>Willamette Valley</td>\n",
       "      <td>Paul Gregutt</td>\n",
       "      <td>@paulgwine</td>\n",
       "      <td>Sweet Cheeks 2012 Vintner's Reserve Wild Child...</td>\n",
       "      <td>Pinot Noir</td>\n",
       "      <td>Sweet Cheeks</td>\n",
       "    </tr>\n",
       "    <tr>\n",
       "      <th>5</th>\n",
       "      <td>5</td>\n",
       "      <td>Spain</td>\n",
       "      <td>Blackberry and raspberry aromas show a typical...</td>\n",
       "      <td>Ars In Vitro</td>\n",
       "      <td>87</td>\n",
       "      <td>15.0</td>\n",
       "      <td>Northern Spain</td>\n",
       "      <td>Navarra</td>\n",
       "      <td>NaN</td>\n",
       "      <td>Michael Schachner</td>\n",
       "      <td>@wineschach</td>\n",
       "      <td>Tandem 2011 Ars In Vitro Tempranillo-Merlot (N...</td>\n",
       "      <td>Tempranillo-Merlot</td>\n",
       "      <td>Tandem</td>\n",
       "    </tr>\n",
       "    <tr>\n",
       "      <th>6</th>\n",
       "      <td>6</td>\n",
       "      <td>Italy</td>\n",
       "      <td>Here's a bright, informal red that opens with ...</td>\n",
       "      <td>Belsito</td>\n",
       "      <td>87</td>\n",
       "      <td>16.0</td>\n",
       "      <td>Sicily &amp; Sardinia</td>\n",
       "      <td>Vittoria</td>\n",
       "      <td>NaN</td>\n",
       "      <td>Kerin O’Keefe</td>\n",
       "      <td>@kerinokeefe</td>\n",
       "      <td>Terre di Giurfo 2013 Belsito Frappato (Vittoria)</td>\n",
       "      <td>Frappato</td>\n",
       "      <td>Terre di Giurfo</td>\n",
       "    </tr>\n",
       "    <tr>\n",
       "      <th>7</th>\n",
       "      <td>7</td>\n",
       "      <td>France</td>\n",
       "      <td>This dry and restrained wine offers spice in p...</td>\n",
       "      <td>NaN</td>\n",
       "      <td>87</td>\n",
       "      <td>24.0</td>\n",
       "      <td>Alsace</td>\n",
       "      <td>Alsace</td>\n",
       "      <td>NaN</td>\n",
       "      <td>Roger Voss</td>\n",
       "      <td>@vossroger</td>\n",
       "      <td>Trimbach 2012 Gewurztraminer (Alsace)</td>\n",
       "      <td>Gewürztraminer</td>\n",
       "      <td>Trimbach</td>\n",
       "    </tr>\n",
       "    <tr>\n",
       "      <th>8</th>\n",
       "      <td>8</td>\n",
       "      <td>Germany</td>\n",
       "      <td>Savory dried thyme notes accent sunnier flavor...</td>\n",
       "      <td>Shine</td>\n",
       "      <td>87</td>\n",
       "      <td>12.0</td>\n",
       "      <td>Rheinhessen</td>\n",
       "      <td>NaN</td>\n",
       "      <td>NaN</td>\n",
       "      <td>Anna Lee C. Iijima</td>\n",
       "      <td>NaN</td>\n",
       "      <td>Heinz Eifel 2013 Shine Gewürztraminer (Rheinhe...</td>\n",
       "      <td>Gewürztraminer</td>\n",
       "      <td>Heinz Eifel</td>\n",
       "    </tr>\n",
       "    <tr>\n",
       "      <th>9</th>\n",
       "      <td>9</td>\n",
       "      <td>France</td>\n",
       "      <td>This has great depth of flavor with its fresh ...</td>\n",
       "      <td>Les Natures</td>\n",
       "      <td>87</td>\n",
       "      <td>27.0</td>\n",
       "      <td>Alsace</td>\n",
       "      <td>Alsace</td>\n",
       "      <td>NaN</td>\n",
       "      <td>Roger Voss</td>\n",
       "      <td>@vossroger</td>\n",
       "      <td>Jean-Baptiste Adam 2012 Les Natures Pinot Gris...</td>\n",
       "      <td>Pinot Gris</td>\n",
       "      <td>Jean-Baptiste Adam</td>\n",
       "    </tr>\n",
       "  </tbody>\n",
       "</table>\n",
       "</div>"
      ],
      "text/plain": [
       "   Unnamed: 0   country                                        description  \\\n",
       "0           0     Italy  Aromas include tropical fruit, broom, brimston...   \n",
       "1           1  Portugal  This is ripe and fruity, a wine that is smooth...   \n",
       "2           2        US  Tart and snappy, the flavors of lime flesh and...   \n",
       "3           3        US  Pineapple rind, lemon pith and orange blossom ...   \n",
       "4           4        US  Much like the regular bottling from 2012, this...   \n",
       "5           5     Spain  Blackberry and raspberry aromas show a typical...   \n",
       "6           6     Italy  Here's a bright, informal red that opens with ...   \n",
       "7           7    France  This dry and restrained wine offers spice in p...   \n",
       "8           8   Germany  Savory dried thyme notes accent sunnier flavor...   \n",
       "9           9    France  This has great depth of flavor with its fresh ...   \n",
       "\n",
       "                          designation  points  price           province  \\\n",
       "0                        Vulkà Bianco      87    NaN  Sicily & Sardinia   \n",
       "1                            Avidagos      87   15.0              Douro   \n",
       "2                                 NaN      87   14.0             Oregon   \n",
       "3                Reserve Late Harvest      87   13.0           Michigan   \n",
       "4  Vintner's Reserve Wild Child Block      87   65.0             Oregon   \n",
       "5                        Ars In Vitro      87   15.0     Northern Spain   \n",
       "6                             Belsito      87   16.0  Sicily & Sardinia   \n",
       "7                                 NaN      87   24.0             Alsace   \n",
       "8                               Shine      87   12.0        Rheinhessen   \n",
       "9                         Les Natures      87   27.0             Alsace   \n",
       "\n",
       "              region_1           region_2         taster_name  \\\n",
       "0                 Etna                NaN       Kerin O’Keefe   \n",
       "1                  NaN                NaN          Roger Voss   \n",
       "2    Willamette Valley  Willamette Valley        Paul Gregutt   \n",
       "3  Lake Michigan Shore                NaN  Alexander Peartree   \n",
       "4    Willamette Valley  Willamette Valley        Paul Gregutt   \n",
       "5              Navarra                NaN   Michael Schachner   \n",
       "6             Vittoria                NaN       Kerin O’Keefe   \n",
       "7               Alsace                NaN          Roger Voss   \n",
       "8                  NaN                NaN  Anna Lee C. Iijima   \n",
       "9               Alsace                NaN          Roger Voss   \n",
       "\n",
       "  taster_twitter_handle                                              title  \\\n",
       "0          @kerinokeefe                  Nicosia 2013 Vulkà Bianco  (Etna)   \n",
       "1            @vossroger      Quinta dos Avidagos 2011 Avidagos Red (Douro)   \n",
       "2           @paulgwine       Rainstorm 2013 Pinot Gris (Willamette Valley)   \n",
       "3                   NaN  St. Julian 2013 Reserve Late Harvest Riesling ...   \n",
       "4           @paulgwine   Sweet Cheeks 2012 Vintner's Reserve Wild Child...   \n",
       "5           @wineschach  Tandem 2011 Ars In Vitro Tempranillo-Merlot (N...   \n",
       "6          @kerinokeefe   Terre di Giurfo 2013 Belsito Frappato (Vittoria)   \n",
       "7            @vossroger              Trimbach 2012 Gewurztraminer (Alsace)   \n",
       "8                   NaN  Heinz Eifel 2013 Shine Gewürztraminer (Rheinhe...   \n",
       "9            @vossroger  Jean-Baptiste Adam 2012 Les Natures Pinot Gris...   \n",
       "\n",
       "              variety               winery  \n",
       "0         White Blend              Nicosia  \n",
       "1      Portuguese Red  Quinta dos Avidagos  \n",
       "2          Pinot Gris            Rainstorm  \n",
       "3            Riesling           St. Julian  \n",
       "4          Pinot Noir         Sweet Cheeks  \n",
       "5  Tempranillo-Merlot               Tandem  \n",
       "6            Frappato      Terre di Giurfo  \n",
       "7      Gewürztraminer             Trimbach  \n",
       "8      Gewürztraminer          Heinz Eifel  \n",
       "9          Pinot Gris   Jean-Baptiste Adam  "
      ]
     },
     "execution_count": 96,
     "metadata": {},
     "output_type": "execute_result"
    }
   ],
   "source": [
    "raw_data = pd.read_csv('winemag-data-130k-v2.csv')\n",
    "raw_data.head(10)"
   ]
  },
  {
   "cell_type": "code",
   "execution_count": 97,
   "metadata": {},
   "outputs": [
    {
     "data": {
      "text/html": [
       "<div>\n",
       "<style>\n",
       "    .dataframe thead tr:only-child th {\n",
       "        text-align: right;\n",
       "    }\n",
       "\n",
       "    .dataframe thead th {\n",
       "        text-align: left;\n",
       "    }\n",
       "\n",
       "    .dataframe tbody tr th {\n",
       "        vertical-align: top;\n",
       "    }\n",
       "</style>\n",
       "<table border=\"1\" class=\"dataframe\">\n",
       "  <thead>\n",
       "    <tr style=\"text-align: right;\">\n",
       "      <th></th>\n",
       "      <th>country</th>\n",
       "      <th>description_text</th>\n",
       "      <th>variety</th>\n",
       "    </tr>\n",
       "  </thead>\n",
       "  <tbody>\n",
       "    <tr>\n",
       "      <th>0</th>\n",
       "      <td>italy</td>\n",
       "      <td>Aromas include tropical fruit, broom, brimston...</td>\n",
       "      <td>white blend</td>\n",
       "    </tr>\n",
       "    <tr>\n",
       "      <th>1</th>\n",
       "      <td>portugal</td>\n",
       "      <td>This is ripe and fruity, a wine that is smooth...</td>\n",
       "      <td>portuguese red</td>\n",
       "    </tr>\n",
       "    <tr>\n",
       "      <th>2</th>\n",
       "      <td>us</td>\n",
       "      <td>Tart and snappy, the flavors of lime flesh and...</td>\n",
       "      <td>pinot gris</td>\n",
       "    </tr>\n",
       "    <tr>\n",
       "      <th>3</th>\n",
       "      <td>us</td>\n",
       "      <td>Pineapple rind, lemon pith and orange blossom ...</td>\n",
       "      <td>riesling</td>\n",
       "    </tr>\n",
       "    <tr>\n",
       "      <th>4</th>\n",
       "      <td>us</td>\n",
       "      <td>Much like the regular bottling from 2012, this...</td>\n",
       "      <td>pinot noir</td>\n",
       "    </tr>\n",
       "    <tr>\n",
       "      <th>5</th>\n",
       "      <td>spain</td>\n",
       "      <td>Blackberry and raspberry aromas show a typical...</td>\n",
       "      <td>tempranillo-merlot</td>\n",
       "    </tr>\n",
       "    <tr>\n",
       "      <th>6</th>\n",
       "      <td>italy</td>\n",
       "      <td>Here's a bright, informal red that opens with ...</td>\n",
       "      <td>frappato</td>\n",
       "    </tr>\n",
       "    <tr>\n",
       "      <th>7</th>\n",
       "      <td>france</td>\n",
       "      <td>This dry and restrained wine offers spice in p...</td>\n",
       "      <td>gewürztraminer</td>\n",
       "    </tr>\n",
       "    <tr>\n",
       "      <th>8</th>\n",
       "      <td>germany</td>\n",
       "      <td>Savory dried thyme notes accent sunnier flavor...</td>\n",
       "      <td>gewürztraminer</td>\n",
       "    </tr>\n",
       "    <tr>\n",
       "      <th>9</th>\n",
       "      <td>france</td>\n",
       "      <td>This has great depth of flavor with its fresh ...</td>\n",
       "      <td>pinot gris</td>\n",
       "    </tr>\n",
       "  </tbody>\n",
       "</table>\n",
       "</div>"
      ],
      "text/plain": [
       "    country                                   description_text  \\\n",
       "0     italy  Aromas include tropical fruit, broom, brimston...   \n",
       "1  portugal  This is ripe and fruity, a wine that is smooth...   \n",
       "2        us  Tart and snappy, the flavors of lime flesh and...   \n",
       "3        us  Pineapple rind, lemon pith and orange blossom ...   \n",
       "4        us  Much like the regular bottling from 2012, this...   \n",
       "5     spain  Blackberry and raspberry aromas show a typical...   \n",
       "6     italy  Here's a bright, informal red that opens with ...   \n",
       "7    france  This dry and restrained wine offers spice in p...   \n",
       "8   germany  Savory dried thyme notes accent sunnier flavor...   \n",
       "9    france  This has great depth of flavor with its fresh ...   \n",
       "\n",
       "              variety  \n",
       "0         white blend  \n",
       "1      portuguese red  \n",
       "2          pinot gris  \n",
       "3            riesling  \n",
       "4          pinot noir  \n",
       "5  tempranillo-merlot  \n",
       "6            frappato  \n",
       "7      gewürztraminer  \n",
       "8      gewürztraminer  \n",
       "9          pinot gris  "
      ]
     },
     "execution_count": 97,
     "metadata": {},
     "output_type": "execute_result"
    }
   ],
   "source": [
    "# All we'll need are the country, description and variety. There is one data point without a variety, so let's drop it.\n",
    "wine_data = raw_data[['country', 'description', 'variety']].dropna()\n",
    "\n",
    "# The word description will come up in our data, so we need to change the name of the column for clarity.\n",
    "wine_data = wine_data.rename(columns = {'description': 'description_text'})\n",
    "\n",
    "# Make all of the varieties lower case so that Pinot Noir and pinot noir are recognized as the same\n",
    "wine_data['variety'] = wine_data['variety'].str.lower()\n",
    "wine_data['country'] = wine_data['country'].str.lower()\n",
    "\n",
    "wine_data.head(10)"
   ]
  },
  {
   "cell_type": "markdown",
   "metadata": {},
   "source": [
    "There are umlauts and accents, so let's clean that up so the computer recognizes them as the same terms."
   ]
  },
  {
   "cell_type": "code",
   "execution_count": 98,
   "metadata": {},
   "outputs": [
    {
     "data": {
      "text/html": [
       "<div>\n",
       "<style>\n",
       "    .dataframe thead tr:only-child th {\n",
       "        text-align: right;\n",
       "    }\n",
       "\n",
       "    .dataframe thead th {\n",
       "        text-align: left;\n",
       "    }\n",
       "\n",
       "    .dataframe tbody tr th {\n",
       "        vertical-align: top;\n",
       "    }\n",
       "</style>\n",
       "<table border=\"1\" class=\"dataframe\">\n",
       "  <thead>\n",
       "    <tr style=\"text-align: right;\">\n",
       "      <th></th>\n",
       "      <th>country</th>\n",
       "      <th>description_text</th>\n",
       "      <th>variety</th>\n",
       "    </tr>\n",
       "  </thead>\n",
       "  <tbody>\n",
       "    <tr>\n",
       "      <th>0</th>\n",
       "      <td>italy</td>\n",
       "      <td>Aromas include tropical fruit, broom, brimston...</td>\n",
       "      <td>white blend</td>\n",
       "    </tr>\n",
       "    <tr>\n",
       "      <th>1</th>\n",
       "      <td>portugal</td>\n",
       "      <td>This is ripe and fruity, a wine that is smooth...</td>\n",
       "      <td>portuguese red</td>\n",
       "    </tr>\n",
       "    <tr>\n",
       "      <th>2</th>\n",
       "      <td>us</td>\n",
       "      <td>Tart and snappy, the flavors of lime flesh and...</td>\n",
       "      <td>pinot gris</td>\n",
       "    </tr>\n",
       "    <tr>\n",
       "      <th>3</th>\n",
       "      <td>us</td>\n",
       "      <td>Pineapple rind, lemon pith and orange blossom ...</td>\n",
       "      <td>riesling</td>\n",
       "    </tr>\n",
       "    <tr>\n",
       "      <th>4</th>\n",
       "      <td>us</td>\n",
       "      <td>Much like the regular bottling from 2012, this...</td>\n",
       "      <td>pinot noir</td>\n",
       "    </tr>\n",
       "    <tr>\n",
       "      <th>5</th>\n",
       "      <td>spain</td>\n",
       "      <td>Blackberry and raspberry aromas show a typical...</td>\n",
       "      <td>tempranillo-merlot</td>\n",
       "    </tr>\n",
       "    <tr>\n",
       "      <th>6</th>\n",
       "      <td>italy</td>\n",
       "      <td>Here's a bright, informal red that opens with ...</td>\n",
       "      <td>frappato</td>\n",
       "    </tr>\n",
       "    <tr>\n",
       "      <th>7</th>\n",
       "      <td>france</td>\n",
       "      <td>This dry and restrained wine offers spice in p...</td>\n",
       "      <td>gewurztraminer</td>\n",
       "    </tr>\n",
       "    <tr>\n",
       "      <th>8</th>\n",
       "      <td>germany</td>\n",
       "      <td>Savory dried thyme notes accent sunnier flavor...</td>\n",
       "      <td>gewurztraminer</td>\n",
       "    </tr>\n",
       "    <tr>\n",
       "      <th>9</th>\n",
       "      <td>france</td>\n",
       "      <td>This has great depth of flavor with its fresh ...</td>\n",
       "      <td>pinot gris</td>\n",
       "    </tr>\n",
       "  </tbody>\n",
       "</table>\n",
       "</div>"
      ],
      "text/plain": [
       "    country                                   description_text  \\\n",
       "0     italy  Aromas include tropical fruit, broom, brimston...   \n",
       "1  portugal  This is ripe and fruity, a wine that is smooth...   \n",
       "2        us  Tart and snappy, the flavors of lime flesh and...   \n",
       "3        us  Pineapple rind, lemon pith and orange blossom ...   \n",
       "4        us  Much like the regular bottling from 2012, this...   \n",
       "5     spain  Blackberry and raspberry aromas show a typical...   \n",
       "6     italy  Here's a bright, informal red that opens with ...   \n",
       "7    france  This dry and restrained wine offers spice in p...   \n",
       "8   germany  Savory dried thyme notes accent sunnier flavor...   \n",
       "9    france  This has great depth of flavor with its fresh ...   \n",
       "\n",
       "              variety  \n",
       "0         white blend  \n",
       "1      portuguese red  \n",
       "2          pinot gris  \n",
       "3            riesling  \n",
       "4          pinot noir  \n",
       "5  tempranillo-merlot  \n",
       "6            frappato  \n",
       "7      gewurztraminer  \n",
       "8      gewurztraminer  \n",
       "9          pinot gris  "
      ]
     },
     "execution_count": 98,
     "metadata": {},
     "output_type": "execute_result"
    }
   ],
   "source": [
    "# Get rid of the special characters like the umlaut on the u in gewurztraminer\n",
    "def remove_accents(input_str):\n",
    "    nfkd_form = unicodedata.normalize('NFKD', input_str)\n",
    "    return u\"\".join([c for c in nfkd_form if not unicodedata.combining(c)])\n",
    "\n",
    "wine_data['variety'] = wine_data['variety'].apply(remove_accents)\n",
    "wine_data['description_text'] = wine_data['description_text'].apply(remove_accents)\n",
    "   \n",
    "wine_data.head(10)"
   ]
  },
  {
   "cell_type": "markdown",
   "metadata": {},
   "source": [
    "The data has a large variety of grapes, but it also has some items that will not be helpful in building a model to identify grape varieties such as \"blends\" and \"roses\" which could be made from anything. It also has words in different languages based on where they are produced, so it would be helpful to put the varieties together even though one could argue that a German Spatburgunder does taste different from a red Burgundy even though they are the same variety.\n",
    "\n",
    "Also, several varieties have relatively few occurances. Paring down the data set will improve the performance for the widely grown grapes without much loss."
   ]
  },
  {
   "cell_type": "code",
   "execution_count": 99,
   "metadata": {},
   "outputs": [
    {
     "name": "stdout",
     "output_type": "stream",
     "text": [
      "The original data set contains this many rows: 129907\n",
      "There are this many varieties that contain the word blend or \"red\"\n",
      "45623\n",
      "There are this many roses in the data set\n",
      "3817\n",
      "There are this many wines in the rarer varieties\n",
      "6977\n",
      "After cleaning, we now have this many rows of data: 90736\n"
     ]
    }
   ],
   "source": [
    "print('The original data set contains this many rows: {}'.format(len(wine_data)))\n",
    "# Replace german names with English names for wines\n",
    "wine_data['variety'] = wine_data['variety'].replace(['weissburgunder'], 'chardonnay')\n",
    "wine_data['variety'] = wine_data['variety'].replace(['spatburgunder'], 'pinot noir')\n",
    "wine_data['variety'] = wine_data['variety'].replace(['grauburgunder'], 'pinot gris')\n",
    "\n",
    "# Replace the Spanish garnacha with the french grenache \n",
    "wine_data['variety'] = wine_data['variety'].replace(['garnacha'], 'grenache')\n",
    "\n",
    "# Replace the Italian pinot nero with the french pinot noir\n",
    "wine_data['variety'] = wine_data['variety'].replace(['pinot nero'], 'pinot noir')\n",
    "\n",
    "# Replace the Portugues alvarinho with the spanish albarino\n",
    "wine_data['variety'] = wine_data['variety'].replace(['alvarinho'], 'albarino')\n",
    "\n",
    "\n",
    "# Let's get rid of generic blends\n",
    "print('There are this many varieties that contain the word blend or \"red\"')\n",
    "print(len(wine_data[wine_data.variety.str.contains('blend') == True]) + \n",
    "      len(wine_data[wine_data.variety.str.contains('red') == True]))\n",
    "wine_data = wine_data[wine_data.variety.str.contains('blend') == False]\n",
    "wine_data = wine_data[wine_data.variety.str.contains('red') == False]\n",
    "\n",
    "# Drop instances of rose because those can be made from a mulititude of varieties\n",
    "print('There are this many roses in the data set')\n",
    "print(len(wine_data[wine_data.variety.str.contains('rose') == True]))\n",
    "wine_data = wine_data[wine_data.variety.str.contains('rose') == False]\n",
    "\n",
    "\n",
    "# See how many varieties have a relatively insignificant number of instances and remove them\n",
    "# This should improve the performance of our model by decreasing the number of possible outcomes without losing utility\n",
    "print('There are this many wines in the rarer varieties')\n",
    "print(sum(wine_data['variety'].value_counts()[wine_data['variety'].value_counts()<100]))\n",
    "\n",
    "variety_counts = wine_data['variety'].value_counts().rename('variety_counts')\n",
    "\n",
    "wine_data = wine_data.merge(variety_counts.to_frame(),\n",
    "                                left_on='variety', right_index=True)\n",
    "\n",
    "wine_data = wine_data[wine_data['variety_counts'] > 100]\n",
    "wine_data = wine_data.drop(['variety_counts'], axis=1)\n",
    "\n",
    "print('After cleaning, we now have this many rows of data: {}'.format(len(wine_data)))"
   ]
  },
  {
   "cell_type": "code",
   "execution_count": 100,
   "metadata": {},
   "outputs": [
    {
     "data": {
      "text/html": [
       "<div>\n",
       "<style>\n",
       "    .dataframe thead tr:only-child th {\n",
       "        text-align: right;\n",
       "    }\n",
       "\n",
       "    .dataframe thead th {\n",
       "        text-align: left;\n",
       "    }\n",
       "\n",
       "    .dataframe tbody tr th {\n",
       "        vertical-align: top;\n",
       "    }\n",
       "</style>\n",
       "<table border=\"1\" class=\"dataframe\">\n",
       "  <thead>\n",
       "    <tr style=\"text-align: right;\">\n",
       "      <th></th>\n",
       "      <th>country</th>\n",
       "      <th>description_text</th>\n",
       "      <th>variety</th>\n",
       "    </tr>\n",
       "  </thead>\n",
       "  <tbody>\n",
       "    <tr>\n",
       "      <th>2</th>\n",
       "      <td>us</td>\n",
       "      <td>Tart and snappy, the flavors of lime flesh and...</td>\n",
       "      <td>pinot gris</td>\n",
       "    </tr>\n",
       "    <tr>\n",
       "      <th>9</th>\n",
       "      <td>france</td>\n",
       "      <td>This has great depth of flavor with its fresh ...</td>\n",
       "      <td>pinot gris</td>\n",
       "    </tr>\n",
       "    <tr>\n",
       "      <th>91</th>\n",
       "      <td>us</td>\n",
       "      <td>This wine has a touch of perceptible sweetness...</td>\n",
       "      <td>pinot gris</td>\n",
       "    </tr>\n",
       "    <tr>\n",
       "      <th>100</th>\n",
       "      <td>us</td>\n",
       "      <td>Fresh apple, lemon and pear flavors are accent...</td>\n",
       "      <td>pinot gris</td>\n",
       "    </tr>\n",
       "    <tr>\n",
       "      <th>139</th>\n",
       "      <td>france</td>\n",
       "      <td>Beautiful deep gold color. Intense, concentrat...</td>\n",
       "      <td>pinot gris</td>\n",
       "    </tr>\n",
       "    <tr>\n",
       "      <th>143</th>\n",
       "      <td>france</td>\n",
       "      <td>Rich gold in color. Broad, layered aromas of v...</td>\n",
       "      <td>pinot gris</td>\n",
       "    </tr>\n",
       "    <tr>\n",
       "      <th>340</th>\n",
       "      <td>france</td>\n",
       "      <td>The nose is muted, despite the slight spritz o...</td>\n",
       "      <td>pinot gris</td>\n",
       "    </tr>\n",
       "    <tr>\n",
       "      <th>639</th>\n",
       "      <td>france</td>\n",
       "      <td>There are mere hints of beeswax and marzipan o...</td>\n",
       "      <td>pinot gris</td>\n",
       "    </tr>\n",
       "    <tr>\n",
       "      <th>641</th>\n",
       "      <td>us</td>\n",
       "      <td>Completely stainless-fermented and aged, this ...</td>\n",
       "      <td>pinot gris</td>\n",
       "    </tr>\n",
       "    <tr>\n",
       "      <th>858</th>\n",
       "      <td>us</td>\n",
       "      <td>Fresh cut pear fruit flavors carry this wine. ...</td>\n",
       "      <td>pinot gris</td>\n",
       "    </tr>\n",
       "  </tbody>\n",
       "</table>\n",
       "</div>"
      ],
      "text/plain": [
       "    country                                   description_text     variety\n",
       "2        us  Tart and snappy, the flavors of lime flesh and...  pinot gris\n",
       "9    france  This has great depth of flavor with its fresh ...  pinot gris\n",
       "91       us  This wine has a touch of perceptible sweetness...  pinot gris\n",
       "100      us  Fresh apple, lemon and pear flavors are accent...  pinot gris\n",
       "139  france  Beautiful deep gold color. Intense, concentrat...  pinot gris\n",
       "143  france  Rich gold in color. Broad, layered aromas of v...  pinot gris\n",
       "340  france  The nose is muted, despite the slight spritz o...  pinot gris\n",
       "639  france  There are mere hints of beeswax and marzipan o...  pinot gris\n",
       "641      us  Completely stainless-fermented and aged, this ...  pinot gris\n",
       "858      us  Fresh cut pear fruit flavors carry this wine. ...  pinot gris"
      ]
     },
     "execution_count": 100,
     "metadata": {},
     "output_type": "execute_result"
    }
   ],
   "source": [
    "# Let's take a look at the new data set\n",
    "wine_data.head(10)"
   ]
  },
  {
   "cell_type": "code",
   "execution_count": 101,
   "metadata": {},
   "outputs": [
    {
     "data": {
      "text/plain": [
       "Series([], dtype: int64)"
      ]
     },
     "execution_count": 101,
     "metadata": {},
     "output_type": "execute_result"
    }
   ],
   "source": [
    "# Make sure it is not containing Null values\n",
    "null_count = wine_data.isnull().sum()\n",
    "null_count[null_count>0]"
   ]
  },
  {
   "cell_type": "markdown",
   "metadata": {},
   "source": [
    "Now, let's look at the counts of varieties in the data set."
   ]
  },
  {
   "cell_type": "code",
   "execution_count": 102,
   "metadata": {},
   "outputs": [
    {
     "data": {
      "image/png": "[encoded data removed]",
      "text/plain": [
       "<matplotlib.figure.Figure at 0x11e597400>"
      ]
     },
     "metadata": {},
     "output_type": "display_data"
    }
   ],
   "source": [
    "sns.countplot(x='variety', data=wine_data)\n",
    "plt.show()"
   ]
  },
  {
   "cell_type": "markdown",
   "metadata": {},
   "source": [
    "Pinot Noir and Chardonnay are especially high. Let's resample them to bring them a tad bit closer to the other varieties."
   ]
  },
  {
   "cell_type": "code",
   "execution_count": 103,
   "metadata": {
    "collapsed": true
   },
   "outputs": [],
   "source": [
    "# First we need to find out what varieties are the popular ones by putting on variety counts\n",
    "variety_counts = wine_data['variety'].value_counts().rename('variety_counts')\n",
    "\n",
    "# Attach the counts to the dataframe\n",
    "wine_data = wine_data.merge(variety_counts.to_frame(),\n",
    "                                left_on='variety', right_index=True)\n",
    "\n",
    "# Define what a popular variety is and then get rid of the variety counts\n",
    "popular_varieties = wine_data[wine_data['variety_counts'] > 7000]\n",
    "wine_data = wine_data.drop(['variety_counts'], axis=1)\n",
    "\n",
    "# Set those varieties as a list\n",
    "popular_varieties = set(popular_varieties['variety'])"
   ]
  },
  {
   "cell_type": "code",
   "execution_count": 104,
   "metadata": {},
   "outputs": [
    {
     "name": "stdout",
     "output_type": "stream",
     "text": [
      "         country                                   description_text  \\\n",
      "0             us  Tightly wound and a little muted, without much...   \n",
      "1      argentina  Leathery, horsey aromas suggest rubber and ber...   \n",
      "2             us  Blended from various vineyards around the vall...   \n",
      "3             us  This wine is quite blue-fruited aromatically f...   \n",
      "4             us  It's rich in blackberry jam, with heady notes ...   \n",
      "5             us  This soft, round and juicy wine is ripe and fu...   \n",
      "6             us  The winery's larger-production blend of severa...   \n",
      "7             us  The first release for Tranche from Blue Mounta...   \n",
      "8          chile  Spicy aromas of eucalyptus, juniper, asphalt, ...   \n",
      "9             us  A very nice wine that shows the smooth, comple...   \n",
      "10            us  Harsh, sweet and sour, this has a gluey textur...   \n",
      "11         chile  Crisp, spicy aromas of red fruits matched agai...   \n",
      "12            us  The winery's first reserve-level Cabernet, thi...   \n",
      "13            us  Bold juicy blackberry and cherry combine for a...   \n",
      "14            us  Widely accessible and hedonistic aromas of che...   \n",
      "15            us  Starts out with rough, earthy blackberry and c...   \n",
      "16         chile  Oveja Negra consistently produces a very good ...   \n",
      "17            us  Pretty good for the price, a balanced, smooth ...   \n",
      "18            us  Brushy sage meets succulent blackberry, bluebe...   \n",
      "19            us  Smells great and flashy, with inviting notes o...   \n",
      "20            us  This is almost pure Cab, with the addition of ...   \n",
      "21         chile  Aromas of cocoa, cassis and marshmallow are sw...   \n",
      "22            us  Herb, coffee and cherry aromas are followed by...   \n",
      "23            us  $10 for this very drinkable Cab? That's crazy....   \n",
      "24            us  Rather simple, like a blackberry-infused cola ...   \n",
      "25            us  So rich and ripe in fruit, you almost don't no...   \n",
      "26            us  Overripe in raisin, blackberry jam and high al...   \n",
      "27            us  Winemaker Alison Crowe does it again, managing...   \n",
      "28            us  This 100% Cabernet is delicious, but it's a sh...   \n",
      "29            us  Like its Tokalon South counterpart, this 100% ...   \n",
      "...          ...                                                ...   \n",
      "17970         us  This is a fresh, vibrant stainless steel-ferme...   \n",
      "17971  australia  Ripe indeed, with confectioner's sugar, vanill...   \n",
      "17972         us  A nice Russian River Chard, firm in acidic min...   \n",
      "17973         us  This dry Chardonnay shows the minerality, acid...   \n",
      "17974         us  Textural and leesy, this refreshing Chardonnay...   \n",
      "17975     france  Potentially this is a delicious, fresh but fir...   \n",
      "17976     france  Rich wine, full in the mouth, bringing wood an...   \n",
      "17977         us  A sweet viscosity mires what this wine is othe...   \n",
      "17978         us  Appealing aromas of butterscotch, cream, spice...   \n",
      "17979    austria  Almost completely subdued, the nose suggests o...   \n",
      "17980      italy  This sparkling wine made from Chardonnay, open...   \n",
      "17981    germany  A wine with an inviting nose of ripe fruit, la...   \n",
      "17982     france  From a parcel of the Fourchaume premier cru vi...   \n",
      "17983         us  This is a bright and fully textured, creamy wh...   \n",
      "17984         us  Suave aromas of browned butter, preserved lemo...   \n",
      "17985         us  Toast with apricot jam comes first to mind in ...   \n",
      "17986         us  From a selection of vineyards, most predominan...   \n",
      "17987         us  There's not much richness to the peach and ora...   \n",
      "17988         us  Aromas of char and toast are quite up front, t...   \n",
      "17989         us  Ripe aromas of lemon curd, almond and butter m...   \n",
      "17990     france  This Champagne is produced for the Bordeaux Ro...   \n",
      "17991     france  Reflecting the warm 2015 vintage, this is smoo...   \n",
      "17992         us  Even though this wine is nicely dry and crisp,...   \n",
      "17993         us  This delicious, sweet and fruit-driven wine sm...   \n",
      "17994         us  The fruit from this cool-climate AVA brings fl...   \n",
      "17995    england  Touches of vanilla, cream and lovely hints of ...   \n",
      "17996         us  The aromas offer notes of char, toast and peac...   \n",
      "17997         us  This is a decidedly beautiful wine, a carefull...   \n",
      "17998         us  The stainless-steel style reveals lots of gree...   \n",
      "17999         us  An overt and attractive toasted-oak aroma lead...   \n",
      "\n",
      "                  variety  \n",
      "0      cabernet sauvignon  \n",
      "1      cabernet sauvignon  \n",
      "2      cabernet sauvignon  \n",
      "3      cabernet sauvignon  \n",
      "4      cabernet sauvignon  \n",
      "5      cabernet sauvignon  \n",
      "6      cabernet sauvignon  \n",
      "7      cabernet sauvignon  \n",
      "8      cabernet sauvignon  \n",
      "9      cabernet sauvignon  \n",
      "10     cabernet sauvignon  \n",
      "11     cabernet sauvignon  \n",
      "12     cabernet sauvignon  \n",
      "13     cabernet sauvignon  \n",
      "14     cabernet sauvignon  \n",
      "15     cabernet sauvignon  \n",
      "16     cabernet sauvignon  \n",
      "17     cabernet sauvignon  \n",
      "18     cabernet sauvignon  \n",
      "19     cabernet sauvignon  \n",
      "20     cabernet sauvignon  \n",
      "21     cabernet sauvignon  \n",
      "22     cabernet sauvignon  \n",
      "23     cabernet sauvignon  \n",
      "24     cabernet sauvignon  \n",
      "25     cabernet sauvignon  \n",
      "26     cabernet sauvignon  \n",
      "27     cabernet sauvignon  \n",
      "28     cabernet sauvignon  \n",
      "29     cabernet sauvignon  \n",
      "...                   ...  \n",
      "17970          chardonnay  \n",
      "17971          chardonnay  \n",
      "17972          chardonnay  \n",
      "17973          chardonnay  \n",
      "17974          chardonnay  \n",
      "17975          chardonnay  \n",
      "17976          chardonnay  \n",
      "17977          chardonnay  \n",
      "17978          chardonnay  \n",
      "17979          chardonnay  \n",
      "17980          chardonnay  \n",
      "17981          chardonnay  \n",
      "17982          chardonnay  \n",
      "17983          chardonnay  \n",
      "17984          chardonnay  \n",
      "17985          chardonnay  \n",
      "17986          chardonnay  \n",
      "17987          chardonnay  \n",
      "17988          chardonnay  \n",
      "17989          chardonnay  \n",
      "17990          chardonnay  \n",
      "17991          chardonnay  \n",
      "17992          chardonnay  \n",
      "17993          chardonnay  \n",
      "17994          chardonnay  \n",
      "17995          chardonnay  \n",
      "17996          chardonnay  \n",
      "17997          chardonnay  \n",
      "17998          chardonnay  \n",
      "17999          chardonnay  \n",
      "\n",
      "[18000 rows x 3 columns]\n"
     ]
    }
   ],
   "source": [
    "# Balance the samples by under sampling\n",
    "columns_list = list(wine_data.columns.values)\n",
    "test_df = pd.DataFrame(columns=columns_list)\n",
    "\n",
    "for x in popular_varieties:\n",
    "    # Create a local df for the resampling\n",
    "    temp_df = pd.DataFrame(columns=columns_list)\n",
    "    \n",
    "    # Break up the data between the big ones and rest\n",
    "    temp_df = wine_data[wine_data['variety'] == x]\n",
    "    \n",
    "    temp_df = resample(temp_df, n_samples=6000)\n",
    "    test_df = test_df.append(temp_df, ignore_index=True)\n",
    "\n",
    "# This will be the dataframe used for testing\n",
    "print(test_df)"
   ]
  },
  {
   "cell_type": "code",
   "execution_count": 105,
   "metadata": {
    "scrolled": true
   },
   "outputs": [
    {
     "data": {
      "image/png": "[encoded data removed]",
      "text/plain": [
       "<matplotlib.figure.Figure at 0x164507358>"
      ]
     },
     "metadata": {},
     "output_type": "display_data"
    }
   ],
   "source": [
    "# Now let's take a another look at the data\n",
    "sns.countplot(x='variety', data=test_df)\n",
    "plt.show()"
   ]
  },
  {
   "cell_type": "markdown",
   "metadata": {},
   "source": [
    "In order for the computer to understand what a \"Pinot Noir\" is, we need to translate it to numbers."
   ]
  },
  {
   "cell_type": "code",
   "execution_count": 106,
   "metadata": {},
   "outputs": [
    {
     "name": "stdout",
     "output_type": "stream",
     "text": [
      "3\n",
      "{'cabernet sauvignon': 0, 'pinot noir': 1, 'chardonnay': 2}\n"
     ]
    }
   ],
   "source": [
    "# Create a list of possible answers\n",
    "varieties_list = list(test_df.variety.unique())\n",
    "print(len(varieties_list))\n",
    "# Create the key for the list\n",
    "varieties_key = list(range(len(varieties_list)))\n",
    "\n",
    "# Create the dictionary and insert the dictionary into our dataframe\n",
    "variety_dict = dict(list(zip(varieties_list, varieties_key)))\n",
    "inv_variety_dict = dict(list(zip(varieties_key, varieties_list)))\n",
    "test_df['variety'] = test_df['variety'].replace(variety_dict)\n",
    "\n",
    "# Print out the dictionary so we can understand what the computer is thinking\n",
    "print(variety_dict)"
   ]
  },
  {
   "cell_type": "markdown",
   "metadata": {},
   "source": [
    "Now, let's prep the descriptions for analysis."
   ]
  },
  {
   "cell_type": "code",
   "execution_count": 107,
   "metadata": {},
   "outputs": [
    {
     "data": {
      "text/html": [
       "<div>\n",
       "<style>\n",
       "    .dataframe thead tr:only-child th {\n",
       "        text-align: right;\n",
       "    }\n",
       "\n",
       "    .dataframe thead th {\n",
       "        text-align: left;\n",
       "    }\n",
       "\n",
       "    .dataframe tbody tr th {\n",
       "        vertical-align: top;\n",
       "    }\n",
       "</style>\n",
       "<table border=\"1\" class=\"dataframe\">\n",
       "  <thead>\n",
       "    <tr style=\"text-align: right;\">\n",
       "      <th></th>\n",
       "      <th>country</th>\n",
       "      <th>description_text</th>\n",
       "      <th>variety</th>\n",
       "    </tr>\n",
       "  </thead>\n",
       "  <tbody>\n",
       "    <tr>\n",
       "      <th>0</th>\n",
       "      <td>us</td>\n",
       "      <td>Tightly wound and a little muted, without much...</td>\n",
       "      <td>0</td>\n",
       "    </tr>\n",
       "    <tr>\n",
       "      <th>1</th>\n",
       "      <td>argentina</td>\n",
       "      <td>Leathery, horsey aromas suggest rubber and ber...</td>\n",
       "      <td>0</td>\n",
       "    </tr>\n",
       "    <tr>\n",
       "      <th>2</th>\n",
       "      <td>us</td>\n",
       "      <td>Blended from various vineyards around the vall...</td>\n",
       "      <td>0</td>\n",
       "    </tr>\n",
       "    <tr>\n",
       "      <th>3</th>\n",
       "      <td>us</td>\n",
       "      <td>This wine is quite blue-fruited aromatically f...</td>\n",
       "      <td>0</td>\n",
       "    </tr>\n",
       "    <tr>\n",
       "      <th>4</th>\n",
       "      <td>us</td>\n",
       "      <td>It's rich in blackberry jam, with heady notes ...</td>\n",
       "      <td>0</td>\n",
       "    </tr>\n",
       "    <tr>\n",
       "      <th>5</th>\n",
       "      <td>us</td>\n",
       "      <td>This soft, round and juicy wine is ripe and fu...</td>\n",
       "      <td>0</td>\n",
       "    </tr>\n",
       "    <tr>\n",
       "      <th>6</th>\n",
       "      <td>us</td>\n",
       "      <td>The winery's larger-production blend of severa...</td>\n",
       "      <td>0</td>\n",
       "    </tr>\n",
       "    <tr>\n",
       "      <th>7</th>\n",
       "      <td>us</td>\n",
       "      <td>The first release for Tranche from Blue Mounta...</td>\n",
       "      <td>0</td>\n",
       "    </tr>\n",
       "    <tr>\n",
       "      <th>8</th>\n",
       "      <td>chile</td>\n",
       "      <td>Spicy aromas of eucalyptus, juniper, asphalt, ...</td>\n",
       "      <td>0</td>\n",
       "    </tr>\n",
       "    <tr>\n",
       "      <th>9</th>\n",
       "      <td>us</td>\n",
       "      <td>A very nice wine that shows the smooth, comple...</td>\n",
       "      <td>0</td>\n",
       "    </tr>\n",
       "  </tbody>\n",
       "</table>\n",
       "</div>"
      ],
      "text/plain": [
       "     country                                   description_text  variety\n",
       "0         us  Tightly wound and a little muted, without much...        0\n",
       "1  argentina  Leathery, horsey aromas suggest rubber and ber...        0\n",
       "2         us  Blended from various vineyards around the vall...        0\n",
       "3         us  This wine is quite blue-fruited aromatically f...        0\n",
       "4         us  It's rich in blackberry jam, with heady notes ...        0\n",
       "5         us  This soft, round and juicy wine is ripe and fu...        0\n",
       "6         us  The winery's larger-production blend of severa...        0\n",
       "7         us  The first release for Tranche from Blue Mounta...        0\n",
       "8      chile  Spicy aromas of eucalyptus, juniper, asphalt, ...        0\n",
       "9         us  A very nice wine that shows the smooth, comple...        0"
      ]
     },
     "execution_count": 107,
     "metadata": {},
     "output_type": "execute_result"
    }
   ],
   "source": [
    "# Utility function for standard text cleaning.\n",
    "def text_cleaner(text):\n",
    "    # Visual inspection identifies a form of punctuation spaCy does not\n",
    "    # recognize: the double dash '--'.  Better get rid of it now!\n",
    "    text = re.sub(r'--',' ',text)\n",
    "    text = re.sub(\"[\\[].*?[\\]]\", \"\", text)\n",
    "    text = ' '.join(text.split())\n",
    "    return text\n",
    "\n",
    "test_df['description_text'] = test_df['description_text'].apply(text_cleaner)\n",
    "test_df.head(10)"
   ]
  },
  {
   "cell_type": "markdown",
   "metadata": {},
   "source": [
    "## Prepare for Testing\n"
   ]
  },
  {
   "cell_type": "markdown",
   "metadata": {},
   "source": [
    "Now, let's create a function that will run all of the tests we need with the inputs of test, inputs (X,Y), and method."
   ]
  },
  {
   "cell_type": "code",
   "execution_count": 108,
   "metadata": {
    "collapsed": true
   },
   "outputs": [],
   "source": [
    "#Create a testing function that will fit the test the data.\n",
    "def testing_func(test, models, method):\n",
    "    # This is a local list used to temporarily store scores\n",
    "    scores=[]\n",
    "    # This list serves the For loop below putting the variables in   \n",
    "    for x in models:\n",
    "        #Fitting to Training Data\n",
    "        test.fit(x[0], x[1])\n",
    "        #Training Data Score\n",
    "        scores.append(test.score(x[0], x[1]))\n",
    "        #Test Data Score\n",
    "        scores.append(test.score(x[2], x[3]))\n",
    "        #CV Score\n",
    "        scores.append(np.mean(cross_val_score(test, x[0], x[1], cv=5)))\n",
    "    \n",
    "    # Create a local dataframe to display our results cleanly\n",
    "    local_results_df=pd.DataFrame(scores, columns=['Accuracy'], index=[method])\n",
    "    print(local_results_df)\n",
    " "
   ]
  },
  {
   "cell_type": "markdown",
   "metadata": {},
   "source": [
    "## TF_IDF\n",
    "First, we use TF_IDF to vectorize the descriptions."
   ]
  },
  {
   "cell_type": "code",
   "execution_count": 109,
   "metadata": {
    "collapsed": true
   },
   "outputs": [],
   "source": [
    "X = test_df['description_text']\n",
    "y = test_df['variety']\n",
    "#Applying the vectorizer\n",
    "vect2 = TfidfVectorizer(min_df=20, analyzer = 'word', stop_words = 'english', ngram_range = (1,2))\n",
    "X = vect2.fit_transform(X)\n",
    "#splitting into training and test sets\n",
    "X_train_tfidf, X_test_tfidf, y_train2, y_test2= train_test_split(X, y, test_size=0.4, random_state=0)\n",
    "\n",
    "y_train2 = y_train2.astype(int)\n",
    "y_test2 = y_test2.astype(int)\n"
   ]
  },
  {
   "cell_type": "markdown",
   "metadata": {},
   "source": [
    "Now let's use Latent Semantic Analysis to improve the model through dimension reduction. This applies Principle Components Analysis (PCA) to the vector matrix."
   ]
  },
  {
   "cell_type": "code",
   "execution_count": 110,
   "metadata": {
    "collapsed": true
   },
   "outputs": [],
   "source": [
    "svd= TruncatedSVD(100)\n",
    "lsa = make_pipeline(svd, Normalizer(copy=False))\n",
    "# Run SVD on the training data, then project the training data.\n",
    "X_train_lsa = lsa.fit_transform(X_train_tfidf)\n",
    "X_test_lsa = lsa.fit_transform(X_test_tfidf)"
   ]
  },
  {
   "cell_type": "code",
   "execution_count": 111,
   "metadata": {},
   "outputs": [],
   "source": [
    "# Go ahead and create our X variable for unsupervised learning\n",
    "tfidf_X = test_df['description_text']\n",
    "\n",
    "#Applying the vectorizer\n",
    "vect2 = TfidfVectorizer(min_df=20, analyzer = 'word', stop_words = 'english', ngram_range = (1,2))\n",
    "tfidf_X = vect2.fit_transform(tfidf_X)\n",
    "#splitting into training and test sets\n",
    "svd= TruncatedSVD(60)\n",
    "lsa = make_pipeline(svd, Normalizer(copy=False))\n",
    "# Run SVD on the training data, then project the training data.\n",
    "lsa_X = lsa.fit_transform(tfidf_X)\n",
    "variance_explained=svd.explained_variance_ratio_\n",
    "total_variance = variance_explained.sum()"
   ]
  },
  {
   "cell_type": "code",
   "execution_count": 112,
   "metadata": {
    "collapsed": true
   },
   "outputs": [],
   "source": [
    "# Our X,Y for the models\n",
    "models = [[X_train_tfidf, y_train2, X_test_tfidf, y_test2], [X_train_lsa, y_train2, X_test_lsa, y_test2]] \n",
    "\n",
    "# TF_IDF is the method\n",
    "tf_idf_method = ['TF-IDF Training', 'TF-IDF Test', 'TF-IDF Cross Validation', \n",
    "                 'TF-IDF with LSA Training', 'TF-IDF with LSA Test', 'TF-IDF with LSA Cross Validation']\n",
    "\n"
   ]
  },
  {
   "cell_type": "markdown",
   "metadata": {},
   "source": [
    "This is a multinomial classification, so not all statistical methods can handle classifications that are not binary. Of the ones that can, this project will use the following: <br>\n",
    "Logistic Regression <br>\n",
    "SVC <br>\n",
    "Random Forest"
   ]
  },
  {
   "cell_type": "code",
   "execution_count": 113,
   "metadata": {},
   "outputs": [
    {
     "data": {
      "image/png": "[encoded data removed]",
      "text/plain": [
       "<matplotlib.figure.Figure at 0x11c233710>"
      ]
     },
     "metadata": {},
     "output_type": "display_data"
    }
   ],
   "source": [
    "# Try to figure out the best Lambda for Logistic Regression by running the test with the PCA X variable and mapping them out.\n",
    "# Temporary lists to store the results\n",
    "yl = []\n",
    "cl = []\n",
    "\n",
    "# For loop to run the model with different Lambdas represented as L\n",
    "numb = np.arange(0.1, 2.0, 0.3)\n",
    "for l in numb:\n",
    "    lr = LogisticRegression(C=l, multi_class='multinomial', solver='lbfgs')\n",
    "    lr.fit(X_train_tfidf, y_train2)\n",
    "    yl.append(lr.score(X_train_tfidf, y_train2))\n",
    "    cl.append(np.mean(cross_val_score(lr, X_train_tfidf, y_train2, cv=5)))\n",
    "\n",
    "# Plot the results of the accuracy and Cross Validation Score\n",
    "fig = plt.figure()\n",
    "ax1 = fig.add_subplot(111)\n",
    "plt.xlabel('Lambda')\n",
    "plt.ylabel('Score')\n",
    "ax1.scatter(x=numb, y=yl, c='b', marker=\"s\", label='Score')\n",
    "ax1.scatter(x=numb, y=cl, s=10, c='r', marker=\"^\", label='Cross Validation')\n",
    "plt.legend(loc='upper left');\n",
    "plt.show()"
   ]
  },
  {
   "cell_type": "code",
   "execution_count": 114,
   "metadata": {},
   "outputs": [
    {
     "name": "stdout",
     "output_type": "stream",
     "text": [
      "                                  Accuracy\n",
      "TF-IDF Training                   0.976019\n",
      "TF-IDF Test                       0.951250\n",
      "TF-IDF Cross Validation           0.944907\n",
      "TF-IDF with LSA Training          0.929630\n",
      "TF-IDF with LSA Test              0.849861\n",
      "TF-IDF with LSA Cross Validation  0.924537\n",
      "It took the following time to complete this task: 0:00:04.219755\n"
     ]
    }
   ],
   "source": [
    "start = datetime.now()\n",
    "lr = LogisticRegression(C=1, multi_class='multinomial', solver='lbfgs')\n",
    "testing_func(lr, models, tf_idf_method)\n",
    "print('It took the following time to complete this task:', datetime.now() - start)"
   ]
  },
  {
   "cell_type": "code",
   "execution_count": 115,
   "metadata": {},
   "outputs": [
    {
     "name": "stdout",
     "output_type": "stream",
     "text": [
      "The best parameters are {'C': 1} with a score of %0.9434259259259259\n",
      "It took the following time to complete this task: 0:00:01.081822\n"
     ]
    }
   ],
   "source": [
    "# SKlearn has a tool that will optimize SVC\n",
    "start = datetime.now()\n",
    "svc = LinearSVC(multi_class='ovr')\n",
    "# Set the hyperparameters\n",
    "svcparameters = {'C':[1,5,8]}\n",
    "# Run it through the tool.\n",
    "grid = GridSearchCV(svc, svcparameters).fit(X_train_tfidf, y_train2)\n",
    "predicted = grid.predict(X_test_tfidf)\n",
    "print(\"The best parameters are {} with a score of %{}\".format(grid.best_params_, grid.best_score_))\n",
    "\n",
    "#Put those parameters in a dictionary to call.\n",
    "svcparameters = grid.best_params_\n",
    "\n",
    "print('It took the following time to complete this task:', datetime.now() - start)"
   ]
  },
  {
   "cell_type": "code",
   "execution_count": 116,
   "metadata": {},
   "outputs": [
    {
     "name": "stdout",
     "output_type": "stream",
     "text": [
      "                                  Accuracy\n",
      "TF-IDF Training                   0.994259\n",
      "TF-IDF Test                       0.950694\n",
      "TF-IDF Cross Validation           0.943055\n",
      "TF-IDF with LSA Training          0.929722\n",
      "TF-IDF with LSA Test              0.844028\n",
      "TF-IDF with LSA Cross Validation  0.923889\n",
      "It took the following time to complete this task: 0:00:02.044581\n"
     ]
    }
   ],
   "source": [
    "start = datetime.now()\n",
    "svc = LinearSVC(C=svcparameters['C'], multi_class='ovr')\n",
    "testing_func(svc, models, tf_idf_method)\n",
    "print('It took the following time to complete this task:', datetime.now() - start)"
   ]
  },
  {
   "cell_type": "code",
   "execution_count": 117,
   "metadata": {},
   "outputs": [
    {
     "name": "stdout",
     "output_type": "stream",
     "text": [
      "                                  Accuracy\n",
      "TF-IDF Training                   0.959444\n",
      "TF-IDF Test                       0.928333\n",
      "TF-IDF Cross Validation           0.926574\n",
      "TF-IDF with LSA Training          0.999815\n",
      "TF-IDF with LSA Test              0.858056\n",
      "TF-IDF with LSA Cross Validation  0.930370\n",
      "It took the following time to complete this task: 0:03:10.965560\n"
     ]
    }
   ],
   "source": [
    "start = datetime.now()\n",
    "rfc = RandomForestClassifier(n_estimators=1000, \n",
    "                                 max_depth=16, n_jobs=4)\n",
    "testing_func(rfc, models, tf_idf_method)\n",
    "print('It took the following time to complete this task:', datetime.now() - start)"
   ]
  },
  {
   "cell_type": "markdown",
   "metadata": {},
   "source": [
    "## SpaCy\n",
    "Now, let's prep the data for analysis using SpaCy"
   ]
  },
  {
   "cell_type": "code",
   "execution_count": 118,
   "metadata": {
    "collapsed": true
   },
   "outputs": [],
   "source": [
    "def bag_of_words(text):\n",
    "    \n",
    "    # Filter out punctuation and stop words.\n",
    "    allwords = [token.lemma_\n",
    "                for token in text\n",
    "                if not token.is_punct\n",
    "                and not token.is_stop]\n",
    "    \n",
    "    # Return the most common words.\n",
    "    return [item[0] for item in Counter(allwords).most_common(2000)]\n",
    "\n",
    "def bow_features(sentences, common_words):\n",
    "\n",
    "    # Scaffold the data frame and initialize counts to zero.\n",
    "    s_index = len(sentences)\n",
    "    df = pd.DataFrame(columns=common_words, index=range(s_index))\n",
    "    \n",
    "    df['description_text'] = sentences['description_text']\n",
    "    df['variety'] = sentences['variety']\n",
    "    df = df.fillna(0)\n",
    "    \n",
    "\n",
    "    # Process each row, counting the occurrence of words in each sentence.\n",
    "    for i, sentence in enumerate(df['description_text']):\n",
    "        \n",
    "        # Convert the sentence to lemmas, then filter out punctuation,\n",
    "        # stop words, and uncommon words.\n",
    "        \n",
    "        words = [token.lemma_\n",
    "                 for token in sentence\n",
    "                 if (\n",
    "                     not token.is_punct\n",
    "                     and not token.is_stop\n",
    "                     and token.lemma_ in common_words\n",
    "                 )]\n",
    "       \n",
    "        # Populate the row with word counts.\n",
    "        for word in words:\n",
    "            df.loc[i, word] += 1\n",
    "\n",
    "        # This counter is just to make sure the kernel didn't hang.\n",
    "        if i % 5000 == 0:\n",
    "            print(\"Processing row {}\".format(i))\n",
    "            \n",
    "    return df\n"
   ]
  },
  {
   "cell_type": "code",
   "execution_count": 119,
   "metadata": {
    "scrolled": false
   },
   "outputs": [
    {
     "name": "stdout",
     "output_type": "stream",
     "text": [
      "Processing row 0\n",
      "Processing row 5000\n",
      "Processing row 10000\n",
      "Processing row 15000\n",
      "   clumsy  cranky  macul  monsanto  marry  unevolved  listen  butterscotchy  \\\n",
      "0       0       0      0         0      0          0       0              0   \n",
      "1       0       0      0         0      0          0       0              0   \n",
      "2       0       0      0         0      0          0       0              0   \n",
      "3       0       0      0         0      0          0       0              0   \n",
      "4       0       0      0         0      0          0       0              0   \n",
      "5       0       0      0         0      0          0       0              0   \n",
      "6       0       0      0         0      0          0       0              0   \n",
      "7       0       0      0         0      0          0       0              0   \n",
      "8       0       0      0         0      0          0       0              0   \n",
      "9       0       0      0         0      0          0       0              0   \n",
      "\n",
      "   mother  esperanza                        ...                          pump  \\\n",
      "0       0          0                        ...                             0   \n",
      "1       0          0                        ...                             0   \n",
      "2       0          0                        ...                             0   \n",
      "3       0          0                        ...                             0   \n",
      "4       0          0                        ...                             0   \n",
      "5       0          0                        ...                             0   \n",
      "6       0          0                        ...                             0   \n",
      "7       0          0                        ...                             0   \n",
      "8       0          0                        ...                             0   \n",
      "9       0          0                        ...                             0   \n",
      "\n",
      "   nine  encircle  marin  rudimentary  stone  lange  marvelous  trade  \\\n",
      "0     0         0      0            0      0      0          0      0   \n",
      "1     0         0      0            0      0      0          0      0   \n",
      "2     0         0      0            0      0      0          0      0   \n",
      "3     0         0      0            0      0      0          0      0   \n",
      "4     0         0      0            0      0      0          0      0   \n",
      "5     0         0      0            0      0      0          0      0   \n",
      "6     0         0      0            0      0      0          0      0   \n",
      "7     0         0      0            0      0      0          0      0   \n",
      "8     0         0      0            0      0      0          0      0   \n",
      "9     0         0      0            0      0      0          0      0   \n",
      "\n",
      "                                    description_text  \n",
      "0  (Tightly, wound, and, a, little, muted, ,, wit...  \n",
      "1  (Leathery, ,, horsey, aromas, suggest, rubber,...  \n",
      "2  (Blended, from, various, vineyards, around, th...  \n",
      "3  (This, wine, is, quite, blue, -, fruited, arom...  \n",
      "4  (It, 's, rich, in, blackberry, jam, ,, with, h...  \n",
      "5  (This, soft, ,, round, and, juicy, wine, is, r...  \n",
      "6  (The, winery, 's, larger, -, production, blend...  \n",
      "7  (The, first, release, for, Tranche, from, Blue...  \n",
      "8  (Spicy, aromas, of, eucalyptus, ,, juniper, ,,...  \n",
      "9  (A, very, nice, wine, that, shows, the, smooth...  \n",
      "\n",
      "[10 rows x 10475 columns]\n",
      "It took the following time to complete this task: 0:37:46.754599\n"
     ]
    }
   ],
   "source": [
    "start = datetime.now()\n",
    "# Set up SpaCy\n",
    "nlp = spacy.load('en')\n",
    "# Create a dataframe for our parsed descriptions and parse them.\n",
    "parsed_wine = test_df\n",
    "parsed_wine['description_text'] = parsed_wine['description_text'].apply(lambda x: nlp(x))\n",
    "\n",
    "# Figure out the most common words\n",
    "description_words = parsed_wine['description_text'].apply(bag_of_words)\n",
    "flat_list = [item for sublist in description_words for item in sublist]\n",
    "common_words = set(flat_list)\n",
    "\n",
    "# Use the second function to count the appearance of the common words in each description\n",
    "word_counts = bow_features(parsed_wine, common_words)\n",
    "print(word_counts.head(10))\n",
    "print('It took the following time to complete this task:', datetime.now() - start)"
   ]
  },
  {
   "cell_type": "markdown",
   "metadata": {},
   "source": [
    "Now that there are word counts for each description, let's use that to see if the computer can figure out what the  variety is by the descriptions."
   ]
  },
  {
   "cell_type": "code",
   "execution_count": 120,
   "metadata": {},
   "outputs": [
    {
     "name": "stdout",
     "output_type": "stream",
     "text": [
      "(18000, 30) (18000, 10475)\n",
      "(17753, 10503)\n",
      "   clumsy  cranky  macul  monsanto  marry  unevolved  listen  butterscotchy  \\\n",
      "0       0       0      0         0      0          0       0              0   \n",
      "1       0       0      0         0      0          0       0              0   \n",
      "2       0       0      0         0      0          0       0              0   \n",
      "3       0       0      0         0      0          0       0              0   \n",
      "4       0       0      0         0      0          0       0              0   \n",
      "5       0       0      0         0      0          0       0              0   \n",
      "6       0       0      0         0      0          0       0              0   \n",
      "7       0       0      0         0      0          0       0              0   \n",
      "8       0       0      0         0      0          0       0              0   \n",
      "9       0       0      0         0      0          0       0              0   \n",
      "\n",
      "   mother  esperanza     ...      country_new zealand  country_portugal  \\\n",
      "0       0          0     ...                        0                 0   \n",
      "1       0          0     ...                        0                 0   \n",
      "2       0          0     ...                        0                 0   \n",
      "3       0          0     ...                        0                 0   \n",
      "4       0          0     ...                        0                 0   \n",
      "5       0          0     ...                        0                 0   \n",
      "6       0          0     ...                        0                 0   \n",
      "7       0          0     ...                        0                 0   \n",
      "8       0          0     ...                        0                 0   \n",
      "9       0          0     ...                        0                 0   \n",
      "\n",
      "   country_romania  country_slovenia  country_south africa  country_spain  \\\n",
      "0                0                 0                     0              0   \n",
      "1                0                 0                     0              0   \n",
      "2                0                 0                     0              0   \n",
      "3                0                 0                     0              0   \n",
      "4                0                 0                     0              0   \n",
      "5                0                 0                     0              0   \n",
      "6                0                 0                     0              0   \n",
      "7                0                 0                     0              0   \n",
      "8                0                 0                     0              0   \n",
      "9                0                 0                     0              0   \n",
      "\n",
      "   country_turkey  country_ukraine  country_uruguay  country_us  \n",
      "0               0                0                0           1  \n",
      "1               0                0                0           0  \n",
      "2               0                0                0           1  \n",
      "3               0                0                0           1  \n",
      "4               0                0                0           1  \n",
      "5               0                0                0           1  \n",
      "6               0                0                0           1  \n",
      "7               0                0                0           1  \n",
      "8               0                0                0           0  \n",
      "9               0                0                0           1  \n",
      "\n",
      "[10 rows x 10503 columns]\n",
      "{0, 1, 2} ['cabernet sauvignon', 'pinot noir', 'chardonnay']\n"
     ]
    }
   ],
   "source": [
    "countries = pd.get_dummies(test_df, columns=['country'])\n",
    "print(countries.shape, word_counts.shape)\n",
    "word_counts = pd.merge(word_counts, countries)\n",
    "print(word_counts.shape)\n",
    "print(word_counts.head(10))\n",
    "# Set the X,Y and create a training/test set.\n",
    "X = word_counts.drop(['variety', 'description_text'], 1)\n",
    "y = word_counts['variety']\n",
    "\n",
    "# Splitting into training and test sets\n",
    "Spacy_X_train, Spacy_X_test, Spacy_y_train, Spacy_y_test= train_test_split(X, y, test_size=0.4, random_state=0)\n",
    "print(set(Spacy_y_test), varieties_list)\n",
    "# These will be the models for SpaCy\n",
    "models = [[Spacy_X_train, Spacy_y_train, Spacy_X_test, Spacy_y_test]] \n",
    "\n",
    "# Let's tell it that it is SpaCy\n",
    "Spacy_method = ['SpaCy Training', 'SpaCy Test', 'SpaCy CV']"
   ]
  },
  {
   "cell_type": "code",
   "execution_count": 121,
   "metadata": {},
   "outputs": [
    {
     "name": "stdout",
     "output_type": "stream",
     "text": [
      "                Accuracy\n",
      "SpaCy Training  0.998310\n",
      "SpaCy Test      0.949169\n",
      "SpaCy CV        0.944513\n",
      "It took the following time to complete this task: 1:21:16.984451\n"
     ]
    }
   ],
   "source": [
    "start = datetime.now()\n",
    "\n",
    "# Putting it in multi-class and changing the solver allows it to handle multinomial classification\n",
    "lr = LogisticRegression(C=1, multi_class='multinomial', solver='lbfgs')\n",
    "testing_func(lr, models, Spacy_method)\n",
    "print('It took the following time to complete this task:', datetime.now() - start)"
   ]
  },
  {
   "cell_type": "code",
   "execution_count": 122,
   "metadata": {},
   "outputs": [
    {
     "name": "stdout",
     "output_type": "stream",
     "text": [
      "                Accuracy\n",
      "SpaCy Training  0.999812\n",
      "SpaCy Test      0.940017\n",
      "SpaCy CV        0.936813\n",
      "It took the following time to complete this task: 0:00:31.735493\n"
     ]
    }
   ],
   "source": [
    "start = datetime.now()\n",
    "# The \"ovr\" method allows SVC to do multinomial classification\n",
    "svc = LinearSVC(C=svcparameters['C'], multi_class='ovr')\n",
    "testing_func(svc, models, Spacy_method)\n",
    "print('It took the following time to complete this task:', datetime.now() - start)"
   ]
  },
  {
   "cell_type": "code",
   "execution_count": 123,
   "metadata": {},
   "outputs": [
    {
     "name": "stdout",
     "output_type": "stream",
     "text": [
      "                Accuracy\n",
      "SpaCy Training  0.963196\n",
      "SpaCy Test      0.936356\n",
      "SpaCy CV        0.934467\n",
      "It took the following time to complete this task: 0:25:09.916385\n"
     ]
    }
   ],
   "source": [
    "start = datetime.now()\n",
    "rfc = RandomForestClassifier(n_estimators=1000, \n",
    "                                 max_depth=16, n_jobs=4)\n",
    "testing_func(rfc, models, Spacy_method)\n",
    "print('It took the following time to complete this task:', datetime.now() - start)"
   ]
  },
  {
   "cell_type": "markdown",
   "metadata": {},
   "source": [
    "## Results"
   ]
  },
  {
   "cell_type": "code",
   "execution_count": 124,
   "metadata": {},
   "outputs": [
    {
     "name": "stdout",
     "output_type": "stream",
     "text": [
      "3 3\n"
     ]
    },
    {
     "data": {
      "image/png": "[encoded data removed]",
      "text/plain": [
       "<matplotlib.figure.Figure at 0x136f470f0>"
      ]
     },
     "metadata": {},
     "output_type": "display_data"
    }
   ],
   "source": [
    "model = LogisticRegression(C=1, multi_class='multinomial', solver='lbfgs')\n",
    "model.fit(Spacy_X_train, Spacy_y_train)\n",
    "y_pred = model.predict(Spacy_X_test)\n",
    "print(len(set(Spacy_y_test)), len(varieties_list))\n",
    "conf_mat = confusion_matrix(Spacy_y_test, y_pred)\n",
    "fig, ax = plt.subplots(figsize=(10,10))\n",
    "sns.heatmap(conf_mat, annot=True, fmt='d', xticklabels=varieties_list, yticklabels=varieties_list)\n",
    "plt.ylabel('Actual')\n",
    "plt.xlabel('Predicted')\n",
    "plt.show()"
   ]
  },
  {
   "cell_type": "markdown",
   "metadata": {},
   "source": [
    "## Clustering\n",
    "Using the SpaCy generated dataframe, let's analyze the data set."
   ]
  },
  {
   "cell_type": "code",
   "execution_count": 125,
   "metadata": {},
   "outputs": [],
   "source": [
    "Spacy_X = word_counts.drop(['description_text'], 1)\n",
    "pca = PCA(n_components=20)\n",
    "Spacy_X_pca = pca.fit_transform(Spacy_X)\n",
    "Spacy_X_pca = pd.DataFrame(Spacy_X_pca)"
   ]
  },
  {
   "cell_type": "code",
   "execution_count": 126,
   "metadata": {},
   "outputs": [
    {
     "name": "stdout",
     "output_type": "stream",
     "text": [
      "Percent variance captured by all components: 13.9287625433\n",
      "Component 0:\n",
      "description_text\n",
      "(This, wine, is, densely, packed, in, ripe, red, -, fruit, aromas, and, flavors, ,, but, still, expressive, in, earthy, notes, of, cocoa, nib, ,, anise, and, black, tea, ., Medium, tannins, and, plush, berry, flavors, flesh, out, the, mouthfeel, ,, with, a, crushed, satin, texture, ., The, evolving, finish, seamlessly, transitions, between, ripe, ,, fleshy, fruit, flavors, to, cherry, skin, and, finally, lightly, charred, oak, and, woody, spice, ., Drink, now–2018, .)                                                                                                                                                                        0.675040\n",
      "(This, Bordeaux, blend, brings, expressive, ,, dark, ,, tannic, ,, coffee, /, toasty, flavors, to, the, party, ., The, juice, is, dark, and, tangy, ,, tight, and, compact, ,, but, fully, ripe, and, balanced, nicely, against, the, tannins, and, natural, acidity, ., The, flavors, are, layered, and, seamless, ,, rather, than, floating, along, the, top, of, the, wine, and, relying, on, sugar, and, oak, to, fill, in, where, the, fruit, is, lacking, ., This, should, be, your, everyday, go, -, to, bottle, for, Cabernet, .)                                                                                                                       0.663039\n",
      "(The, 2006, flagship, Cabernet, from, Quilceda, Creek, is, a, massive, wine, that, has, just, begun, to, emerge, from, its, slumber, ., When, first, released, the, wine, seemed, to, have, entered, a, dumb, phase, ,, but, six, months, later, it, responds, to, decanting, and, shows, its, muscle, ., Fruit, flavors, of, black, ,, brandied, cherries, ,, cassis, and, bourbon, -, soaked, plums, are, wrapped, in, generous, ,, layered, oak, ., The, wine, is, dusty, ,, smoky, ,, laced, with, streaks, of, licorice, and, brightened, with, sharp, acids, ., It, continues, to, expand, further, in, the, glass, ,, adding, flesh, and, spice, ...)    0.661348\n",
      "(The, dazzling, cherry, -, rhubarb, character, starts, in, the, aroma, ,, expands, on, the, palate, and, cruises, through, the, finish, ,, making, this, a, memorable, wine, ., In, a, no, -, nonsense, way, it, serves, up, vivid, ,, bracing, flavors, with, virtually, no, oaky, notes, while, displaying, lively, tannins, and, great, acidity, ., Tempting, to, drink, now, but, will, improve, through, at, least, 2018, .)                                                                                                                                                                                                                               0.655891\n",
      "(Structure, may, be, the, Holy, Grail, in, Oregon, ,, even, trumping, terroir, ., This, wine, has, an, abundance, of, both, ;, the, Dundee, Hills, fruit, brings, rich, flavors, of, blackberry, and, black, cherry, ,, along, with, interesting, notes, of, iron, and, earth, ., But, the, lovely, structure, —, a, perfect, balance, of, fruit, ,, acid, ,, oak, and, alcohol, —, takes, the, wine, into, a, more, complex, dimension, ., It, moves, gracefully, through, the, palate, ,, adding, a, note, of, spice, or, a, new, fruit, as, it, goes, ,, then, lingering, in, a, taunting, ,, teasing, finish, .)                                            0.634259\n",
      "Name: 0, dtype: float64\n",
      "Component 1:\n",
      "description_text\n",
      "(Bosc, pear, and, tangy, peach, are, brought, to, life, with, a, squirt, of, lemon, juice, ., Enjoy, this, unoaked, Chardonnay, with, citrus, -, marinated, grilled, chicken, .)                                                                                                     0.556581\n",
      "(Wood, and, ripe, fruitiness, are, the, hallmarks, of, this, open, ,, rounded, wine, ., Attractive, apple, and, citrus, flavors, give, a, lemon, zest, character, ., At, the, end, ,, the, acidity, comes, in, strongly, .)                                                          0.543853\n",
      "(This, is, a, full, and, creamy, wine, ., The, richness, is, happily, cut, with, citrus, and, apple, acidity, to, give, a, crisp, edge, and, tang, to, the, ripe, yellow, fruit, ., It, finishes, with, a, lively, ,, bright, aftertaste, .)                                         0.513989\n",
      "(Jadot, 's, take, on, Burgundy, Chardonnay, is, fruity, and, creamy, ., Juicy, ,, intense, acidity, comes, from, the, crisp, apple, and, white, peach, fruits, ., A, touch, of, wood, aging, softens, the, fruit, and, broadens, the, character, of, the, wine, ., Drink, now, .)    0.513897\n",
      "(Jadot, 's, take, on, Burgundy, Chardonnay, is, fruity, and, creamy, ., Juicy, ,, intense, acidity, comes, from, the, crisp, apple, and, white, peach, fruits, ., A, touch, of, wood, aging, softens, the, fruit, and, broadens, the, character, of, the, wine, ., Drink, now, .)    0.513897\n",
      "Name: 1, dtype: float64\n",
      "Component 2:\n",
      "description_text\n",
      "(This, Chard, is, gold, in, color, ,, with, mushy, ,, oxidized, aromas, of, honeyed, peach, and, apple, ., The, palate, feels, flabby, while, flavors, of, vanilla, follow, on, the, finish, .)                                                                                                                                                                                               0.517357\n",
      "(Stalky, haystack, aromas, are, yeasty, ., A, chunky, palate, is, shapeless, ,, while, this, tastes, of, mustard, and, tart, apple, ., A, murky, tasting, finish, turns, salty, as, it, fades, away, .)                                                                                                                                                                                       0.508488\n",
      "(Chive, and, onion, skin, aromas, blend, with, hints, of, mint, ,, marcona, almond, and, vanilla, on, the, nose, of, this, bottling, from, winemaker, Bruce, McGuire, ., From, one, of, Pierre, Lafond, 's, special, sites, ,, it, has, a, savory, palate, that, recalls, salted, peanuts, ,, seared, lemon, and, popcorn, on, the, finish, ., Lemony, acidity, cuts, through, it, all, .)    0.507521\n",
      "(Orange, blossom, and, other, common, white, fruit, aromas, make, for, a, standard, ,, generic, type, of, bouquet, ., The, palate, is, regular, in, feel, and, weight, ,, with, shy, flavors, of, melon, and, apple, ., Entirely, middle, of, the, road, in, aromas, ,, body, ,, feel, and, flavors, .)                                                                                       0.505714\n",
      "(Bruleed, pastry, crust, and, salted, butter, aromas, overlay, golden, apple, and, spiced, pear, tones, ., The, palate, feels, lax, with, curved, acids, ,, which, lead, to, a, light, ,, yielding, finish, .)                                                                                                                                                                                0.504633\n",
      "Name: 2, dtype: float64\n"
     ]
    }
   ],
   "source": [
    "articles_by_component=pd.DataFrame(lsa_X,index=test_df['description_text']) \n",
    "articles_by_component.shape\n",
    "\n",
    "print(\"Percent variance captured by all components:\",total_variance*100)\n",
    "\n",
    "\n",
    "for i in range(3): \n",
    "    print('Component {}:'.format(i)) \n",
    "    print(articles_by_component.loc[:,i].sort_values(ascending=False)[0:5])\n",
    "\n"
   ]
  },
  {
   "cell_type": "markdown",
   "metadata": {},
   "source": [
    "LSA analysis pulls up similarities in the different components. Component 0 seems to really home in on red fruits such as cherries and raspberries in the descriptions. Component 1 has different wine descriptions that go into the wine's acidity, meaning it was of mention. Component 2 goes into the \"rich\" wines that are creamy, fruity, or complex in character.\n",
    "\n",
    "Now, let's look at sentence similarity."
   ]
  },
  {
   "cell_type": "code",
   "execution_count": 127,
   "metadata": {},
   "outputs": [
    {
     "data": {
      "image/png": "[encoded data removed]",
      "text/plain": [
       "<matplotlib.figure.Figure at 0x13f8c7fd0>"
      ]
     },
     "metadata": {},
     "output_type": "display_data"
    },
    {
     "name": "stdout",
     "output_type": "stream",
     "text": [
      "Key:\n",
      "0 Tightly wound and a little muted, without much fruit on the nose or palate until the finish, which ends sweet. The Cab spent 26 months in barrel and is blended with 1% Petit Verdot.\n",
      "1 Leathery, horsey aromas suggest rubber and berry scents. This feels alive and a bit edgy, with a mix of resiny oak, spice, red fruits and green herbs on the flavor profile. The finish is a touch abrasive, with a minty flavor.\n",
      "2 Blended from various vineyards around the valley, this is a pretty, polished Cabernet for drinking now. Dry and softly tannic, it has lush, appealing black currant, black cherry jam, herb tea and smoky cedar flavors. It's fancy and a good value.\n",
      "3 This wine is quite blue-fruited aromatically for a Cabernet. This continues on the palate, with boysenberry flavors backed by lightly grainy tannins. It provides interest, but you'd never peg it for Cabernet Sauvignon.\n",
      "4 It's rich in blackberry jam, with heady notes of cassis liqueur and sweet oak. At this price, it's a great everyday wine.\n",
      "5 This soft, round and juicy wine is ripe and full bodied, a good representative of the vintage. It shows brambly black fruit, mocha and hints of coconut flakes that endure through the finish.\n",
      "6 The winery's larger-production blend of several vineyard sources, given 20 months in American oak, this wine opens in pungent earth, soy and mushroom, reminiscent of a beef bouillon or beef stew. Big tannins surround the fruit, accented in black licorice and black coffee before finishing lean.\n",
      "7 The first release for Tranche from Blue Mountain (estate) fruit, this classic Cabernet benefits from the same extended aging in barrel and bottle that sister winery Corliss gives its wines. Toasty, smoky and precisely defined dark fruit hold down the core, a muscular mix of black cherry, cassis, dried herb and leaf. Firm and compact, with well-integrated barrel flavors (two thirds were new), this balances Euro elegance with New World vitality.\n",
      "8 Spicy aromas of eucalyptus, juniper, asphalt, toasty oak and berry fruits are textbook for the Maipo Valley. This is tight and focused on the palate but a bit rough. Rooty spice, chocolaty oak and herbal berry flavors finish full and with tannic scratch. Drink this well-executed Cab through 2021.\n",
      "9 A very nice wine that shows the smooth, complex tannin structure, ripe fruit and dry balance you'd want from a Napa Valley Cabernet Sauvignon. You'll like the blackberry, cherry and cedar flavors, enhanced by touches of dried herb and cocoa. Drink now–2015 for fruity freshness.\n"
     ]
    }
   ],
   "source": [
    "# Compute document similarity using LSA components\n",
    "similarity = np.asarray(np.asmatrix(lsa_X) * np.asmatrix(lsa_X).T)\n",
    "#Only taking the first 10 sentences\n",
    "sim_matrix=pd.DataFrame(similarity,index=test_df['description_text']).iloc[0:10,0:10]\n",
    "#Making a plot\n",
    "ax = sns.heatmap(sim_matrix,yticklabels=range(10))\n",
    "plt.show()\n",
    "\n",
    "#Generating a key for the plot.\n",
    "print('Key:')\n",
    "for i in range(10):\n",
    "    print(i,sim_matrix.index[i])\n"
   ]
  },
  {
   "cell_type": "markdown",
   "metadata": {},
   "source": [
    "The strongest similarities are between the second and third sentences, which both discuss a wine with \"plum\" and \"herbal\" aromas. Sentences 1 and 5 also show similarities in their mentions of black fruits. Other sentences just show light to moderate similarity.\n",
    "\n",
    "Now, let's try to use clusters to see if we can draw any other insights from the data."
   ]
  },
  {
   "cell_type": "code",
   "execution_count": 128,
   "metadata": {},
   "outputs": [
    {
     "name": "stdout",
     "output_type": "stream",
     "text": [
      "2 0.129509697798\n",
      "2 0.0452809356433\n",
      "4 0.112871487369\n",
      "4 0.0483723333269\n",
      "6 0.107535448322\n",
      "6 0.0547123994222\n",
      "8 0.102024570922\n",
      "8 0.0584170227164\n",
      "10 0.0852019378316\n",
      "10 0.0616680601614\n"
     ]
    }
   ],
   "source": [
    "models = [Spacy_X_pca, lsa_X]\n",
    "kclust = np.arange(2, 11, 2)\n",
    "for k in kclust:\n",
    "    # Calculate predicted values.\n",
    "    kmeans = KMeans(n_clusters=k, random_state=0)\n",
    "    for m in models:\n",
    "        kmeans.fit(m)\n",
    "        # Check the solution against the data.\n",
    "        labelskm = kmeans.labels_\n",
    "        print(k, metrics.silhouette_score(m, labelskm, metric='euclidean'))"
   ]
  },
  {
   "cell_type": "code",
   "execution_count": 129,
   "metadata": {},
   "outputs": [
    {
     "name": "stdout",
     "output_type": "stream",
     "text": [
      "Done\n",
      "0.0994589898013\n"
     ]
    }
   ],
   "source": [
    "# Declare the model and fit it in one statement.\n",
    "# Note that you can provide arguments to the model, but we didn't.\n",
    "af = AffinityPropagation().fit(lsa_X)\n",
    "print('Done')\n",
    "\n",
    "# Pull the number of clusters and cluster assignments for each data point.\n",
    "cluster_centers_indices = af.cluster_centers_indices_\n",
    "n_clusters_ = len(cluster_centers_indices)\n",
    "labelsaf = af.labels_\n",
    "print(metrics.silhouette_score(lsa_X, labelsaf, metric='euclidean'))"
   ]
  },
  {
   "cell_type": "markdown",
   "metadata": {},
   "source": [
    "Unfortunately, the algorithms were not able to produce good clusters from the data set with the highest rating coming from features generated by Principle Components Analysis with a silhouette score of 0.129. The closer the score is to zero, the more random the clusters are, so these are not very good clusters.\n",
    "\n",
    "While the data is not binary per se, most wine descriptions do not have multiple occurrences of words other than colors making the data have binary qualities to it. PCA/LSA both help to solve that through creating features that are not binary in nature, but these new features still underperform. Increasing the rows of data used in the analysis might help, but the machine I'm working on can't handle any more than what I already have without the kernel dying."
   ]
  }
 ],
 "metadata": {
  "kernelspec": {
   "display_name": "Python 3",
   "language": "python",
   "name": "python3"
  },
  "language_info": {
   "codemirror_mode": {
    "name": "ipython",
    "version": 3
   },
   "file_extension": ".py",
   "mimetype": "text/x-python",
   "name": "python",
   "nbconvert_exporter": "python",
   "pygments_lexer": "ipython3",
   "version": "3.6.1"
  }
 },
 "nbformat": 4,
 "nbformat_minor": 2
}
